{
  "cells": [
    {
      "cell_type": "markdown",
      "metadata": {
        "id": "view-in-github",
        "colab_type": "text"
      },
      "source": [
        "<a href=\"https://colab.research.google.com/github/Supathatkh/datasci_/blob/main/03_sgd_from_scratch.ipynb\" target=\"_parent\"><img src=\"https://colab.research.google.com/assets/colab-badge.svg\" alt=\"Open In Colab\"/></a>"
      ]
    },
    {
      "cell_type": "markdown",
      "metadata": {
        "id": "D7ExutUSGoY-"
      },
      "source": [
        "# บทที่ 3 - Stochastic Gradient Descent ตั้งแต่เริ่มต้น"
      ]
    },
    {
      "cell_type": "markdown",
      "metadata": {
        "id": "GtlT-MCeHftk"
      },
      "source": [
        "[![Open In Colab](https://colab.research.google.com/assets/colab-badge.svg)](https://colab.research.google.com/github/ai-builders/curriculum/blob/main/notebooks/03_sgd_from_scratch.ipynb)"
      ]
    },
    {
      "cell_type": "markdown",
      "metadata": {
        "id": "jUUXviwGayJP"
      },
      "source": [
        "ในบทเรียนนี้ เราจะทำการสร้างวิธีที่โมเดลของเราเรียนรู้ในบทเรียนที่แล้วๆมา เรียกว่า stochastic gradient descent ขึ้นมาเองตั้งแต่ต้นโดยใช้เพียงแค่ Pytorch สำหรับ linear algebra และการทำ partial derivatives เท่านั้น ด้วยตัวอย่างการจำแนกรูปภาพตัวเลข 3 และ 7 ออกจากกัน\n",
        "\n",
        "บทเรียนแปล-สรุปมาจาก [04_mnist_basics.ipynb](https://github.com/fastai/fastbook/blob/master/04_mnist_basics.ipynb) ของ [fastai](https://course.fast.ai/) ผู้ที่สนใจสามารถไปติดตามบทเรียนต้นทางได้ที่ [course.fast.ai](https://course.fast.ai/)"
      ]
    },
    {
      "cell_type": "code",
      "execution_count": 1,
      "metadata": {
        "colab": {
          "base_uri": "https://localhost:8080/"
        },
        "id": "6IlUoU8YGlQ7",
        "outputId": "5ec00ef6-e3d1-455a-c06f-fafeb3405910"
      },
      "outputs": [
        {
          "output_type": "stream",
          "name": "stdout",
          "text": [
            "\u001b[K     |████████████████████████████████| 719 kB 26.8 MB/s \n",
            "\u001b[K     |████████████████████████████████| 4.4 MB 62.2 MB/s \n",
            "\u001b[K     |████████████████████████████████| 362 kB 71.4 MB/s \n",
            "\u001b[K     |████████████████████████████████| 1.2 MB 51.9 MB/s \n",
            "\u001b[K     |████████████████████████████████| 1.1 MB 66.4 MB/s \n",
            "\u001b[K     |████████████████████████████████| 140 kB 76.1 MB/s \n",
            "\u001b[K     |████████████████████████████████| 212 kB 69.0 MB/s \n",
            "\u001b[K     |████████████████████████████████| 101 kB 14.2 MB/s \n",
            "\u001b[K     |████████████████████████████████| 596 kB 67.6 MB/s \n",
            "\u001b[K     |████████████████████████████████| 127 kB 58.9 MB/s \n",
            "\u001b[K     |████████████████████████████████| 144 kB 77.0 MB/s \n",
            "\u001b[K     |████████████████████████████████| 94 kB 3.8 MB/s \n",
            "\u001b[K     |████████████████████████████████| 271 kB 71.9 MB/s \n",
            "\u001b[K     |████████████████████████████████| 6.6 MB 59.8 MB/s \n",
            "\u001b[31mERROR: pip's dependency resolver does not currently take into account all the packages that are installed. This behaviour is the source of the following dependency conflicts.\n",
            "datascience 0.10.6 requires folium==0.2.1, but you have folium 0.8.3 which is incompatible.\u001b[0m\n",
            "\u001b[?25h"
          ]
        }
      ],
      "source": [
        "#ติดตั้ง fastai\n",
        "!pip install -q fastbook\n",
        "import fastbook"
      ]
    },
    {
      "cell_type": "code",
      "execution_count": 2,
      "metadata": {
        "id": "-2VyXV7kpoju"
      },
      "outputs": [],
      "source": [
        "from fastai.vision.all import *\n",
        "from fastbook import *\n",
        "import torch\n",
        "\n",
        "matplotlib.rc('image', cmap='Greys')\n",
        "\n",
        "#fix plot_function as new pytorch requires steps argument for torch.linspace\n",
        "def plot_function(f, tx=None, ty=None, title=None, min=-2, max=2, figsize=(6,4)):\n",
        "    x = torch.linspace(min, max, steps=100)\n",
        "    fig,ax = plt.subplots(figsize=figsize)\n",
        "    ax.plot(x,f(x))"
      ]
    },
    {
      "cell_type": "markdown",
      "metadata": {
        "id": "gBWvqPiOpoju"
      },
      "source": [
        "# เทรนโมเดลจำแนกรูปเลข 3 และเลข 7 จาก [ชุดข้อมูล MNIST](http://yann.lecun.com/exdb/mnist/)"
      ]
    },
    {
      "cell_type": "markdown",
      "metadata": {
        "id": "_5WWrXnD6Vpj"
      },
      "source": [
        "## โหลดข้อมูลรูปเลข 3 และเลข 7"
      ]
    },
    {
      "cell_type": "code",
      "execution_count": 3,
      "metadata": {
        "colab": {
          "base_uri": "https://localhost:8080/",
          "height": 37
        },
        "id": "wkh3fHu5pojw",
        "outputId": "b9c84bd4-3237-40cc-e1e0-4dbad1e64838"
      },
      "outputs": [
        {
          "output_type": "display_data",
          "data": {
            "text/plain": [
              "<IPython.core.display.HTML object>"
            ],
            "text/html": [
              "\n",
              "<style>\n",
              "    /* Turns off some styling */\n",
              "    progress {\n",
              "        /* gets rid of default border in Firefox and Opera. */\n",
              "        border: none;\n",
              "        /* Needs to be in here for Safari polyfill so background images work as expected. */\n",
              "        background-size: auto;\n",
              "    }\n",
              "    .progress-bar-interrupted, .progress-bar-interrupted::-webkit-progress-bar {\n",
              "        background: #F44336;\n",
              "    }\n",
              "</style>\n"
            ]
          },
          "metadata": {}
        },
        {
          "output_type": "display_data",
          "data": {
            "text/plain": [
              "<IPython.core.display.HTML object>"
            ],
            "text/html": [
              "\n",
              "    <div>\n",
              "      <progress value='3219456' class='' max='3214948' style='width:300px; height:20px; vertical-align: middle;'></progress>\n",
              "      100.14% [3219456/3214948 00:00<00:00]\n",
              "    </div>\n",
              "    "
            ]
          },
          "metadata": {}
        }
      ],
      "source": [
        "path = untar_data(URLs.MNIST_SAMPLE)"
      ]
    },
    {
      "cell_type": "code",
      "execution_count": 4,
      "metadata": {
        "colab": {
          "base_uri": "https://localhost:8080/"
        },
        "id": "Z6OjxHEPpojw",
        "outputId": "b32a25a7-27f6-410b-ae68-5d060bb0efed"
      },
      "outputs": [
        {
          "output_type": "execute_result",
          "data": {
            "text/plain": [
              "(#3) [Path('/root/.fastai/data/mnist_sample/labels.csv'),Path('/root/.fastai/data/mnist_sample/valid'),Path('/root/.fastai/data/mnist_sample/train')]"
            ]
          },
          "metadata": {},
          "execution_count": 4
        }
      ],
      "source": [
        "#แบ่งเป็น train, validation, test \n",
        "path.ls()"
      ]
    },
    {
      "cell_type": "code",
      "execution_count": 5,
      "metadata": {
        "colab": {
          "base_uri": "https://localhost:8080/"
        },
        "id": "mMmCdDscpojw",
        "outputId": "38f66837-c9f7-4622-a900-5c4f9b456feb"
      },
      "outputs": [
        {
          "output_type": "execute_result",
          "data": {
            "text/plain": [
              "(#2) [Path('/root/.fastai/data/mnist_sample/train/3'),Path('/root/.fastai/data/mnist_sample/train/7')]"
            ]
          },
          "metadata": {},
          "execution_count": 5
        }
      ],
      "source": [
        "#ในแต่ละ set จะมีเลข 3 และ 7\n",
        "(path/'train').ls()"
      ]
    },
    {
      "cell_type": "code",
      "execution_count": 6,
      "metadata": {
        "colab": {
          "base_uri": "https://localhost:8080/"
        },
        "id": "EilsFTaWpojx",
        "outputId": "efd10c35-e2de-4cea-dc4d-955245d78b25"
      },
      "outputs": [
        {
          "output_type": "execute_result",
          "data": {
            "text/plain": [
              "(#6131) [Path('/root/.fastai/data/mnist_sample/train/3/10.png'),Path('/root/.fastai/data/mnist_sample/train/3/10000.png'),Path('/root/.fastai/data/mnist_sample/train/3/10011.png'),Path('/root/.fastai/data/mnist_sample/train/3/10031.png'),Path('/root/.fastai/data/mnist_sample/train/3/10034.png'),Path('/root/.fastai/data/mnist_sample/train/3/10042.png'),Path('/root/.fastai/data/mnist_sample/train/3/10052.png'),Path('/root/.fastai/data/mnist_sample/train/3/1007.png'),Path('/root/.fastai/data/mnist_sample/train/3/10074.png'),Path('/root/.fastai/data/mnist_sample/train/3/10091.png')...]"
            ]
          },
          "metadata": {},
          "execution_count": 6
        }
      ],
      "source": [
        "#ในละ folder 3 และ 7 จะเป็นไฟล์รูป\n",
        "threes = (path/'train'/'3').ls().sorted()\n",
        "sevens = (path/'train'/'7').ls().sorted()\n",
        "threes"
      ]
    },
    {
      "cell_type": "code",
      "execution_count": 7,
      "metadata": {
        "colab": {
          "base_uri": "https://localhost:8080/"
        },
        "id": "2nKh8v3OBG5G",
        "outputId": "c8491c1e-b798-4cce-813d-d1226803bc3f"
      },
      "outputs": [
        {
          "output_type": "execute_result",
          "data": {
            "text/plain": [
              "(6131, 6265)"
            ]
          },
          "metadata": {},
          "execution_count": 7
        }
      ],
      "source": [
        "#จำนวนรูปในแต่ละ class\n",
        "len(threes), len(sevens)"
      ]
    },
    {
      "cell_type": "code",
      "execution_count": 8,
      "metadata": {
        "colab": {
          "base_uri": "https://localhost:8080/",
          "height": 45
        },
        "id": "jJEUNNQKpojx",
        "outputId": "76364c2d-559f-4bc8-945b-662e12a331ac"
      },
      "outputs": [
        {
          "output_type": "execute_result",
          "data": {
            "text/plain": [
              "<PIL.PngImagePlugin.PngImageFile image mode=L size=28x28 at 0x7FBE4A34B1D0>"
            ],
            "image/png": "[encoded data removed]"
          },
          "metadata": {},
          "execution_count": 8
        }
      ],
      "source": [
        "im3_path = threes[6000]\n",
        "im3 = Image.open(im3_path)\n",
        "im3"
      ]
    },
    {
      "cell_type": "code",
      "execution_count": 9,
      "metadata": {
        "colab": {
          "base_uri": "https://localhost:8080/"
        },
        "id": "GBYX4Mf0BTb6",
        "outputId": "11c98686-f4d3-4ee5-b7d6-3d2e33c115dd"
      },
      "outputs": [
        {
          "output_type": "execute_result",
          "data": {
            "text/plain": [
              "(28, 28)"
            ]
          },
          "metadata": {},
          "execution_count": 9
        }
      ],
      "source": [
        "#รูปขนาด 28 x 28 pixels \n",
        "array(im3).shape"
      ]
    },
    {
      "cell_type": "code",
      "execution_count": 10,
      "metadata": {
        "colab": {
          "base_uri": "https://localhost:8080/"
        },
        "id": "RZphr7qzpojx",
        "outputId": "597fef55-bd85-4a9a-9b4d-844d9c880f02"
      },
      "outputs": [
        {
          "output_type": "execute_result",
          "data": {
            "text/plain": [
              "array([[0, 0, 0, 0, 0, 0],\n",
              "       [0, 0, 0, 0, 0, 0],\n",
              "       [0, 0, 0, 0, 0, 0],\n",
              "       [0, 0, 0, 0, 0, 0],\n",
              "       [0, 0, 0, 0, 0, 0],\n",
              "       [0, 0, 0, 0, 0, 0]], dtype=uint8)"
            ]
          },
          "metadata": {},
          "execution_count": 10
        }
      ],
      "source": [
        "#เปลี่ยนจาก numpy array\n",
        "array(im3)[4:10,4:10]"
      ]
    },
    {
      "cell_type": "code",
      "execution_count": 11,
      "metadata": {
        "colab": {
          "base_uri": "https://localhost:8080/"
        },
        "id": "o52Dig-Vpojx",
        "outputId": "d35d66c0-a8c5-4209-b263-559acab602f3"
      },
      "outputs": [
        {
          "output_type": "execute_result",
          "data": {
            "text/plain": [
              "tensor([[0, 0, 0, 0, 0, 0],\n",
              "        [0, 0, 0, 0, 0, 0],\n",
              "        [0, 0, 0, 0, 0, 0],\n",
              "        [0, 0, 0, 0, 0, 0],\n",
              "        [0, 0, 0, 0, 0, 0],\n",
              "        [0, 0, 0, 0, 0, 0]], dtype=torch.uint8)"
            ]
          },
          "metadata": {},
          "execution_count": 11
        }
      ],
      "source": [
        "#เป็น torch tensor\n",
        "tensor(im3)[4:10,4:10]"
      ]
    },
    {
      "cell_type": "code",
      "execution_count": 12,
      "metadata": {
        "colab": {
          "base_uri": "https://localhost:8080/",
          "height": 394
        },
        "id": "0yZCaBRNpojy",
        "outputId": "96ea44a6-0d16-45cd-aa5e-fd73e9ebb75b"
      },
      "outputs": [
        {
          "output_type": "execute_result",
          "data": {
            "text/plain": [
              "<pandas.io.formats.style.Styler at 0x7fbe4a2eaf10>"
            ],
            "text/html": [
              "<style type=\"text/css\">\n",
              "#T_1b82d_row0_col0, #T_1b82d_row0_col1, #T_1b82d_row0_col2, #T_1b82d_row0_col3, #T_1b82d_row0_col4, #T_1b82d_row0_col5, #T_1b82d_row0_col6, #T_1b82d_row0_col7, #T_1b82d_row0_col8, #T_1b82d_row0_col9, #T_1b82d_row0_col10, #T_1b82d_row0_col11, #T_1b82d_row0_col12, #T_1b82d_row0_col13, #T_1b82d_row0_col14, #T_1b82d_row0_col15, #T_1b82d_row0_col16, #T_1b82d_row0_col17, #T_1b82d_row1_col0, #T_1b82d_row1_col1, #T_1b82d_row1_col2, #T_1b82d_row1_col3, #T_1b82d_row1_col4, #T_1b82d_row1_col5, #T_1b82d_row1_col6, #T_1b82d_row1_col7, #T_1b82d_row1_col8, #T_1b82d_row1_col9, #T_1b82d_row2_col0, #T_1b82d_row2_col1, #T_1b82d_row2_col2, #T_1b82d_row2_col3, #T_1b82d_row2_col4, #T_1b82d_row2_col5, #T_1b82d_row2_col6, #T_1b82d_row2_col7, #T_1b82d_row3_col0, #T_1b82d_row3_col1, #T_1b82d_row3_col2, #T_1b82d_row3_col3, #T_1b82d_row3_col4, #T_1b82d_row3_col5, #T_1b82d_row4_col0, #T_1b82d_row4_col1, #T_1b82d_row4_col2, #T_1b82d_row4_col3, #T_1b82d_row4_col4, #T_1b82d_row4_col5, #T_1b82d_row5_col0, #T_1b82d_row5_col1, #T_1b82d_row5_col2, #T_1b82d_row5_col3, #T_1b82d_row5_col4, #T_1b82d_row5_col5, #T_1b82d_row5_col10, #T_1b82d_row5_col11, #T_1b82d_row5_col12, #T_1b82d_row5_col17, #T_1b82d_row6_col0, #T_1b82d_row6_col1, #T_1b82d_row6_col2, #T_1b82d_row6_col3, #T_1b82d_row6_col4, #T_1b82d_row6_col5, #T_1b82d_row6_col6, #T_1b82d_row6_col7, #T_1b82d_row6_col8, #T_1b82d_row6_col9, #T_1b82d_row6_col10, #T_1b82d_row6_col16, #T_1b82d_row6_col17, #T_1b82d_row7_col0, #T_1b82d_row7_col1, #T_1b82d_row7_col2, #T_1b82d_row7_col3, #T_1b82d_row7_col4, #T_1b82d_row7_col5, #T_1b82d_row7_col6, #T_1b82d_row7_col7, #T_1b82d_row7_col8, #T_1b82d_row7_col9, #T_1b82d_row7_col16, #T_1b82d_row7_col17, #T_1b82d_row8_col0, #T_1b82d_row8_col1, #T_1b82d_row8_col2, #T_1b82d_row8_col3, #T_1b82d_row8_col4, #T_1b82d_row8_col5, #T_1b82d_row8_col6, #T_1b82d_row8_col7, #T_1b82d_row8_col8, #T_1b82d_row8_col9, #T_1b82d_row8_col15, #T_1b82d_row8_col16, #T_1b82d_row8_col17, #T_1b82d_row9_col0, #T_1b82d_row9_col1, #T_1b82d_row9_col2, #T_1b82d_row9_col3, #T_1b82d_row9_col4, #T_1b82d_row9_col5, #T_1b82d_row9_col6, #T_1b82d_row9_col7, #T_1b82d_row9_col8, #T_1b82d_row9_col14, #T_1b82d_row9_col15, #T_1b82d_row9_col16, #T_1b82d_row9_col17, #T_1b82d_row10_col0, #T_1b82d_row10_col1, #T_1b82d_row10_col2, #T_1b82d_row10_col3, #T_1b82d_row10_col4, #T_1b82d_row10_col5, #T_1b82d_row10_col6, #T_1b82d_row10_col7, #T_1b82d_row10_col8, #T_1b82d_row10_col13, #T_1b82d_row10_col14, #T_1b82d_row10_col15, #T_1b82d_row10_col16, #T_1b82d_row10_col17 {\n",
              "  font-size: 6pt;\n",
              "  background-color: #ffffff;\n",
              "  color: #000000;\n",
              "}\n",
              "#T_1b82d_row1_col10, #T_1b82d_row7_col11 {\n",
              "  font-size: 6pt;\n",
              "  background-color: #ececec;\n",
              "  color: #000000;\n",
              "}\n",
              "#T_1b82d_row1_col11 {\n",
              "  font-size: 6pt;\n",
              "  background-color: #d6d6d6;\n",
              "  color: #000000;\n",
              "}\n",
              "#T_1b82d_row1_col12 {\n",
              "  font-size: 6pt;\n",
              "  background-color: #767676;\n",
              "  color: #f1f1f1;\n",
              "}\n",
              "#T_1b82d_row1_col13 {\n",
              "  font-size: 6pt;\n",
              "  background-color: #363636;\n",
              "  color: #f1f1f1;\n",
              "}\n",
              "#T_1b82d_row1_col14, #T_1b82d_row1_col15, #T_1b82d_row2_col11, #T_1b82d_row2_col12, #T_1b82d_row2_col13, #T_1b82d_row2_col16, #T_1b82d_row3_col9, #T_1b82d_row3_col10, #T_1b82d_row3_col11, #T_1b82d_row3_col12, #T_1b82d_row3_col16, #T_1b82d_row3_col17, #T_1b82d_row4_col6, #T_1b82d_row4_col7, #T_1b82d_row4_col8, #T_1b82d_row4_col9, #T_1b82d_row6_col14, #T_1b82d_row7_col12, #T_1b82d_row7_col13, #T_1b82d_row8_col11, #T_1b82d_row8_col12, #T_1b82d_row10_col10 {\n",
              "  font-size: 6pt;\n",
              "  background-color: #000000;\n",
              "  color: #f1f1f1;\n",
              "}\n",
              "#T_1b82d_row1_col16, #T_1b82d_row6_col13 {\n",
              "  font-size: 6pt;\n",
              "  background-color: #080808;\n",
              "  color: #f1f1f1;\n",
              "}\n",
              "#T_1b82d_row1_col17, #T_1b82d_row4_col12 {\n",
              "  font-size: 6pt;\n",
              "  background-color: #e4e4e4;\n",
              "  color: #000000;\n",
              "}\n",
              "#T_1b82d_row2_col8 {\n",
              "  font-size: 6pt;\n",
              "  background-color: #eeeeee;\n",
              "  color: #000000;\n",
              "}\n",
              "#T_1b82d_row2_col9 {\n",
              "  font-size: 6pt;\n",
              "  background-color: #a0a0a0;\n",
              "  color: #f1f1f1;\n",
              "}\n",
              "#T_1b82d_row2_col10 {\n",
              "  font-size: 6pt;\n",
              "  background-color: #111111;\n",
              "  color: #f1f1f1;\n",
              "}\n",
              "#T_1b82d_row2_col14, #T_1b82d_row2_col15, #T_1b82d_row3_col15, #T_1b82d_row4_col15, #T_1b82d_row5_col15 {\n",
              "  font-size: 6pt;\n",
              "  background-color: #010101;\n",
              "  color: #f1f1f1;\n",
              "}\n",
              "#T_1b82d_row2_col17 {\n",
              "  font-size: 6pt;\n",
              "  background-color: #1f1f1f;\n",
              "  color: #f1f1f1;\n",
              "}\n",
              "#T_1b82d_row3_col6 {\n",
              "  font-size: 6pt;\n",
              "  background-color: #f2f2f2;\n",
              "  color: #000000;\n",
              "}\n",
              "#T_1b82d_row3_col7 {\n",
              "  font-size: 6pt;\n",
              "  background-color: #616161;\n",
              "  color: #f1f1f1;\n",
              "}\n",
              "#T_1b82d_row3_col8 {\n",
              "  font-size: 6pt;\n",
              "  background-color: #070707;\n",
              "  color: #f1f1f1;\n",
              "}\n",
              "#T_1b82d_row3_col13 {\n",
              "  font-size: 6pt;\n",
              "  background-color: #353535;\n",
              "  color: #f1f1f1;\n",
              "}\n",
              "#T_1b82d_row3_col14 {\n",
              "  font-size: 6pt;\n",
              "  background-color: #3d3d3d;\n",
              "  color: #f1f1f1;\n",
              "}\n",
              "#T_1b82d_row4_col10 {\n",
              "  font-size: 6pt;\n",
              "  background-color: #303030;\n",
              "  color: #f1f1f1;\n",
              "}\n",
              "#T_1b82d_row4_col11 {\n",
              "  font-size: 6pt;\n",
              "  background-color: #929292;\n",
              "  color: #f1f1f1;\n",
              "}\n",
              "#T_1b82d_row4_col13, #T_1b82d_row7_col15 {\n",
              "  font-size: 6pt;\n",
              "  background-color: #f8f8f8;\n",
              "  color: #000000;\n",
              "}\n",
              "#T_1b82d_row4_col14 {\n",
              "  font-size: 6pt;\n",
              "  background-color: #9d9d9d;\n",
              "  color: #f1f1f1;\n",
              "}\n",
              "#T_1b82d_row4_col16 {\n",
              "  font-size: 6pt;\n",
              "  background-color: #161616;\n",
              "  color: #f1f1f1;\n",
              "}\n",
              "#T_1b82d_row4_col17 {\n",
              "  font-size: 6pt;\n",
              "  background-color: #a3a3a3;\n",
              "  color: #f1f1f1;\n",
              "}\n",
              "#T_1b82d_row5_col6 {\n",
              "  font-size: 6pt;\n",
              "  background-color: #505050;\n",
              "  color: #f1f1f1;\n",
              "}\n",
              "#T_1b82d_row5_col7 {\n",
              "  font-size: 6pt;\n",
              "  background-color: #232323;\n",
              "  color: #f1f1f1;\n",
              "}\n",
              "#T_1b82d_row5_col8 {\n",
              "  font-size: 6pt;\n",
              "  background-color: #6f6f6f;\n",
              "  color: #f1f1f1;\n",
              "}\n",
              "#T_1b82d_row5_col9 {\n",
              "  font-size: 6pt;\n",
              "  background-color: #cbcbcb;\n",
              "  color: #000000;\n",
              "}\n",
              "#T_1b82d_row5_col13, #T_1b82d_row9_col13 {\n",
              "  font-size: 6pt;\n",
              "  background-color: #fbfbfb;\n",
              "  color: #000000;\n",
              "}\n",
              "#T_1b82d_row5_col14 {\n",
              "  font-size: 6pt;\n",
              "  background-color: #393939;\n",
              "  color: #f1f1f1;\n",
              "}\n",
              "#T_1b82d_row5_col16 {\n",
              "  font-size: 6pt;\n",
              "  background-color: #636363;\n",
              "  color: #f1f1f1;\n",
              "}\n",
              "#T_1b82d_row6_col11, #T_1b82d_row7_col10 {\n",
              "  font-size: 6pt;\n",
              "  background-color: #fdfdfd;\n",
              "  color: #000000;\n",
              "}\n",
              "#T_1b82d_row6_col12 {\n",
              "  font-size: 6pt;\n",
              "  background-color: #c2c2c2;\n",
              "  color: #000000;\n",
              "}\n",
              "#T_1b82d_row6_col15 {\n",
              "  font-size: 6pt;\n",
              "  background-color: #656565;\n",
              "  color: #f1f1f1;\n",
              "}\n",
              "#T_1b82d_row7_col14 {\n",
              "  font-size: 6pt;\n",
              "  background-color: #141414;\n",
              "  color: #f1f1f1;\n",
              "}\n",
              "#T_1b82d_row8_col10 {\n",
              "  font-size: 6pt;\n",
              "  background-color: #c3c3c3;\n",
              "  color: #000000;\n",
              "}\n",
              "#T_1b82d_row8_col13 {\n",
              "  font-size: 6pt;\n",
              "  background-color: #5c5c5c;\n",
              "  color: #f1f1f1;\n",
              "}\n",
              "#T_1b82d_row8_col14 {\n",
              "  font-size: 6pt;\n",
              "  background-color: #eaeaea;\n",
              "  color: #000000;\n",
              "}\n",
              "#T_1b82d_row9_col9 {\n",
              "  font-size: 6pt;\n",
              "  background-color: #afafaf;\n",
              "  color: #000000;\n",
              "}\n",
              "#T_1b82d_row9_col10 {\n",
              "  font-size: 6pt;\n",
              "  background-color: #090909;\n",
              "  color: #f1f1f1;\n",
              "}\n",
              "#T_1b82d_row9_col11 {\n",
              "  font-size: 6pt;\n",
              "  background-color: #030303;\n",
              "  color: #f1f1f1;\n",
              "}\n",
              "#T_1b82d_row9_col12 {\n",
              "  font-size: 6pt;\n",
              "  background-color: #585858;\n",
              "  color: #f1f1f1;\n",
              "}\n",
              "#T_1b82d_row10_col9 {\n",
              "  font-size: 6pt;\n",
              "  background-color: #757575;\n",
              "  color: #f1f1f1;\n",
              "}\n",
              "#T_1b82d_row10_col11 {\n",
              "  font-size: 6pt;\n",
              "  background-color: #0e0e0e;\n",
              "  color: #f1f1f1;\n",
              "}\n",
              "#T_1b82d_row10_col12 {\n",
              "  font-size: 6pt;\n",
              "  background-color: #f1f1f1;\n",
              "  color: #000000;\n",
              "}\n",
              "</style>\n",
              "<table id=\"T_1b82d_\" class=\"dataframe\">\n",
              "  <thead>\n",
              "    <tr>\n",
              "      <th class=\"blank level0\" >&nbsp;</th>\n",
              "      <th class=\"col_heading level0 col0\" >0</th>\n",
              "      <th class=\"col_heading level0 col1\" >1</th>\n",
              "      <th class=\"col_heading level0 col2\" >2</th>\n",
              "      <th class=\"col_heading level0 col3\" >3</th>\n",
              "      <th class=\"col_heading level0 col4\" >4</th>\n",
              "      <th class=\"col_heading level0 col5\" >5</th>\n",
              "      <th class=\"col_heading level0 col6\" >6</th>\n",
              "      <th class=\"col_heading level0 col7\" >7</th>\n",
              "      <th class=\"col_heading level0 col8\" >8</th>\n",
              "      <th class=\"col_heading level0 col9\" >9</th>\n",
              "      <th class=\"col_heading level0 col10\" >10</th>\n",
              "      <th class=\"col_heading level0 col11\" >11</th>\n",
              "      <th class=\"col_heading level0 col12\" >12</th>\n",
              "      <th class=\"col_heading level0 col13\" >13</th>\n",
              "      <th class=\"col_heading level0 col14\" >14</th>\n",
              "      <th class=\"col_heading level0 col15\" >15</th>\n",
              "      <th class=\"col_heading level0 col16\" >16</th>\n",
              "      <th class=\"col_heading level0 col17\" >17</th>\n",
              "    </tr>\n",
              "  </thead>\n",
              "  <tbody>\n",
              "    <tr>\n",
              "      <th id=\"T_1b82d_level0_row0\" class=\"row_heading level0 row0\" >0</th>\n",
              "      <td id=\"T_1b82d_row0_col0\" class=\"data row0 col0\" >0</td>\n",
              "      <td id=\"T_1b82d_row0_col1\" class=\"data row0 col1\" >0</td>\n",
              "      <td id=\"T_1b82d_row0_col2\" class=\"data row0 col2\" >0</td>\n",
              "      <td id=\"T_1b82d_row0_col3\" class=\"data row0 col3\" >0</td>\n",
              "      <td id=\"T_1b82d_row0_col4\" class=\"data row0 col4\" >0</td>\n",
              "      <td id=\"T_1b82d_row0_col5\" class=\"data row0 col5\" >0</td>\n",
              "      <td id=\"T_1b82d_row0_col6\" class=\"data row0 col6\" >0</td>\n",
              "      <td id=\"T_1b82d_row0_col7\" class=\"data row0 col7\" >0</td>\n",
              "      <td id=\"T_1b82d_row0_col8\" class=\"data row0 col8\" >0</td>\n",
              "      <td id=\"T_1b82d_row0_col9\" class=\"data row0 col9\" >0</td>\n",
              "      <td id=\"T_1b82d_row0_col10\" class=\"data row0 col10\" >0</td>\n",
              "      <td id=\"T_1b82d_row0_col11\" class=\"data row0 col11\" >0</td>\n",
              "      <td id=\"T_1b82d_row0_col12\" class=\"data row0 col12\" >0</td>\n",
              "      <td id=\"T_1b82d_row0_col13\" class=\"data row0 col13\" >0</td>\n",
              "      <td id=\"T_1b82d_row0_col14\" class=\"data row0 col14\" >0</td>\n",
              "      <td id=\"T_1b82d_row0_col15\" class=\"data row0 col15\" >0</td>\n",
              "      <td id=\"T_1b82d_row0_col16\" class=\"data row0 col16\" >0</td>\n",
              "      <td id=\"T_1b82d_row0_col17\" class=\"data row0 col17\" >0</td>\n",
              "    </tr>\n",
              "    <tr>\n",
              "      <th id=\"T_1b82d_level0_row1\" class=\"row_heading level0 row1\" >1</th>\n",
              "      <td id=\"T_1b82d_row1_col0\" class=\"data row1 col0\" >0</td>\n",
              "      <td id=\"T_1b82d_row1_col1\" class=\"data row1 col1\" >0</td>\n",
              "      <td id=\"T_1b82d_row1_col2\" class=\"data row1 col2\" >0</td>\n",
              "      <td id=\"T_1b82d_row1_col3\" class=\"data row1 col3\" >0</td>\n",
              "      <td id=\"T_1b82d_row1_col4\" class=\"data row1 col4\" >0</td>\n",
              "      <td id=\"T_1b82d_row1_col5\" class=\"data row1 col5\" >0</td>\n",
              "      <td id=\"T_1b82d_row1_col6\" class=\"data row1 col6\" >0</td>\n",
              "      <td id=\"T_1b82d_row1_col7\" class=\"data row1 col7\" >0</td>\n",
              "      <td id=\"T_1b82d_row1_col8\" class=\"data row1 col8\" >0</td>\n",
              "      <td id=\"T_1b82d_row1_col9\" class=\"data row1 col9\" >0</td>\n",
              "      <td id=\"T_1b82d_row1_col10\" class=\"data row1 col10\" >37</td>\n",
              "      <td id=\"T_1b82d_row1_col11\" class=\"data row1 col11\" >67</td>\n",
              "      <td id=\"T_1b82d_row1_col12\" class=\"data row1 col12\" >156</td>\n",
              "      <td id=\"T_1b82d_row1_col13\" class=\"data row1 col13\" >209</td>\n",
              "      <td id=\"T_1b82d_row1_col14\" class=\"data row1 col14\" >254</td>\n",
              "      <td id=\"T_1b82d_row1_col15\" class=\"data row1 col15\" >255</td>\n",
              "      <td id=\"T_1b82d_row1_col16\" class=\"data row1 col16\" >246</td>\n",
              "      <td id=\"T_1b82d_row1_col17\" class=\"data row1 col17\" >48</td>\n",
              "    </tr>\n",
              "    <tr>\n",
              "      <th id=\"T_1b82d_level0_row2\" class=\"row_heading level0 row2\" >2</th>\n",
              "      <td id=\"T_1b82d_row2_col0\" class=\"data row2 col0\" >0</td>\n",
              "      <td id=\"T_1b82d_row2_col1\" class=\"data row2 col1\" >0</td>\n",
              "      <td id=\"T_1b82d_row2_col2\" class=\"data row2 col2\" >0</td>\n",
              "      <td id=\"T_1b82d_row2_col3\" class=\"data row2 col3\" >0</td>\n",
              "      <td id=\"T_1b82d_row2_col4\" class=\"data row2 col4\" >0</td>\n",
              "      <td id=\"T_1b82d_row2_col5\" class=\"data row2 col5\" >0</td>\n",
              "      <td id=\"T_1b82d_row2_col6\" class=\"data row2 col6\" >0</td>\n",
              "      <td id=\"T_1b82d_row2_col7\" class=\"data row2 col7\" >0</td>\n",
              "      <td id=\"T_1b82d_row2_col8\" class=\"data row2 col8\" >34</td>\n",
              "      <td id=\"T_1b82d_row2_col9\" class=\"data row2 col9\" >118</td>\n",
              "      <td id=\"T_1b82d_row2_col10\" class=\"data row2 col10\" >239</td>\n",
              "      <td id=\"T_1b82d_row2_col11\" class=\"data row2 col11\" >253</td>\n",
              "      <td id=\"T_1b82d_row2_col12\" class=\"data row2 col12\" >253</td>\n",
              "      <td id=\"T_1b82d_row2_col13\" class=\"data row2 col13\" >253</td>\n",
              "      <td id=\"T_1b82d_row2_col14\" class=\"data row2 col14\" >253</td>\n",
              "      <td id=\"T_1b82d_row2_col15\" class=\"data row2 col15\" >254</td>\n",
              "      <td id=\"T_1b82d_row2_col16\" class=\"data row2 col16\" >253</td>\n",
              "      <td id=\"T_1b82d_row2_col17\" class=\"data row2 col17\" >226</td>\n",
              "    </tr>\n",
              "    <tr>\n",
              "      <th id=\"T_1b82d_level0_row3\" class=\"row_heading level0 row3\" >3</th>\n",
              "      <td id=\"T_1b82d_row3_col0\" class=\"data row3 col0\" >0</td>\n",
              "      <td id=\"T_1b82d_row3_col1\" class=\"data row3 col1\" >0</td>\n",
              "      <td id=\"T_1b82d_row3_col2\" class=\"data row3 col2\" >0</td>\n",
              "      <td id=\"T_1b82d_row3_col3\" class=\"data row3 col3\" >0</td>\n",
              "      <td id=\"T_1b82d_row3_col4\" class=\"data row3 col4\" >0</td>\n",
              "      <td id=\"T_1b82d_row3_col5\" class=\"data row3 col5\" >0</td>\n",
              "      <td id=\"T_1b82d_row3_col6\" class=\"data row3 col6\" >14</td>\n",
              "      <td id=\"T_1b82d_row3_col7\" class=\"data row3 col7\" >175</td>\n",
              "      <td id=\"T_1b82d_row3_col8\" class=\"data row3 col8\" >247</td>\n",
              "      <td id=\"T_1b82d_row3_col9\" class=\"data row3 col9\" >253</td>\n",
              "      <td id=\"T_1b82d_row3_col10\" class=\"data row3 col10\" >254</td>\n",
              "      <td id=\"T_1b82d_row3_col11\" class=\"data row3 col11\" >253</td>\n",
              "      <td id=\"T_1b82d_row3_col12\" class=\"data row3 col12\" >253</td>\n",
              "      <td id=\"T_1b82d_row3_col13\" class=\"data row3 col13\" >210</td>\n",
              "      <td id=\"T_1b82d_row3_col14\" class=\"data row3 col14\" >205</td>\n",
              "      <td id=\"T_1b82d_row3_col15\" class=\"data row3 col15\" >254</td>\n",
              "      <td id=\"T_1b82d_row3_col16\" class=\"data row3 col16\" >253</td>\n",
              "      <td id=\"T_1b82d_row3_col17\" class=\"data row3 col17\" >253</td>\n",
              "    </tr>\n",
              "    <tr>\n",
              "      <th id=\"T_1b82d_level0_row4\" class=\"row_heading level0 row4\" >4</th>\n",
              "      <td id=\"T_1b82d_row4_col0\" class=\"data row4 col0\" >0</td>\n",
              "      <td id=\"T_1b82d_row4_col1\" class=\"data row4 col1\" >0</td>\n",
              "      <td id=\"T_1b82d_row4_col2\" class=\"data row4 col2\" >0</td>\n",
              "      <td id=\"T_1b82d_row4_col3\" class=\"data row4 col3\" >0</td>\n",
              "      <td id=\"T_1b82d_row4_col4\" class=\"data row4 col4\" >0</td>\n",
              "      <td id=\"T_1b82d_row4_col5\" class=\"data row4 col5\" >0</td>\n",
              "      <td id=\"T_1b82d_row4_col6\" class=\"data row4 col6\" >126</td>\n",
              "      <td id=\"T_1b82d_row4_col7\" class=\"data row4 col7\" >253</td>\n",
              "      <td id=\"T_1b82d_row4_col8\" class=\"data row4 col8\" >253</td>\n",
              "      <td id=\"T_1b82d_row4_col9\" class=\"data row4 col9\" >253</td>\n",
              "      <td id=\"T_1b82d_row4_col10\" class=\"data row4 col10\" >214</td>\n",
              "      <td id=\"T_1b82d_row4_col11\" class=\"data row4 col11\" >130</td>\n",
              "      <td id=\"T_1b82d_row4_col12\" class=\"data row4 col12\" >49</td>\n",
              "      <td id=\"T_1b82d_row4_col13\" class=\"data row4 col13\" >15</td>\n",
              "      <td id=\"T_1b82d_row4_col14\" class=\"data row4 col14\" >122</td>\n",
              "      <td id=\"T_1b82d_row4_col15\" class=\"data row4 col15\" >254</td>\n",
              "      <td id=\"T_1b82d_row4_col16\" class=\"data row4 col16\" >234</td>\n",
              "      <td id=\"T_1b82d_row4_col17\" class=\"data row4 col17\" >116</td>\n",
              "    </tr>\n",
              "    <tr>\n",
              "      <th id=\"T_1b82d_level0_row5\" class=\"row_heading level0 row5\" >5</th>\n",
              "      <td id=\"T_1b82d_row5_col0\" class=\"data row5 col0\" >0</td>\n",
              "      <td id=\"T_1b82d_row5_col1\" class=\"data row5 col1\" >0</td>\n",
              "      <td id=\"T_1b82d_row5_col2\" class=\"data row5 col2\" >0</td>\n",
              "      <td id=\"T_1b82d_row5_col3\" class=\"data row5 col3\" >0</td>\n",
              "      <td id=\"T_1b82d_row5_col4\" class=\"data row5 col4\" >0</td>\n",
              "      <td id=\"T_1b82d_row5_col5\" class=\"data row5 col5\" >0</td>\n",
              "      <td id=\"T_1b82d_row5_col6\" class=\"data row5 col6\" >95</td>\n",
              "      <td id=\"T_1b82d_row5_col7\" class=\"data row5 col7\" >223</td>\n",
              "      <td id=\"T_1b82d_row5_col8\" class=\"data row5 col8\" >162</td>\n",
              "      <td id=\"T_1b82d_row5_col9\" class=\"data row5 col9\" >80</td>\n",
              "      <td id=\"T_1b82d_row5_col10\" class=\"data row5 col10\" >0</td>\n",
              "      <td id=\"T_1b82d_row5_col11\" class=\"data row5 col11\" >0</td>\n",
              "      <td id=\"T_1b82d_row5_col12\" class=\"data row5 col12\" >0</td>\n",
              "      <td id=\"T_1b82d_row5_col13\" class=\"data row5 col13\" >9</td>\n",
              "      <td id=\"T_1b82d_row5_col14\" class=\"data row5 col14\" >208</td>\n",
              "      <td id=\"T_1b82d_row5_col15\" class=\"data row5 col15\" >254</td>\n",
              "      <td id=\"T_1b82d_row5_col16\" class=\"data row5 col16\" >173</td>\n",
              "      <td id=\"T_1b82d_row5_col17\" class=\"data row5 col17\" >0</td>\n",
              "    </tr>\n",
              "    <tr>\n",
              "      <th id=\"T_1b82d_level0_row6\" class=\"row_heading level0 row6\" >6</th>\n",
              "      <td id=\"T_1b82d_row6_col0\" class=\"data row6 col0\" >0</td>\n",
              "      <td id=\"T_1b82d_row6_col1\" class=\"data row6 col1\" >0</td>\n",
              "      <td id=\"T_1b82d_row6_col2\" class=\"data row6 col2\" >0</td>\n",
              "      <td id=\"T_1b82d_row6_col3\" class=\"data row6 col3\" >0</td>\n",
              "      <td id=\"T_1b82d_row6_col4\" class=\"data row6 col4\" >0</td>\n",
              "      <td id=\"T_1b82d_row6_col5\" class=\"data row6 col5\" >0</td>\n",
              "      <td id=\"T_1b82d_row6_col6\" class=\"data row6 col6\" >0</td>\n",
              "      <td id=\"T_1b82d_row6_col7\" class=\"data row6 col7\" >0</td>\n",
              "      <td id=\"T_1b82d_row6_col8\" class=\"data row6 col8\" >0</td>\n",
              "      <td id=\"T_1b82d_row6_col9\" class=\"data row6 col9\" >0</td>\n",
              "      <td id=\"T_1b82d_row6_col10\" class=\"data row6 col10\" >0</td>\n",
              "      <td id=\"T_1b82d_row6_col11\" class=\"data row6 col11\" >5</td>\n",
              "      <td id=\"T_1b82d_row6_col12\" class=\"data row6 col12\" >89</td>\n",
              "      <td id=\"T_1b82d_row6_col13\" class=\"data row6 col13\" >246</td>\n",
              "      <td id=\"T_1b82d_row6_col14\" class=\"data row6 col14\" >254</td>\n",
              "      <td id=\"T_1b82d_row6_col15\" class=\"data row6 col15\" >173</td>\n",
              "      <td id=\"T_1b82d_row6_col16\" class=\"data row6 col16\" >0</td>\n",
              "      <td id=\"T_1b82d_row6_col17\" class=\"data row6 col17\" >0</td>\n",
              "    </tr>\n",
              "    <tr>\n",
              "      <th id=\"T_1b82d_level0_row7\" class=\"row_heading level0 row7\" >7</th>\n",
              "      <td id=\"T_1b82d_row7_col0\" class=\"data row7 col0\" >0</td>\n",
              "      <td id=\"T_1b82d_row7_col1\" class=\"data row7 col1\" >0</td>\n",
              "      <td id=\"T_1b82d_row7_col2\" class=\"data row7 col2\" >0</td>\n",
              "      <td id=\"T_1b82d_row7_col3\" class=\"data row7 col3\" >0</td>\n",
              "      <td id=\"T_1b82d_row7_col4\" class=\"data row7 col4\" >0</td>\n",
              "      <td id=\"T_1b82d_row7_col5\" class=\"data row7 col5\" >0</td>\n",
              "      <td id=\"T_1b82d_row7_col6\" class=\"data row7 col6\" >0</td>\n",
              "      <td id=\"T_1b82d_row7_col7\" class=\"data row7 col7\" >0</td>\n",
              "      <td id=\"T_1b82d_row7_col8\" class=\"data row7 col8\" >0</td>\n",
              "      <td id=\"T_1b82d_row7_col9\" class=\"data row7 col9\" >0</td>\n",
              "      <td id=\"T_1b82d_row7_col10\" class=\"data row7 col10\" >5</td>\n",
              "      <td id=\"T_1b82d_row7_col11\" class=\"data row7 col11\" >38</td>\n",
              "      <td id=\"T_1b82d_row7_col12\" class=\"data row7 col12\" >253</td>\n",
              "      <td id=\"T_1b82d_row7_col13\" class=\"data row7 col13\" >253</td>\n",
              "      <td id=\"T_1b82d_row7_col14\" class=\"data row7 col14\" >237</td>\n",
              "      <td id=\"T_1b82d_row7_col15\" class=\"data row7 col15\" >15</td>\n",
              "      <td id=\"T_1b82d_row7_col16\" class=\"data row7 col16\" >0</td>\n",
              "      <td id=\"T_1b82d_row7_col17\" class=\"data row7 col17\" >0</td>\n",
              "    </tr>\n",
              "    <tr>\n",
              "      <th id=\"T_1b82d_level0_row8\" class=\"row_heading level0 row8\" >8</th>\n",
              "      <td id=\"T_1b82d_row8_col0\" class=\"data row8 col0\" >0</td>\n",
              "      <td id=\"T_1b82d_row8_col1\" class=\"data row8 col1\" >0</td>\n",
              "      <td id=\"T_1b82d_row8_col2\" class=\"data row8 col2\" >0</td>\n",
              "      <td id=\"T_1b82d_row8_col3\" class=\"data row8 col3\" >0</td>\n",
              "      <td id=\"T_1b82d_row8_col4\" class=\"data row8 col4\" >0</td>\n",
              "      <td id=\"T_1b82d_row8_col5\" class=\"data row8 col5\" >0</td>\n",
              "      <td id=\"T_1b82d_row8_col6\" class=\"data row8 col6\" >0</td>\n",
              "      <td id=\"T_1b82d_row8_col7\" class=\"data row8 col7\" >0</td>\n",
              "      <td id=\"T_1b82d_row8_col8\" class=\"data row8 col8\" >0</td>\n",
              "      <td id=\"T_1b82d_row8_col9\" class=\"data row8 col9\" >0</td>\n",
              "      <td id=\"T_1b82d_row8_col10\" class=\"data row8 col10\" >89</td>\n",
              "      <td id=\"T_1b82d_row8_col11\" class=\"data row8 col11\" >253</td>\n",
              "      <td id=\"T_1b82d_row8_col12\" class=\"data row8 col12\" >253</td>\n",
              "      <td id=\"T_1b82d_row8_col13\" class=\"data row8 col13\" >180</td>\n",
              "      <td id=\"T_1b82d_row8_col14\" class=\"data row8 col14\" >40</td>\n",
              "      <td id=\"T_1b82d_row8_col15\" class=\"data row8 col15\" >0</td>\n",
              "      <td id=\"T_1b82d_row8_col16\" class=\"data row8 col16\" >0</td>\n",
              "      <td id=\"T_1b82d_row8_col17\" class=\"data row8 col17\" >0</td>\n",
              "    </tr>\n",
              "    <tr>\n",
              "      <th id=\"T_1b82d_level0_row9\" class=\"row_heading level0 row9\" >9</th>\n",
              "      <td id=\"T_1b82d_row9_col0\" class=\"data row9 col0\" >0</td>\n",
              "      <td id=\"T_1b82d_row9_col1\" class=\"data row9 col1\" >0</td>\n",
              "      <td id=\"T_1b82d_row9_col2\" class=\"data row9 col2\" >0</td>\n",
              "      <td id=\"T_1b82d_row9_col3\" class=\"data row9 col3\" >0</td>\n",
              "      <td id=\"T_1b82d_row9_col4\" class=\"data row9 col4\" >0</td>\n",
              "      <td id=\"T_1b82d_row9_col5\" class=\"data row9 col5\" >0</td>\n",
              "      <td id=\"T_1b82d_row9_col6\" class=\"data row9 col6\" >0</td>\n",
              "      <td id=\"T_1b82d_row9_col7\" class=\"data row9 col7\" >0</td>\n",
              "      <td id=\"T_1b82d_row9_col8\" class=\"data row9 col8\" >0</td>\n",
              "      <td id=\"T_1b82d_row9_col9\" class=\"data row9 col9\" >106</td>\n",
              "      <td id=\"T_1b82d_row9_col10\" class=\"data row9 col10\" >246</td>\n",
              "      <td id=\"T_1b82d_row9_col11\" class=\"data row9 col11\" >250</td>\n",
              "      <td id=\"T_1b82d_row9_col12\" class=\"data row9 col12\" >183</td>\n",
              "      <td id=\"T_1b82d_row9_col13\" class=\"data row9 col13\" >9</td>\n",
              "      <td id=\"T_1b82d_row9_col14\" class=\"data row9 col14\" >0</td>\n",
              "      <td id=\"T_1b82d_row9_col15\" class=\"data row9 col15\" >0</td>\n",
              "      <td id=\"T_1b82d_row9_col16\" class=\"data row9 col16\" >0</td>\n",
              "      <td id=\"T_1b82d_row9_col17\" class=\"data row9 col17\" >0</td>\n",
              "    </tr>\n",
              "    <tr>\n",
              "      <th id=\"T_1b82d_level0_row10\" class=\"row_heading level0 row10\" >10</th>\n",
              "      <td id=\"T_1b82d_row10_col0\" class=\"data row10 col0\" >0</td>\n",
              "      <td id=\"T_1b82d_row10_col1\" class=\"data row10 col1\" >0</td>\n",
              "      <td id=\"T_1b82d_row10_col2\" class=\"data row10 col2\" >0</td>\n",
              "      <td id=\"T_1b82d_row10_col3\" class=\"data row10 col3\" >0</td>\n",
              "      <td id=\"T_1b82d_row10_col4\" class=\"data row10 col4\" >0</td>\n",
              "      <td id=\"T_1b82d_row10_col5\" class=\"data row10 col5\" >0</td>\n",
              "      <td id=\"T_1b82d_row10_col6\" class=\"data row10 col6\" >0</td>\n",
              "      <td id=\"T_1b82d_row10_col7\" class=\"data row10 col7\" >0</td>\n",
              "      <td id=\"T_1b82d_row10_col8\" class=\"data row10 col8\" >0</td>\n",
              "      <td id=\"T_1b82d_row10_col9\" class=\"data row10 col9\" >157</td>\n",
              "      <td id=\"T_1b82d_row10_col10\" class=\"data row10 col10\" >254</td>\n",
              "      <td id=\"T_1b82d_row10_col11\" class=\"data row10 col11\" >241</td>\n",
              "      <td id=\"T_1b82d_row10_col12\" class=\"data row10 col12\" >30</td>\n",
              "      <td id=\"T_1b82d_row10_col13\" class=\"data row10 col13\" >0</td>\n",
              "      <td id=\"T_1b82d_row10_col14\" class=\"data row10 col14\" >0</td>\n",
              "      <td id=\"T_1b82d_row10_col15\" class=\"data row10 col15\" >0</td>\n",
              "      <td id=\"T_1b82d_row10_col16\" class=\"data row10 col16\" >0</td>\n",
              "      <td id=\"T_1b82d_row10_col17\" class=\"data row10 col17\" >0</td>\n",
              "    </tr>\n",
              "  </tbody>\n",
              "</table>\n"
            ]
          },
          "metadata": {},
          "execution_count": 12
        }
      ],
      "source": [
        "im3_t = tensor(im3)\n",
        "df = pd.DataFrame(im3_t[4:15,4:22])\n",
        "df.style.set_properties(**{'font-size':'6pt'}).background_gradient('Greys')"
      ]
    },
    {
      "cell_type": "markdown",
      "metadata": {
        "id": "jMdNhmiXpojy"
      },
      "source": [
        "## วิธีที่ง่ายที่สุด: ดูว่ามี pixel เหมือนกันแค่ไหน"
      ]
    },
    {
      "cell_type": "markdown",
      "metadata": {
        "id": "MqYq_GbFT7XA"
      },
      "source": [
        "สมมุติเราไม่ทำ ML อะไรเลย แต่เราพยามสร้างกฎแบบ Rule-based Systems โดยบอกว่า \"รูปที่มี pixels ใกล้เคียงกับ pixels เฉลี่ยของเลข 3 และ 7 มากกว่า ให้ถือว่าเป็นเลขนั้น\""
      ]
    },
    {
      "cell_type": "code",
      "execution_count": 13,
      "metadata": {
        "colab": {
          "base_uri": "https://localhost:8080/"
        },
        "id": "JDsXZWi8pojy",
        "outputId": "bf3e4eea-2618-4456-a379-eacf54c7b62f"
      },
      "outputs": [
        {
          "output_type": "execute_result",
          "data": {
            "text/plain": [
              "(6131, 6265)"
            ]
          },
          "metadata": {},
          "execution_count": 13
        }
      ],
      "source": [
        "seven_tensors = [tensor(Image.open(o)) for o in sevens]\n",
        "three_tensors = [tensor(Image.open(o)) for o in threes]\n",
        "len(three_tensors),len(seven_tensors)"
      ]
    },
    {
      "cell_type": "code",
      "execution_count": 14,
      "metadata": {
        "colab": {
          "base_uri": "https://localhost:8080/",
          "height": 85
        },
        "id": "9h_vpbbvpojy",
        "outputId": "5f2dcaa1-f3e8-4e22-c659-7289887aa97a"
      },
      "outputs": [
        {
          "output_type": "display_data",
          "data": {
            "text/plain": [
              "<Figure size 72x72 with 1 Axes>"
            ],
            "image/png": "[encoded data removed]"
          },
          "metadata": {
            "needs_background": "light"
          }
        }
      ],
      "source": [
        "show_image(three_tensors[1]);"
      ]
    },
    {
      "cell_type": "code",
      "source": [
        "three_tensors[1]"
      ],
      "metadata": {
        "colab": {
          "base_uri": "https://localhost:8080/"
        },
        "id": "YEhrXaSXbgIi",
        "outputId": "d606d4cc-58ed-4983-8cfa-3648981e3635"
      },
      "execution_count": 15,
      "outputs": [
        {
          "output_type": "execute_result",
          "data": {
            "text/plain": [
              "tensor([[  0,   0,   0,   0,   0,   0,   0,   0,   0,   0,   0,   0,   0,   0,   0,   0,   0,   0,   0,   0,   0,   0,   0,   0,   0,   0,   0,   0],\n",
              "        [  0,   0,   0,   0,   0,   0,   0,   0,   0,   0,   0,   0,   0,   0,   0,   0,   0,   0,   0,   0,   0,   0,   0,   0,   0,   0,   0,   0],\n",
              "        [  0,   0,   0,   0,   0,   0,   0,   0,   0,   0,   0,   0,   0,   0,   0,   0,   0,   0,   0,   0,   0,   0,   0,   0,   0,   0,   0,   0],\n",
              "        [  0,   0,   0,   0,   0,   0,   0,   0,   0,   0,   0,   0,   0,   0,   0,   0,   0,   0,   0,   0,   0,   0,   0,   0,   0,   0,   0,   0],\n",
              "        [  0,   0,   0,   0,   0,   0,   0,   0,   0,   0,   0,   0,   0,   0,   0,   0,   0,   0,   0,   0,   0,   0,   0,   0,   0,   0,   0,   0],\n",
              "        [  0,   0,   0,   0,   0,   0,   0,   0,   0,  29, 150, 195, 254, 255, 254, 176, 193, 150,  96,   0,   0,   0,   0,   0,   0,   0,   0,   0],\n",
              "        [  0,   0,   0,   0,   0,   0,   0,  48, 166, 224, 253, 253, 234, 196, 253, 253, 253, 253, 233,   0,   0,   0,   0,   0,   0,   0,   0,   0],\n",
              "        [  0,   0,   0,   0,   0,  93, 244, 249, 253, 187,  46,  10,   8,   4,  10, 194, 253, 253, 233,   0,   0,   0,   0,   0,   0,   0,   0,   0],\n",
              "        [  0,   0,   0,   0,   0, 107, 253, 253, 230,  48,   0,   0,   0,   0,   0, 192, 253, 253, 156,   0,   0,   0,   0,   0,   0,   0,   0,   0],\n",
              "        [  0,   0,   0,   0,   0,   3,  20,  20,  15,   0,   0,   0,   0,   0,  43, 224, 253, 245,  74,   0,   0,   0,   0,   0,   0,   0,   0,   0],\n",
              "        [  0,   0,   0,   0,   0,   0,   0,   0,   0,   0,   0,   0,   0,   0, 249, 253, 245, 126,   0,   0,   0,   0,   0,   0,   0,   0,   0,   0],\n",
              "        [  0,   0,   0,   0,   0,   0,   0,   0,   0,   0,   0,  14, 101, 223, 253, 248, 124,   0,   0,   0,   0,   0,   0,   0,   0,   0,   0,   0],\n",
              "        [  0,   0,   0,   0,   0,   0,   0,   0,   0,  11, 166, 239, 253, 253, 253, 187,  30,   0,   0,   0,   0,   0,   0,   0,   0,   0,   0,   0],\n",
              "        [  0,   0,   0,   0,   0,   0,   0,   0,   0,  16, 248, 250, 253, 253, 253, 253, 232, 213, 111,   2,   0,   0,   0,   0,   0,   0,   0,   0],\n",
              "        [  0,   0,   0,   0,   0,   0,   0,   0,   0,   0,   0,  43,  98,  98, 208, 253, 253, 253, 253, 187,  22,   0,   0,   0,   0,   0,   0,   0],\n",
              "        [  0,   0,   0,   0,   0,   0,   0,   0,   0,   0,   0,   0,   0,   0,   9,  51, 119, 253, 253, 253,  76,   0,   0,   0,   0,   0,   0,   0],\n",
              "        [  0,   0,   0,   0,   0,   0,   0,   0,   0,   0,   0,   0,   0,   0,   0,   0,   1, 183, 253, 253, 139,   0,   0,   0,   0,   0,   0,   0],\n",
              "        [  0,   0,   0,   0,   0,   0,   0,   0,   0,   0,   0,   0,   0,   0,   0,   0,   0, 182, 253, 253, 104,   0,   0,   0,   0,   0,   0,   0],\n",
              "        [  0,   0,   0,   0,   0,   0,   0,   0,   0,   0,   0,   0,   0,   0,   0,   0,  85, 249, 253, 253,  36,   0,   0,   0,   0,   0,   0,   0],\n",
              "        [  0,   0,   0,   0,   0,   0,   0,   0,   0,   0,   0,   0,   0,   0,   0,  60, 214, 253, 253, 173,  11,   0,   0,   0,   0,   0,   0,   0],\n",
              "        [  0,   0,   0,   0,   0,   0,   0,   0,   0,   0,   0,   0,   0,   0,  98, 247, 253, 253, 226,   9,   0,   0,   0,   0,   0,   0,   0,   0],\n",
              "        [  0,   0,   0,   0,   0,   0,   0,   0,   0,   0,   0,   0,  42, 150, 252, 253, 253, 233,  53,   0,   0,   0,   0,   0,   0,   0,   0,   0],\n",
              "        [  0,   0,   0,   0,   0,   0,  42, 115,  42,  60, 115, 159, 240, 253, 253, 250, 175,  25,   0,   0,   0,   0,   0,   0,   0,   0,   0,   0],\n",
              "        [  0,   0,   0,   0,   0,   0, 187, 253, 253, 253, 253, 253, 253, 253, 197,  86,   0,   0,   0,   0,   0,   0,   0,   0,   0,   0,   0,   0],\n",
              "        [  0,   0,   0,   0,   0,   0, 103, 253, 253, 253, 253, 253, 232,  67,   1,   0,   0,   0,   0,   0,   0,   0,   0,   0,   0,   0,   0,   0],\n",
              "        [  0,   0,   0,   0,   0,   0,   0,   0,   0,   0,   0,   0,   0,   0,   0,   0,   0,   0,   0,   0,   0,   0,   0,   0,   0,   0,   0,   0],\n",
              "        [  0,   0,   0,   0,   0,   0,   0,   0,   0,   0,   0,   0,   0,   0,   0,   0,   0,   0,   0,   0,   0,   0,   0,   0,   0,   0,   0,   0],\n",
              "        [  0,   0,   0,   0,   0,   0,   0,   0,   0,   0,   0,   0,   0,   0,   0,   0,   0,   0,   0,   0,   0,   0,   0,   0,   0,   0,   0,   0]], dtype=torch.uint8)"
            ]
          },
          "metadata": {},
          "execution_count": 15
        }
      ]
    },
    {
      "cell_type": "code",
      "execution_count": 16,
      "metadata": {
        "colab": {
          "base_uri": "https://localhost:8080/"
        },
        "id": "D5B7mZNspojy",
        "outputId": "fbc6c4a8-118c-40fd-8e90-516999f0785d"
      },
      "outputs": [
        {
          "output_type": "execute_result",
          "data": {
            "text/plain": [
              "(torch.Size([6131, 28, 28]), torch.Size([6265, 28, 28]))"
            ]
          },
          "metadata": {},
          "execution_count": 16
        }
      ],
      "source": [
        "#เรามัดเลข 3 และ 7 ทั้งหมดรวมกันตามคลาสแล้วหารมันด้วย 255 เพื่อให้ได้ค่าระหว่าง 0 และ 1\n",
        "stacked_sevens = torch.stack(seven_tensors).float()/255\n",
        "stacked_threes = torch.stack(three_tensors).float()/255\n",
        "stacked_threes.shape, stacked_sevens.shape"
      ]
    },
    {
      "cell_type": "code",
      "execution_count": 17,
      "metadata": {
        "colab": {
          "base_uri": "https://localhost:8080/"
        },
        "id": "K4mmFyngpojz",
        "outputId": "982892c6-1dab-4862-b28e-e470f350a623"
      },
      "outputs": [
        {
          "output_type": "execute_result",
          "data": {
            "text/plain": [
              "3"
            ]
          },
          "metadata": {},
          "execution_count": 17
        }
      ],
      "source": [
        "len(stacked_threes.shape)"
      ]
    },
    {
      "cell_type": "code",
      "execution_count": 18,
      "metadata": {
        "colab": {
          "base_uri": "https://localhost:8080/"
        },
        "id": "Jck_enHBpojz",
        "outputId": "23f5efed-92ec-447a-b0cd-2a455b2832a2"
      },
      "outputs": [
        {
          "output_type": "execute_result",
          "data": {
            "text/plain": [
              "3"
            ]
          },
          "metadata": {},
          "execution_count": 18
        }
      ],
      "source": [
        "stacked_threes.ndim #เลือกใช้คำสั่งจากบรรทัดบนได้"
      ]
    },
    {
      "cell_type": "code",
      "execution_count": 19,
      "metadata": {
        "colab": {
          "base_uri": "https://localhost:8080/",
          "height": 103
        },
        "id": "cxcx0MIlg-fI",
        "outputId": "0d35628f-91de-4f1b-859e-23b28803e9c2"
      },
      "outputs": [
        {
          "output_type": "execute_result",
          "data": {
            "text/plain": [
              "<matplotlib.axes._subplots.AxesSubplot at 0x7fbe49943490>"
            ]
          },
          "metadata": {},
          "execution_count": 19
        },
        {
          "output_type": "display_data",
          "data": {
            "text/plain": [
              "<Figure size 72x72 with 1 Axes>"
            ],
            "image/png": "[encoded data removed]"
          },
          "metadata": {
            "needs_background": "light"
          }
        }
      ],
      "source": [
        "#เลข 3 ที่ index 0\n",
        "show_image(stacked_threes[0,:,:])"
      ]
    },
    {
      "cell_type": "code",
      "execution_count": 20,
      "metadata": {
        "colab": {
          "base_uri": "https://localhost:8080/",
          "height": 85
        },
        "id": "2Es3hPcXpojz",
        "outputId": "f20c51f5-7c88-4f32-dcb4-bbcc13e342c6"
      },
      "outputs": [
        {
          "output_type": "display_data",
          "data": {
            "text/plain": [
              "<Figure size 72x72 with 1 Axes>"
            ],
            "image/png": "[encoded data removed]"
          },
          "metadata": {
            "needs_background": "light"
          }
        }
      ],
      "source": [
        "#เลข 3 โดยเฉลี่ย\n",
        "mean3 = stacked_threes.mean(0)\n",
        "show_image(mean3);"
      ]
    },
    {
      "cell_type": "code",
      "execution_count": 21,
      "metadata": {
        "colab": {
          "base_uri": "https://localhost:8080/",
          "height": 85
        },
        "id": "ambkeHzzpojz",
        "outputId": "0ea44c06-805d-4d3b-9051-bc0a1918e1d9"
      },
      "outputs": [
        {
          "output_type": "display_data",
          "data": {
            "text/plain": [
              "<Figure size 72x72 with 1 Axes>"
            ],
            "image/png": "[encoded data removed]"
          },
          "metadata": {
            "needs_background": "light"
          }
        }
      ],
      "source": [
        "#เลข 7 โดยเฉลี่ย\n",
        "mean7 = stacked_sevens.mean(0)\n",
        "show_image(mean7);"
      ]
    },
    {
      "cell_type": "code",
      "execution_count": 22,
      "metadata": {
        "colab": {
          "base_uri": "https://localhost:8080/",
          "height": 85
        },
        "id": "aKESuqYHpojz",
        "outputId": "00c45e8d-a3ec-42b7-94cc-6bf04b91aec8"
      },
      "outputs": [
        {
          "output_type": "display_data",
          "data": {
            "text/plain": [
              "<Figure size 72x72 with 1 Axes>"
            ],
            "image/png": "[encoded data removed]"
          },
          "metadata": {
            "needs_background": "light"
          }
        }
      ],
      "source": [
        "#เลข 3 อันที่ 125\n",
        "a_3 = stacked_threes[125]\n",
        "show_image(a_3);"
      ]
    },
    {
      "cell_type": "markdown",
      "metadata": {
        "id": "k4Rm7EZjU-Gb"
      },
      "source": [
        "เราจะเห็นได้ว่าหากเราคำนวน mean absolute error และ mean squared error ของแต่ละ pixel ระหว่าง \"เลข 3 อันที่ 125\" กับ \"เลข 3 โดยเฉลี่ย\" และ \"เลข 7 โดยเฉลี่ย\" เราจะเห็นกว่าค่าของ \"เลข 3 อันที่ 125\" กับ \"เลข 3 โดยเฉลี่ย\" มีค่าน้อยกว่า และในกรณีนี้ระบบ (ที่ไม่ใช่ ML) ของเราจะทำนายถูกว่า \"เลข 3 อันที่ 125\" คือเลข 3"
      ]
    },
    {
      "cell_type": "code",
      "execution_count": 23,
      "metadata": {
        "colab": {
          "base_uri": "https://localhost:8080/"
        },
        "id": "JbfdH2zWpoj0",
        "outputId": "9254bbe3-1f69-479e-f34b-8dbf4e65be04"
      },
      "outputs": [
        {
          "output_type": "execute_result",
          "data": {
            "text/plain": [
              "(tensor(0.1259), tensor(0.2290))"
            ]
          },
          "metadata": {},
          "execution_count": 23
        }
      ],
      "source": [
        "#ความห่างระหว่า \"เลข 3 อันที่ 125\" กับ \"เลข 3 โดยเฉลี่ย\"\n",
        "dist_3_abs = (a_3 - mean3).abs().mean()\n",
        "dist_3_sqr = ((a_3 - mean3)**2).mean().sqrt()\n",
        "dist_3_abs,dist_3_sqr"
      ]
    },
    {
      "cell_type": "code",
      "execution_count": 24,
      "metadata": {
        "colab": {
          "base_uri": "https://localhost:8080/"
        },
        "id": "s5xmB8f1poj0",
        "outputId": "0121fc33-5540-4747-fd94-759e091e1dc3"
      },
      "outputs": [
        {
          "output_type": "execute_result",
          "data": {
            "text/plain": [
              "(tensor(0.1836), tensor(0.3390))"
            ]
          },
          "metadata": {},
          "execution_count": 24
        }
      ],
      "source": [
        "#ความห่างระหว่า \"เลข 3 อันที่ 125\" กับ \"เลข 7 โดยเฉลี่ย\"\n",
        "dist_7_abs = (a_3 - mean7).abs().mean()\n",
        "dist_7_sqr = ((a_3 - mean7)**2).mean().sqrt()\n",
        "dist_7_abs,dist_7_sqr"
      ]
    },
    {
      "cell_type": "code",
      "execution_count": 25,
      "metadata": {
        "colab": {
          "base_uri": "https://localhost:8080/"
        },
        "id": "lDlxHuO8Vazc",
        "outputId": "fa29dc98-ed0c-4476-e998-4c755a3cef50"
      },
      "outputs": [
        {
          "output_type": "execute_result",
          "data": {
            "text/plain": [
              "(tensor(0.1836), tensor(0.3390))"
            ]
          },
          "metadata": {},
          "execution_count": 25
        }
      ],
      "source": [
        "#ใช้ function ของ pytorch คิดก็ได้\n",
        "F.l1_loss(a_3.float(), mean7), F.mse_loss(a_3, mean7).sqrt()"
      ]
    },
    {
      "cell_type": "markdown",
      "metadata": {
        "id": "4Lx6GAdSVgD2"
      },
      "source": [
        "เรื่องน่าคิดถึงความแตกต่างระหว่าง mean squared error และ mean absolute error"
      ]
    },
    {
      "cell_type": "code",
      "execution_count": 26,
      "metadata": {
        "colab": {
          "base_uri": "https://localhost:8080/"
        },
        "id": "IcAtO7IwDzUp",
        "outputId": "1d5bc859-2e8c-4ca1-fc8c-7b20d750cc42"
      },
      "outputs": [
        {
          "output_type": "execute_result",
          "data": {
            "text/plain": [
              "(1.1666666269302368, 1.1902379989624023)"
            ]
          },
          "metadata": {},
          "execution_count": 26
        }
      ],
      "source": [
        "a = torch.tensor([1, 2, 3]).float()\n",
        "b = torch.tensor([2.,3.,4.5])\n",
        "c = torch.tensor([2.,3.,40.])\n",
        "\n",
        "#mse และ mae ไม่ต่างกันเท่าไหร่สำหรับ a และ b\n",
        "(a-b).abs().mean().item(), \\\n",
        "((a-b)**2).mean().sqrt().item(),"
      ]
    },
    {
      "cell_type": "code",
      "execution_count": 27,
      "metadata": {
        "colab": {
          "base_uri": "https://localhost:8080/"
        },
        "id": "y5zmXGk2poj0",
        "outputId": "0f3471a5-31b7-46bb-df12-e182f0c8db30"
      },
      "outputs": [
        {
          "output_type": "execute_result",
          "data": {
            "text/plain": [
              "(13.0, 21.3775577545166)"
            ]
          },
          "metadata": {},
          "execution_count": 27
        }
      ],
      "source": [
        "#mse และ mae ต่างกันเกือบเท่าตัวสำหรับ a และ c\n",
        "(a-c).abs().mean().item(),\\\n",
        "((a-c)**2).mean().sqrt().item()"
      ]
    },
    {
      "cell_type": "markdown",
      "metadata": {
        "id": "ErTcHuGkpoj4"
      },
      "source": [
        "## Stochastic Gradient Descent (SGD)"
      ]
    },
    {
      "cell_type": "markdown",
      "metadata": {
        "id": "XTAhc8bJWi6y"
      },
      "source": [
        "หากยังจำได้จากบทที่ 1 เราเรียนรู้ว่าเราจะคำนวณ `Gradients` จาก `Loss` แล้วให้ Optimizer ทำหน้าที่ update `Weights` ในบทเรียนนี้เราจะมาเรียนรู้ขั้นตอนเหล่านี้กัน"
      ]
    },
    {
      "cell_type": "markdown",
      "metadata": {
        "id": "V9fzeVckWhP9"
      },
      "source": [
        "<img src=https://github.com/ai-builders/curriculum/raw/main/images/training_loop50.png width=\"700px\">"
      ]
    },
    {
      "cell_type": "markdown",
      "metadata": {
        "id": "OISepsl-poj5"
      },
      "source": [
        "### คำนวณ Gradients เพื่อทำ Backpropagation"
      ]
    },
    {
      "cell_type": "markdown",
      "metadata": {
        "id": "_9WrHtiu0ScN"
      },
      "source": [
        "หากคุณยังไม่เคยเรียนเกี่ยวกับ [partial derivative](https://en.wikipedia.org/wiki/Partial_derivative) และ [chain rule](https://www.khanacademy.org/math/ap-calculus-ab/ab-differentiation-2-new/ab-3-1a/a/chain-rule-review) ในชั้นเรียนมัธยมปลาย คุณอาจจะไม่จำเป็นต้องเข้าใจเนื้อหาส่วนนี้ทั้งหมดก็ได้ ใจความสำคัญคือเราสามารถปรับแต่ง `Weights` ได้ด้วย `Gradients` ที่ถูกคำนวณมาจาก `Loss` เพื่อให้ได้ `Loss` ที่น้อยที่สุดเท่าที่จะทำได้ใน iteration ต่อๆไป"
      ]
    },
    {
      "cell_type": "markdown",
      "metadata": {
        "id": "tP7xMjbi6er4"
      },
      "source": [
        "ตัวอย่างการทำ Backpropagation อย่างง่ายจาก [cs231n](https://cs231n.github.io/optimization-2/#backprop)\n",
        "\n",
        "Independent variables:\n",
        "(เราอาจจะคิดว่า `x, y, z` เป็น `Inputs` หรือ `Weights` สำหรับโมเดลก็ได้)\n",
        "\\begin{align}\n",
        "x & = -2 \\\\\n",
        "y & = 5 \\\\\n",
        "z & = -4 \\\\\n",
        "\\end{align}\n",
        "\n",
        "Dependent variables: \n",
        "(`q` และ `f` คือฟังชั่นอะไรบางอย่าง เช่น `Loss Function` ของโมเดลก็ได้)\n",
        "\n",
        "ถ้าแทนค่า `x, y, z` เข้าไปในฟังชั่น `q, f` จะได้\n",
        "\n",
        "\\begin{align}\n",
        "q & = x+y = -2+5 = 3\\\\\n",
        "f & = q*z = 3*-4 = -12\n",
        "\\end{align}\n",
        "\n",
        "การทำแบบนี้เปรียบเสมือนการเปลี่ยน `Inputs` เป็น `Predictions` ด้วย `Weights` เรียกว่า `Forward Pass`\n",
        "\n",
        "หลังจากนั้น เราสามารถคำนวณหา `Gradients` ซึ่งโดยทั่วไปแล้วหมายถึงค่าอัตราการเปลี่ยนแปลงของฟังชั่นท้ายสุด (ในที่นี้คือ `f`) เทียบกับตัวแปรแรกสุด (ในที่นี้คือ `x, y, z`) ได้แก่ $\\frac{df}{dx}$, $\\frac{df}{dy}$, $\\frac{df}{dz}$ เราสามารถหาสิ่งนี้ด้วยการหา [partial derivative](https://en.wikipedia.org/wiki/Partial_derivative) และ [chain rule](https://www.khanacademy.org/math/ap-calculus-ab/ab-differentiation-2-new/ab-3-1a/a/chain-rule-review) เรียกว่า `Backward Pass`\n",
        "\n",
        "\\begin{align}\n",
        "\\frac{df}{dq} & = z = -4\\\\\n",
        "\\frac{dq}{dx} & = 1\\\\\n",
        "\\frac{df}{dx} & = \\frac{df}{dq} * \\frac{dq}{dx}\\\\\n",
        "& = -4*1\\\\\n",
        "& = -4\\\\\n",
        "\\end{align}\n",
        "\n"
      ]
    },
    {
      "cell_type": "code",
      "execution_count": 28,
      "metadata": {
        "colab": {
          "base_uri": "https://localhost:8080/"
        },
        "id": "VXdDIlJl6jYC",
        "outputId": "04b188ef-e6fe-47f0-e3a0-29cb9dbd07d8"
      },
      "outputs": [
        {
          "output_type": "execute_result",
          "data": {
            "text/plain": [
              "(-4.0, -4.0)"
            ]
          },
          "metadata": {},
          "execution_count": 28
        }
      ],
      "source": [
        "# set some inputs\n",
        "x = -2; y = 5; z = -4\n",
        "\n",
        "# perform the forward pass\n",
        "q = x + y # q becomes 3\n",
        "f = q * z # f becomes -12\n",
        "\n",
        "# perform the backward pass (backpropagation) in reverse order:\n",
        "# first backprop through f = q * z\n",
        "dfdz = q # df/dz = q, so gradient on z becomes 3\n",
        "dfdq = z # df/dq = z, so gradient on q becomes -4\n",
        "# now backprop through q = x + y\n",
        "dfdx = 1.0 * dfdq # dq/dx = 1. And the multiplication here is the chain rule!\n",
        "dfdy = 1.0 * dfdq # dq/dy = 1\n",
        "\n",
        "dfdx, dfdy"
      ]
    },
    {
      "cell_type": "markdown",
      "metadata": {
        "id": "kt9JIcVZ3CuU"
      },
      "source": [
        "Pytorch สามารถทำ `Backward Pass` ให้เราโดยอัตโนมัติด้วยฟังชั่น Autograd โดยที่เราไม่ต้องคิด partial derivative เอง ผลข้างเคียงอีกอย่างคือเราสามารถใช้ Pytorch ช่วยทำการบ้านวิชาแคลคูลัสเวลาเราหา derivative ที่ยากเกินไปไม่ออกได้อีกด้วย"
      ]
    },
    {
      "cell_type": "code",
      "execution_count": 29,
      "metadata": {
        "colab": {
          "base_uri": "https://localhost:8080/"
        },
        "id": "SWg90ZHApoj6",
        "outputId": "8454cbfd-c90b-46aa-d679-0e5f7ebfbf3c"
      },
      "outputs": [
        {
          "output_type": "execute_result",
          "data": {
            "text/plain": [
              "tensor([ 3.,  4., 10.], requires_grad=True)"
            ]
          },
          "metadata": {},
          "execution_count": 29
        }
      ],
      "source": [
        "xt = torch.tensor([3.,4.,10.]).requires_grad_()\n",
        "xt"
      ]
    },
    {
      "cell_type": "code",
      "execution_count": 30,
      "metadata": {
        "colab": {
          "base_uri": "https://localhost:8080/"
        },
        "id": "WpM1Q5nApoj6",
        "outputId": "f66d7c08-2462-4fab-e1e2-afe784a9e709"
      },
      "outputs": [
        {
          "output_type": "execute_result",
          "data": {
            "text/plain": [
              "tensor(125., grad_fn=<SumBackward0>)"
            ]
          },
          "metadata": {},
          "execution_count": 30
        }
      ],
      "source": [
        "#ฟังชั่น f(x) = (x1^2 + x2^2 +...+xn^2)\n",
        "def f(x): return (x**2).sum()\n",
        "\n",
        "yt = f(xt) #ใส่ 3, 4, 10 เข้าไปได้ 3^2+4^2+10^2 = 125\n",
        "yt"
      ]
    },
    {
      "cell_type": "code",
      "execution_count": 31,
      "metadata": {
        "colab": {
          "base_uri": "https://localhost:8080/"
        },
        "id": "POJB2ewmpoj6",
        "outputId": "3e912def-b52f-4468-91ea-03fe13218c0b"
      },
      "outputs": [
        {
          "output_type": "execute_result",
          "data": {
            "text/plain": [
              "tensor([ 6.,  8., 20.])"
            ]
          },
          "metadata": {},
          "execution_count": 31
        }
      ],
      "source": [
        "#ถ้าคิดด้วยมือ df(x)/dx = 2x \n",
        "#สำหรับ x1=3, x2=4, x3=10 ก็จะเป็น \n",
        "#df(x1)/dx1 = 6, df(x2)/dx2 = 8, df(x3)/dx3 = 20\n",
        "\n",
        "#ใช้ autograd หา df(x1)/dx1, df(x2)/dx2, df(x3)/dx3\n",
        "yt.backward()\n",
        "xt.grad"
      ]
    },
    {
      "cell_type": "markdown",
      "metadata": {
        "id": "mHHqwvz2poj_"
      },
      "source": [
        "## สร้าง Loss Function สำหรับจำแนกรูปเลข 3 และเลข 7"
      ]
    },
    {
      "cell_type": "markdown",
      "metadata": {
        "id": "U0EQ6WD4zEf0"
      },
      "source": [
        "#### สร้าง X และ y"
      ]
    },
    {
      "cell_type": "markdown",
      "metadata": {
        "id": "t2aoyhac4ZrI"
      },
      "source": [
        "จัดการ `Inputs` คือรูปตัวเลข 28x28 pixels และ `Labels` คือ `1 ถ้าเป็นเลข 3` และ `0 ถ้าเป็นเลข 7`"
      ]
    },
    {
      "cell_type": "code",
      "execution_count": 32,
      "metadata": {
        "id": "-4LTBmPcpoj_"
      },
      "outputs": [],
      "source": [
        "train_x = torch.cat([stacked_threes, stacked_sevens]).view(-1, 28*28)"
      ]
    },
    {
      "cell_type": "code",
      "execution_count": 33,
      "metadata": {
        "colab": {
          "base_uri": "https://localhost:8080/"
        },
        "id": "Q5bU0JpipokA",
        "outputId": "9604a19d-3a98-458e-e025-cfd8fb9ea3a3"
      },
      "outputs": [
        {
          "output_type": "execute_result",
          "data": {
            "text/plain": [
              "(torch.Size([12396, 784]), torch.Size([12396, 1]))"
            ]
          },
          "metadata": {},
          "execution_count": 33
        }
      ],
      "source": [
        "train_y = tensor([1]*len(threes) + [0]*len(sevens)).unsqueeze(1)\n",
        "train_x.shape,train_y.shape"
      ]
    },
    {
      "cell_type": "code",
      "execution_count": 34,
      "metadata": {
        "colab": {
          "base_uri": "https://localhost:8080/"
        },
        "id": "rkavLIe1IcmD",
        "outputId": "32169b9d-253f-4aee-cd2d-28fc4b9a5afa"
      },
      "outputs": [
        {
          "output_type": "execute_result",
          "data": {
            "text/plain": [
              "[(1, 4), (2, 5), (3, 6)]"
            ]
          },
          "metadata": {},
          "execution_count": 34
        }
      ],
      "source": [
        "#เราสามารถนำ iterables สองอันมาต่อกันแบบนี้ได้ด้วย zip\n",
        "a = [1,2,3]\n",
        "b = [4,5,6]\n",
        "list(zip(a,b))"
      ]
    },
    {
      "cell_type": "code",
      "execution_count": 35,
      "metadata": {
        "colab": {
          "base_uri": "https://localhost:8080/"
        },
        "id": "08BIemoApokA",
        "outputId": "b2aadd9f-f559-49e9-cc7a-bb2f1a4f0f75"
      },
      "outputs": [
        {
          "output_type": "execute_result",
          "data": {
            "text/plain": [
              "(torch.Size([784]), torch.Size([1]))"
            ]
          },
          "metadata": {},
          "execution_count": 35
        }
      ],
      "source": [
        "dset = list(zip(train_x,train_y))\n",
        "example = dset[0]\n",
        "\n",
        "#คู่ Inputs　และ Labels\n",
        "example[0].shape, example[1].shape"
      ]
    },
    {
      "cell_type": "code",
      "execution_count": 36,
      "metadata": {
        "id": "Y6ImID5ApokA"
      },
      "outputs": [],
      "source": [
        "#สร้าง validation set ในแบบเดียวกัน\n",
        "valid_3_tens = torch.stack([tensor(Image.open(o)) \n",
        "                            for o in (path/'valid'/'3').ls()])\n",
        "valid_3_tens = valid_3_tens.float()/255\n",
        "valid_7_tens = torch.stack([tensor(Image.open(o)) \n",
        "                            for o in (path/'valid'/'7').ls()])\n",
        "valid_7_tens = valid_7_tens.float()/255\n",
        "\n",
        "valid_x = torch.cat([valid_3_tens, valid_7_tens]).view(-1, 28*28)\n",
        "valid_y = tensor([1]*len(valid_3_tens) + [0]*len(valid_7_tens)).unsqueeze(1)\n",
        "valid_dset = list(zip(valid_x,valid_y))"
      ]
    },
    {
      "cell_type": "markdown",
      "metadata": {
        "id": "RR1v1Z2tzHmo"
      },
      "source": [
        "#### Initiate `Weights`"
      ]
    },
    {
      "cell_type": "markdown",
      "metadata": {
        "id": "7slIAUaOI0_d"
      },
      "source": [
        "สมมุติว่าเราจะใช้ architecture สุดเรียบง่าย แค่คูณค่า pixels ของรูป `Inputs` ด้วย `W` และบวกด้วย `b`\n",
        "\n",
        "$$prediction = \\Sigma(xW^T) + b$$\n",
        "\n",
        "เราสามารถเริ่มตั้ง `Weights` เป็นการ random จาก standard normal distribution"
      ]
    },
    {
      "cell_type": "code",
      "execution_count": 37,
      "metadata": {
        "id": "WQ9vpYHIpokA"
      },
      "outputs": [],
      "source": [
        "def init_params(size, std=1.0): return (torch.randn(size)*std).requires_grad_()"
      ]
    },
    {
      "cell_type": "code",
      "execution_count": 38,
      "metadata": {
        "colab": {
          "base_uri": "https://localhost:8080/"
        },
        "id": "itXv1TZ9pokA",
        "outputId": "33eeb8fe-34c8-4ae7-bd49-c0f841faa933"
      },
      "outputs": [
        {
          "output_type": "execute_result",
          "data": {
            "text/plain": [
              "torch.Size([784, 1])"
            ]
          },
          "metadata": {},
          "execution_count": 38
        }
      ],
      "source": [
        "#Inputs มี dimension (batch_size, 28*28)\n",
        "#เพราะงั้นถ้าเราจะคูณรายตัว (element-wise multiplication) ด้วย W^T, W ต้องมี dimension (28*28,1)\n",
        "weights = init_params((28*28,1))\n",
        "weights.shape"
      ]
    },
    {
      "cell_type": "code",
      "execution_count": 39,
      "metadata": {
        "colab": {
          "base_uri": "https://localhost:8080/"
        },
        "id": "7Ef5fK0KpokA",
        "outputId": "fe43f0cd-ed6c-46aa-e534-b3b40360c089"
      },
      "outputs": [
        {
          "output_type": "execute_result",
          "data": {
            "text/plain": [
              "tensor([0.3472], requires_grad=True)"
            ]
          },
          "metadata": {},
          "execution_count": 39
        }
      ],
      "source": [
        "#bias มีแค่ (1) dimension แล้วจะถูก broadcast ไปทุก dimension ของ batch size เอง\n",
        "# (1) -> (batch_size,1)\n",
        "bias = init_params(1)\n",
        "bias"
      ]
    },
    {
      "cell_type": "code",
      "execution_count": 40,
      "metadata": {
        "colab": {
          "base_uri": "https://localhost:8080/"
        },
        "id": "pnMvUz7kFoIU",
        "outputId": "f2b24934-01d1-438f-b1a3-fbbfbcfb7dff"
      },
      "outputs": [
        {
          "output_type": "execute_result",
          "data": {
            "text/plain": [
              "(torch.Size([784, 1]),\n",
              " torch.Size([1]),\n",
              " torch.Size([12396, 784]),\n",
              " torch.Size([784]))"
            ]
          },
          "metadata": {},
          "execution_count": 40
        }
      ],
      "source": [
        "weights.shape, bias.shape, train_x.shape, train_x[7].shape"
      ]
    },
    {
      "cell_type": "markdown",
      "metadata": {
        "id": "KXK2LAZqzLYk"
      },
      "source": [
        "#### Forward Pass"
      ]
    },
    {
      "cell_type": "code",
      "execution_count": 41,
      "metadata": {
        "colab": {
          "base_uri": "https://localhost:8080/"
        },
        "id": "S9md33qTEu6n",
        "outputId": "00e3942b-24f1-4b87-ef08-d71827ccfbaa"
      },
      "outputs": [
        {
          "output_type": "execute_result",
          "data": {
            "text/plain": [
              "tensor([[-15.2588]], grad_fn=<AddBackward0>)"
            ]
          },
          "metadata": {},
          "execution_count": 41
        }
      ],
      "source": [
        "#คำนวณ forward pass สำหรับตัวอย่าง 7\n",
        "(train_x[7]*weights.T).sum(1)[:,None] + bias"
      ]
    },
    {
      "cell_type": "code",
      "execution_count": 42,
      "metadata": {
        "colab": {
          "base_uri": "https://localhost:8080/"
        },
        "id": "22qYPEQDEwjC",
        "outputId": "03b0801f-98a2-4b70-f338-66319f979522"
      },
      "outputs": [
        {
          "output_type": "execute_result",
          "data": {
            "text/plain": [
              "tensor([[ -6.2330],\n",
              "        [-10.6388],\n",
              "        [-20.8865],\n",
              "        ...,\n",
              "        [-15.9176],\n",
              "        [ -1.6866],\n",
              "        [-11.3568]], grad_fn=<AddBackward0>)"
            ]
          },
          "metadata": {},
          "execution_count": 42
        }
      ],
      "source": [
        "#คำนวณ forward pass สำหรับทุกตัวอย่าง\n",
        "(train_x*weights.T).sum(1)[:,None] + bias"
      ]
    },
    {
      "cell_type": "code",
      "execution_count": 43,
      "metadata": {
        "colab": {
          "base_uri": "https://localhost:8080/"
        },
        "id": "I65On42BpokB",
        "outputId": "c6afc793-54a7-4c32-c675-680321c7bceb"
      },
      "outputs": [
        {
          "output_type": "execute_result",
          "data": {
            "text/plain": [
              "tensor([[ -6.2330],\n",
              "        [-10.6388],\n",
              "        [-20.8865],\n",
              "        ...,\n",
              "        [-15.9176],\n",
              "        [ -1.6866],\n",
              "        [-11.3568]], grad_fn=<AddBackward0>)"
            ]
          },
          "metadata": {},
          "execution_count": 43
        }
      ],
      "source": [
        "#เขียนเป็นฟังชั่น; @ คือ matrix multiplication ใน pytorch\n",
        "def linear1(xb): return xb@weights + bias\n",
        "preds = linear1(train_x)\n",
        "preds"
      ]
    },
    {
      "cell_type": "markdown",
      "metadata": {
        "id": "XJKeTmrPzOr3"
      },
      "source": [
        "#### Metric ใช้ Accuracy"
      ]
    },
    {
      "cell_type": "code",
      "execution_count": 44,
      "metadata": {
        "colab": {
          "base_uri": "https://localhost:8080/"
        },
        "id": "SLnbggPopokB",
        "outputId": "1840728c-b104-4245-dcf9-fc8ac90f8c24"
      },
      "outputs": [
        {
          "output_type": "execute_result",
          "data": {
            "text/plain": [
              "tensor([[False],\n",
              "        [False],\n",
              "        [False],\n",
              "        ...,\n",
              "        [ True],\n",
              "        [ True],\n",
              "        [ True]])"
            ]
          },
          "metadata": {},
          "execution_count": 44
        }
      ],
      "source": [
        "#ถ้าสมมุติว่า Predictions >0 ให้ทายเป็น 1 (เลข 3)\n",
        "corrects = (preds>0.0).float() == train_y\n",
        "corrects"
      ]
    },
    {
      "cell_type": "code",
      "execution_count": 45,
      "metadata": {
        "colab": {
          "base_uri": "https://localhost:8080/"
        },
        "id": "5DVZlAVzJqbV",
        "outputId": "6aad8d3a-0949-44dc-f9a9-8b760a827e57"
      },
      "outputs": [
        {
          "output_type": "execute_result",
          "data": {
            "text/plain": [
              "Counter({0.0: 10788, 1.0: 1608})"
            ]
          },
          "metadata": {},
          "execution_count": 45
        }
      ],
      "source": [
        "from collections import Counter\n",
        "Counter((preds>0.0).float().numpy()[:,0])"
      ]
    },
    {
      "cell_type": "code",
      "execution_count": 46,
      "metadata": {
        "colab": {
          "base_uri": "https://localhost:8080/"
        },
        "id": "CiSVOFonpokB",
        "outputId": "4a02cc90-d489-443c-d148-4e6af5ad201f"
      },
      "outputs": [
        {
          "output_type": "execute_result",
          "data": {
            "text/plain": [
              "0.5379961133003235"
            ]
          },
          "metadata": {},
          "execution_count": 46
        }
      ],
      "source": [
        "#จะเห็นได้ว่ามันถูกเครื่องๆ (เพราะเราเดาสุ่มด้วย weights ที่สุ่มมา)\n",
        "corrects.float().mean().item()"
      ]
    },
    {
      "cell_type": "code",
      "execution_count": 47,
      "metadata": {
        "id": "RwkizTBqpokC"
      },
      "outputs": [],
      "source": [
        "#ถ้าเราเปลี่ยน weights เล็กน้อย\n",
        "with torch.no_grad():\n",
        "    weights *= 5.0001\n",
        "    bias+=10"
      ]
    },
    {
      "cell_type": "code",
      "execution_count": 48,
      "metadata": {
        "colab": {
          "base_uri": "https://localhost:8080/"
        },
        "id": "d5Kv_vFrpokC",
        "outputId": "8c1c1eff-d49e-479c-862c-6e4ca8acf5c3"
      },
      "outputs": [
        {
          "output_type": "execute_result",
          "data": {
            "text/plain": [
              "0.548402726650238"
            ]
          },
          "metadata": {},
          "execution_count": 48
        }
      ],
      "source": [
        "#ความแม่นยำก็เปลี่ยนนิดนึง\n",
        "preds = linear1(train_x)\n",
        "((preds>0.0).float() == train_y).float().mean().item()"
      ]
    },
    {
      "cell_type": "markdown",
      "metadata": {
        "id": "PTOZYvLRy-Vz"
      },
      "source": [
        "#### Loss Function อย่างง่าย"
      ]
    },
    {
      "cell_type": "code",
      "execution_count": 49,
      "metadata": {
        "id": "w7wVT8TjpokC"
      },
      "outputs": [],
      "source": [
        "trgts  = tensor([1,0,1])\n",
        "prds   = tensor([0.9, 0.4, 0.2])"
      ]
    },
    {
      "cell_type": "code",
      "execution_count": 50,
      "metadata": {
        "id": "9HgV5HQppokC"
      },
      "outputs": [],
      "source": [
        "#loss function ที่จะเป็นจะเป็น Predictions ของ class ที่ผิด\n",
        "#เพราะงั้นยิ่งทาย class ที่ผิดแบบมั่นใจมาก Loss ก็จะยิ่งสูง\n",
        "def mnist_loss(predictions, targets):\n",
        "    return torch.where(targets==1, 1-predictions, predictions).mean()"
      ]
    },
    {
      "cell_type": "code",
      "execution_count": 51,
      "metadata": {
        "colab": {
          "base_uri": "https://localhost:8080/"
        },
        "id": "5xGnIzeHpokC",
        "outputId": "045a6a01-7647-4776-dc8c-7976d8ec3b1b"
      },
      "outputs": [
        {
          "output_type": "execute_result",
          "data": {
            "text/plain": [
              "tensor([0.1000, 0.4000, 0.8000])"
            ]
          },
          "metadata": {},
          "execution_count": 51
        }
      ],
      "source": [
        "#if target == 1, loss is how far it is from 1\n",
        "#if target == 0, loss is how far it is from 0\n",
        "torch.where(trgts==1, 1-prds, prds)"
      ]
    },
    {
      "cell_type": "code",
      "execution_count": 52,
      "metadata": {
        "colab": {
          "base_uri": "https://localhost:8080/"
        },
        "id": "dhQH45dYpokC",
        "outputId": "b5c0fbe3-572b-4f46-e7c9-c3e49a75f17d"
      },
      "outputs": [
        {
          "output_type": "execute_result",
          "data": {
            "text/plain": [
              "tensor(0.4333)"
            ]
          },
          "metadata": {},
          "execution_count": 52
        }
      ],
      "source": [
        "mnist_loss(prds,trgts)"
      ]
    },
    {
      "cell_type": "code",
      "execution_count": 53,
      "metadata": {
        "colab": {
          "base_uri": "https://localhost:8080/"
        },
        "id": "uiUjD7aJpokD",
        "outputId": "53f4d2b4-9aab-41bd-9a3b-21d99535d4e0"
      },
      "outputs": [
        {
          "output_type": "execute_result",
          "data": {
            "text/plain": [
              "tensor(0.2333)"
            ]
          },
          "metadata": {},
          "execution_count": 53
        }
      ],
      "source": [
        "#ถ้าทายแม่นขึ้น loss ก็ลดลง\n",
        "mnist_loss(tensor([0.9, 0.4, 0.8]), trgts)"
      ]
    },
    {
      "cell_type": "markdown",
      "metadata": {
        "id": "dqsrmegupokD"
      },
      "source": [
        "### Activation Function - Sigmoid"
      ]
    },
    {
      "cell_type": "markdown",
      "metadata": {
        "id": "-0DXOc8w0YeU"
      },
      "source": [
        "ปัญหาอย่างนึงของเราตอนนี้คือโมเดลเราให้ค่า `Predictions` เป็นจำนวนจริง แต่ `Loss Function` ของเราต้องการค่าระหว่าง 0 ถึง 1 เราจึงใช้ `Activation Function` ที่ชื่อ Sigmoid เพื่อเปลี่ยนให้ตัวเลขอยู่ระหว่าง 0 ถึง 1\n",
        "\n",
        "`Activation Function` นั้นมีมากมายหลายประเภท ที่นิยมใช้ เช่น [ReLU](https://en.wikipedia.org/wiki/Rectifier_(neural_networks))(x) - ฟังชั่นที่บอกว่าถ้าน้อยกว่า 0 ให้เป็น นอกนั้นเป็น x, [tanh](https://mathworld.wolfram.com/HyperbolicTangent.html)(x) - ฟังชั่นที่เปลี่ยนค่าจำนวนจริงให้อยู่ระหว่าง -1 และ 1 เป็นต้น อ่านเพิ่มเกี่ยวกับ [Activation Functions](https://en.wikipedia.org/wiki/Activation_function)"
      ]
    },
    {
      "cell_type": "code",
      "execution_count": 54,
      "metadata": {
        "id": "sQIUTk5ZpokD"
      },
      "outputs": [],
      "source": [
        "def sigmoid(x): return 1/(1+torch.exp(-x))"
      ]
    },
    {
      "cell_type": "code",
      "execution_count": 55,
      "metadata": {
        "colab": {
          "base_uri": "https://localhost:8080/",
          "height": 265
        },
        "id": "TY9tdedYpokD",
        "outputId": "75cfda50-ee73-4421-d555-4fedb38a077a"
      },
      "outputs": [
        {
          "output_type": "display_data",
          "data": {
            "text/plain": [
              "<Figure size 432x288 with 1 Axes>"
            ],
            "image/png": "[encoded data removed]"
          },
          "metadata": {
            "needs_background": "light"
          }
        }
      ],
      "source": [
        "plot_function(torch.sigmoid, title='Sigmoid', min=-4, max=4)"
      ]
    },
    {
      "cell_type": "code",
      "execution_count": 56,
      "metadata": {
        "id": "htbxxyxlpokD"
      },
      "outputs": [],
      "source": [
        "def mnist_loss(predictions, targets):\n",
        "    predictions = predictions.sigmoid() #ใส่ sigmoid ไป; pytorch tensor มี built-in function ให้แล้ว\n",
        "    return torch.where(targets==1, 1-predictions, predictions).mean()"
      ]
    },
    {
      "cell_type": "markdown",
      "metadata": {
        "id": "UUxkL3_2pokD"
      },
      "source": [
        "### SGD and Mini-Batches"
      ]
    },
    {
      "cell_type": "markdown",
      "metadata": {
        "id": "rxCnTrNRInAz"
      },
      "source": [
        "หลายครั้งข้อมูลทั้งชุดของเราใหญ่เกินไปที่จะใส่เข้าไปใน memory ของเครื่อง เราจึงต้องใส่เข้าไปทีละ batch ด้วย `DataLoader`"
      ]
    },
    {
      "cell_type": "code",
      "execution_count": 57,
      "metadata": {
        "colab": {
          "base_uri": "https://localhost:8080/"
        },
        "id": "2-twSiAspokD",
        "outputId": "648d79eb-bb56-48b4-a1be-eaaf8a85f52a"
      },
      "outputs": [
        {
          "output_type": "execute_result",
          "data": {
            "text/plain": [
              "[tensor([ 3, 12,  8, 10,  2]),\n",
              " tensor([ 9,  4,  7, 14,  5]),\n",
              " tensor([ 1, 13,  0,  6, 11])]"
            ]
          },
          "metadata": {},
          "execution_count": 57
        }
      ],
      "source": [
        "#ทดลองใช้ Dataloader สุ่มตัวเลขจาก 0-14; batch ละ 5 ตัวอย่าง; ให้สุ่มด้วย\n",
        "coll = range(15)\n",
        "dl = DataLoader(coll, batch_size=5, shuffle=True)\n",
        "list(dl)"
      ]
    },
    {
      "cell_type": "code",
      "execution_count": 58,
      "metadata": {
        "colab": {
          "base_uri": "https://localhost:8080/"
        },
        "id": "7W43iIU_pokE",
        "outputId": "61be7dca-1233-457a-9ecf-535598e887c6"
      },
      "outputs": [
        {
          "output_type": "execute_result",
          "data": {
            "text/plain": [
              "(#26) [(0, 'a'),(1, 'b'),(2, 'c'),(3, 'd'),(4, 'e'),(5, 'f'),(6, 'g'),(7, 'h'),(8, 'i'),(9, 'j')...]"
            ]
          },
          "metadata": {},
          "execution_count": 58
        }
      ],
      "source": [
        "#สมมุติเรามี DataSet　แบบนี้\n",
        "ds = L(enumerate(string.ascii_lowercase))\n",
        "ds"
      ]
    },
    {
      "cell_type": "code",
      "execution_count": 59,
      "metadata": {
        "colab": {
          "base_uri": "https://localhost:8080/"
        },
        "id": "GOccHc_rpokE",
        "outputId": "08023ecb-30cc-48e9-ebf3-44e672e9b157"
      },
      "outputs": [
        {
          "output_type": "execute_result",
          "data": {
            "text/plain": [
              "[(tensor([17, 18, 10, 22,  8, 14]), ('r', 's', 'k', 'w', 'i', 'o')),\n",
              " (tensor([20, 15,  9, 13, 21, 12]), ('u', 'p', 'j', 'n', 'v', 'm')),\n",
              " (tensor([ 7, 25,  6,  5, 11, 23]), ('h', 'z', 'g', 'f', 'l', 'x')),\n",
              " (tensor([ 1,  3,  0, 24, 19, 16]), ('b', 'd', 'a', 'y', 't', 'q')),\n",
              " (tensor([2, 4]), ('c', 'e'))]"
            ]
          },
          "metadata": {},
          "execution_count": 59
        }
      ],
      "source": [
        "#ก็ใส่เข้าไปใน dataloader ได้เช่นกัน\n",
        "dl = DataLoader(ds, batch_size=6, shuffle=True)\n",
        "list(dl)"
      ]
    },
    {
      "cell_type": "markdown",
      "metadata": {
        "id": "tvWlUYU8pokE"
      },
      "source": [
        "## Putting It All Together"
      ]
    },
    {
      "cell_type": "markdown",
      "metadata": {
        "id": "fjUk_EOS0deu"
      },
      "source": [
        "#### Initialize weights"
      ]
    },
    {
      "cell_type": "code",
      "execution_count": 60,
      "metadata": {
        "id": "lK9dlPP4pokE"
      },
      "outputs": [],
      "source": [
        "weights = init_params((28*28,1))\n",
        "bias = init_params(1)"
      ]
    },
    {
      "cell_type": "markdown",
      "metadata": {
        "id": "L4ejZTDi0fds"
      },
      "source": [
        "#### Initialize dataloader"
      ]
    },
    {
      "cell_type": "code",
      "execution_count": 61,
      "metadata": {
        "colab": {
          "base_uri": "https://localhost:8080/"
        },
        "id": "XesYQeEUpokE",
        "outputId": "a6b49d37-4c11-449c-c635-b9fa30da4011"
      },
      "outputs": [
        {
          "output_type": "execute_result",
          "data": {
            "text/plain": [
              "(torch.Size([256, 784]), torch.Size([256, 1]))"
            ]
          },
          "metadata": {},
          "execution_count": 61
        }
      ],
      "source": [
        "#สร้าง dataloader สำหรับ train\n",
        "dl = DataLoader(dset, batch_size=256, shuffle=True)\n",
        "xb,yb = first(dl)\n",
        "xb.shape,yb.shape"
      ]
    },
    {
      "cell_type": "code",
      "execution_count": 62,
      "metadata": {
        "id": "hlw0qizVpokE"
      },
      "outputs": [],
      "source": [
        "#เราจะไม่ shuffle validation set\n",
        "valid_dl = DataLoader(valid_dset, batch_size=256, shuffle=False)"
      ]
    },
    {
      "cell_type": "code",
      "execution_count": 63,
      "metadata": {
        "colab": {
          "base_uri": "https://localhost:8080/"
        },
        "id": "opSgyb70pokF",
        "outputId": "1f4e446a-c912-45a9-d742-3f21993f8e3f"
      },
      "outputs": [
        {
          "output_type": "execute_result",
          "data": {
            "text/plain": [
              "torch.Size([4, 784])"
            ]
          },
          "metadata": {},
          "execution_count": 63
        }
      ],
      "source": [
        "#(batch size, 28*28)\n",
        "batch = train_x[:4]\n",
        "batch.shape"
      ]
    },
    {
      "cell_type": "markdown",
      "metadata": {
        "id": "d_OZXa2l0iwq"
      },
      "source": [
        "#### Forward pass"
      ]
    },
    {
      "cell_type": "code",
      "execution_count": 64,
      "metadata": {
        "colab": {
          "base_uri": "https://localhost:8080/"
        },
        "id": "IQ5eVzE5pokF",
        "outputId": "a904b38b-076f-4f36-c419-99a37cc7db8e"
      },
      "outputs": [
        {
          "output_type": "execute_result",
          "data": {
            "text/plain": [
              "torch.Size([256, 1])"
            ]
          },
          "metadata": {},
          "execution_count": 64
        }
      ],
      "source": [
        "def linear1(xb): return xb@weights + bias\n",
        "preds = linear1(xb)\n",
        "preds.shape"
      ]
    },
    {
      "cell_type": "markdown",
      "metadata": {
        "id": "P0dawUHM0kpf"
      },
      "source": [
        "#### Calculate loss"
      ]
    },
    {
      "cell_type": "code",
      "execution_count": 65,
      "metadata": {
        "colab": {
          "base_uri": "https://localhost:8080/"
        },
        "id": "_zK9HJE7pokF",
        "outputId": "5ba408a7-cbb8-4751-bdec-6e72c729ebea"
      },
      "outputs": [
        {
          "output_type": "execute_result",
          "data": {
            "text/plain": [
              "tensor(0.7690, grad_fn=<MeanBackward0>)"
            ]
          },
          "metadata": {},
          "execution_count": 65
        }
      ],
      "source": [
        "def mnist_loss(predictions, targets):\n",
        "    predictions = predictions.sigmoid()\n",
        "    return torch.where(targets==1, 1-predictions, predictions).mean()\n",
        "loss = mnist_loss(preds, xb)\n",
        "loss"
      ]
    },
    {
      "cell_type": "markdown",
      "metadata": {
        "id": "tMIHxJcw0mW5"
      },
      "source": [
        "#### Backward pass - get gradients and update weights"
      ]
    },
    {
      "cell_type": "code",
      "execution_count": 66,
      "metadata": {
        "colab": {
          "base_uri": "https://localhost:8080/"
        },
        "id": "lMdSQrorpokF",
        "outputId": "446946e6-9030-4cb7-f367-97ea9b5d3bbd"
      },
      "outputs": [
        {
          "output_type": "execute_result",
          "data": {
            "text/plain": [
              "(torch.Size([784, 1]), tensor(0.0049), tensor([0.0425]))"
            ]
          },
          "metadata": {},
          "execution_count": 66
        }
      ],
      "source": [
        "loss.backward()\n",
        "weights.grad.shape,weights.grad.mean(), bias.grad"
      ]
    },
    {
      "cell_type": "code",
      "execution_count": 67,
      "metadata": {
        "id": "K4x5HLp4pokF"
      },
      "outputs": [],
      "source": [
        "#คำนวณ gradient ด้วย .backward()\n",
        "def calc_grad(xb, yb, model):\n",
        "    preds = model(xb)\n",
        "    loss = mnist_loss(preds, yb)\n",
        "    loss.backward()"
      ]
    },
    {
      "cell_type": "code",
      "execution_count": 68,
      "metadata": {
        "colab": {
          "base_uri": "https://localhost:8080/"
        },
        "id": "CZzqYNtgpokF",
        "outputId": "ee3e2780-f02d-4fd4-d31d-bf7686e248b2"
      },
      "outputs": [
        {
          "output_type": "execute_result",
          "data": {
            "text/plain": [
              "(tensor(-0.0007), tensor([0.0070]))"
            ]
          },
          "metadata": {},
          "execution_count": 68
        }
      ],
      "source": [
        "calc_grad(batch, train_y[:4], linear1)\n",
        "weights.grad.mean(),bias.grad"
      ]
    },
    {
      "cell_type": "code",
      "execution_count": 69,
      "metadata": {
        "colab": {
          "base_uri": "https://localhost:8080/"
        },
        "id": "R5yY7Az-pokF",
        "outputId": "bf18affd-8154-48c9-e60d-87df75645452"
      },
      "outputs": [
        {
          "output_type": "execute_result",
          "data": {
            "text/plain": [
              "(tensor(-0.0064), tensor([-0.0285]))"
            ]
          },
          "metadata": {},
          "execution_count": 69
        }
      ],
      "source": [
        "calc_grad(batch, train_y[:4], linear1)\n",
        "weights.grad.mean(),bias.grad"
      ]
    },
    {
      "cell_type": "code",
      "execution_count": 70,
      "metadata": {
        "id": "R-Bzu26wpokG"
      },
      "outputs": [],
      "source": [
        "#เราจำเป็นต้อง reset gradients เพื่อไม่ให้มันบวกเพิ่มขึ้นเรือ่ยๆ\n",
        "weights.grad.zero_();\n",
        "bias.grad.zero_();"
      ]
    },
    {
      "cell_type": "code",
      "execution_count": 71,
      "metadata": {
        "id": "gKkqYbaqpokG"
      },
      "outputs": [],
      "source": [
        "#เทรน 1 epoch\n",
        "def train_epoch(model, lr, params):\n",
        "    #โยนทุก batch ให้โมเดลที่ละ batch จนหมด\n",
        "    for xb,yb in dl:\n",
        "        #คำนวน loss และ gradients\n",
        "        calc_grad(xb, yb, model)\n",
        "        #เปลี่ยน weights ด้วย gradient * learning rate (lr)\n",
        "        for p in params:\n",
        "            p.data -= p.grad*lr\n",
        "            p.grad.zero_()"
      ]
    },
    {
      "cell_type": "code",
      "execution_count": 72,
      "metadata": {
        "colab": {
          "base_uri": "https://localhost:8080/"
        },
        "id": "2XWh1J1ppokG",
        "outputId": "f27dfd40-a04d-4f22-edb6-3b96ccff9adc"
      },
      "outputs": [
        {
          "output_type": "execute_result",
          "data": {
            "text/plain": [
              "tensor(0.5469)"
            ]
          },
          "metadata": {},
          "execution_count": 72
        }
      ],
      "source": [
        "#คิด accuracy\n",
        "((preds>0.0).float() == yb).float().mean()"
      ]
    },
    {
      "cell_type": "markdown",
      "metadata": {
        "id": "4ZfrHoey0w2z"
      },
      "source": [
        "###  Calculate metric (accuracy in this case)"
      ]
    },
    {
      "cell_type": "code",
      "execution_count": 73,
      "metadata": {
        "id": "5QPI55L4pokG"
      },
      "outputs": [],
      "source": [
        "def batch_accuracy(xb, yb):\n",
        "    preds = xb.sigmoid()\n",
        "    correct = (preds>0.5) == yb\n",
        "    return correct.float().mean()"
      ]
    },
    {
      "cell_type": "code",
      "execution_count": 74,
      "metadata": {
        "colab": {
          "base_uri": "https://localhost:8080/"
        },
        "id": "8UVCx6RApokG",
        "outputId": "88e0c420-0698-4f70-8ba6-9ef34161863d"
      },
      "outputs": [
        {
          "output_type": "execute_result",
          "data": {
            "text/plain": [
              "tensor(0.5000)"
            ]
          },
          "metadata": {},
          "execution_count": 74
        }
      ],
      "source": [
        "batch_accuracy(linear1(batch), train_y[:4])"
      ]
    },
    {
      "cell_type": "code",
      "execution_count": 75,
      "metadata": {
        "id": "GbJQiOgIpokG"
      },
      "outputs": [],
      "source": [
        "#ทำการ validate ด้วย validation set\n",
        "def validate_epoch(model):\n",
        "    accs = [batch_accuracy(model(xb), yb) for xb,yb in valid_dl]\n",
        "    return round(torch.stack(accs).mean().item(), 4)"
      ]
    },
    {
      "cell_type": "code",
      "execution_count": 76,
      "metadata": {
        "colab": {
          "base_uri": "https://localhost:8080/"
        },
        "id": "txrLkdJQpokH",
        "outputId": "7e551100-c991-441e-89b7-b9a9770a240c"
      },
      "outputs": [
        {
          "output_type": "execute_result",
          "data": {
            "text/plain": [
              "0.5486"
            ]
          },
          "metadata": {},
          "execution_count": 76
        }
      ],
      "source": [
        "validate_epoch(linear1)"
      ]
    },
    {
      "cell_type": "code",
      "execution_count": 77,
      "metadata": {
        "colab": {
          "base_uri": "https://localhost:8080/"
        },
        "id": "HRIapIkfpokH",
        "outputId": "8a27c063-20d5-4334-9556-7f0400d13259"
      },
      "outputs": [
        {
          "output_type": "execute_result",
          "data": {
            "text/plain": [
              "0.9251"
            ]
          },
          "metadata": {},
          "execution_count": 77
        }
      ],
      "source": [
        "#เทรนไป 1 epoch; accuracy เพิ่มเกือบเท่าตัว!\n",
        "lr = 1.\n",
        "\n",
        "params = weights, bias\n",
        "train_epoch(linear1, lr, params)\n",
        "validate_epoch(linear1)"
      ]
    },
    {
      "cell_type": "code",
      "execution_count": 78,
      "metadata": {
        "colab": {
          "base_uri": "https://localhost:8080/"
        },
        "id": "hvBUTwULpokH",
        "outputId": "925cff82-ef11-4749-c912-11b3c53a56c6"
      },
      "outputs": [
        {
          "output_type": "stream",
          "name": "stdout",
          "text": [
            "0.9552 0.9606 0.963 0.9655 0.968 0.9695 0.9714 0.9729 0.9739 0.9739 0.9749 0.9773 0.9744 0.9759 0.9778 0.9778 0.9783 0.9783 0.9783 0.9788 "
          ]
        }
      ],
      "source": [
        "#เทรนไป 20 epoch; ทายถูกเกือบหมด\n",
        "for i in range(20):\n",
        "    train_epoch(linear1, lr, params)\n",
        "    print(validate_epoch(linear1), end=' ')"
      ]
    },
    {
      "cell_type": "markdown",
      "metadata": {
        "id": "uVt65caepokH"
      },
      "source": [
        "### Optimizer as a class"
      ]
    },
    {
      "cell_type": "markdown",
      "metadata": {
        "id": "gyvY33oqMdZk"
      },
      "source": [
        "หลายครั้งเรารวบรวมหน้าที่การ update weights มาเป็น class ชื่อ optimizer"
      ]
    },
    {
      "cell_type": "code",
      "execution_count": 79,
      "metadata": {
        "colab": {
          "base_uri": "https://localhost:8080/"
        },
        "id": "ETZ0sdlXpokH",
        "outputId": "8d73c34a-b276-45d0-e827-fff5c4deba86"
      },
      "outputs": [
        {
          "output_type": "execute_result",
          "data": {
            "text/plain": [
              "Linear(in_features=784, out_features=1, bias=True)"
            ]
          },
          "metadata": {},
          "execution_count": 79
        }
      ],
      "source": [
        "#nn.Linear ก็คือฟังชั่นที่ x*W.T + b เราเขียนเมื่อกี้เลย\n",
        "linear_model = nn.Linear(28*28,1, bias=True)\n",
        "linear_model"
      ]
    },
    {
      "cell_type": "code",
      "execution_count": 80,
      "metadata": {
        "colab": {
          "base_uri": "https://localhost:8080/"
        },
        "id": "Op_9VxfipokH",
        "outputId": "06e2849f-9245-4a19-8e27-c6b2c3d105d5"
      },
      "outputs": [
        {
          "output_type": "execute_result",
          "data": {
            "text/plain": [
              "(torch.Size([1, 784]), torch.Size([1]))"
            ]
          },
          "metadata": {},
          "execution_count": 80
        }
      ],
      "source": [
        "w,b = linear_model.parameters()\n",
        "w.shape,b.shape"
      ]
    },
    {
      "cell_type": "code",
      "execution_count": 81,
      "metadata": {
        "id": "HDPzEqO-pokI"
      },
      "outputs": [],
      "source": [
        "#optimizer　แบบง่ายที่สุด\n",
        "class BasicOptim:\n",
        "    def __init__(self,params,lr): \n",
        "        self.params,self.lr = list(params),lr\n",
        "\n",
        "    #step ทำการ update weights\n",
        "    def step(self, *args, **kwargs):\n",
        "        for p in self.params: p.data -= p.grad.data * self.lr\n",
        "\n",
        "    #zero grad เพื่อทำการรีเซต gradients\n",
        "    def zero_grad(self, *args, **kwargs):\n",
        "        for p in self.params: p.grad = None"
      ]
    },
    {
      "cell_type": "code",
      "execution_count": 82,
      "metadata": {
        "id": "UIAhC389pokI"
      },
      "outputs": [],
      "source": [
        "opt = BasicOptim(linear_model.parameters(), lr)"
      ]
    },
    {
      "cell_type": "code",
      "execution_count": 83,
      "metadata": {
        "id": "zNokDJCupokI"
      },
      "outputs": [],
      "source": [
        "def train_epoch(model):\n",
        "    for xb,yb in dl:\n",
        "        calc_grad(xb, yb, model)\n",
        "        #เปลี่ยนโค้ดเป็น optimizer แทน\n",
        "        opt.step()\n",
        "        opt.zero_grad()"
      ]
    },
    {
      "cell_type": "code",
      "execution_count": 84,
      "metadata": {
        "colab": {
          "base_uri": "https://localhost:8080/"
        },
        "id": "pUr7KQecpokI",
        "outputId": "d162f73b-27af-4aa5-f276-61a939b772e4"
      },
      "outputs": [
        {
          "output_type": "execute_result",
          "data": {
            "text/plain": [
              "0.3565"
            ]
          },
          "metadata": {},
          "execution_count": 84
        }
      ],
      "source": [
        "validate_epoch(linear_model)"
      ]
    },
    {
      "cell_type": "code",
      "execution_count": 85,
      "metadata": {
        "id": "wQptVRJfpokI"
      },
      "outputs": [],
      "source": [
        "def train_model(model, epochs):\n",
        "    for i in range(epochs):\n",
        "        train_epoch(model)\n",
        "        print(validate_epoch(model), end=' ')"
      ]
    },
    {
      "cell_type": "code",
      "execution_count": 86,
      "metadata": {
        "colab": {
          "base_uri": "https://localhost:8080/"
        },
        "id": "kRbgjPURpokI",
        "outputId": "c1eb1dbd-dfd4-446c-cd0c-08dcb24a9734"
      },
      "outputs": [
        {
          "output_type": "stream",
          "name": "stdout",
          "text": [
            "0.9705 0.975 0.9749 0.9779 0.9779 0.9784 0.9794 0.9794 0.9798 0.9803 0.9803 0.9803 0.9803 0.9813 0.9818 0.9823 0.9823 0.9818 0.9823 0.9828 "
          ]
        }
      ],
      "source": [
        "#ได้ผลดีเหมือนเดิม\n",
        "train_model(linear_model, 20)"
      ]
    },
    {
      "cell_type": "markdown",
      "metadata": {
        "id": "rBjvWLYwNII8"
      },
      "source": [
        "## ทำงานง่ายขึ้นด้วย PyTorch"
      ]
    },
    {
      "cell_type": "markdown",
      "metadata": {
        "id": "60qaqoMbNMA4"
      },
      "source": [
        "Pytorch ได้ทำการเปลี่ยนฟังชั่นและ class ต่างๆที่เราใช้งานเป็นฟังชั่นพื้นฐานของ package ให้เราเรียกใช้ได้"
      ]
    },
    {
      "cell_type": "code",
      "execution_count": 87,
      "metadata": {
        "colab": {
          "base_uri": "https://localhost:8080/"
        },
        "id": "DY1kWv7lpokI",
        "outputId": "1b20f66d-3e0a-412d-ec44-08b93f36f5f3"
      },
      "outputs": [
        {
          "output_type": "stream",
          "name": "stdout",
          "text": [
            "0.9725 0.9754 0.9759 0.9759 0.9769 0.9764 0.9789 0.9798 0.9789 0.9789 0.9798 0.9798 0.9794 0.9803 0.9803 0.9808 0.9803 0.9808 0.9823 0.9813 "
          ]
        }
      ],
      "source": [
        "linear_model = nn.Linear(28*28,1,bias=False) #เหมือนกับ init_weights และการคูณ matrix ที่เราเพิ่งทำไป\n",
        "opt = SGD(linear_model.parameters(), lr) #เหมือนกับ BasicOptim ที่เราเพิ่งทำไป\n",
        "\n",
        "#เทรนโมเดลได้ผลดีเหมือนเดิม\n",
        "train_model(linear_model, 20)"
      ]
    },
    {
      "cell_type": "markdown",
      "metadata": {
        "id": "6ctjZxC3Nxi8"
      },
      "source": [
        "## ใช้ fastai ให้สะดวกยิ่งขึ้น"
      ]
    },
    {
      "cell_type": "code",
      "execution_count": 88,
      "metadata": {
        "id": "jtzVcFkxpokJ"
      },
      "outputs": [],
      "source": [
        "dls = DataLoaders(dl, valid_dl)\n",
        "#รวมทุกอย่างเข้าด้วยกันด้วย class Learner\n",
        "learn = Learner(dls, nn.Linear(28*28,1), opt_func=SGD,\n",
        "                loss_func=mnist_loss, metrics=batch_accuracy)"
      ]
    },
    {
      "cell_type": "code",
      "execution_count": 89,
      "metadata": {
        "colab": {
          "base_uri": "https://localhost:8080/",
          "height": 676
        },
        "id": "0WcORvumpokJ",
        "outputId": "6bba87a7-44df-4a59-84e1-34008766bde4"
      },
      "outputs": [
        {
          "output_type": "display_data",
          "data": {
            "text/plain": [
              "<IPython.core.display.HTML object>"
            ],
            "text/html": [
              "\n",
              "<style>\n",
              "    /* Turns off some styling */\n",
              "    progress {\n",
              "        /* gets rid of default border in Firefox and Opera. */\n",
              "        border: none;\n",
              "        /* Needs to be in here for Safari polyfill so background images work as expected. */\n",
              "        background-size: auto;\n",
              "    }\n",
              "    .progress-bar-interrupted, .progress-bar-interrupted::-webkit-progress-bar {\n",
              "        background: #F44336;\n",
              "    }\n",
              "</style>\n"
            ]
          },
          "metadata": {}
        },
        {
          "output_type": "display_data",
          "data": {
            "text/plain": [
              "<IPython.core.display.HTML object>"
            ],
            "text/html": [
              "<table border=\"1\" class=\"dataframe\">\n",
              "  <thead>\n",
              "    <tr style=\"text-align: left;\">\n",
              "      <th>epoch</th>\n",
              "      <th>train_loss</th>\n",
              "      <th>valid_loss</th>\n",
              "      <th>batch_accuracy</th>\n",
              "      <th>time</th>\n",
              "    </tr>\n",
              "  </thead>\n",
              "  <tbody>\n",
              "    <tr>\n",
              "      <td>0</td>\n",
              "      <td>0.059673</td>\n",
              "      <td>0.041307</td>\n",
              "      <td>0.972031</td>\n",
              "      <td>00:00</td>\n",
              "    </tr>\n",
              "    <tr>\n",
              "      <td>1</td>\n",
              "      <td>0.040368</td>\n",
              "      <td>0.034897</td>\n",
              "      <td>0.975466</td>\n",
              "      <td>00:00</td>\n",
              "    </tr>\n",
              "    <tr>\n",
              "      <td>2</td>\n",
              "      <td>0.032661</td>\n",
              "      <td>0.032365</td>\n",
              "      <td>0.974975</td>\n",
              "      <td>00:00</td>\n",
              "    </tr>\n",
              "    <tr>\n",
              "      <td>3</td>\n",
              "      <td>0.028252</td>\n",
              "      <td>0.029463</td>\n",
              "      <td>0.977429</td>\n",
              "      <td>00:00</td>\n",
              "    </tr>\n",
              "    <tr>\n",
              "      <td>4</td>\n",
              "      <td>0.025178</td>\n",
              "      <td>0.028448</td>\n",
              "      <td>0.977920</td>\n",
              "      <td>00:00</td>\n",
              "    </tr>\n",
              "    <tr>\n",
              "      <td>5</td>\n",
              "      <td>0.023642</td>\n",
              "      <td>0.027670</td>\n",
              "      <td>0.977920</td>\n",
              "      <td>00:00</td>\n",
              "    </tr>\n",
              "    <tr>\n",
              "      <td>6</td>\n",
              "      <td>0.022653</td>\n",
              "      <td>0.026340</td>\n",
              "      <td>0.978410</td>\n",
              "      <td>00:00</td>\n",
              "    </tr>\n",
              "    <tr>\n",
              "      <td>7</td>\n",
              "      <td>0.021488</td>\n",
              "      <td>0.025264</td>\n",
              "      <td>0.979882</td>\n",
              "      <td>00:00</td>\n",
              "    </tr>\n",
              "    <tr>\n",
              "      <td>8</td>\n",
              "      <td>0.020988</td>\n",
              "      <td>0.024670</td>\n",
              "      <td>0.979392</td>\n",
              "      <td>00:00</td>\n",
              "    </tr>\n",
              "    <tr>\n",
              "      <td>9</td>\n",
              "      <td>0.020430</td>\n",
              "      <td>0.024237</td>\n",
              "      <td>0.979392</td>\n",
              "      <td>00:00</td>\n",
              "    </tr>\n",
              "    <tr>\n",
              "      <td>10</td>\n",
              "      <td>0.019526</td>\n",
              "      <td>0.023921</td>\n",
              "      <td>0.980373</td>\n",
              "      <td>00:00</td>\n",
              "    </tr>\n",
              "    <tr>\n",
              "      <td>11</td>\n",
              "      <td>0.019002</td>\n",
              "      <td>0.023656</td>\n",
              "      <td>0.980373</td>\n",
              "      <td>00:00</td>\n",
              "    </tr>\n",
              "    <tr>\n",
              "      <td>12</td>\n",
              "      <td>0.018814</td>\n",
              "      <td>0.023699</td>\n",
              "      <td>0.981354</td>\n",
              "      <td>00:00</td>\n",
              "    </tr>\n",
              "    <tr>\n",
              "      <td>13</td>\n",
              "      <td>0.018070</td>\n",
              "      <td>0.022686</td>\n",
              "      <td>0.981354</td>\n",
              "      <td>00:00</td>\n",
              "    </tr>\n",
              "    <tr>\n",
              "      <td>14</td>\n",
              "      <td>0.017431</td>\n",
              "      <td>0.022708</td>\n",
              "      <td>0.981845</td>\n",
              "      <td>00:00</td>\n",
              "    </tr>\n",
              "    <tr>\n",
              "      <td>15</td>\n",
              "      <td>0.017356</td>\n",
              "      <td>0.022409</td>\n",
              "      <td>0.981845</td>\n",
              "      <td>00:00</td>\n",
              "    </tr>\n",
              "    <tr>\n",
              "      <td>16</td>\n",
              "      <td>0.017296</td>\n",
              "      <td>0.021927</td>\n",
              "      <td>0.981354</td>\n",
              "      <td>00:00</td>\n",
              "    </tr>\n",
              "    <tr>\n",
              "      <td>17</td>\n",
              "      <td>0.016958</td>\n",
              "      <td>0.021855</td>\n",
              "      <td>0.981845</td>\n",
              "      <td>00:00</td>\n",
              "    </tr>\n",
              "    <tr>\n",
              "      <td>18</td>\n",
              "      <td>0.017005</td>\n",
              "      <td>0.021677</td>\n",
              "      <td>0.981845</td>\n",
              "      <td>00:00</td>\n",
              "    </tr>\n",
              "    <tr>\n",
              "      <td>19</td>\n",
              "      <td>0.016577</td>\n",
              "      <td>0.021702</td>\n",
              "      <td>0.981845</td>\n",
              "      <td>00:00</td>\n",
              "    </tr>\n",
              "  </tbody>\n",
              "</table>"
            ]
          },
          "metadata": {}
        }
      ],
      "source": [
        "learn.fit(20, lr=lr)"
      ]
    },
    {
      "cell_type": "markdown",
      "metadata": {
        "id": "H_UoKZ24pokJ"
      },
      "source": [
        "## สร้าง Architecture ที่ Deep ขึ้น"
      ]
    },
    {
      "cell_type": "code",
      "execution_count": 90,
      "metadata": {
        "id": "4s1EGNszpokK"
      },
      "outputs": [],
      "source": [
        "#แทนที่จะทำ matrix multipilcation + bias ครั้งเดียว เราใส่ ReLU activation ไปเพิ่ม\n",
        "def simple_net(xb): \n",
        "    res = xb@w1 + b1\n",
        "    res = res.max(tensor(0.0)) #นี่คือ relu\n",
        "    res = res@w2 + b2 #แล้วทำ matrix multiplication + bias อีกรอบ\n",
        "    return res"
      ]
    },
    {
      "cell_type": "code",
      "execution_count": 91,
      "metadata": {
        "id": "bKDW0LWlpokK"
      },
      "outputs": [],
      "source": [
        "w1 = init_params((28*28,30))\n",
        "b1 = init_params(30)\n",
        "w2 = init_params((30,1))\n",
        "b2 = init_params(1)"
      ]
    },
    {
      "cell_type": "code",
      "execution_count": 92,
      "metadata": {
        "colab": {
          "base_uri": "https://localhost:8080/",
          "height": 265
        },
        "id": "Fza6OpHHpokK",
        "outputId": "8672baeb-2f07-4835-e7d5-aa7145e83dba"
      },
      "outputs": [
        {
          "output_type": "display_data",
          "data": {
            "text/plain": [
              "<Figure size 432x288 with 1 Axes>"
            ],
            "image/png": "[encoded data removed]"
          },
          "metadata": {
            "needs_background": "light"
          }
        }
      ],
      "source": [
        "plot_function(F.relu)"
      ]
    },
    {
      "cell_type": "code",
      "execution_count": 93,
      "metadata": {
        "id": "QyuXxFphpokK"
      },
      "outputs": [],
      "source": [
        "#แน่นอนว่าอ่านง่ายกว่าถ้าใช้ pytorch แทนที่จะเขียนฟังชั่นเอง\n",
        "simple_net = nn.Sequential(\n",
        "    nn.Linear(28*28,30),\n",
        "    nn.ReLU(),\n",
        "    nn.Linear(30,1)\n",
        ")"
      ]
    },
    {
      "cell_type": "code",
      "execution_count": 94,
      "metadata": {
        "id": "94urzFOSpokK"
      },
      "outputs": [],
      "source": [
        "learn = Learner(dls, simple_net, opt_func=SGD,\n",
        "                loss_func=mnist_loss, metrics=batch_accuracy)"
      ]
    },
    {
      "cell_type": "code",
      "execution_count": 95,
      "metadata": {
        "colab": {
          "base_uri": "https://localhost:8080/",
          "height": 1000
        },
        "id": "Z8WM5ImkpokK",
        "outputId": "74aa17e0-5b9e-4969-fc2b-4e3e03f433de"
      },
      "outputs": [
        {
          "output_type": "display_data",
          "data": {
            "text/plain": [
              "<IPython.core.display.HTML object>"
            ],
            "text/html": [
              "\n",
              "<style>\n",
              "    /* Turns off some styling */\n",
              "    progress {\n",
              "        /* gets rid of default border in Firefox and Opera. */\n",
              "        border: none;\n",
              "        /* Needs to be in here for Safari polyfill so background images work as expected. */\n",
              "        background-size: auto;\n",
              "    }\n",
              "    .progress-bar-interrupted, .progress-bar-interrupted::-webkit-progress-bar {\n",
              "        background: #F44336;\n",
              "    }\n",
              "</style>\n"
            ]
          },
          "metadata": {}
        },
        {
          "output_type": "display_data",
          "data": {
            "text/plain": [
              "<IPython.core.display.HTML object>"
            ],
            "text/html": [
              "<table border=\"1\" class=\"dataframe\">\n",
              "  <thead>\n",
              "    <tr style=\"text-align: left;\">\n",
              "      <th>epoch</th>\n",
              "      <th>train_loss</th>\n",
              "      <th>valid_loss</th>\n",
              "      <th>batch_accuracy</th>\n",
              "      <th>time</th>\n",
              "    </tr>\n",
              "  </thead>\n",
              "  <tbody>\n",
              "    <tr>\n",
              "      <td>0</td>\n",
              "      <td>0.253839</td>\n",
              "      <td>0.101416</td>\n",
              "      <td>0.962709</td>\n",
              "      <td>00:00</td>\n",
              "    </tr>\n",
              "    <tr>\n",
              "      <td>1</td>\n",
              "      <td>0.118263</td>\n",
              "      <td>0.055467</td>\n",
              "      <td>0.969578</td>\n",
              "      <td>00:00</td>\n",
              "    </tr>\n",
              "    <tr>\n",
              "      <td>2</td>\n",
              "      <td>0.071047</td>\n",
              "      <td>0.044955</td>\n",
              "      <td>0.970559</td>\n",
              "      <td>00:00</td>\n",
              "    </tr>\n",
              "    <tr>\n",
              "      <td>3</td>\n",
              "      <td>0.050435</td>\n",
              "      <td>0.039946</td>\n",
              "      <td>0.972031</td>\n",
              "      <td>00:00</td>\n",
              "    </tr>\n",
              "    <tr>\n",
              "      <td>4</td>\n",
              "      <td>0.039966</td>\n",
              "      <td>0.036746</td>\n",
              "      <td>0.972522</td>\n",
              "      <td>00:00</td>\n",
              "    </tr>\n",
              "    <tr>\n",
              "      <td>5</td>\n",
              "      <td>0.034656</td>\n",
              "      <td>0.034883</td>\n",
              "      <td>0.973994</td>\n",
              "      <td>00:00</td>\n",
              "    </tr>\n",
              "    <tr>\n",
              "      <td>6</td>\n",
              "      <td>0.030598</td>\n",
              "      <td>0.033072</td>\n",
              "      <td>0.974485</td>\n",
              "      <td>00:00</td>\n",
              "    </tr>\n",
              "    <tr>\n",
              "      <td>7</td>\n",
              "      <td>0.028436</td>\n",
              "      <td>0.031563</td>\n",
              "      <td>0.974485</td>\n",
              "      <td>00:00</td>\n",
              "    </tr>\n",
              "    <tr>\n",
              "      <td>8</td>\n",
              "      <td>0.026895</td>\n",
              "      <td>0.030731</td>\n",
              "      <td>0.975957</td>\n",
              "      <td>00:00</td>\n",
              "    </tr>\n",
              "    <tr>\n",
              "      <td>9</td>\n",
              "      <td>0.025961</td>\n",
              "      <td>0.029774</td>\n",
              "      <td>0.977429</td>\n",
              "      <td>00:00</td>\n",
              "    </tr>\n",
              "    <tr>\n",
              "      <td>10</td>\n",
              "      <td>0.025033</td>\n",
              "      <td>0.028958</td>\n",
              "      <td>0.977429</td>\n",
              "      <td>00:00</td>\n",
              "    </tr>\n",
              "    <tr>\n",
              "      <td>11</td>\n",
              "      <td>0.023533</td>\n",
              "      <td>0.028051</td>\n",
              "      <td>0.977429</td>\n",
              "      <td>00:00</td>\n",
              "    </tr>\n",
              "    <tr>\n",
              "      <td>12</td>\n",
              "      <td>0.022895</td>\n",
              "      <td>0.027639</td>\n",
              "      <td>0.978410</td>\n",
              "      <td>00:00</td>\n",
              "    </tr>\n",
              "    <tr>\n",
              "      <td>13</td>\n",
              "      <td>0.021776</td>\n",
              "      <td>0.026808</td>\n",
              "      <td>0.978410</td>\n",
              "      <td>00:00</td>\n",
              "    </tr>\n",
              "    <tr>\n",
              "      <td>14</td>\n",
              "      <td>0.021131</td>\n",
              "      <td>0.026761</td>\n",
              "      <td>0.977429</td>\n",
              "      <td>00:00</td>\n",
              "    </tr>\n",
              "    <tr>\n",
              "      <td>15</td>\n",
              "      <td>0.020641</td>\n",
              "      <td>0.026007</td>\n",
              "      <td>0.978901</td>\n",
              "      <td>00:00</td>\n",
              "    </tr>\n",
              "    <tr>\n",
              "      <td>16</td>\n",
              "      <td>0.020077</td>\n",
              "      <td>0.025396</td>\n",
              "      <td>0.978901</td>\n",
              "      <td>00:00</td>\n",
              "    </tr>\n",
              "    <tr>\n",
              "      <td>17</td>\n",
              "      <td>0.019857</td>\n",
              "      <td>0.024965</td>\n",
              "      <td>0.978901</td>\n",
              "      <td>00:00</td>\n",
              "    </tr>\n",
              "    <tr>\n",
              "      <td>18</td>\n",
              "      <td>0.019774</td>\n",
              "      <td>0.024951</td>\n",
              "      <td>0.978901</td>\n",
              "      <td>00:00</td>\n",
              "    </tr>\n",
              "    <tr>\n",
              "      <td>19</td>\n",
              "      <td>0.018943</td>\n",
              "      <td>0.024718</td>\n",
              "      <td>0.978901</td>\n",
              "      <td>00:00</td>\n",
              "    </tr>\n",
              "    <tr>\n",
              "      <td>20</td>\n",
              "      <td>0.018828</td>\n",
              "      <td>0.024210</td>\n",
              "      <td>0.978901</td>\n",
              "      <td>00:00</td>\n",
              "    </tr>\n",
              "    <tr>\n",
              "      <td>21</td>\n",
              "      <td>0.018704</td>\n",
              "      <td>0.023884</td>\n",
              "      <td>0.978901</td>\n",
              "      <td>00:00</td>\n",
              "    </tr>\n",
              "    <tr>\n",
              "      <td>22</td>\n",
              "      <td>0.018680</td>\n",
              "      <td>0.023585</td>\n",
              "      <td>0.979392</td>\n",
              "      <td>00:00</td>\n",
              "    </tr>\n",
              "    <tr>\n",
              "      <td>23</td>\n",
              "      <td>0.018192</td>\n",
              "      <td>0.023434</td>\n",
              "      <td>0.979882</td>\n",
              "      <td>00:00</td>\n",
              "    </tr>\n",
              "    <tr>\n",
              "      <td>24</td>\n",
              "      <td>0.017612</td>\n",
              "      <td>0.022855</td>\n",
              "      <td>0.979882</td>\n",
              "      <td>00:00</td>\n",
              "    </tr>\n",
              "    <tr>\n",
              "      <td>25</td>\n",
              "      <td>0.017698</td>\n",
              "      <td>0.022698</td>\n",
              "      <td>0.980373</td>\n",
              "      <td>00:00</td>\n",
              "    </tr>\n",
              "    <tr>\n",
              "      <td>26</td>\n",
              "      <td>0.017734</td>\n",
              "      <td>0.022616</td>\n",
              "      <td>0.980373</td>\n",
              "      <td>00:00</td>\n",
              "    </tr>\n",
              "    <tr>\n",
              "      <td>27</td>\n",
              "      <td>0.017673</td>\n",
              "      <td>0.022282</td>\n",
              "      <td>0.980373</td>\n",
              "      <td>00:00</td>\n",
              "    </tr>\n",
              "    <tr>\n",
              "      <td>28</td>\n",
              "      <td>0.016994</td>\n",
              "      <td>0.022069</td>\n",
              "      <td>0.980864</td>\n",
              "      <td>00:00</td>\n",
              "    </tr>\n",
              "    <tr>\n",
              "      <td>29</td>\n",
              "      <td>0.017185</td>\n",
              "      <td>0.021872</td>\n",
              "      <td>0.980864</td>\n",
              "      <td>00:00</td>\n",
              "    </tr>\n",
              "    <tr>\n",
              "      <td>30</td>\n",
              "      <td>0.016830</td>\n",
              "      <td>0.021661</td>\n",
              "      <td>0.980864</td>\n",
              "      <td>00:00</td>\n",
              "    </tr>\n",
              "    <tr>\n",
              "      <td>31</td>\n",
              "      <td>0.016727</td>\n",
              "      <td>0.021472</td>\n",
              "      <td>0.980373</td>\n",
              "      <td>00:00</td>\n",
              "    </tr>\n",
              "    <tr>\n",
              "      <td>32</td>\n",
              "      <td>0.016233</td>\n",
              "      <td>0.021404</td>\n",
              "      <td>0.981354</td>\n",
              "      <td>00:00</td>\n",
              "    </tr>\n",
              "    <tr>\n",
              "      <td>33</td>\n",
              "      <td>0.015987</td>\n",
              "      <td>0.021101</td>\n",
              "      <td>0.980373</td>\n",
              "      <td>00:00</td>\n",
              "    </tr>\n",
              "    <tr>\n",
              "      <td>34</td>\n",
              "      <td>0.015671</td>\n",
              "      <td>0.020923</td>\n",
              "      <td>0.981354</td>\n",
              "      <td>00:00</td>\n",
              "    </tr>\n",
              "    <tr>\n",
              "      <td>35</td>\n",
              "      <td>0.015617</td>\n",
              "      <td>0.020793</td>\n",
              "      <td>0.981354</td>\n",
              "      <td>00:00</td>\n",
              "    </tr>\n",
              "    <tr>\n",
              "      <td>36</td>\n",
              "      <td>0.015403</td>\n",
              "      <td>0.020697</td>\n",
              "      <td>0.981845</td>\n",
              "      <td>00:00</td>\n",
              "    </tr>\n",
              "    <tr>\n",
              "      <td>37</td>\n",
              "      <td>0.015225</td>\n",
              "      <td>0.020656</td>\n",
              "      <td>0.981354</td>\n",
              "      <td>00:00</td>\n",
              "    </tr>\n",
              "    <tr>\n",
              "      <td>38</td>\n",
              "      <td>0.015505</td>\n",
              "      <td>0.020305</td>\n",
              "      <td>0.982336</td>\n",
              "      <td>00:00</td>\n",
              "    </tr>\n",
              "    <tr>\n",
              "      <td>39</td>\n",
              "      <td>0.015315</td>\n",
              "      <td>0.020342</td>\n",
              "      <td>0.981354</td>\n",
              "      <td>00:00</td>\n",
              "    </tr>\n",
              "  </tbody>\n",
              "</table>"
            ]
          },
          "metadata": {}
        }
      ],
      "source": [
        "learn.fit(40, 0.1)"
      ]
    },
    {
      "cell_type": "code",
      "execution_count": 96,
      "metadata": {
        "colab": {
          "base_uri": "https://localhost:8080/",
          "height": 265
        },
        "id": "Q0d__m-FpokL",
        "outputId": "e986e6c1-3b6d-4077-d8b2-bf06212f9771"
      },
      "outputs": [
        {
          "output_type": "display_data",
          "data": {
            "text/plain": [
              "<Figure size 432x288 with 1 Axes>"
            ],
            "image/png": "[encoded data removed]"
          },
          "metadata": {
            "needs_background": "light"
          }
        }
      ],
      "source": [
        "#ดู accuracy เพิ่มขึ้นเรื่อยๆ\n",
        "plt.plot(L(learn.recorder.values).itemgot(2));"
      ]
    },
    {
      "cell_type": "code",
      "execution_count": 97,
      "metadata": {
        "colab": {
          "base_uri": "https://localhost:8080/"
        },
        "id": "-pnmg5QqpokL",
        "outputId": "60c5aa28-2fed-4846-f77b-4209ec19a7a3"
      },
      "outputs": [
        {
          "output_type": "execute_result",
          "data": {
            "text/plain": [
              "0.981354296207428"
            ]
          },
          "metadata": {},
          "execution_count": 97
        }
      ],
      "source": [
        "learn.recorder.values[-1][2]"
      ]
    },
    {
      "cell_type": "markdown",
      "metadata": {
        "id": "fQQNpNZ-pokL"
      },
      "source": [
        "## ไปให้ Deep กว่านั้นอีก"
      ]
    },
    {
      "cell_type": "markdown",
      "metadata": {
        "id": "jq3YclVaOjCk"
      },
      "source": [
        "แทนที่เราจะใช้ Architecture ง่ายๆที่เราคิดขึ้นเอง เรามาลองใช้ Architecture ที่ซับซ้อนขึ้นอย่าง `resnet18` กัน"
      ]
    },
    {
      "cell_type": "code",
      "execution_count": 98,
      "metadata": {
        "colab": {
          "base_uri": "https://localhost:8080/",
          "height": 118
        },
        "id": "LB3qg01jpokL",
        "outputId": "6f585388-9479-4f24-8ba7-95a53aa11133"
      },
      "outputs": [
        {
          "output_type": "stream",
          "name": "stderr",
          "text": [
            "/usr/local/lib/python3.7/dist-packages/fastai/vision/learner.py:265: UserWarning: `cnn_learner` has been renamed to `vision_learner` -- please update your code\n",
            "  warn(\"`cnn_learner` has been renamed to `vision_learner` -- please update your code\")\n"
          ]
        },
        {
          "output_type": "display_data",
          "data": {
            "text/plain": [
              "<IPython.core.display.HTML object>"
            ],
            "text/html": [
              "\n",
              "<style>\n",
              "    /* Turns off some styling */\n",
              "    progress {\n",
              "        /* gets rid of default border in Firefox and Opera. */\n",
              "        border: none;\n",
              "        /* Needs to be in here for Safari polyfill so background images work as expected. */\n",
              "        background-size: auto;\n",
              "    }\n",
              "    .progress-bar-interrupted, .progress-bar-interrupted::-webkit-progress-bar {\n",
              "        background: #F44336;\n",
              "    }\n",
              "</style>\n"
            ]
          },
          "metadata": {}
        },
        {
          "output_type": "display_data",
          "data": {
            "text/plain": [
              "<IPython.core.display.HTML object>"
            ],
            "text/html": [
              "<table border=\"1\" class=\"dataframe\">\n",
              "  <thead>\n",
              "    <tr style=\"text-align: left;\">\n",
              "      <th>epoch</th>\n",
              "      <th>train_loss</th>\n",
              "      <th>valid_loss</th>\n",
              "      <th>accuracy</th>\n",
              "      <th>time</th>\n",
              "    </tr>\n",
              "  </thead>\n",
              "  <tbody>\n",
              "    <tr>\n",
              "      <td>0</td>\n",
              "      <td>0.124882</td>\n",
              "      <td>0.023984</td>\n",
              "      <td>0.995584</td>\n",
              "      <td>00:17</td>\n",
              "    </tr>\n",
              "  </tbody>\n",
              "</table>"
            ]
          },
          "metadata": {}
        }
      ],
      "source": [
        "dls = ImageDataLoaders.from_folder(path)\n",
        "learn = cnn_learner(dls, resnet18, pretrained=False,\n",
        "                    loss_func=F.cross_entropy, metrics=accuracy)\n",
        "\n",
        "#เทรนแค่ epoch เดียวก็ดีกว่าเทรน 20-40 epoch เมื่อกี้แล้ว\n",
        "learn.fit_one_cycle(1, 0.1)"
      ]
    },
    {
      "cell_type": "markdown",
      "metadata": {
        "id": "uxfYQcZfJEsN"
      },
      "source": [
        "# Checkpoint ท้ายบท"
      ]
    },
    {
      "cell_type": "markdown",
      "metadata": {
        "id": "wB1TBtie2VPG"
      },
      "source": [
        "### ☑️ ดูวิดีโอ [3Blue1Brown](https://www.youtube.com/watch?v=IHZwWFHWa-w) เกี่ยวกับ SGD (มีซับไทย)\n",
        "\n",
        "วิดีโอนี้จะอธิบายการทำงานของ SGD ใน Neural Networks ที่เราเรียนกันในบทที่ 1 และ 3 ด้วยกราฟฟิคที่สวยงาม ช่วยเพิ่มความเข้าใจได้มากยิ่งขึ้น\n",
        "\n",
        "Youtube Link: [https://www.youtube.com/watch?v=IHZwWFHWa-w](https://www.youtube.com/watch?v=IHZwWFHWa-w)"
      ]
    },
    {
      "cell_type": "markdown",
      "metadata": {
        "id": "4a0-VMv6Pau1"
      },
      "source": [
        "## คำถามชวนคิดเกี่ยวกับบทเรียน"
      ]
    },
    {
      "cell_type": "markdown",
      "metadata": {
        "id": "t_NIkQBMPgEh"
      },
      "source": [
        "1. เราได้เรียนรู้การทำงานเกือบทุกส่วนของ ML Models ในบทเรียนนี้ คุณคิดว่าสำหรับโครงงานของคุณ การปรับแต่งส่วนไหนของโมเดลจะทำให้ได้ผลดีเพิ่มขึ้นมากที่สุด\n",
        "\n",
        "2. คุณคิดว่าการ initialize weights มีผลต่อคุณภาพของโมเดลที่ถูกเทรนหรือไม่ หากไม่ใช้ weights แบบสุ่ม เราควรใช้ weights อะไรในการเริ่มเทรนโมเดล\n",
        "\n",
        "3. Loss กับ Metric ต่างกันอย่างไร ทำไมคุณคิดว่าเราถึงเทรนโมเดลเพื่อให้ได้ Loss ที่ดีที่สุด แต่กลับวัดผลมันด้วย Metric\n",
        "\n",
        "4. คุณคิดว่า `Activation Function` มีความสำคัญอย่างไรกับประสิทธิภาพของโมเดล ML เราควรเลือกใช้อันไหนในกรณีไหน\n",
        "\n",
        "5. คุณคิดว่าทำไม Architecture อย่าง resnet18 ถึงทำได้ดีกว่า Architecture ที่เราสร้างขึ้นมาเองง่ายๆ ทั้งที่เทรนแค่ 1 epoch เทียบกับที่เราเทรนถึง 20-40 epochs\n",
        "\n",
        "6. คุณคิดว่ามีการ update weights ที่ดีกว่าเอา gradients มาลบไปทีละ iteration อย่างที่เราทำหรือไม่ คิดว่าวิธีไหนบ้าง หรือเป็นไปได้ไหมที่เราจะเทรนโมเดลโดยไม่ใช้ backpropagation กล่าวคือ update weights โดยไม่ใช้ gradients\n",
        "\n",
        "\n",
        "\n",
        "\n"
      ]
    },
    {
      "cell_type": "markdown",
      "metadata": {
        "id": "HeM7xTrJPc8w"
      },
      "source": [
        "## สิ่งที่ควรเตรียมพร้อมสำหรับทำโครงงาน"
      ]
    },
    {
      "cell_type": "markdown",
      "metadata": {
        "id": "oPvpAnmLJGgU"
      },
      "source": [
        "### ☑️ ทบทวนระบบการให้คะแนนโครงงานให้เรียบร้อย\n",
        "\n",
        "AI Builders จะออกใบประกาศนียบัตรจบการศึกษาให้กับผู้เข้าร่วมโครงการที่ส่งโครงงานได้คะแนนอย่างน้อย 70 จาก 100 คะแนนตามเกณฑ์ต่อไปนี้เท่านั้น\n",
        "\n",
        "1. problem statement; เหตุผลในการแก้ปัญหาเชิงธุรกิจ/ชีวิตประจำวันด้วย machine learning - 15 คะแนน\n",
        "2. metrics and baselines; การให้เหตุผลเชื่อมโยงการแก้ปัญหากับตัวชี้วัดที่เลือก / การวัดผลเทียบกับวิธีแก้ปัญหาในปัจจุบัน - 15 คะแนน\n",
        "3. data collection and cleaning; การเก็บและทำความสะอาดข้อมูล - 15 คะแนน\n",
        "\n",
        "**วันนี้เราจะคิดถึง 2 ข้อนี้เป็นพิเศษ**\n",
        "\n",
        "**4. exploratory data analysis; การทำความเข้าใจข้อมูล - 20 คะแนน**\n",
        "\n",
        "**5. modeling, validation and error analysis; การทำโมเดล, ทดสอบโมเดล และวิเคราะห์ข้อผิดพลาดของโมเดล - 20 คะแนน**\n",
        "\n",
        "6. deployment; การนำโมเดลไปใช้แก้ปัญหาจริง - 15 คะแนน"
      ]
    },
    {
      "cell_type": "markdown",
      "metadata": {
        "id": "9u8rUq1uPSuE"
      },
      "source": [
        "### ☑️ เข้าใจชุดข้อมูล\n",
        "\n",
        "คุณรู้เกี่ยวกับ labels ที่คุณกำลังทำนายแค่ไหน \n",
        "* ถ้าเป็น classification มันมี labels กี่ประเภท (class) แต่ละตัวอย่างเป็นได้มากกว่าหนึ่งประเภท (multi-label) หรือได้แค่ประเภทเดียว (multi-class) \n",
        "* ถ้าเป็น regression แล้ว labels ของคุณกระจายตัวยังไง\n",
        "* คุณมีตัวอย่างพอในแต่ละ class ให้โมเดลเรียนรู้หรือเปล่า\n",
        "\n",
        "features ของคุณหน้าตาเป็นอย่างไร\n",
        "\n",
        "* ถ้าเป็นรูปภาพ เป็นรูปจากมุมมองเดียวหรือหลายมุมมอง ขนาดรูป-ความละเอียดเท่ากันไหม\n",
        "* ถ้าเป็นข้อความ การกระจายตัวของคำเป็นยังไง ทั้ง word count และ tfidf; คำที่เกิดบ่อยๆในแต่ละ labels คืออะไร\n",
        "* ถ้าเป็นข้อมูลตาราง การกระจายตัวของ feature ที่เป็นตัวเลข (numerical) และประเภท (categorical) เป็นอย่างไรบ้าง ลองหา correlation ระหว่าง features ด้วยกัน และ feature กับ labels ดูว่ามีอะไรน่าสนใจไหม\n",
        "\n"
      ]
    },
    {
      "cell_type": "markdown",
      "metadata": {
        "id": "xcPUWlA9JGio"
      },
      "source": [
        "### ☑️ เทรนโมเดลแรกให้จบจนเห็นผลลัพธ์เร็วที่สุดเท่าที่จะทำได้\n",
        "\n",
        "แน่นอนว่าการทำความสะอาดข้อมูลและการทำความเข้าใจข้อมูลเป็นสิ่งสำคัญ (คะแนนรวม 15+20=35) แต่วิธีที่ดีที่สุดที่จะรู้ว่าโมเดลของเราทำได้ดีแค่ไหนคือการลองเทรนไปเลยทั้งๆที่ไม่ต้องทำอะไรกับข้อมูลมาก หลังจากนั้นเราอาจจะมาไล่ดูข้อผิดพลาดของโมเดลเพื่อให้มีไอเดียในการจัดการข้อมูลและโมเดลต่อไปได้ \n",
        "\n",
        "คุณอาจจะคิดว่าการสร้าง ML model มีขั้นตอนแบบนี้:\n",
        "\n",
        "<img src=https://github.com/ai-builders/curriculum/raw/main/images/ml_what_you_think_it_is.png width=\"500px\">\n",
        "\n",
        "แต่จริงๆแล้วมันคือแบบนี้:\n",
        "\n",
        "<img src=https://github.com/ai-builders/curriculum/raw/main/images/ml_what_it_really_is.png width=\"500px\">\n",
        "\n",
        "เพราะฉะนั้นอย่ากลัวที่จะลองทำให้ครบขั้นตอนก่อนแล้วจึงย้อนกลับไปกลับมาเพื่อทำใหม่ให้ดียิ่งขึ้น"
      ]
    }
  ],
  "metadata": {
    "accelerator": "GPU",
    "colab": {
      "collapsed_sections": [],
      "name": "03_sgd_from_scratch.ipynb",
      "provenance": [],
      "toc_visible": true,
      "include_colab_link": true
    },
    "jupytext": {
      "split_at_heading": true
    },
    "kernelspec": {
      "display_name": "conda_amazonei_pytorch_latest_p36",
      "language": "python",
      "name": "conda_amazonei_pytorch_latest_p36"
    },
    "language_info": {
      "codemirror_mode": {
        "name": "ipython",
        "version": 3
      },
      "file_extension": ".py",
      "mimetype": "text/x-python",
      "name": "python",
      "nbconvert_exporter": "python",
      "pygments_lexer": "ipython3",
      "version": "3.6.13"
    }
  },
  "nbformat": 4,
  "nbformat_minor": 0
}