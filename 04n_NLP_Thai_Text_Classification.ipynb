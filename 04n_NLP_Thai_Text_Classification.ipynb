{
  "nbformat": 4,
  "nbformat_minor": 0,
  "metadata": {
    "colab": {
      "name": "04n_NLP_Thai_Text_Classification.ipynb",
      "provenance": [],
      "authorship_tag": "ABX9TyMwX7jsd1dpNEimTTMfE6up",
      "include_colab_link": true
    },
    "kernelspec": {
      "name": "python3",
      "display_name": "Python 3"
    },
    "language_info": {
      "name": "python"
    },
    "widgets": {
      "application/vnd.jupyter.widget-state+json": {
        "e83e2cbd753b488a9205b27028bf7c93": {
          "model_module": "@jupyter-widgets/controls",
          "model_name": "HBoxModel",
          "model_module_version": "1.5.0",
          "state": {
            "_dom_classes": [],
            "_model_module": "@jupyter-widgets/controls",
            "_model_module_version": "1.5.0",
            "_model_name": "HBoxModel",
            "_view_count": null,
            "_view_module": "@jupyter-widgets/controls",
            "_view_module_version": "1.5.0",
            "_view_name": "HBoxView",
            "box_style": "",
            "children": [
              "IPY_MODEL_e08e82d93930467aace447ff71f3e407",
              "IPY_MODEL_db834c8af27f46fc8b81061d9177ec6f",
              "IPY_MODEL_ca0fb292f68c463a851ef6ee289a3e35"
            ],
            "layout": "IPY_MODEL_f587cf8606ca498ba83b5c1ef6d6ee71"
          }
        },
        "e08e82d93930467aace447ff71f3e407": {
          "model_module": "@jupyter-widgets/controls",
          "model_name": "HTMLModel",
          "model_module_version": "1.5.0",
          "state": {
            "_dom_classes": [],
            "_model_module": "@jupyter-widgets/controls",
            "_model_module_version": "1.5.0",
            "_model_name": "HTMLModel",
            "_view_count": null,
            "_view_module": "@jupyter-widgets/controls",
            "_view_module_version": "1.5.0",
            "_view_name": "HTMLView",
            "description": "",
            "description_tooltip": null,
            "layout": "IPY_MODEL_0d204e6e84114f5886b73f19f7dc902e",
            "placeholder": "​",
            "style": "IPY_MODEL_1995a91ab4004be3937e19073693f196",
            "value": "100%"
          }
        },
        "db834c8af27f46fc8b81061d9177ec6f": {
          "model_module": "@jupyter-widgets/controls",
          "model_name": "FloatProgressModel",
          "model_module_version": "1.5.0",
          "state": {
            "_dom_classes": [],
            "_model_module": "@jupyter-widgets/controls",
            "_model_module_version": "1.5.0",
            "_model_name": "FloatProgressModel",
            "_view_count": null,
            "_view_module": "@jupyter-widgets/controls",
            "_view_module_version": "1.5.0",
            "_view_name": "ProgressView",
            "bar_style": "success",
            "description": "",
            "description_tooltip": null,
            "layout": "IPY_MODEL_15d2ff4fce1540ae9a745c81b49f9504",
            "max": 362,
            "min": 0,
            "orientation": "horizontal",
            "style": "IPY_MODEL_881d9828899f443bac90655744fa5f92",
            "value": 362
          }
        },
        "ca0fb292f68c463a851ef6ee289a3e35": {
          "model_module": "@jupyter-widgets/controls",
          "model_name": "HTMLModel",
          "model_module_version": "1.5.0",
          "state": {
            "_dom_classes": [],
            "_model_module": "@jupyter-widgets/controls",
            "_model_module_version": "1.5.0",
            "_model_name": "HTMLModel",
            "_view_count": null,
            "_view_module": "@jupyter-widgets/controls",
            "_view_module_version": "1.5.0",
            "_view_name": "HTMLView",
            "description": "",
            "description_tooltip": null,
            "layout": "IPY_MODEL_54253a4ffca344cd83ff04d02fb3dfd5",
            "placeholder": "​",
            "style": "IPY_MODEL_ff6bc04181004398808a4d02da176f6f",
            "value": " 362/362 [00:17&lt;00:00, 23.57it/s]"
          }
        },
        "f587cf8606ca498ba83b5c1ef6d6ee71": {
          "model_module": "@jupyter-widgets/base",
          "model_name": "LayoutModel",
          "model_module_version": "1.2.0",
          "state": {
            "_model_module": "@jupyter-widgets/base",
            "_model_module_version": "1.2.0",
            "_model_name": "LayoutModel",
            "_view_count": null,
            "_view_module": "@jupyter-widgets/base",
            "_view_module_version": "1.2.0",
            "_view_name": "LayoutView",
            "align_content": null,
            "align_items": null,
            "align_self": null,
            "border": null,
            "bottom": null,
            "display": null,
            "flex": null,
            "flex_flow": null,
            "grid_area": null,
            "grid_auto_columns": null,
            "grid_auto_flow": null,
            "grid_auto_rows": null,
            "grid_column": null,
            "grid_gap": null,
            "grid_row": null,
            "grid_template_areas": null,
            "grid_template_columns": null,
            "grid_template_rows": null,
            "height": null,
            "justify_content": null,
            "justify_items": null,
            "left": null,
            "margin": null,
            "max_height": null,
            "max_width": null,
            "min_height": null,
            "min_width": null,
            "object_fit": null,
            "object_position": null,
            "order": null,
            "overflow": null,
            "overflow_x": null,
            "overflow_y": null,
            "padding": null,
            "right": null,
            "top": null,
            "visibility": null,
            "width": null
          }
        },
        "0d204e6e84114f5886b73f19f7dc902e": {
          "model_module": "@jupyter-widgets/base",
          "model_name": "LayoutModel",
          "model_module_version": "1.2.0",
          "state": {
            "_model_module": "@jupyter-widgets/base",
            "_model_module_version": "1.2.0",
            "_model_name": "LayoutModel",
            "_view_count": null,
            "_view_module": "@jupyter-widgets/base",
            "_view_module_version": "1.2.0",
            "_view_name": "LayoutView",
            "align_content": null,
            "align_items": null,
            "align_self": null,
            "border": null,
            "bottom": null,
            "display": null,
            "flex": null,
            "flex_flow": null,
            "grid_area": null,
            "grid_auto_columns": null,
            "grid_auto_flow": null,
            "grid_auto_rows": null,
            "grid_column": null,
            "grid_gap": null,
            "grid_row": null,
            "grid_template_areas": null,
            "grid_template_columns": null,
            "grid_template_rows": null,
            "height": null,
            "justify_content": null,
            "justify_items": null,
            "left": null,
            "margin": null,
            "max_height": null,
            "max_width": null,
            "min_height": null,
            "min_width": null,
            "object_fit": null,
            "object_position": null,
            "order": null,
            "overflow": null,
            "overflow_x": null,
            "overflow_y": null,
            "padding": null,
            "right": null,
            "top": null,
            "visibility": null,
            "width": null
          }
        },
        "1995a91ab4004be3937e19073693f196": {
          "model_module": "@jupyter-widgets/controls",
          "model_name": "DescriptionStyleModel",
          "model_module_version": "1.5.0",
          "state": {
            "_model_module": "@jupyter-widgets/controls",
            "_model_module_version": "1.5.0",
            "_model_name": "DescriptionStyleModel",
            "_view_count": null,
            "_view_module": "@jupyter-widgets/base",
            "_view_module_version": "1.2.0",
            "_view_name": "StyleView",
            "description_width": ""
          }
        },
        "15d2ff4fce1540ae9a745c81b49f9504": {
          "model_module": "@jupyter-widgets/base",
          "model_name": "LayoutModel",
          "model_module_version": "1.2.0",
          "state": {
            "_model_module": "@jupyter-widgets/base",
            "_model_module_version": "1.2.0",
            "_model_name": "LayoutModel",
            "_view_count": null,
            "_view_module": "@jupyter-widgets/base",
            "_view_module_version": "1.2.0",
            "_view_name": "LayoutView",
            "align_content": null,
            "align_items": null,
            "align_self": null,
            "border": null,
            "bottom": null,
            "display": null,
            "flex": null,
            "flex_flow": null,
            "grid_area": null,
            "grid_auto_columns": null,
            "grid_auto_flow": null,
            "grid_auto_rows": null,
            "grid_column": null,
            "grid_gap": null,
            "grid_row": null,
            "grid_template_areas": null,
            "grid_template_columns": null,
            "grid_template_rows": null,
            "height": null,
            "justify_content": null,
            "justify_items": null,
            "left": null,
            "margin": null,
            "max_height": null,
            "max_width": null,
            "min_height": null,
            "min_width": null,
            "object_fit": null,
            "object_position": null,
            "order": null,
            "overflow": null,
            "overflow_x": null,
            "overflow_y": null,
            "padding": null,
            "right": null,
            "top": null,
            "visibility": null,
            "width": null
          }
        },
        "881d9828899f443bac90655744fa5f92": {
          "model_module": "@jupyter-widgets/controls",
          "model_name": "ProgressStyleModel",
          "model_module_version": "1.5.0",
          "state": {
            "_model_module": "@jupyter-widgets/controls",
            "_model_module_version": "1.5.0",
            "_model_name": "ProgressStyleModel",
            "_view_count": null,
            "_view_module": "@jupyter-widgets/base",
            "_view_module_version": "1.2.0",
            "_view_name": "StyleView",
            "bar_color": null,
            "description_width": ""
          }
        },
        "54253a4ffca344cd83ff04d02fb3dfd5": {
          "model_module": "@jupyter-widgets/base",
          "model_name": "LayoutModel",
          "model_module_version": "1.2.0",
          "state": {
            "_model_module": "@jupyter-widgets/base",
            "_model_module_version": "1.2.0",
            "_model_name": "LayoutModel",
            "_view_count": null,
            "_view_module": "@jupyter-widgets/base",
            "_view_module_version": "1.2.0",
            "_view_name": "LayoutView",
            "align_content": null,
            "align_items": null,
            "align_self": null,
            "border": null,
            "bottom": null,
            "display": null,
            "flex": null,
            "flex_flow": null,
            "grid_area": null,
            "grid_auto_columns": null,
            "grid_auto_flow": null,
            "grid_auto_rows": null,
            "grid_column": null,
            "grid_gap": null,
            "grid_row": null,
            "grid_template_areas": null,
            "grid_template_columns": null,
            "grid_template_rows": null,
            "height": null,
            "justify_content": null,
            "justify_items": null,
            "left": null,
            "margin": null,
            "max_height": null,
            "max_width": null,
            "min_height": null,
            "min_width": null,
            "object_fit": null,
            "object_position": null,
            "order": null,
            "overflow": null,
            "overflow_x": null,
            "overflow_y": null,
            "padding": null,
            "right": null,
            "top": null,
            "visibility": null,
            "width": null
          }
        },
        "ff6bc04181004398808a4d02da176f6f": {
          "model_module": "@jupyter-widgets/controls",
          "model_name": "DescriptionStyleModel",
          "model_module_version": "1.5.0",
          "state": {
            "_model_module": "@jupyter-widgets/controls",
            "_model_module_version": "1.5.0",
            "_model_name": "DescriptionStyleModel",
            "_view_count": null,
            "_view_module": "@jupyter-widgets/base",
            "_view_module_version": "1.2.0",
            "_view_name": "StyleView",
            "description_width": ""
          }
        },
        "b258a5a270c149acb85eeebf05a0d731": {
          "model_module": "@jupyter-widgets/controls",
          "model_name": "HBoxModel",
          "model_module_version": "1.5.0",
          "state": {
            "_dom_classes": [],
            "_model_module": "@jupyter-widgets/controls",
            "_model_module_version": "1.5.0",
            "_model_name": "HBoxModel",
            "_view_count": null,
            "_view_module": "@jupyter-widgets/controls",
            "_view_module_version": "1.5.0",
            "_view_name": "HBoxView",
            "box_style": "",
            "children": [
              "IPY_MODEL_95774cdc4cee4c0abda583b4bb2d4968",
              "IPY_MODEL_abdfc4b7b7544ff7bae00538aec82819",
              "IPY_MODEL_eaf4206958584ac7875b3d1dbab522e6"
            ],
            "layout": "IPY_MODEL_8fb37a4da08a411080102893ac2168a3"
          }
        },
        "95774cdc4cee4c0abda583b4bb2d4968": {
          "model_module": "@jupyter-widgets/controls",
          "model_name": "HTMLModel",
          "model_module_version": "1.5.0",
          "state": {
            "_dom_classes": [],
            "_model_module": "@jupyter-widgets/controls",
            "_model_module_version": "1.5.0",
            "_model_name": "HTMLModel",
            "_view_count": null,
            "_view_module": "@jupyter-widgets/controls",
            "_view_module_version": "1.5.0",
            "_view_name": "HTMLView",
            "description": "",
            "description_tooltip": null,
            "layout": "IPY_MODEL_086143deeb354defb12c89ca99410a90",
            "placeholder": "​",
            "style": "IPY_MODEL_a331cc7fb8d848d8a199c5d91655daa2",
            "value": "100%"
          }
        },
        "abdfc4b7b7544ff7bae00538aec82819": {
          "model_module": "@jupyter-widgets/controls",
          "model_name": "FloatProgressModel",
          "model_module_version": "1.5.0",
          "state": {
            "_dom_classes": [],
            "_model_module": "@jupyter-widgets/controls",
            "_model_module_version": "1.5.0",
            "_model_name": "FloatProgressModel",
            "_view_count": null,
            "_view_module": "@jupyter-widgets/controls",
            "_view_module_version": "1.5.0",
            "_view_name": "ProgressView",
            "bar_style": "success",
            "description": "",
            "description_tooltip": null,
            "layout": "IPY_MODEL_0a97a44cf42a413e8e2007df9685639c",
            "max": 2046,
            "min": 0,
            "orientation": "horizontal",
            "style": "IPY_MODEL_abb7bda235d44a3abda1103ce4c01aa7",
            "value": 2046
          }
        },
        "eaf4206958584ac7875b3d1dbab522e6": {
          "model_module": "@jupyter-widgets/controls",
          "model_name": "HTMLModel",
          "model_module_version": "1.5.0",
          "state": {
            "_dom_classes": [],
            "_model_module": "@jupyter-widgets/controls",
            "_model_module_version": "1.5.0",
            "_model_name": "HTMLModel",
            "_view_count": null,
            "_view_module": "@jupyter-widgets/controls",
            "_view_module_version": "1.5.0",
            "_view_name": "HTMLView",
            "description": "",
            "description_tooltip": null,
            "layout": "IPY_MODEL_3d510295ea6846fb87df09dac2823bcd",
            "placeholder": "​",
            "style": "IPY_MODEL_d276fabfe3d740fa8fbe492058d83e5c",
            "value": " 2046/2046 [01:29&lt;00:00, 20.97it/s]"
          }
        },
        "8fb37a4da08a411080102893ac2168a3": {
          "model_module": "@jupyter-widgets/base",
          "model_name": "LayoutModel",
          "model_module_version": "1.2.0",
          "state": {
            "_model_module": "@jupyter-widgets/base",
            "_model_module_version": "1.2.0",
            "_model_name": "LayoutModel",
            "_view_count": null,
            "_view_module": "@jupyter-widgets/base",
            "_view_module_version": "1.2.0",
            "_view_name": "LayoutView",
            "align_content": null,
            "align_items": null,
            "align_self": null,
            "border": null,
            "bottom": null,
            "display": null,
            "flex": null,
            "flex_flow": null,
            "grid_area": null,
            "grid_auto_columns": null,
            "grid_auto_flow": null,
            "grid_auto_rows": null,
            "grid_column": null,
            "grid_gap": null,
            "grid_row": null,
            "grid_template_areas": null,
            "grid_template_columns": null,
            "grid_template_rows": null,
            "height": null,
            "justify_content": null,
            "justify_items": null,
            "left": null,
            "margin": null,
            "max_height": null,
            "max_width": null,
            "min_height": null,
            "min_width": null,
            "object_fit": null,
            "object_position": null,
            "order": null,
            "overflow": null,
            "overflow_x": null,
            "overflow_y": null,
            "padding": null,
            "right": null,
            "top": null,
            "visibility": null,
            "width": null
          }
        },
        "086143deeb354defb12c89ca99410a90": {
          "model_module": "@jupyter-widgets/base",
          "model_name": "LayoutModel",
          "model_module_version": "1.2.0",
          "state": {
            "_model_module": "@jupyter-widgets/base",
            "_model_module_version": "1.2.0",
            "_model_name": "LayoutModel",
            "_view_count": null,
            "_view_module": "@jupyter-widgets/base",
            "_view_module_version": "1.2.0",
            "_view_name": "LayoutView",
            "align_content": null,
            "align_items": null,
            "align_self": null,
            "border": null,
            "bottom": null,
            "display": null,
            "flex": null,
            "flex_flow": null,
            "grid_area": null,
            "grid_auto_columns": null,
            "grid_auto_flow": null,
            "grid_auto_rows": null,
            "grid_column": null,
            "grid_gap": null,
            "grid_row": null,
            "grid_template_areas": null,
            "grid_template_columns": null,
            "grid_template_rows": null,
            "height": null,
            "justify_content": null,
            "justify_items": null,
            "left": null,
            "margin": null,
            "max_height": null,
            "max_width": null,
            "min_height": null,
            "min_width": null,
            "object_fit": null,
            "object_position": null,
            "order": null,
            "overflow": null,
            "overflow_x": null,
            "overflow_y": null,
            "padding": null,
            "right": null,
            "top": null,
            "visibility": null,
            "width": null
          }
        },
        "a331cc7fb8d848d8a199c5d91655daa2": {
          "model_module": "@jupyter-widgets/controls",
          "model_name": "DescriptionStyleModel",
          "model_module_version": "1.5.0",
          "state": {
            "_model_module": "@jupyter-widgets/controls",
            "_model_module_version": "1.5.0",
            "_model_name": "DescriptionStyleModel",
            "_view_count": null,
            "_view_module": "@jupyter-widgets/base",
            "_view_module_version": "1.2.0",
            "_view_name": "StyleView",
            "description_width": ""
          }
        },
        "0a97a44cf42a413e8e2007df9685639c": {
          "model_module": "@jupyter-widgets/base",
          "model_name": "LayoutModel",
          "model_module_version": "1.2.0",
          "state": {
            "_model_module": "@jupyter-widgets/base",
            "_model_module_version": "1.2.0",
            "_model_name": "LayoutModel",
            "_view_count": null,
            "_view_module": "@jupyter-widgets/base",
            "_view_module_version": "1.2.0",
            "_view_name": "LayoutView",
            "align_content": null,
            "align_items": null,
            "align_self": null,
            "border": null,
            "bottom": null,
            "display": null,
            "flex": null,
            "flex_flow": null,
            "grid_area": null,
            "grid_auto_columns": null,
            "grid_auto_flow": null,
            "grid_auto_rows": null,
            "grid_column": null,
            "grid_gap": null,
            "grid_row": null,
            "grid_template_areas": null,
            "grid_template_columns": null,
            "grid_template_rows": null,
            "height": null,
            "justify_content": null,
            "justify_items": null,
            "left": null,
            "margin": null,
            "max_height": null,
            "max_width": null,
            "min_height": null,
            "min_width": null,
            "object_fit": null,
            "object_position": null,
            "order": null,
            "overflow": null,
            "overflow_x": null,
            "overflow_y": null,
            "padding": null,
            "right": null,
            "top": null,
            "visibility": null,
            "width": null
          }
        },
        "abb7bda235d44a3abda1103ce4c01aa7": {
          "model_module": "@jupyter-widgets/controls",
          "model_name": "ProgressStyleModel",
          "model_module_version": "1.5.0",
          "state": {
            "_model_module": "@jupyter-widgets/controls",
            "_model_module_version": "1.5.0",
            "_model_name": "ProgressStyleModel",
            "_view_count": null,
            "_view_module": "@jupyter-widgets/base",
            "_view_module_version": "1.2.0",
            "_view_name": "StyleView",
            "bar_color": null,
            "description_width": ""
          }
        },
        "3d510295ea6846fb87df09dac2823bcd": {
          "model_module": "@jupyter-widgets/base",
          "model_name": "LayoutModel",
          "model_module_version": "1.2.0",
          "state": {
            "_model_module": "@jupyter-widgets/base",
            "_model_module_version": "1.2.0",
            "_model_name": "LayoutModel",
            "_view_count": null,
            "_view_module": "@jupyter-widgets/base",
            "_view_module_version": "1.2.0",
            "_view_name": "LayoutView",
            "align_content": null,
            "align_items": null,
            "align_self": null,
            "border": null,
            "bottom": null,
            "display": null,
            "flex": null,
            "flex_flow": null,
            "grid_area": null,
            "grid_auto_columns": null,
            "grid_auto_flow": null,
            "grid_auto_rows": null,
            "grid_column": null,
            "grid_gap": null,
            "grid_row": null,
            "grid_template_areas": null,
            "grid_template_columns": null,
            "grid_template_rows": null,
            "height": null,
            "justify_content": null,
            "justify_items": null,
            "left": null,
            "margin": null,
            "max_height": null,
            "max_width": null,
            "min_height": null,
            "min_width": null,
            "object_fit": null,
            "object_position": null,
            "order": null,
            "overflow": null,
            "overflow_x": null,
            "overflow_y": null,
            "padding": null,
            "right": null,
            "top": null,
            "visibility": null,
            "width": null
          }
        },
        "d276fabfe3d740fa8fbe492058d83e5c": {
          "model_module": "@jupyter-widgets/controls",
          "model_name": "DescriptionStyleModel",
          "model_module_version": "1.5.0",
          "state": {
            "_model_module": "@jupyter-widgets/controls",
            "_model_module_version": "1.5.0",
            "_model_name": "DescriptionStyleModel",
            "_view_count": null,
            "_view_module": "@jupyter-widgets/base",
            "_view_module_version": "1.2.0",
            "_view_name": "StyleView",
            "description_width": ""
          }
        },
        "625aee7d1e774373a5c6fb15f2b16904": {
          "model_module": "@jupyter-widgets/controls",
          "model_name": "HBoxModel",
          "model_module_version": "1.5.0",
          "state": {
            "_dom_classes": [],
            "_model_module": "@jupyter-widgets/controls",
            "_model_module_version": "1.5.0",
            "_model_name": "HBoxModel",
            "_view_count": null,
            "_view_module": "@jupyter-widgets/controls",
            "_view_module_version": "1.5.0",
            "_view_name": "HBoxView",
            "box_style": "",
            "children": [
              "IPY_MODEL_075215d729c34451955b85542e7e884f",
              "IPY_MODEL_fe1c1bfcc6174a9ca63c7ab065596048",
              "IPY_MODEL_4b1fc2918d374eae89c02aa1455b6a15"
            ],
            "layout": "IPY_MODEL_771eaefdc1374c6f85e7451f95c3bf9e"
          }
        },
        "075215d729c34451955b85542e7e884f": {
          "model_module": "@jupyter-widgets/controls",
          "model_name": "HTMLModel",
          "model_module_version": "1.5.0",
          "state": {
            "_dom_classes": [],
            "_model_module": "@jupyter-widgets/controls",
            "_model_module_version": "1.5.0",
            "_model_name": "HTMLModel",
            "_view_count": null,
            "_view_module": "@jupyter-widgets/controls",
            "_view_module_version": "1.5.0",
            "_view_name": "HTMLView",
            "description": "",
            "description_tooltip": null,
            "layout": "IPY_MODEL_5fe398cc876b44668019d1a2410b71d5",
            "placeholder": "​",
            "style": "IPY_MODEL_2c2f893137b3430b8e2266ecec83c649",
            "value": "Downloading builder script: "
          }
        },
        "fe1c1bfcc6174a9ca63c7ab065596048": {
          "model_module": "@jupyter-widgets/controls",
          "model_name": "FloatProgressModel",
          "model_module_version": "1.5.0",
          "state": {
            "_dom_classes": [],
            "_model_module": "@jupyter-widgets/controls",
            "_model_module_version": "1.5.0",
            "_model_name": "FloatProgressModel",
            "_view_count": null,
            "_view_module": "@jupyter-widgets/controls",
            "_view_module_version": "1.5.0",
            "_view_name": "ProgressView",
            "bar_style": "success",
            "description": "",
            "description_tooltip": null,
            "layout": "IPY_MODEL_a7d4e6446ed143a9b0f6406db1f94122",
            "max": 1937,
            "min": 0,
            "orientation": "horizontal",
            "style": "IPY_MODEL_af0f869f26814e568329f7bc49870fa8",
            "value": 1937
          }
        },
        "4b1fc2918d374eae89c02aa1455b6a15": {
          "model_module": "@jupyter-widgets/controls",
          "model_name": "HTMLModel",
          "model_module_version": "1.5.0",
          "state": {
            "_dom_classes": [],
            "_model_module": "@jupyter-widgets/controls",
            "_model_module_version": "1.5.0",
            "_model_name": "HTMLModel",
            "_view_count": null,
            "_view_module": "@jupyter-widgets/controls",
            "_view_module_version": "1.5.0",
            "_view_name": "HTMLView",
            "description": "",
            "description_tooltip": null,
            "layout": "IPY_MODEL_7ff8309ad60c47cab6773b857e72a996",
            "placeholder": "​",
            "style": "IPY_MODEL_55109bbeba99405d87f24cadd44b104f",
            "value": " 5.08k/? [00:00&lt;00:00, 17.0kB/s]"
          }
        },
        "771eaefdc1374c6f85e7451f95c3bf9e": {
          "model_module": "@jupyter-widgets/base",
          "model_name": "LayoutModel",
          "model_module_version": "1.2.0",
          "state": {
            "_model_module": "@jupyter-widgets/base",
            "_model_module_version": "1.2.0",
            "_model_name": "LayoutModel",
            "_view_count": null,
            "_view_module": "@jupyter-widgets/base",
            "_view_module_version": "1.2.0",
            "_view_name": "LayoutView",
            "align_content": null,
            "align_items": null,
            "align_self": null,
            "border": null,
            "bottom": null,
            "display": null,
            "flex": null,
            "flex_flow": null,
            "grid_area": null,
            "grid_auto_columns": null,
            "grid_auto_flow": null,
            "grid_auto_rows": null,
            "grid_column": null,
            "grid_gap": null,
            "grid_row": null,
            "grid_template_areas": null,
            "grid_template_columns": null,
            "grid_template_rows": null,
            "height": null,
            "justify_content": null,
            "justify_items": null,
            "left": null,
            "margin": null,
            "max_height": null,
            "max_width": null,
            "min_height": null,
            "min_width": null,
            "object_fit": null,
            "object_position": null,
            "order": null,
            "overflow": null,
            "overflow_x": null,
            "overflow_y": null,
            "padding": null,
            "right": null,
            "top": null,
            "visibility": null,
            "width": null
          }
        },
        "5fe398cc876b44668019d1a2410b71d5": {
          "model_module": "@jupyter-widgets/base",
          "model_name": "LayoutModel",
          "model_module_version": "1.2.0",
          "state": {
            "_model_module": "@jupyter-widgets/base",
            "_model_module_version": "1.2.0",
            "_model_name": "LayoutModel",
            "_view_count": null,
            "_view_module": "@jupyter-widgets/base",
            "_view_module_version": "1.2.0",
            "_view_name": "LayoutView",
            "align_content": null,
            "align_items": null,
            "align_self": null,
            "border": null,
            "bottom": null,
            "display": null,
            "flex": null,
            "flex_flow": null,
            "grid_area": null,
            "grid_auto_columns": null,
            "grid_auto_flow": null,
            "grid_auto_rows": null,
            "grid_column": null,
            "grid_gap": null,
            "grid_row": null,
            "grid_template_areas": null,
            "grid_template_columns": null,
            "grid_template_rows": null,
            "height": null,
            "justify_content": null,
            "justify_items": null,
            "left": null,
            "margin": null,
            "max_height": null,
            "max_width": null,
            "min_height": null,
            "min_width": null,
            "object_fit": null,
            "object_position": null,
            "order": null,
            "overflow": null,
            "overflow_x": null,
            "overflow_y": null,
            "padding": null,
            "right": null,
            "top": null,
            "visibility": null,
            "width": null
          }
        },
        "2c2f893137b3430b8e2266ecec83c649": {
          "model_module": "@jupyter-widgets/controls",
          "model_name": "DescriptionStyleModel",
          "model_module_version": "1.5.0",
          "state": {
            "_model_module": "@jupyter-widgets/controls",
            "_model_module_version": "1.5.0",
            "_model_name": "DescriptionStyleModel",
            "_view_count": null,
            "_view_module": "@jupyter-widgets/base",
            "_view_module_version": "1.2.0",
            "_view_name": "StyleView",
            "description_width": ""
          }
        },
        "a7d4e6446ed143a9b0f6406db1f94122": {
          "model_module": "@jupyter-widgets/base",
          "model_name": "LayoutModel",
          "model_module_version": "1.2.0",
          "state": {
            "_model_module": "@jupyter-widgets/base",
            "_model_module_version": "1.2.0",
            "_model_name": "LayoutModel",
            "_view_count": null,
            "_view_module": "@jupyter-widgets/base",
            "_view_module_version": "1.2.0",
            "_view_name": "LayoutView",
            "align_content": null,
            "align_items": null,
            "align_self": null,
            "border": null,
            "bottom": null,
            "display": null,
            "flex": null,
            "flex_flow": null,
            "grid_area": null,
            "grid_auto_columns": null,
            "grid_auto_flow": null,
            "grid_auto_rows": null,
            "grid_column": null,
            "grid_gap": null,
            "grid_row": null,
            "grid_template_areas": null,
            "grid_template_columns": null,
            "grid_template_rows": null,
            "height": null,
            "justify_content": null,
            "justify_items": null,
            "left": null,
            "margin": null,
            "max_height": null,
            "max_width": null,
            "min_height": null,
            "min_width": null,
            "object_fit": null,
            "object_position": null,
            "order": null,
            "overflow": null,
            "overflow_x": null,
            "overflow_y": null,
            "padding": null,
            "right": null,
            "top": null,
            "visibility": null,
            "width": null
          }
        },
        "af0f869f26814e568329f7bc49870fa8": {
          "model_module": "@jupyter-widgets/controls",
          "model_name": "ProgressStyleModel",
          "model_module_version": "1.5.0",
          "state": {
            "_model_module": "@jupyter-widgets/controls",
            "_model_module_version": "1.5.0",
            "_model_name": "ProgressStyleModel",
            "_view_count": null,
            "_view_module": "@jupyter-widgets/base",
            "_view_module_version": "1.2.0",
            "_view_name": "StyleView",
            "bar_color": null,
            "description_width": ""
          }
        },
        "7ff8309ad60c47cab6773b857e72a996": {
          "model_module": "@jupyter-widgets/base",
          "model_name": "LayoutModel",
          "model_module_version": "1.2.0",
          "state": {
            "_model_module": "@jupyter-widgets/base",
            "_model_module_version": "1.2.0",
            "_model_name": "LayoutModel",
            "_view_count": null,
            "_view_module": "@jupyter-widgets/base",
            "_view_module_version": "1.2.0",
            "_view_name": "LayoutView",
            "align_content": null,
            "align_items": null,
            "align_self": null,
            "border": null,
            "bottom": null,
            "display": null,
            "flex": null,
            "flex_flow": null,
            "grid_area": null,
            "grid_auto_columns": null,
            "grid_auto_flow": null,
            "grid_auto_rows": null,
            "grid_column": null,
            "grid_gap": null,
            "grid_row": null,
            "grid_template_areas": null,
            "grid_template_columns": null,
            "grid_template_rows": null,
            "height": null,
            "justify_content": null,
            "justify_items": null,
            "left": null,
            "margin": null,
            "max_height": null,
            "max_width": null,
            "min_height": null,
            "min_width": null,
            "object_fit": null,
            "object_position": null,
            "order": null,
            "overflow": null,
            "overflow_x": null,
            "overflow_y": null,
            "padding": null,
            "right": null,
            "top": null,
            "visibility": null,
            "width": null
          }
        },
        "55109bbeba99405d87f24cadd44b104f": {
          "model_module": "@jupyter-widgets/controls",
          "model_name": "DescriptionStyleModel",
          "model_module_version": "1.5.0",
          "state": {
            "_model_module": "@jupyter-widgets/controls",
            "_model_module_version": "1.5.0",
            "_model_name": "DescriptionStyleModel",
            "_view_count": null,
            "_view_module": "@jupyter-widgets/base",
            "_view_module_version": "1.2.0",
            "_view_name": "StyleView",
            "description_width": ""
          }
        },
        "648a7d6a660b4804bec0e42e4fa2306b": {
          "model_module": "@jupyter-widgets/controls",
          "model_name": "HBoxModel",
          "model_module_version": "1.5.0",
          "state": {
            "_dom_classes": [],
            "_model_module": "@jupyter-widgets/controls",
            "_model_module_version": "1.5.0",
            "_model_name": "HBoxModel",
            "_view_count": null,
            "_view_module": "@jupyter-widgets/controls",
            "_view_module_version": "1.5.0",
            "_view_name": "HBoxView",
            "box_style": "",
            "children": [
              "IPY_MODEL_21e7d78cf9f345dcae826215789b31f7",
              "IPY_MODEL_0e7e39b07dd546b58d1c6cbaf2ab7a88",
              "IPY_MODEL_f5b28c6e61a54fdbba00194b93d4440c"
            ],
            "layout": "IPY_MODEL_6a91cb1dea8f4e00a37afbe2143e75bc"
          }
        },
        "21e7d78cf9f345dcae826215789b31f7": {
          "model_module": "@jupyter-widgets/controls",
          "model_name": "HTMLModel",
          "model_module_version": "1.5.0",
          "state": {
            "_dom_classes": [],
            "_model_module": "@jupyter-widgets/controls",
            "_model_module_version": "1.5.0",
            "_model_name": "HTMLModel",
            "_view_count": null,
            "_view_module": "@jupyter-widgets/controls",
            "_view_module_version": "1.5.0",
            "_view_name": "HTMLView",
            "description": "",
            "description_tooltip": null,
            "layout": "IPY_MODEL_17beaf8bb82e4d069a6360c1a3e5c778",
            "placeholder": "​",
            "style": "IPY_MODEL_d942211e6fc9477e88c1bb2186074787",
            "value": "Downloading metadata: "
          }
        },
        "0e7e39b07dd546b58d1c6cbaf2ab7a88": {
          "model_module": "@jupyter-widgets/controls",
          "model_name": "FloatProgressModel",
          "model_module_version": "1.5.0",
          "state": {
            "_dom_classes": [],
            "_model_module": "@jupyter-widgets/controls",
            "_model_module_version": "1.5.0",
            "_model_name": "FloatProgressModel",
            "_view_count": null,
            "_view_module": "@jupyter-widgets/controls",
            "_view_module_version": "1.5.0",
            "_view_name": "ProgressView",
            "bar_style": "success",
            "description": "",
            "description_tooltip": null,
            "layout": "IPY_MODEL_587e0622730e4340a9798d1301223097",
            "max": 1607,
            "min": 0,
            "orientation": "horizontal",
            "style": "IPY_MODEL_05da5ed6fbf54462a5d18cb76af70fb9",
            "value": 1607
          }
        },
        "f5b28c6e61a54fdbba00194b93d4440c": {
          "model_module": "@jupyter-widgets/controls",
          "model_name": "HTMLModel",
          "model_module_version": "1.5.0",
          "state": {
            "_dom_classes": [],
            "_model_module": "@jupyter-widgets/controls",
            "_model_module_version": "1.5.0",
            "_model_name": "HTMLModel",
            "_view_count": null,
            "_view_module": "@jupyter-widgets/controls",
            "_view_module_version": "1.5.0",
            "_view_name": "HTMLView",
            "description": "",
            "description_tooltip": null,
            "layout": "IPY_MODEL_29b6ae5ad6e347c3b9c3e1a8145346a0",
            "placeholder": "​",
            "style": "IPY_MODEL_71cb49b42f534ec7bab6f05943f3ab5f",
            "value": " 3.48k/? [00:00&lt;00:00, 16.3kB/s]"
          }
        },
        "6a91cb1dea8f4e00a37afbe2143e75bc": {
          "model_module": "@jupyter-widgets/base",
          "model_name": "LayoutModel",
          "model_module_version": "1.2.0",
          "state": {
            "_model_module": "@jupyter-widgets/base",
            "_model_module_version": "1.2.0",
            "_model_name": "LayoutModel",
            "_view_count": null,
            "_view_module": "@jupyter-widgets/base",
            "_view_module_version": "1.2.0",
            "_view_name": "LayoutView",
            "align_content": null,
            "align_items": null,
            "align_self": null,
            "border": null,
            "bottom": null,
            "display": null,
            "flex": null,
            "flex_flow": null,
            "grid_area": null,
            "grid_auto_columns": null,
            "grid_auto_flow": null,
            "grid_auto_rows": null,
            "grid_column": null,
            "grid_gap": null,
            "grid_row": null,
            "grid_template_areas": null,
            "grid_template_columns": null,
            "grid_template_rows": null,
            "height": null,
            "justify_content": null,
            "justify_items": null,
            "left": null,
            "margin": null,
            "max_height": null,
            "max_width": null,
            "min_height": null,
            "min_width": null,
            "object_fit": null,
            "object_position": null,
            "order": null,
            "overflow": null,
            "overflow_x": null,
            "overflow_y": null,
            "padding": null,
            "right": null,
            "top": null,
            "visibility": null,
            "width": null
          }
        },
        "17beaf8bb82e4d069a6360c1a3e5c778": {
          "model_module": "@jupyter-widgets/base",
          "model_name": "LayoutModel",
          "model_module_version": "1.2.0",
          "state": {
            "_model_module": "@jupyter-widgets/base",
            "_model_module_version": "1.2.0",
            "_model_name": "LayoutModel",
            "_view_count": null,
            "_view_module": "@jupyter-widgets/base",
            "_view_module_version": "1.2.0",
            "_view_name": "LayoutView",
            "align_content": null,
            "align_items": null,
            "align_self": null,
            "border": null,
            "bottom": null,
            "display": null,
            "flex": null,
            "flex_flow": null,
            "grid_area": null,
            "grid_auto_columns": null,
            "grid_auto_flow": null,
            "grid_auto_rows": null,
            "grid_column": null,
            "grid_gap": null,
            "grid_row": null,
            "grid_template_areas": null,
            "grid_template_columns": null,
            "grid_template_rows": null,
            "height": null,
            "justify_content": null,
            "justify_items": null,
            "left": null,
            "margin": null,
            "max_height": null,
            "max_width": null,
            "min_height": null,
            "min_width": null,
            "object_fit": null,
            "object_position": null,
            "order": null,
            "overflow": null,
            "overflow_x": null,
            "overflow_y": null,
            "padding": null,
            "right": null,
            "top": null,
            "visibility": null,
            "width": null
          }
        },
        "d942211e6fc9477e88c1bb2186074787": {
          "model_module": "@jupyter-widgets/controls",
          "model_name": "DescriptionStyleModel",
          "model_module_version": "1.5.0",
          "state": {
            "_model_module": "@jupyter-widgets/controls",
            "_model_module_version": "1.5.0",
            "_model_name": "DescriptionStyleModel",
            "_view_count": null,
            "_view_module": "@jupyter-widgets/base",
            "_view_module_version": "1.2.0",
            "_view_name": "StyleView",
            "description_width": ""
          }
        },
        "587e0622730e4340a9798d1301223097": {
          "model_module": "@jupyter-widgets/base",
          "model_name": "LayoutModel",
          "model_module_version": "1.2.0",
          "state": {
            "_model_module": "@jupyter-widgets/base",
            "_model_module_version": "1.2.0",
            "_model_name": "LayoutModel",
            "_view_count": null,
            "_view_module": "@jupyter-widgets/base",
            "_view_module_version": "1.2.0",
            "_view_name": "LayoutView",
            "align_content": null,
            "align_items": null,
            "align_self": null,
            "border": null,
            "bottom": null,
            "display": null,
            "flex": null,
            "flex_flow": null,
            "grid_area": null,
            "grid_auto_columns": null,
            "grid_auto_flow": null,
            "grid_auto_rows": null,
            "grid_column": null,
            "grid_gap": null,
            "grid_row": null,
            "grid_template_areas": null,
            "grid_template_columns": null,
            "grid_template_rows": null,
            "height": null,
            "justify_content": null,
            "justify_items": null,
            "left": null,
            "margin": null,
            "max_height": null,
            "max_width": null,
            "min_height": null,
            "min_width": null,
            "object_fit": null,
            "object_position": null,
            "order": null,
            "overflow": null,
            "overflow_x": null,
            "overflow_y": null,
            "padding": null,
            "right": null,
            "top": null,
            "visibility": null,
            "width": null
          }
        },
        "05da5ed6fbf54462a5d18cb76af70fb9": {
          "model_module": "@jupyter-widgets/controls",
          "model_name": "ProgressStyleModel",
          "model_module_version": "1.5.0",
          "state": {
            "_model_module": "@jupyter-widgets/controls",
            "_model_module_version": "1.5.0",
            "_model_name": "ProgressStyleModel",
            "_view_count": null,
            "_view_module": "@jupyter-widgets/base",
            "_view_module_version": "1.2.0",
            "_view_name": "StyleView",
            "bar_color": null,
            "description_width": ""
          }
        },
        "29b6ae5ad6e347c3b9c3e1a8145346a0": {
          "model_module": "@jupyter-widgets/base",
          "model_name": "LayoutModel",
          "model_module_version": "1.2.0",
          "state": {
            "_model_module": "@jupyter-widgets/base",
            "_model_module_version": "1.2.0",
            "_model_name": "LayoutModel",
            "_view_count": null,
            "_view_module": "@jupyter-widgets/base",
            "_view_module_version": "1.2.0",
            "_view_name": "LayoutView",
            "align_content": null,
            "align_items": null,
            "align_self": null,
            "border": null,
            "bottom": null,
            "display": null,
            "flex": null,
            "flex_flow": null,
            "grid_area": null,
            "grid_auto_columns": null,
            "grid_auto_flow": null,
            "grid_auto_rows": null,
            "grid_column": null,
            "grid_gap": null,
            "grid_row": null,
            "grid_template_areas": null,
            "grid_template_columns": null,
            "grid_template_rows": null,
            "height": null,
            "justify_content": null,
            "justify_items": null,
            "left": null,
            "margin": null,
            "max_height": null,
            "max_width": null,
            "min_height": null,
            "min_width": null,
            "object_fit": null,
            "object_position": null,
            "order": null,
            "overflow": null,
            "overflow_x": null,
            "overflow_y": null,
            "padding": null,
            "right": null,
            "top": null,
            "visibility": null,
            "width": null
          }
        },
        "71cb49b42f534ec7bab6f05943f3ab5f": {
          "model_module": "@jupyter-widgets/controls",
          "model_name": "DescriptionStyleModel",
          "model_module_version": "1.5.0",
          "state": {
            "_model_module": "@jupyter-widgets/controls",
            "_model_module_version": "1.5.0",
            "_model_name": "DescriptionStyleModel",
            "_view_count": null,
            "_view_module": "@jupyter-widgets/base",
            "_view_module_version": "1.2.0",
            "_view_name": "StyleView",
            "description_width": ""
          }
        },
        "4cc797fff0b94d44995b2b93c1cec20f": {
          "model_module": "@jupyter-widgets/controls",
          "model_name": "HBoxModel",
          "model_module_version": "1.5.0",
          "state": {
            "_dom_classes": [],
            "_model_module": "@jupyter-widgets/controls",
            "_model_module_version": "1.5.0",
            "_model_name": "HBoxModel",
            "_view_count": null,
            "_view_module": "@jupyter-widgets/controls",
            "_view_module_version": "1.5.0",
            "_view_name": "HBoxView",
            "box_style": "",
            "children": [
              "IPY_MODEL_cdf73a73bbbf435f8b173a605744ccaa",
              "IPY_MODEL_1ba6289e745f46369b7638afae51ea46",
              "IPY_MODEL_8159a06d4c8f4036a2af1fe66da19da9"
            ],
            "layout": "IPY_MODEL_47f01713845a40ce9219aad821344edf"
          }
        },
        "cdf73a73bbbf435f8b173a605744ccaa": {
          "model_module": "@jupyter-widgets/controls",
          "model_name": "HTMLModel",
          "model_module_version": "1.5.0",
          "state": {
            "_dom_classes": [],
            "_model_module": "@jupyter-widgets/controls",
            "_model_module_version": "1.5.0",
            "_model_name": "HTMLModel",
            "_view_count": null,
            "_view_module": "@jupyter-widgets/controls",
            "_view_module_version": "1.5.0",
            "_view_name": "HTMLView",
            "description": "",
            "description_tooltip": null,
            "layout": "IPY_MODEL_bfaa495e214b41509bb29fd49e4b33cd",
            "placeholder": "​",
            "style": "IPY_MODEL_81becd86408f40bf8b5c7767c94502ee",
            "value": "Downloading data: 100%"
          }
        },
        "1ba6289e745f46369b7638afae51ea46": {
          "model_module": "@jupyter-widgets/controls",
          "model_name": "FloatProgressModel",
          "model_module_version": "1.5.0",
          "state": {
            "_dom_classes": [],
            "_model_module": "@jupyter-widgets/controls",
            "_model_module_version": "1.5.0",
            "_model_name": "FloatProgressModel",
            "_view_count": null,
            "_view_module": "@jupyter-widgets/controls",
            "_view_module_version": "1.5.0",
            "_view_name": "ProgressView",
            "bar_style": "success",
            "description": "",
            "description_tooltip": null,
            "layout": "IPY_MODEL_9cb8ac09d64a4c4988804f5e71c77f9b",
            "max": 2102326,
            "min": 0,
            "orientation": "horizontal",
            "style": "IPY_MODEL_d086e5237dc243c09e3e1df58c51c9e8",
            "value": 2102326
          }
        },
        "8159a06d4c8f4036a2af1fe66da19da9": {
          "model_module": "@jupyter-widgets/controls",
          "model_name": "HTMLModel",
          "model_module_version": "1.5.0",
          "state": {
            "_dom_classes": [],
            "_model_module": "@jupyter-widgets/controls",
            "_model_module_version": "1.5.0",
            "_model_name": "HTMLModel",
            "_view_count": null,
            "_view_module": "@jupyter-widgets/controls",
            "_view_module_version": "1.5.0",
            "_view_name": "HTMLView",
            "description": "",
            "description_tooltip": null,
            "layout": "IPY_MODEL_b9bb7ce0575c4cb5b50574bf93da9cd6",
            "placeholder": "​",
            "style": "IPY_MODEL_71d8841e02634b2cbf07a4d3a6a8bf1a",
            "value": " 2.10M/2.10M [00:00&lt;00:00, 10.4MB/s]"
          }
        },
        "47f01713845a40ce9219aad821344edf": {
          "model_module": "@jupyter-widgets/base",
          "model_name": "LayoutModel",
          "model_module_version": "1.2.0",
          "state": {
            "_model_module": "@jupyter-widgets/base",
            "_model_module_version": "1.2.0",
            "_model_name": "LayoutModel",
            "_view_count": null,
            "_view_module": "@jupyter-widgets/base",
            "_view_module_version": "1.2.0",
            "_view_name": "LayoutView",
            "align_content": null,
            "align_items": null,
            "align_self": null,
            "border": null,
            "bottom": null,
            "display": null,
            "flex": null,
            "flex_flow": null,
            "grid_area": null,
            "grid_auto_columns": null,
            "grid_auto_flow": null,
            "grid_auto_rows": null,
            "grid_column": null,
            "grid_gap": null,
            "grid_row": null,
            "grid_template_areas": null,
            "grid_template_columns": null,
            "grid_template_rows": null,
            "height": null,
            "justify_content": null,
            "justify_items": null,
            "left": null,
            "margin": null,
            "max_height": null,
            "max_width": null,
            "min_height": null,
            "min_width": null,
            "object_fit": null,
            "object_position": null,
            "order": null,
            "overflow": null,
            "overflow_x": null,
            "overflow_y": null,
            "padding": null,
            "right": null,
            "top": null,
            "visibility": null,
            "width": null
          }
        },
        "bfaa495e214b41509bb29fd49e4b33cd": {
          "model_module": "@jupyter-widgets/base",
          "model_name": "LayoutModel",
          "model_module_version": "1.2.0",
          "state": {
            "_model_module": "@jupyter-widgets/base",
            "_model_module_version": "1.2.0",
            "_model_name": "LayoutModel",
            "_view_count": null,
            "_view_module": "@jupyter-widgets/base",
            "_view_module_version": "1.2.0",
            "_view_name": "LayoutView",
            "align_content": null,
            "align_items": null,
            "align_self": null,
            "border": null,
            "bottom": null,
            "display": null,
            "flex": null,
            "flex_flow": null,
            "grid_area": null,
            "grid_auto_columns": null,
            "grid_auto_flow": null,
            "grid_auto_rows": null,
            "grid_column": null,
            "grid_gap": null,
            "grid_row": null,
            "grid_template_areas": null,
            "grid_template_columns": null,
            "grid_template_rows": null,
            "height": null,
            "justify_content": null,
            "justify_items": null,
            "left": null,
            "margin": null,
            "max_height": null,
            "max_width": null,
            "min_height": null,
            "min_width": null,
            "object_fit": null,
            "object_position": null,
            "order": null,
            "overflow": null,
            "overflow_x": null,
            "overflow_y": null,
            "padding": null,
            "right": null,
            "top": null,
            "visibility": null,
            "width": null
          }
        },
        "81becd86408f40bf8b5c7767c94502ee": {
          "model_module": "@jupyter-widgets/controls",
          "model_name": "DescriptionStyleModel",
          "model_module_version": "1.5.0",
          "state": {
            "_model_module": "@jupyter-widgets/controls",
            "_model_module_version": "1.5.0",
            "_model_name": "DescriptionStyleModel",
            "_view_count": null,
            "_view_module": "@jupyter-widgets/base",
            "_view_module_version": "1.2.0",
            "_view_name": "StyleView",
            "description_width": ""
          }
        },
        "9cb8ac09d64a4c4988804f5e71c77f9b": {
          "model_module": "@jupyter-widgets/base",
          "model_name": "LayoutModel",
          "model_module_version": "1.2.0",
          "state": {
            "_model_module": "@jupyter-widgets/base",
            "_model_module_version": "1.2.0",
            "_model_name": "LayoutModel",
            "_view_count": null,
            "_view_module": "@jupyter-widgets/base",
            "_view_module_version": "1.2.0",
            "_view_name": "LayoutView",
            "align_content": null,
            "align_items": null,
            "align_self": null,
            "border": null,
            "bottom": null,
            "display": null,
            "flex": null,
            "flex_flow": null,
            "grid_area": null,
            "grid_auto_columns": null,
            "grid_auto_flow": null,
            "grid_auto_rows": null,
            "grid_column": null,
            "grid_gap": null,
            "grid_row": null,
            "grid_template_areas": null,
            "grid_template_columns": null,
            "grid_template_rows": null,
            "height": null,
            "justify_content": null,
            "justify_items": null,
            "left": null,
            "margin": null,
            "max_height": null,
            "max_width": null,
            "min_height": null,
            "min_width": null,
            "object_fit": null,
            "object_position": null,
            "order": null,
            "overflow": null,
            "overflow_x": null,
            "overflow_y": null,
            "padding": null,
            "right": null,
            "top": null,
            "visibility": null,
            "width": null
          }
        },
        "d086e5237dc243c09e3e1df58c51c9e8": {
          "model_module": "@jupyter-widgets/controls",
          "model_name": "ProgressStyleModel",
          "model_module_version": "1.5.0",
          "state": {
            "_model_module": "@jupyter-widgets/controls",
            "_model_module_version": "1.5.0",
            "_model_name": "ProgressStyleModel",
            "_view_count": null,
            "_view_module": "@jupyter-widgets/base",
            "_view_module_version": "1.2.0",
            "_view_name": "StyleView",
            "bar_color": null,
            "description_width": ""
          }
        },
        "b9bb7ce0575c4cb5b50574bf93da9cd6": {
          "model_module": "@jupyter-widgets/base",
          "model_name": "LayoutModel",
          "model_module_version": "1.2.0",
          "state": {
            "_model_module": "@jupyter-widgets/base",
            "_model_module_version": "1.2.0",
            "_model_name": "LayoutModel",
            "_view_count": null,
            "_view_module": "@jupyter-widgets/base",
            "_view_module_version": "1.2.0",
            "_view_name": "LayoutView",
            "align_content": null,
            "align_items": null,
            "align_self": null,
            "border": null,
            "bottom": null,
            "display": null,
            "flex": null,
            "flex_flow": null,
            "grid_area": null,
            "grid_auto_columns": null,
            "grid_auto_flow": null,
            "grid_auto_rows": null,
            "grid_column": null,
            "grid_gap": null,
            "grid_row": null,
            "grid_template_areas": null,
            "grid_template_columns": null,
            "grid_template_rows": null,
            "height": null,
            "justify_content": null,
            "justify_items": null,
            "left": null,
            "margin": null,
            "max_height": null,
            "max_width": null,
            "min_height": null,
            "min_width": null,
            "object_fit": null,
            "object_position": null,
            "order": null,
            "overflow": null,
            "overflow_x": null,
            "overflow_y": null,
            "padding": null,
            "right": null,
            "top": null,
            "visibility": null,
            "width": null
          }
        },
        "71d8841e02634b2cbf07a4d3a6a8bf1a": {
          "model_module": "@jupyter-widgets/controls",
          "model_name": "DescriptionStyleModel",
          "model_module_version": "1.5.0",
          "state": {
            "_model_module": "@jupyter-widgets/controls",
            "_model_module_version": "1.5.0",
            "_model_name": "DescriptionStyleModel",
            "_view_count": null,
            "_view_module": "@jupyter-widgets/base",
            "_view_module_version": "1.2.0",
            "_view_name": "StyleView",
            "description_width": ""
          }
        },
        "e20ad4393db84ffea66508b0ec4b7fd3": {
          "model_module": "@jupyter-widgets/controls",
          "model_name": "HBoxModel",
          "model_module_version": "1.5.0",
          "state": {
            "_dom_classes": [],
            "_model_module": "@jupyter-widgets/controls",
            "_model_module_version": "1.5.0",
            "_model_name": "HBoxModel",
            "_view_count": null,
            "_view_module": "@jupyter-widgets/controls",
            "_view_module_version": "1.5.0",
            "_view_name": "HBoxView",
            "box_style": "",
            "children": [
              "IPY_MODEL_9d52109cffea41549d1b67d3073c8071",
              "IPY_MODEL_7a960055097148fe83fe72e769185f4d",
              "IPY_MODEL_7914bfa77a9d4bb292450b471b3a0be7"
            ],
            "layout": "IPY_MODEL_b6859055c9fe46439dd9a987b34dbe58"
          }
        },
        "9d52109cffea41549d1b67d3073c8071": {
          "model_module": "@jupyter-widgets/controls",
          "model_name": "HTMLModel",
          "model_module_version": "1.5.0",
          "state": {
            "_dom_classes": [],
            "_model_module": "@jupyter-widgets/controls",
            "_model_module_version": "1.5.0",
            "_model_name": "HTMLModel",
            "_view_count": null,
            "_view_module": "@jupyter-widgets/controls",
            "_view_module_version": "1.5.0",
            "_view_name": "HTMLView",
            "description": "",
            "description_tooltip": null,
            "layout": "IPY_MODEL_a69359c6056e4875b25d2bef0bab2d8c",
            "placeholder": "​",
            "style": "IPY_MODEL_2e61cba37159427f8df7dbc3cef00061",
            "value": "Generating train split:  96%"
          }
        },
        "7a960055097148fe83fe72e769185f4d": {
          "model_module": "@jupyter-widgets/controls",
          "model_name": "FloatProgressModel",
          "model_module_version": "1.5.0",
          "state": {
            "_dom_classes": [],
            "_model_module": "@jupyter-widgets/controls",
            "_model_module_version": "1.5.0",
            "_model_name": "FloatProgressModel",
            "_view_count": null,
            "_view_module": "@jupyter-widgets/controls",
            "_view_module_version": "1.5.0",
            "_view_name": "ProgressView",
            "bar_style": "",
            "description": "",
            "description_tooltip": null,
            "layout": "IPY_MODEL_305b71dbfa5f45aba08be3ff2d1423fd",
            "max": 21628,
            "min": 0,
            "orientation": "horizontal",
            "style": "IPY_MODEL_cc2ff19907aa460faa47ccf4aaff05f9",
            "value": 21628
          }
        },
        "7914bfa77a9d4bb292450b471b3a0be7": {
          "model_module": "@jupyter-widgets/controls",
          "model_name": "HTMLModel",
          "model_module_version": "1.5.0",
          "state": {
            "_dom_classes": [],
            "_model_module": "@jupyter-widgets/controls",
            "_model_module_version": "1.5.0",
            "_model_name": "HTMLModel",
            "_view_count": null,
            "_view_module": "@jupyter-widgets/controls",
            "_view_module_version": "1.5.0",
            "_view_name": "HTMLView",
            "description": "",
            "description_tooltip": null,
            "layout": "IPY_MODEL_5159fcf34e064f559593b3648a30a370",
            "placeholder": "​",
            "style": "IPY_MODEL_141c0129b397449ba084adbc81d0bf17",
            "value": " 20852/21628 [00:02&lt;00:00, 6614.76 examples/s]"
          }
        },
        "b6859055c9fe46439dd9a987b34dbe58": {
          "model_module": "@jupyter-widgets/base",
          "model_name": "LayoutModel",
          "model_module_version": "1.2.0",
          "state": {
            "_model_module": "@jupyter-widgets/base",
            "_model_module_version": "1.2.0",
            "_model_name": "LayoutModel",
            "_view_count": null,
            "_view_module": "@jupyter-widgets/base",
            "_view_module_version": "1.2.0",
            "_view_name": "LayoutView",
            "align_content": null,
            "align_items": null,
            "align_self": null,
            "border": null,
            "bottom": null,
            "display": null,
            "flex": null,
            "flex_flow": null,
            "grid_area": null,
            "grid_auto_columns": null,
            "grid_auto_flow": null,
            "grid_auto_rows": null,
            "grid_column": null,
            "grid_gap": null,
            "grid_row": null,
            "grid_template_areas": null,
            "grid_template_columns": null,
            "grid_template_rows": null,
            "height": null,
            "justify_content": null,
            "justify_items": null,
            "left": null,
            "margin": null,
            "max_height": null,
            "max_width": null,
            "min_height": null,
            "min_width": null,
            "object_fit": null,
            "object_position": null,
            "order": null,
            "overflow": null,
            "overflow_x": null,
            "overflow_y": null,
            "padding": null,
            "right": null,
            "top": null,
            "visibility": null,
            "width": null
          }
        },
        "a69359c6056e4875b25d2bef0bab2d8c": {
          "model_module": "@jupyter-widgets/base",
          "model_name": "LayoutModel",
          "model_module_version": "1.2.0",
          "state": {
            "_model_module": "@jupyter-widgets/base",
            "_model_module_version": "1.2.0",
            "_model_name": "LayoutModel",
            "_view_count": null,
            "_view_module": "@jupyter-widgets/base",
            "_view_module_version": "1.2.0",
            "_view_name": "LayoutView",
            "align_content": null,
            "align_items": null,
            "align_self": null,
            "border": null,
            "bottom": null,
            "display": null,
            "flex": null,
            "flex_flow": null,
            "grid_area": null,
            "grid_auto_columns": null,
            "grid_auto_flow": null,
            "grid_auto_rows": null,
            "grid_column": null,
            "grid_gap": null,
            "grid_row": null,
            "grid_template_areas": null,
            "grid_template_columns": null,
            "grid_template_rows": null,
            "height": null,
            "justify_content": null,
            "justify_items": null,
            "left": null,
            "margin": null,
            "max_height": null,
            "max_width": null,
            "min_height": null,
            "min_width": null,
            "object_fit": null,
            "object_position": null,
            "order": null,
            "overflow": null,
            "overflow_x": null,
            "overflow_y": null,
            "padding": null,
            "right": null,
            "top": null,
            "visibility": null,
            "width": null
          }
        },
        "2e61cba37159427f8df7dbc3cef00061": {
          "model_module": "@jupyter-widgets/controls",
          "model_name": "DescriptionStyleModel",
          "model_module_version": "1.5.0",
          "state": {
            "_model_module": "@jupyter-widgets/controls",
            "_model_module_version": "1.5.0",
            "_model_name": "DescriptionStyleModel",
            "_view_count": null,
            "_view_module": "@jupyter-widgets/base",
            "_view_module_version": "1.2.0",
            "_view_name": "StyleView",
            "description_width": ""
          }
        },
        "305b71dbfa5f45aba08be3ff2d1423fd": {
          "model_module": "@jupyter-widgets/base",
          "model_name": "LayoutModel",
          "model_module_version": "1.2.0",
          "state": {
            "_model_module": "@jupyter-widgets/base",
            "_model_module_version": "1.2.0",
            "_model_name": "LayoutModel",
            "_view_count": null,
            "_view_module": "@jupyter-widgets/base",
            "_view_module_version": "1.2.0",
            "_view_name": "LayoutView",
            "align_content": null,
            "align_items": null,
            "align_self": null,
            "border": null,
            "bottom": null,
            "display": null,
            "flex": null,
            "flex_flow": null,
            "grid_area": null,
            "grid_auto_columns": null,
            "grid_auto_flow": null,
            "grid_auto_rows": null,
            "grid_column": null,
            "grid_gap": null,
            "grid_row": null,
            "grid_template_areas": null,
            "grid_template_columns": null,
            "grid_template_rows": null,
            "height": null,
            "justify_content": null,
            "justify_items": null,
            "left": null,
            "margin": null,
            "max_height": null,
            "max_width": null,
            "min_height": null,
            "min_width": null,
            "object_fit": null,
            "object_position": null,
            "order": null,
            "overflow": null,
            "overflow_x": null,
            "overflow_y": null,
            "padding": null,
            "right": null,
            "top": null,
            "visibility": null,
            "width": null
          }
        },
        "cc2ff19907aa460faa47ccf4aaff05f9": {
          "model_module": "@jupyter-widgets/controls",
          "model_name": "ProgressStyleModel",
          "model_module_version": "1.5.0",
          "state": {
            "_model_module": "@jupyter-widgets/controls",
            "_model_module_version": "1.5.0",
            "_model_name": "ProgressStyleModel",
            "_view_count": null,
            "_view_module": "@jupyter-widgets/base",
            "_view_module_version": "1.2.0",
            "_view_name": "StyleView",
            "bar_color": null,
            "description_width": ""
          }
        },
        "5159fcf34e064f559593b3648a30a370": {
          "model_module": "@jupyter-widgets/base",
          "model_name": "LayoutModel",
          "model_module_version": "1.2.0",
          "state": {
            "_model_module": "@jupyter-widgets/base",
            "_model_module_version": "1.2.0",
            "_model_name": "LayoutModel",
            "_view_count": null,
            "_view_module": "@jupyter-widgets/base",
            "_view_module_version": "1.2.0",
            "_view_name": "LayoutView",
            "align_content": null,
            "align_items": null,
            "align_self": null,
            "border": null,
            "bottom": null,
            "display": null,
            "flex": null,
            "flex_flow": null,
            "grid_area": null,
            "grid_auto_columns": null,
            "grid_auto_flow": null,
            "grid_auto_rows": null,
            "grid_column": null,
            "grid_gap": null,
            "grid_row": null,
            "grid_template_areas": null,
            "grid_template_columns": null,
            "grid_template_rows": null,
            "height": null,
            "justify_content": null,
            "justify_items": null,
            "left": null,
            "margin": null,
            "max_height": null,
            "max_width": null,
            "min_height": null,
            "min_width": null,
            "object_fit": null,
            "object_position": null,
            "order": null,
            "overflow": null,
            "overflow_x": null,
            "overflow_y": null,
            "padding": null,
            "right": null,
            "top": null,
            "visibility": null,
            "width": null
          }
        },
        "141c0129b397449ba084adbc81d0bf17": {
          "model_module": "@jupyter-widgets/controls",
          "model_name": "DescriptionStyleModel",
          "model_module_version": "1.5.0",
          "state": {
            "_model_module": "@jupyter-widgets/controls",
            "_model_module_version": "1.5.0",
            "_model_name": "DescriptionStyleModel",
            "_view_count": null,
            "_view_module": "@jupyter-widgets/base",
            "_view_module_version": "1.2.0",
            "_view_name": "StyleView",
            "description_width": ""
          }
        },
        "111efbc4e6ef468b8ad26b6724583894": {
          "model_module": "@jupyter-widgets/controls",
          "model_name": "HBoxModel",
          "model_module_version": "1.5.0",
          "state": {
            "_dom_classes": [],
            "_model_module": "@jupyter-widgets/controls",
            "_model_module_version": "1.5.0",
            "_model_name": "HBoxModel",
            "_view_count": null,
            "_view_module": "@jupyter-widgets/controls",
            "_view_module_version": "1.5.0",
            "_view_name": "HBoxView",
            "box_style": "",
            "children": [
              "IPY_MODEL_a358f0e769b84cb7aa92dbdd43dace11",
              "IPY_MODEL_b857a2ec09e54a79ac80d9e6c78553a4",
              "IPY_MODEL_a13358946cc0415bb7cf61302182500c"
            ],
            "layout": "IPY_MODEL_bd9b1d77d8214d709ef1f2c8126aab7d"
          }
        },
        "a358f0e769b84cb7aa92dbdd43dace11": {
          "model_module": "@jupyter-widgets/controls",
          "model_name": "HTMLModel",
          "model_module_version": "1.5.0",
          "state": {
            "_dom_classes": [],
            "_model_module": "@jupyter-widgets/controls",
            "_model_module_version": "1.5.0",
            "_model_name": "HTMLModel",
            "_view_count": null,
            "_view_module": "@jupyter-widgets/controls",
            "_view_module_version": "1.5.0",
            "_view_name": "HTMLView",
            "description": "",
            "description_tooltip": null,
            "layout": "IPY_MODEL_e60ba9ddd37b4b4194d2f3ecb19daabe",
            "placeholder": "​",
            "style": "IPY_MODEL_6edbd18ab94c4bb0bfee6b505a0542a5",
            "value": "Generating validation split:  92%"
          }
        },
        "b857a2ec09e54a79ac80d9e6c78553a4": {
          "model_module": "@jupyter-widgets/controls",
          "model_name": "FloatProgressModel",
          "model_module_version": "1.5.0",
          "state": {
            "_dom_classes": [],
            "_model_module": "@jupyter-widgets/controls",
            "_model_module_version": "1.5.0",
            "_model_name": "FloatProgressModel",
            "_view_count": null,
            "_view_module": "@jupyter-widgets/controls",
            "_view_module_version": "1.5.0",
            "_view_name": "ProgressView",
            "bar_style": "",
            "description": "",
            "description_tooltip": null,
            "layout": "IPY_MODEL_ea43812621ad4690a27f09f6e0cb1244",
            "max": 2404,
            "min": 0,
            "orientation": "horizontal",
            "style": "IPY_MODEL_fbeaf676bba74be992dff03cc38af47c",
            "value": 2404
          }
        },
        "a13358946cc0415bb7cf61302182500c": {
          "model_module": "@jupyter-widgets/controls",
          "model_name": "HTMLModel",
          "model_module_version": "1.5.0",
          "state": {
            "_dom_classes": [],
            "_model_module": "@jupyter-widgets/controls",
            "_model_module_version": "1.5.0",
            "_model_name": "HTMLModel",
            "_view_count": null,
            "_view_module": "@jupyter-widgets/controls",
            "_view_module_version": "1.5.0",
            "_view_name": "HTMLView",
            "description": "",
            "description_tooltip": null,
            "layout": "IPY_MODEL_c0a8f8d9b0d6464395ca1a365a8132d7",
            "placeholder": "​",
            "style": "IPY_MODEL_e3392ed2f57b4d30bcc3cb415d132c5b",
            "value": " 2211/2404 [00:00&lt;00:00, 8086.33 examples/s]"
          }
        },
        "bd9b1d77d8214d709ef1f2c8126aab7d": {
          "model_module": "@jupyter-widgets/base",
          "model_name": "LayoutModel",
          "model_module_version": "1.2.0",
          "state": {
            "_model_module": "@jupyter-widgets/base",
            "_model_module_version": "1.2.0",
            "_model_name": "LayoutModel",
            "_view_count": null,
            "_view_module": "@jupyter-widgets/base",
            "_view_module_version": "1.2.0",
            "_view_name": "LayoutView",
            "align_content": null,
            "align_items": null,
            "align_self": null,
            "border": null,
            "bottom": null,
            "display": null,
            "flex": null,
            "flex_flow": null,
            "grid_area": null,
            "grid_auto_columns": null,
            "grid_auto_flow": null,
            "grid_auto_rows": null,
            "grid_column": null,
            "grid_gap": null,
            "grid_row": null,
            "grid_template_areas": null,
            "grid_template_columns": null,
            "grid_template_rows": null,
            "height": null,
            "justify_content": null,
            "justify_items": null,
            "left": null,
            "margin": null,
            "max_height": null,
            "max_width": null,
            "min_height": null,
            "min_width": null,
            "object_fit": null,
            "object_position": null,
            "order": null,
            "overflow": null,
            "overflow_x": null,
            "overflow_y": null,
            "padding": null,
            "right": null,
            "top": null,
            "visibility": null,
            "width": null
          }
        },
        "e60ba9ddd37b4b4194d2f3ecb19daabe": {
          "model_module": "@jupyter-widgets/base",
          "model_name": "LayoutModel",
          "model_module_version": "1.2.0",
          "state": {
            "_model_module": "@jupyter-widgets/base",
            "_model_module_version": "1.2.0",
            "_model_name": "LayoutModel",
            "_view_count": null,
            "_view_module": "@jupyter-widgets/base",
            "_view_module_version": "1.2.0",
            "_view_name": "LayoutView",
            "align_content": null,
            "align_items": null,
            "align_self": null,
            "border": null,
            "bottom": null,
            "display": null,
            "flex": null,
            "flex_flow": null,
            "grid_area": null,
            "grid_auto_columns": null,
            "grid_auto_flow": null,
            "grid_auto_rows": null,
            "grid_column": null,
            "grid_gap": null,
            "grid_row": null,
            "grid_template_areas": null,
            "grid_template_columns": null,
            "grid_template_rows": null,
            "height": null,
            "justify_content": null,
            "justify_items": null,
            "left": null,
            "margin": null,
            "max_height": null,
            "max_width": null,
            "min_height": null,
            "min_width": null,
            "object_fit": null,
            "object_position": null,
            "order": null,
            "overflow": null,
            "overflow_x": null,
            "overflow_y": null,
            "padding": null,
            "right": null,
            "top": null,
            "visibility": null,
            "width": null
          }
        },
        "6edbd18ab94c4bb0bfee6b505a0542a5": {
          "model_module": "@jupyter-widgets/controls",
          "model_name": "DescriptionStyleModel",
          "model_module_version": "1.5.0",
          "state": {
            "_model_module": "@jupyter-widgets/controls",
            "_model_module_version": "1.5.0",
            "_model_name": "DescriptionStyleModel",
            "_view_count": null,
            "_view_module": "@jupyter-widgets/base",
            "_view_module_version": "1.2.0",
            "_view_name": "StyleView",
            "description_width": ""
          }
        },
        "ea43812621ad4690a27f09f6e0cb1244": {
          "model_module": "@jupyter-widgets/base",
          "model_name": "LayoutModel",
          "model_module_version": "1.2.0",
          "state": {
            "_model_module": "@jupyter-widgets/base",
            "_model_module_version": "1.2.0",
            "_model_name": "LayoutModel",
            "_view_count": null,
            "_view_module": "@jupyter-widgets/base",
            "_view_module_version": "1.2.0",
            "_view_name": "LayoutView",
            "align_content": null,
            "align_items": null,
            "align_self": null,
            "border": null,
            "bottom": null,
            "display": null,
            "flex": null,
            "flex_flow": null,
            "grid_area": null,
            "grid_auto_columns": null,
            "grid_auto_flow": null,
            "grid_auto_rows": null,
            "grid_column": null,
            "grid_gap": null,
            "grid_row": null,
            "grid_template_areas": null,
            "grid_template_columns": null,
            "grid_template_rows": null,
            "height": null,
            "justify_content": null,
            "justify_items": null,
            "left": null,
            "margin": null,
            "max_height": null,
            "max_width": null,
            "min_height": null,
            "min_width": null,
            "object_fit": null,
            "object_position": null,
            "order": null,
            "overflow": null,
            "overflow_x": null,
            "overflow_y": null,
            "padding": null,
            "right": null,
            "top": null,
            "visibility": null,
            "width": null
          }
        },
        "fbeaf676bba74be992dff03cc38af47c": {
          "model_module": "@jupyter-widgets/controls",
          "model_name": "ProgressStyleModel",
          "model_module_version": "1.5.0",
          "state": {
            "_model_module": "@jupyter-widgets/controls",
            "_model_module_version": "1.5.0",
            "_model_name": "ProgressStyleModel",
            "_view_count": null,
            "_view_module": "@jupyter-widgets/base",
            "_view_module_version": "1.2.0",
            "_view_name": "StyleView",
            "bar_color": null,
            "description_width": ""
          }
        },
        "c0a8f8d9b0d6464395ca1a365a8132d7": {
          "model_module": "@jupyter-widgets/base",
          "model_name": "LayoutModel",
          "model_module_version": "1.2.0",
          "state": {
            "_model_module": "@jupyter-widgets/base",
            "_model_module_version": "1.2.0",
            "_model_name": "LayoutModel",
            "_view_count": null,
            "_view_module": "@jupyter-widgets/base",
            "_view_module_version": "1.2.0",
            "_view_name": "LayoutView",
            "align_content": null,
            "align_items": null,
            "align_self": null,
            "border": null,
            "bottom": null,
            "display": null,
            "flex": null,
            "flex_flow": null,
            "grid_area": null,
            "grid_auto_columns": null,
            "grid_auto_flow": null,
            "grid_auto_rows": null,
            "grid_column": null,
            "grid_gap": null,
            "grid_row": null,
            "grid_template_areas": null,
            "grid_template_columns": null,
            "grid_template_rows": null,
            "height": null,
            "justify_content": null,
            "justify_items": null,
            "left": null,
            "margin": null,
            "max_height": null,
            "max_width": null,
            "min_height": null,
            "min_width": null,
            "object_fit": null,
            "object_position": null,
            "order": null,
            "overflow": null,
            "overflow_x": null,
            "overflow_y": null,
            "padding": null,
            "right": null,
            "top": null,
            "visibility": null,
            "width": null
          }
        },
        "e3392ed2f57b4d30bcc3cb415d132c5b": {
          "model_module": "@jupyter-widgets/controls",
          "model_name": "DescriptionStyleModel",
          "model_module_version": "1.5.0",
          "state": {
            "_model_module": "@jupyter-widgets/controls",
            "_model_module_version": "1.5.0",
            "_model_name": "DescriptionStyleModel",
            "_view_count": null,
            "_view_module": "@jupyter-widgets/base",
            "_view_module_version": "1.2.0",
            "_view_name": "StyleView",
            "description_width": ""
          }
        },
        "395627b50bea47419330c18bdf5b5341": {
          "model_module": "@jupyter-widgets/controls",
          "model_name": "HBoxModel",
          "model_module_version": "1.5.0",
          "state": {
            "_dom_classes": [],
            "_model_module": "@jupyter-widgets/controls",
            "_model_module_version": "1.5.0",
            "_model_name": "HBoxModel",
            "_view_count": null,
            "_view_module": "@jupyter-widgets/controls",
            "_view_module_version": "1.5.0",
            "_view_name": "HBoxView",
            "box_style": "",
            "children": [
              "IPY_MODEL_64cc225a16854f5880f06a7bd8b298b2",
              "IPY_MODEL_dddafc3a6a3548799b305cfe96c4d914",
              "IPY_MODEL_95b7169bf7f94e1f8f54f4cbf115e4f0"
            ],
            "layout": "IPY_MODEL_3e717dde41114526aa5d5f74fb3621b7"
          }
        },
        "64cc225a16854f5880f06a7bd8b298b2": {
          "model_module": "@jupyter-widgets/controls",
          "model_name": "HTMLModel",
          "model_module_version": "1.5.0",
          "state": {
            "_dom_classes": [],
            "_model_module": "@jupyter-widgets/controls",
            "_model_module_version": "1.5.0",
            "_model_name": "HTMLModel",
            "_view_count": null,
            "_view_module": "@jupyter-widgets/controls",
            "_view_module_version": "1.5.0",
            "_view_name": "HTMLView",
            "description": "",
            "description_tooltip": null,
            "layout": "IPY_MODEL_d9cdc9a835ac4a0297a25d4671b7d415",
            "placeholder": "​",
            "style": "IPY_MODEL_a3791dfdb0ec473caa6eac3d76ea8a56",
            "value": "Generating test split:  95%"
          }
        },
        "dddafc3a6a3548799b305cfe96c4d914": {
          "model_module": "@jupyter-widgets/controls",
          "model_name": "FloatProgressModel",
          "model_module_version": "1.5.0",
          "state": {
            "_dom_classes": [],
            "_model_module": "@jupyter-widgets/controls",
            "_model_module_version": "1.5.0",
            "_model_name": "FloatProgressModel",
            "_view_count": null,
            "_view_module": "@jupyter-widgets/controls",
            "_view_module_version": "1.5.0",
            "_view_name": "ProgressView",
            "bar_style": "",
            "description": "",
            "description_tooltip": null,
            "layout": "IPY_MODEL_1233c4348d4a47a99d07b9207d78e57d",
            "max": 2671,
            "min": 0,
            "orientation": "horizontal",
            "style": "IPY_MODEL_0fad9d0da5b0468aa79047302f08ae7d",
            "value": 2671
          }
        },
        "95b7169bf7f94e1f8f54f4cbf115e4f0": {
          "model_module": "@jupyter-widgets/controls",
          "model_name": "HTMLModel",
          "model_module_version": "1.5.0",
          "state": {
            "_dom_classes": [],
            "_model_module": "@jupyter-widgets/controls",
            "_model_module_version": "1.5.0",
            "_model_name": "HTMLModel",
            "_view_count": null,
            "_view_module": "@jupyter-widgets/controls",
            "_view_module_version": "1.5.0",
            "_view_name": "HTMLView",
            "description": "",
            "description_tooltip": null,
            "layout": "IPY_MODEL_ee25d911e7c640c385aa5c269af4d2b8",
            "placeholder": "​",
            "style": "IPY_MODEL_f52fb2e1e8f446cebc8eb4e1eec63228",
            "value": " 2526/2671 [00:00&lt;00:00, 7119.50 examples/s]"
          }
        },
        "3e717dde41114526aa5d5f74fb3621b7": {
          "model_module": "@jupyter-widgets/base",
          "model_name": "LayoutModel",
          "model_module_version": "1.2.0",
          "state": {
            "_model_module": "@jupyter-widgets/base",
            "_model_module_version": "1.2.0",
            "_model_name": "LayoutModel",
            "_view_count": null,
            "_view_module": "@jupyter-widgets/base",
            "_view_module_version": "1.2.0",
            "_view_name": "LayoutView",
            "align_content": null,
            "align_items": null,
            "align_self": null,
            "border": null,
            "bottom": null,
            "display": null,
            "flex": null,
            "flex_flow": null,
            "grid_area": null,
            "grid_auto_columns": null,
            "grid_auto_flow": null,
            "grid_auto_rows": null,
            "grid_column": null,
            "grid_gap": null,
            "grid_row": null,
            "grid_template_areas": null,
            "grid_template_columns": null,
            "grid_template_rows": null,
            "height": null,
            "justify_content": null,
            "justify_items": null,
            "left": null,
            "margin": null,
            "max_height": null,
            "max_width": null,
            "min_height": null,
            "min_width": null,
            "object_fit": null,
            "object_position": null,
            "order": null,
            "overflow": null,
            "overflow_x": null,
            "overflow_y": null,
            "padding": null,
            "right": null,
            "top": null,
            "visibility": null,
            "width": null
          }
        },
        "d9cdc9a835ac4a0297a25d4671b7d415": {
          "model_module": "@jupyter-widgets/base",
          "model_name": "LayoutModel",
          "model_module_version": "1.2.0",
          "state": {
            "_model_module": "@jupyter-widgets/base",
            "_model_module_version": "1.2.0",
            "_model_name": "LayoutModel",
            "_view_count": null,
            "_view_module": "@jupyter-widgets/base",
            "_view_module_version": "1.2.0",
            "_view_name": "LayoutView",
            "align_content": null,
            "align_items": null,
            "align_self": null,
            "border": null,
            "bottom": null,
            "display": null,
            "flex": null,
            "flex_flow": null,
            "grid_area": null,
            "grid_auto_columns": null,
            "grid_auto_flow": null,
            "grid_auto_rows": null,
            "grid_column": null,
            "grid_gap": null,
            "grid_row": null,
            "grid_template_areas": null,
            "grid_template_columns": null,
            "grid_template_rows": null,
            "height": null,
            "justify_content": null,
            "justify_items": null,
            "left": null,
            "margin": null,
            "max_height": null,
            "max_width": null,
            "min_height": null,
            "min_width": null,
            "object_fit": null,
            "object_position": null,
            "order": null,
            "overflow": null,
            "overflow_x": null,
            "overflow_y": null,
            "padding": null,
            "right": null,
            "top": null,
            "visibility": null,
            "width": null
          }
        },
        "a3791dfdb0ec473caa6eac3d76ea8a56": {
          "model_module": "@jupyter-widgets/controls",
          "model_name": "DescriptionStyleModel",
          "model_module_version": "1.5.0",
          "state": {
            "_model_module": "@jupyter-widgets/controls",
            "_model_module_version": "1.5.0",
            "_model_name": "DescriptionStyleModel",
            "_view_count": null,
            "_view_module": "@jupyter-widgets/base",
            "_view_module_version": "1.2.0",
            "_view_name": "StyleView",
            "description_width": ""
          }
        },
        "1233c4348d4a47a99d07b9207d78e57d": {
          "model_module": "@jupyter-widgets/base",
          "model_name": "LayoutModel",
          "model_module_version": "1.2.0",
          "state": {
            "_model_module": "@jupyter-widgets/base",
            "_model_module_version": "1.2.0",
            "_model_name": "LayoutModel",
            "_view_count": null,
            "_view_module": "@jupyter-widgets/base",
            "_view_module_version": "1.2.0",
            "_view_name": "LayoutView",
            "align_content": null,
            "align_items": null,
            "align_self": null,
            "border": null,
            "bottom": null,
            "display": null,
            "flex": null,
            "flex_flow": null,
            "grid_area": null,
            "grid_auto_columns": null,
            "grid_auto_flow": null,
            "grid_auto_rows": null,
            "grid_column": null,
            "grid_gap": null,
            "grid_row": null,
            "grid_template_areas": null,
            "grid_template_columns": null,
            "grid_template_rows": null,
            "height": null,
            "justify_content": null,
            "justify_items": null,
            "left": null,
            "margin": null,
            "max_height": null,
            "max_width": null,
            "min_height": null,
            "min_width": null,
            "object_fit": null,
            "object_position": null,
            "order": null,
            "overflow": null,
            "overflow_x": null,
            "overflow_y": null,
            "padding": null,
            "right": null,
            "top": null,
            "visibility": null,
            "width": null
          }
        },
        "0fad9d0da5b0468aa79047302f08ae7d": {
          "model_module": "@jupyter-widgets/controls",
          "model_name": "ProgressStyleModel",
          "model_module_version": "1.5.0",
          "state": {
            "_model_module": "@jupyter-widgets/controls",
            "_model_module_version": "1.5.0",
            "_model_name": "ProgressStyleModel",
            "_view_count": null,
            "_view_module": "@jupyter-widgets/base",
            "_view_module_version": "1.2.0",
            "_view_name": "StyleView",
            "bar_color": null,
            "description_width": ""
          }
        },
        "ee25d911e7c640c385aa5c269af4d2b8": {
          "model_module": "@jupyter-widgets/base",
          "model_name": "LayoutModel",
          "model_module_version": "1.2.0",
          "state": {
            "_model_module": "@jupyter-widgets/base",
            "_model_module_version": "1.2.0",
            "_model_name": "LayoutModel",
            "_view_count": null,
            "_view_module": "@jupyter-widgets/base",
            "_view_module_version": "1.2.0",
            "_view_name": "LayoutView",
            "align_content": null,
            "align_items": null,
            "align_self": null,
            "border": null,
            "bottom": null,
            "display": null,
            "flex": null,
            "flex_flow": null,
            "grid_area": null,
            "grid_auto_columns": null,
            "grid_auto_flow": null,
            "grid_auto_rows": null,
            "grid_column": null,
            "grid_gap": null,
            "grid_row": null,
            "grid_template_areas": null,
            "grid_template_columns": null,
            "grid_template_rows": null,
            "height": null,
            "justify_content": null,
            "justify_items": null,
            "left": null,
            "margin": null,
            "max_height": null,
            "max_width": null,
            "min_height": null,
            "min_width": null,
            "object_fit": null,
            "object_position": null,
            "order": null,
            "overflow": null,
            "overflow_x": null,
            "overflow_y": null,
            "padding": null,
            "right": null,
            "top": null,
            "visibility": null,
            "width": null
          }
        },
        "f52fb2e1e8f446cebc8eb4e1eec63228": {
          "model_module": "@jupyter-widgets/controls",
          "model_name": "DescriptionStyleModel",
          "model_module_version": "1.5.0",
          "state": {
            "_model_module": "@jupyter-widgets/controls",
            "_model_module_version": "1.5.0",
            "_model_name": "DescriptionStyleModel",
            "_view_count": null,
            "_view_module": "@jupyter-widgets/base",
            "_view_module_version": "1.2.0",
            "_view_name": "StyleView",
            "description_width": ""
          }
        },
        "e751b4ca0fbb408b8a8763ed3f544b2e": {
          "model_module": "@jupyter-widgets/controls",
          "model_name": "HBoxModel",
          "model_module_version": "1.5.0",
          "state": {
            "_dom_classes": [],
            "_model_module": "@jupyter-widgets/controls",
            "_model_module_version": "1.5.0",
            "_model_name": "HBoxModel",
            "_view_count": null,
            "_view_module": "@jupyter-widgets/controls",
            "_view_module_version": "1.5.0",
            "_view_name": "HBoxView",
            "box_style": "",
            "children": [
              "IPY_MODEL_ffa883fbc244438d869cdbc7f5f8c68f",
              "IPY_MODEL_8981bf506f1b4c15ae1afb2116f93d82",
              "IPY_MODEL_425b95e77e95453aa809027e03a366f4"
            ],
            "layout": "IPY_MODEL_429a375bd757452aab4892b01ff8c1e3"
          }
        },
        "ffa883fbc244438d869cdbc7f5f8c68f": {
          "model_module": "@jupyter-widgets/controls",
          "model_name": "HTMLModel",
          "model_module_version": "1.5.0",
          "state": {
            "_dom_classes": [],
            "_model_module": "@jupyter-widgets/controls",
            "_model_module_version": "1.5.0",
            "_model_name": "HTMLModel",
            "_view_count": null,
            "_view_module": "@jupyter-widgets/controls",
            "_view_module_version": "1.5.0",
            "_view_name": "HTMLView",
            "description": "",
            "description_tooltip": null,
            "layout": "IPY_MODEL_d28d449e38a84143a5889152e262a16c",
            "placeholder": "​",
            "style": "IPY_MODEL_542a4f075dd64c3a9003bbd718ba08a9",
            "value": "100%"
          }
        },
        "8981bf506f1b4c15ae1afb2116f93d82": {
          "model_module": "@jupyter-widgets/controls",
          "model_name": "FloatProgressModel",
          "model_module_version": "1.5.0",
          "state": {
            "_dom_classes": [],
            "_model_module": "@jupyter-widgets/controls",
            "_model_module_version": "1.5.0",
            "_model_name": "FloatProgressModel",
            "_view_count": null,
            "_view_module": "@jupyter-widgets/controls",
            "_view_module_version": "1.5.0",
            "_view_name": "ProgressView",
            "bar_style": "success",
            "description": "",
            "description_tooltip": null,
            "layout": "IPY_MODEL_4f69449239be417c967427f68370e335",
            "max": 3,
            "min": 0,
            "orientation": "horizontal",
            "style": "IPY_MODEL_19a6718de53746d193db7318d61fc2b0",
            "value": 3
          }
        },
        "425b95e77e95453aa809027e03a366f4": {
          "model_module": "@jupyter-widgets/controls",
          "model_name": "HTMLModel",
          "model_module_version": "1.5.0",
          "state": {
            "_dom_classes": [],
            "_model_module": "@jupyter-widgets/controls",
            "_model_module_version": "1.5.0",
            "_model_name": "HTMLModel",
            "_view_count": null,
            "_view_module": "@jupyter-widgets/controls",
            "_view_module_version": "1.5.0",
            "_view_name": "HTMLView",
            "description": "",
            "description_tooltip": null,
            "layout": "IPY_MODEL_868ebe3ef9a347c9b980b45284e5eff0",
            "placeholder": "​",
            "style": "IPY_MODEL_b7dbf538cf784b45916aa7158d13ee90",
            "value": " 3/3 [00:00&lt;00:00,  9.35it/s]"
          }
        },
        "429a375bd757452aab4892b01ff8c1e3": {
          "model_module": "@jupyter-widgets/base",
          "model_name": "LayoutModel",
          "model_module_version": "1.2.0",
          "state": {
            "_model_module": "@jupyter-widgets/base",
            "_model_module_version": "1.2.0",
            "_model_name": "LayoutModel",
            "_view_count": null,
            "_view_module": "@jupyter-widgets/base",
            "_view_module_version": "1.2.0",
            "_view_name": "LayoutView",
            "align_content": null,
            "align_items": null,
            "align_self": null,
            "border": null,
            "bottom": null,
            "display": null,
            "flex": null,
            "flex_flow": null,
            "grid_area": null,
            "grid_auto_columns": null,
            "grid_auto_flow": null,
            "grid_auto_rows": null,
            "grid_column": null,
            "grid_gap": null,
            "grid_row": null,
            "grid_template_areas": null,
            "grid_template_columns": null,
            "grid_template_rows": null,
            "height": null,
            "justify_content": null,
            "justify_items": null,
            "left": null,
            "margin": null,
            "max_height": null,
            "max_width": null,
            "min_height": null,
            "min_width": null,
            "object_fit": null,
            "object_position": null,
            "order": null,
            "overflow": null,
            "overflow_x": null,
            "overflow_y": null,
            "padding": null,
            "right": null,
            "top": null,
            "visibility": null,
            "width": null
          }
        },
        "d28d449e38a84143a5889152e262a16c": {
          "model_module": "@jupyter-widgets/base",
          "model_name": "LayoutModel",
          "model_module_version": "1.2.0",
          "state": {
            "_model_module": "@jupyter-widgets/base",
            "_model_module_version": "1.2.0",
            "_model_name": "LayoutModel",
            "_view_count": null,
            "_view_module": "@jupyter-widgets/base",
            "_view_module_version": "1.2.0",
            "_view_name": "LayoutView",
            "align_content": null,
            "align_items": null,
            "align_self": null,
            "border": null,
            "bottom": null,
            "display": null,
            "flex": null,
            "flex_flow": null,
            "grid_area": null,
            "grid_auto_columns": null,
            "grid_auto_flow": null,
            "grid_auto_rows": null,
            "grid_column": null,
            "grid_gap": null,
            "grid_row": null,
            "grid_template_areas": null,
            "grid_template_columns": null,
            "grid_template_rows": null,
            "height": null,
            "justify_content": null,
            "justify_items": null,
            "left": null,
            "margin": null,
            "max_height": null,
            "max_width": null,
            "min_height": null,
            "min_width": null,
            "object_fit": null,
            "object_position": null,
            "order": null,
            "overflow": null,
            "overflow_x": null,
            "overflow_y": null,
            "padding": null,
            "right": null,
            "top": null,
            "visibility": null,
            "width": null
          }
        },
        "542a4f075dd64c3a9003bbd718ba08a9": {
          "model_module": "@jupyter-widgets/controls",
          "model_name": "DescriptionStyleModel",
          "model_module_version": "1.5.0",
          "state": {
            "_model_module": "@jupyter-widgets/controls",
            "_model_module_version": "1.5.0",
            "_model_name": "DescriptionStyleModel",
            "_view_count": null,
            "_view_module": "@jupyter-widgets/base",
            "_view_module_version": "1.2.0",
            "_view_name": "StyleView",
            "description_width": ""
          }
        },
        "4f69449239be417c967427f68370e335": {
          "model_module": "@jupyter-widgets/base",
          "model_name": "LayoutModel",
          "model_module_version": "1.2.0",
          "state": {
            "_model_module": "@jupyter-widgets/base",
            "_model_module_version": "1.2.0",
            "_model_name": "LayoutModel",
            "_view_count": null,
            "_view_module": "@jupyter-widgets/base",
            "_view_module_version": "1.2.0",
            "_view_name": "LayoutView",
            "align_content": null,
            "align_items": null,
            "align_self": null,
            "border": null,
            "bottom": null,
            "display": null,
            "flex": null,
            "flex_flow": null,
            "grid_area": null,
            "grid_auto_columns": null,
            "grid_auto_flow": null,
            "grid_auto_rows": null,
            "grid_column": null,
            "grid_gap": null,
            "grid_row": null,
            "grid_template_areas": null,
            "grid_template_columns": null,
            "grid_template_rows": null,
            "height": null,
            "justify_content": null,
            "justify_items": null,
            "left": null,
            "margin": null,
            "max_height": null,
            "max_width": null,
            "min_height": null,
            "min_width": null,
            "object_fit": null,
            "object_position": null,
            "order": null,
            "overflow": null,
            "overflow_x": null,
            "overflow_y": null,
            "padding": null,
            "right": null,
            "top": null,
            "visibility": null,
            "width": null
          }
        },
        "19a6718de53746d193db7318d61fc2b0": {
          "model_module": "@jupyter-widgets/controls",
          "model_name": "ProgressStyleModel",
          "model_module_version": "1.5.0",
          "state": {
            "_model_module": "@jupyter-widgets/controls",
            "_model_module_version": "1.5.0",
            "_model_name": "ProgressStyleModel",
            "_view_count": null,
            "_view_module": "@jupyter-widgets/base",
            "_view_module_version": "1.2.0",
            "_view_name": "StyleView",
            "bar_color": null,
            "description_width": ""
          }
        },
        "868ebe3ef9a347c9b980b45284e5eff0": {
          "model_module": "@jupyter-widgets/base",
          "model_name": "LayoutModel",
          "model_module_version": "1.2.0",
          "state": {
            "_model_module": "@jupyter-widgets/base",
            "_model_module_version": "1.2.0",
            "_model_name": "LayoutModel",
            "_view_count": null,
            "_view_module": "@jupyter-widgets/base",
            "_view_module_version": "1.2.0",
            "_view_name": "LayoutView",
            "align_content": null,
            "align_items": null,
            "align_self": null,
            "border": null,
            "bottom": null,
            "display": null,
            "flex": null,
            "flex_flow": null,
            "grid_area": null,
            "grid_auto_columns": null,
            "grid_auto_flow": null,
            "grid_auto_rows": null,
            "grid_column": null,
            "grid_gap": null,
            "grid_row": null,
            "grid_template_areas": null,
            "grid_template_columns": null,
            "grid_template_rows": null,
            "height": null,
            "justify_content": null,
            "justify_items": null,
            "left": null,
            "margin": null,
            "max_height": null,
            "max_width": null,
            "min_height": null,
            "min_width": null,
            "object_fit": null,
            "object_position": null,
            "order": null,
            "overflow": null,
            "overflow_x": null,
            "overflow_y": null,
            "padding": null,
            "right": null,
            "top": null,
            "visibility": null,
            "width": null
          }
        },
        "b7dbf538cf784b45916aa7158d13ee90": {
          "model_module": "@jupyter-widgets/controls",
          "model_name": "DescriptionStyleModel",
          "model_module_version": "1.5.0",
          "state": {
            "_model_module": "@jupyter-widgets/controls",
            "_model_module_version": "1.5.0",
            "_model_name": "DescriptionStyleModel",
            "_view_count": null,
            "_view_module": "@jupyter-widgets/base",
            "_view_module_version": "1.2.0",
            "_view_name": "StyleView",
            "description_width": ""
          }
        },
        "3750d256a80b4759938b6c1a189f250c": {
          "model_module": "@jupyter-widgets/controls",
          "model_name": "HBoxModel",
          "model_module_version": "1.5.0",
          "state": {
            "_dom_classes": [],
            "_model_module": "@jupyter-widgets/controls",
            "_model_module_version": "1.5.0",
            "_model_name": "HBoxModel",
            "_view_count": null,
            "_view_module": "@jupyter-widgets/controls",
            "_view_module_version": "1.5.0",
            "_view_name": "HBoxView",
            "box_style": "",
            "children": [
              "IPY_MODEL_3a03108833684181a9e9133bec97dc85",
              "IPY_MODEL_78ea2ba06b724a328777c1925b061d5e",
              "IPY_MODEL_cb44f566470c457d959954bf0f753647"
            ],
            "layout": "IPY_MODEL_79c346ee361142268b696499041bcec6"
          }
        },
        "3a03108833684181a9e9133bec97dc85": {
          "model_module": "@jupyter-widgets/controls",
          "model_name": "HTMLModel",
          "model_module_version": "1.5.0",
          "state": {
            "_dom_classes": [],
            "_model_module": "@jupyter-widgets/controls",
            "_model_module_version": "1.5.0",
            "_model_name": "HTMLModel",
            "_view_count": null,
            "_view_module": "@jupyter-widgets/controls",
            "_view_module_version": "1.5.0",
            "_view_name": "HTMLView",
            "description": "",
            "description_tooltip": null,
            "layout": "IPY_MODEL_016cdd8fd8894d369cfd82667b618dac",
            "placeholder": "​",
            "style": "IPY_MODEL_98f64f1bd81341f9b8848a0f45174591",
            "value": "100%"
          }
        },
        "78ea2ba06b724a328777c1925b061d5e": {
          "model_module": "@jupyter-widgets/controls",
          "model_name": "FloatProgressModel",
          "model_module_version": "1.5.0",
          "state": {
            "_dom_classes": [],
            "_model_module": "@jupyter-widgets/controls",
            "_model_module_version": "1.5.0",
            "_model_name": "FloatProgressModel",
            "_view_count": null,
            "_view_module": "@jupyter-widgets/controls",
            "_view_module_version": "1.5.0",
            "_view_name": "ProgressView",
            "bar_style": "success",
            "description": "",
            "description_tooltip": null,
            "layout": "IPY_MODEL_f3885fd695e442f9b54d468cbd7fe52d",
            "max": 22,
            "min": 0,
            "orientation": "horizontal",
            "style": "IPY_MODEL_1cc295f7aacb4e959678084643a1eea3",
            "value": 22
          }
        },
        "cb44f566470c457d959954bf0f753647": {
          "model_module": "@jupyter-widgets/controls",
          "model_name": "HTMLModel",
          "model_module_version": "1.5.0",
          "state": {
            "_dom_classes": [],
            "_model_module": "@jupyter-widgets/controls",
            "_model_module_version": "1.5.0",
            "_model_name": "HTMLModel",
            "_view_count": null,
            "_view_module": "@jupyter-widgets/controls",
            "_view_module_version": "1.5.0",
            "_view_name": "HTMLView",
            "description": "",
            "description_tooltip": null,
            "layout": "IPY_MODEL_19e4e3e017274254b8c3bbf5e7703a21",
            "placeholder": "​",
            "style": "IPY_MODEL_15e4eb25344e465a8da37a582aa83e8c",
            "value": " 22/22 [00:00&lt;00:00, 67.49ba/s]"
          }
        },
        "79c346ee361142268b696499041bcec6": {
          "model_module": "@jupyter-widgets/base",
          "model_name": "LayoutModel",
          "model_module_version": "1.2.0",
          "state": {
            "_model_module": "@jupyter-widgets/base",
            "_model_module_version": "1.2.0",
            "_model_name": "LayoutModel",
            "_view_count": null,
            "_view_module": "@jupyter-widgets/base",
            "_view_module_version": "1.2.0",
            "_view_name": "LayoutView",
            "align_content": null,
            "align_items": null,
            "align_self": null,
            "border": null,
            "bottom": null,
            "display": null,
            "flex": null,
            "flex_flow": null,
            "grid_area": null,
            "grid_auto_columns": null,
            "grid_auto_flow": null,
            "grid_auto_rows": null,
            "grid_column": null,
            "grid_gap": null,
            "grid_row": null,
            "grid_template_areas": null,
            "grid_template_columns": null,
            "grid_template_rows": null,
            "height": null,
            "justify_content": null,
            "justify_items": null,
            "left": null,
            "margin": null,
            "max_height": null,
            "max_width": null,
            "min_height": null,
            "min_width": null,
            "object_fit": null,
            "object_position": null,
            "order": null,
            "overflow": null,
            "overflow_x": null,
            "overflow_y": null,
            "padding": null,
            "right": null,
            "top": null,
            "visibility": null,
            "width": null
          }
        },
        "016cdd8fd8894d369cfd82667b618dac": {
          "model_module": "@jupyter-widgets/base",
          "model_name": "LayoutModel",
          "model_module_version": "1.2.0",
          "state": {
            "_model_module": "@jupyter-widgets/base",
            "_model_module_version": "1.2.0",
            "_model_name": "LayoutModel",
            "_view_count": null,
            "_view_module": "@jupyter-widgets/base",
            "_view_module_version": "1.2.0",
            "_view_name": "LayoutView",
            "align_content": null,
            "align_items": null,
            "align_self": null,
            "border": null,
            "bottom": null,
            "display": null,
            "flex": null,
            "flex_flow": null,
            "grid_area": null,
            "grid_auto_columns": null,
            "grid_auto_flow": null,
            "grid_auto_rows": null,
            "grid_column": null,
            "grid_gap": null,
            "grid_row": null,
            "grid_template_areas": null,
            "grid_template_columns": null,
            "grid_template_rows": null,
            "height": null,
            "justify_content": null,
            "justify_items": null,
            "left": null,
            "margin": null,
            "max_height": null,
            "max_width": null,
            "min_height": null,
            "min_width": null,
            "object_fit": null,
            "object_position": null,
            "order": null,
            "overflow": null,
            "overflow_x": null,
            "overflow_y": null,
            "padding": null,
            "right": null,
            "top": null,
            "visibility": null,
            "width": null
          }
        },
        "98f64f1bd81341f9b8848a0f45174591": {
          "model_module": "@jupyter-widgets/controls",
          "model_name": "DescriptionStyleModel",
          "model_module_version": "1.5.0",
          "state": {
            "_model_module": "@jupyter-widgets/controls",
            "_model_module_version": "1.5.0",
            "_model_name": "DescriptionStyleModel",
            "_view_count": null,
            "_view_module": "@jupyter-widgets/base",
            "_view_module_version": "1.2.0",
            "_view_name": "StyleView",
            "description_width": ""
          }
        },
        "f3885fd695e442f9b54d468cbd7fe52d": {
          "model_module": "@jupyter-widgets/base",
          "model_name": "LayoutModel",
          "model_module_version": "1.2.0",
          "state": {
            "_model_module": "@jupyter-widgets/base",
            "_model_module_version": "1.2.0",
            "_model_name": "LayoutModel",
            "_view_count": null,
            "_view_module": "@jupyter-widgets/base",
            "_view_module_version": "1.2.0",
            "_view_name": "LayoutView",
            "align_content": null,
            "align_items": null,
            "align_self": null,
            "border": null,
            "bottom": null,
            "display": null,
            "flex": null,
            "flex_flow": null,
            "grid_area": null,
            "grid_auto_columns": null,
            "grid_auto_flow": null,
            "grid_auto_rows": null,
            "grid_column": null,
            "grid_gap": null,
            "grid_row": null,
            "grid_template_areas": null,
            "grid_template_columns": null,
            "grid_template_rows": null,
            "height": null,
            "justify_content": null,
            "justify_items": null,
            "left": null,
            "margin": null,
            "max_height": null,
            "max_width": null,
            "min_height": null,
            "min_width": null,
            "object_fit": null,
            "object_position": null,
            "order": null,
            "overflow": null,
            "overflow_x": null,
            "overflow_y": null,
            "padding": null,
            "right": null,
            "top": null,
            "visibility": null,
            "width": null
          }
        },
        "1cc295f7aacb4e959678084643a1eea3": {
          "model_module": "@jupyter-widgets/controls",
          "model_name": "ProgressStyleModel",
          "model_module_version": "1.5.0",
          "state": {
            "_model_module": "@jupyter-widgets/controls",
            "_model_module_version": "1.5.0",
            "_model_name": "ProgressStyleModel",
            "_view_count": null,
            "_view_module": "@jupyter-widgets/base",
            "_view_module_version": "1.2.0",
            "_view_name": "StyleView",
            "bar_color": null,
            "description_width": ""
          }
        },
        "19e4e3e017274254b8c3bbf5e7703a21": {
          "model_module": "@jupyter-widgets/base",
          "model_name": "LayoutModel",
          "model_module_version": "1.2.0",
          "state": {
            "_model_module": "@jupyter-widgets/base",
            "_model_module_version": "1.2.0",
            "_model_name": "LayoutModel",
            "_view_count": null,
            "_view_module": "@jupyter-widgets/base",
            "_view_module_version": "1.2.0",
            "_view_name": "LayoutView",
            "align_content": null,
            "align_items": null,
            "align_self": null,
            "border": null,
            "bottom": null,
            "display": null,
            "flex": null,
            "flex_flow": null,
            "grid_area": null,
            "grid_auto_columns": null,
            "grid_auto_flow": null,
            "grid_auto_rows": null,
            "grid_column": null,
            "grid_gap": null,
            "grid_row": null,
            "grid_template_areas": null,
            "grid_template_columns": null,
            "grid_template_rows": null,
            "height": null,
            "justify_content": null,
            "justify_items": null,
            "left": null,
            "margin": null,
            "max_height": null,
            "max_width": null,
            "min_height": null,
            "min_width": null,
            "object_fit": null,
            "object_position": null,
            "order": null,
            "overflow": null,
            "overflow_x": null,
            "overflow_y": null,
            "padding": null,
            "right": null,
            "top": null,
            "visibility": null,
            "width": null
          }
        },
        "15e4eb25344e465a8da37a582aa83e8c": {
          "model_module": "@jupyter-widgets/controls",
          "model_name": "DescriptionStyleModel",
          "model_module_version": "1.5.0",
          "state": {
            "_model_module": "@jupyter-widgets/controls",
            "_model_module_version": "1.5.0",
            "_model_name": "DescriptionStyleModel",
            "_view_count": null,
            "_view_module": "@jupyter-widgets/base",
            "_view_module_version": "1.2.0",
            "_view_name": "StyleView",
            "description_width": ""
          }
        },
        "81f7c27f7ae14c238a5bdd19096970fe": {
          "model_module": "@jupyter-widgets/controls",
          "model_name": "HBoxModel",
          "model_module_version": "1.5.0",
          "state": {
            "_dom_classes": [],
            "_model_module": "@jupyter-widgets/controls",
            "_model_module_version": "1.5.0",
            "_model_name": "HBoxModel",
            "_view_count": null,
            "_view_module": "@jupyter-widgets/controls",
            "_view_module_version": "1.5.0",
            "_view_name": "HBoxView",
            "box_style": "",
            "children": [
              "IPY_MODEL_beee11d3731c403c89d6038fab3ddc48",
              "IPY_MODEL_b8f575a4e185400d86b63b8bbd6814bb",
              "IPY_MODEL_784335f26e3a4cea8f3c310083b1f8c2"
            ],
            "layout": "IPY_MODEL_843fb835498349b5b1319eb99c4bed20"
          }
        },
        "beee11d3731c403c89d6038fab3ddc48": {
          "model_module": "@jupyter-widgets/controls",
          "model_name": "HTMLModel",
          "model_module_version": "1.5.0",
          "state": {
            "_dom_classes": [],
            "_model_module": "@jupyter-widgets/controls",
            "_model_module_version": "1.5.0",
            "_model_name": "HTMLModel",
            "_view_count": null,
            "_view_module": "@jupyter-widgets/controls",
            "_view_module_version": "1.5.0",
            "_view_name": "HTMLView",
            "description": "",
            "description_tooltip": null,
            "layout": "IPY_MODEL_6c66f23f4cb846a6b3d241235ae45e46",
            "placeholder": "​",
            "style": "IPY_MODEL_e491fcdd33dc46fd95030d99c1b691af",
            "value": "100%"
          }
        },
        "b8f575a4e185400d86b63b8bbd6814bb": {
          "model_module": "@jupyter-widgets/controls",
          "model_name": "FloatProgressModel",
          "model_module_version": "1.5.0",
          "state": {
            "_dom_classes": [],
            "_model_module": "@jupyter-widgets/controls",
            "_model_module_version": "1.5.0",
            "_model_name": "FloatProgressModel",
            "_view_count": null,
            "_view_module": "@jupyter-widgets/controls",
            "_view_module_version": "1.5.0",
            "_view_name": "ProgressView",
            "bar_style": "success",
            "description": "",
            "description_tooltip": null,
            "layout": "IPY_MODEL_cc88ce54861d4cbaa846bccdb06f9258",
            "max": 3,
            "min": 0,
            "orientation": "horizontal",
            "style": "IPY_MODEL_b687fbb53c3e4466962e798b6d7a75e6",
            "value": 3
          }
        },
        "784335f26e3a4cea8f3c310083b1f8c2": {
          "model_module": "@jupyter-widgets/controls",
          "model_name": "HTMLModel",
          "model_module_version": "1.5.0",
          "state": {
            "_dom_classes": [],
            "_model_module": "@jupyter-widgets/controls",
            "_model_module_version": "1.5.0",
            "_model_name": "HTMLModel",
            "_view_count": null,
            "_view_module": "@jupyter-widgets/controls",
            "_view_module_version": "1.5.0",
            "_view_name": "HTMLView",
            "description": "",
            "description_tooltip": null,
            "layout": "IPY_MODEL_fadb36561642458e99fdc94d3942a7ab",
            "placeholder": "​",
            "style": "IPY_MODEL_760846b605374621acd0928e82f1e5ae",
            "value": " 3/3 [00:00&lt;00:00,  8.79ba/s]"
          }
        },
        "843fb835498349b5b1319eb99c4bed20": {
          "model_module": "@jupyter-widgets/base",
          "model_name": "LayoutModel",
          "model_module_version": "1.2.0",
          "state": {
            "_model_module": "@jupyter-widgets/base",
            "_model_module_version": "1.2.0",
            "_model_name": "LayoutModel",
            "_view_count": null,
            "_view_module": "@jupyter-widgets/base",
            "_view_module_version": "1.2.0",
            "_view_name": "LayoutView",
            "align_content": null,
            "align_items": null,
            "align_self": null,
            "border": null,
            "bottom": null,
            "display": null,
            "flex": null,
            "flex_flow": null,
            "grid_area": null,
            "grid_auto_columns": null,
            "grid_auto_flow": null,
            "grid_auto_rows": null,
            "grid_column": null,
            "grid_gap": null,
            "grid_row": null,
            "grid_template_areas": null,
            "grid_template_columns": null,
            "grid_template_rows": null,
            "height": null,
            "justify_content": null,
            "justify_items": null,
            "left": null,
            "margin": null,
            "max_height": null,
            "max_width": null,
            "min_height": null,
            "min_width": null,
            "object_fit": null,
            "object_position": null,
            "order": null,
            "overflow": null,
            "overflow_x": null,
            "overflow_y": null,
            "padding": null,
            "right": null,
            "top": null,
            "visibility": null,
            "width": null
          }
        },
        "6c66f23f4cb846a6b3d241235ae45e46": {
          "model_module": "@jupyter-widgets/base",
          "model_name": "LayoutModel",
          "model_module_version": "1.2.0",
          "state": {
            "_model_module": "@jupyter-widgets/base",
            "_model_module_version": "1.2.0",
            "_model_name": "LayoutModel",
            "_view_count": null,
            "_view_module": "@jupyter-widgets/base",
            "_view_module_version": "1.2.0",
            "_view_name": "LayoutView",
            "align_content": null,
            "align_items": null,
            "align_self": null,
            "border": null,
            "bottom": null,
            "display": null,
            "flex": null,
            "flex_flow": null,
            "grid_area": null,
            "grid_auto_columns": null,
            "grid_auto_flow": null,
            "grid_auto_rows": null,
            "grid_column": null,
            "grid_gap": null,
            "grid_row": null,
            "grid_template_areas": null,
            "grid_template_columns": null,
            "grid_template_rows": null,
            "height": null,
            "justify_content": null,
            "justify_items": null,
            "left": null,
            "margin": null,
            "max_height": null,
            "max_width": null,
            "min_height": null,
            "min_width": null,
            "object_fit": null,
            "object_position": null,
            "order": null,
            "overflow": null,
            "overflow_x": null,
            "overflow_y": null,
            "padding": null,
            "right": null,
            "top": null,
            "visibility": null,
            "width": null
          }
        },
        "e491fcdd33dc46fd95030d99c1b691af": {
          "model_module": "@jupyter-widgets/controls",
          "model_name": "DescriptionStyleModel",
          "model_module_version": "1.5.0",
          "state": {
            "_model_module": "@jupyter-widgets/controls",
            "_model_module_version": "1.5.0",
            "_model_name": "DescriptionStyleModel",
            "_view_count": null,
            "_view_module": "@jupyter-widgets/base",
            "_view_module_version": "1.2.0",
            "_view_name": "StyleView",
            "description_width": ""
          }
        },
        "cc88ce54861d4cbaa846bccdb06f9258": {
          "model_module": "@jupyter-widgets/base",
          "model_name": "LayoutModel",
          "model_module_version": "1.2.0",
          "state": {
            "_model_module": "@jupyter-widgets/base",
            "_model_module_version": "1.2.0",
            "_model_name": "LayoutModel",
            "_view_count": null,
            "_view_module": "@jupyter-widgets/base",
            "_view_module_version": "1.2.0",
            "_view_name": "LayoutView",
            "align_content": null,
            "align_items": null,
            "align_self": null,
            "border": null,
            "bottom": null,
            "display": null,
            "flex": null,
            "flex_flow": null,
            "grid_area": null,
            "grid_auto_columns": null,
            "grid_auto_flow": null,
            "grid_auto_rows": null,
            "grid_column": null,
            "grid_gap": null,
            "grid_row": null,
            "grid_template_areas": null,
            "grid_template_columns": null,
            "grid_template_rows": null,
            "height": null,
            "justify_content": null,
            "justify_items": null,
            "left": null,
            "margin": null,
            "max_height": null,
            "max_width": null,
            "min_height": null,
            "min_width": null,
            "object_fit": null,
            "object_position": null,
            "order": null,
            "overflow": null,
            "overflow_x": null,
            "overflow_y": null,
            "padding": null,
            "right": null,
            "top": null,
            "visibility": null,
            "width": null
          }
        },
        "b687fbb53c3e4466962e798b6d7a75e6": {
          "model_module": "@jupyter-widgets/controls",
          "model_name": "ProgressStyleModel",
          "model_module_version": "1.5.0",
          "state": {
            "_model_module": "@jupyter-widgets/controls",
            "_model_module_version": "1.5.0",
            "_model_name": "ProgressStyleModel",
            "_view_count": null,
            "_view_module": "@jupyter-widgets/base",
            "_view_module_version": "1.2.0",
            "_view_name": "StyleView",
            "bar_color": null,
            "description_width": ""
          }
        },
        "fadb36561642458e99fdc94d3942a7ab": {
          "model_module": "@jupyter-widgets/base",
          "model_name": "LayoutModel",
          "model_module_version": "1.2.0",
          "state": {
            "_model_module": "@jupyter-widgets/base",
            "_model_module_version": "1.2.0",
            "_model_name": "LayoutModel",
            "_view_count": null,
            "_view_module": "@jupyter-widgets/base",
            "_view_module_version": "1.2.0",
            "_view_name": "LayoutView",
            "align_content": null,
            "align_items": null,
            "align_self": null,
            "border": null,
            "bottom": null,
            "display": null,
            "flex": null,
            "flex_flow": null,
            "grid_area": null,
            "grid_auto_columns": null,
            "grid_auto_flow": null,
            "grid_auto_rows": null,
            "grid_column": null,
            "grid_gap": null,
            "grid_row": null,
            "grid_template_areas": null,
            "grid_template_columns": null,
            "grid_template_rows": null,
            "height": null,
            "justify_content": null,
            "justify_items": null,
            "left": null,
            "margin": null,
            "max_height": null,
            "max_width": null,
            "min_height": null,
            "min_width": null,
            "object_fit": null,
            "object_position": null,
            "order": null,
            "overflow": null,
            "overflow_x": null,
            "overflow_y": null,
            "padding": null,
            "right": null,
            "top": null,
            "visibility": null,
            "width": null
          }
        },
        "760846b605374621acd0928e82f1e5ae": {
          "model_module": "@jupyter-widgets/controls",
          "model_name": "DescriptionStyleModel",
          "model_module_version": "1.5.0",
          "state": {
            "_model_module": "@jupyter-widgets/controls",
            "_model_module_version": "1.5.0",
            "_model_name": "DescriptionStyleModel",
            "_view_count": null,
            "_view_module": "@jupyter-widgets/base",
            "_view_module_version": "1.2.0",
            "_view_name": "StyleView",
            "description_width": ""
          }
        },
        "50ae355805234d4baaa2dcb44f0feb4f": {
          "model_module": "@jupyter-widgets/controls",
          "model_name": "HBoxModel",
          "model_module_version": "1.5.0",
          "state": {
            "_dom_classes": [],
            "_model_module": "@jupyter-widgets/controls",
            "_model_module_version": "1.5.0",
            "_model_name": "HBoxModel",
            "_view_count": null,
            "_view_module": "@jupyter-widgets/controls",
            "_view_module_version": "1.5.0",
            "_view_name": "HBoxView",
            "box_style": "",
            "children": [
              "IPY_MODEL_54ab839ea21846e390903887a1bfdffe",
              "IPY_MODEL_1324075aa83142d4875a6f42b9391c67",
              "IPY_MODEL_91d340afdd0e4661bb90c411ad3110ad"
            ],
            "layout": "IPY_MODEL_41b4e5e059e6464cb5c75c8ef167870c"
          }
        },
        "54ab839ea21846e390903887a1bfdffe": {
          "model_module": "@jupyter-widgets/controls",
          "model_name": "HTMLModel",
          "model_module_version": "1.5.0",
          "state": {
            "_dom_classes": [],
            "_model_module": "@jupyter-widgets/controls",
            "_model_module_version": "1.5.0",
            "_model_name": "HTMLModel",
            "_view_count": null,
            "_view_module": "@jupyter-widgets/controls",
            "_view_module_version": "1.5.0",
            "_view_name": "HTMLView",
            "description": "",
            "description_tooltip": null,
            "layout": "IPY_MODEL_3e1fb9e8eae440df8057bc851be5ac43",
            "placeholder": "​",
            "style": "IPY_MODEL_544ec1e244f4457fabf18b1a808c2686",
            "value": "100%"
          }
        },
        "1324075aa83142d4875a6f42b9391c67": {
          "model_module": "@jupyter-widgets/controls",
          "model_name": "FloatProgressModel",
          "model_module_version": "1.5.0",
          "state": {
            "_dom_classes": [],
            "_model_module": "@jupyter-widgets/controls",
            "_model_module_version": "1.5.0",
            "_model_name": "FloatProgressModel",
            "_view_count": null,
            "_view_module": "@jupyter-widgets/controls",
            "_view_module_version": "1.5.0",
            "_view_name": "ProgressView",
            "bar_style": "success",
            "description": "",
            "description_tooltip": null,
            "layout": "IPY_MODEL_2a2ccc535d5b46258f10ea3db74ff60c",
            "max": 3,
            "min": 0,
            "orientation": "horizontal",
            "style": "IPY_MODEL_416afe6b48b74f5ba32e4232ac08b058",
            "value": 3
          }
        },
        "91d340afdd0e4661bb90c411ad3110ad": {
          "model_module": "@jupyter-widgets/controls",
          "model_name": "HTMLModel",
          "model_module_version": "1.5.0",
          "state": {
            "_dom_classes": [],
            "_model_module": "@jupyter-widgets/controls",
            "_model_module_version": "1.5.0",
            "_model_name": "HTMLModel",
            "_view_count": null,
            "_view_module": "@jupyter-widgets/controls",
            "_view_module_version": "1.5.0",
            "_view_name": "HTMLView",
            "description": "",
            "description_tooltip": null,
            "layout": "IPY_MODEL_a3a63703f6e345e4810377b6c1fd5dff",
            "placeholder": "​",
            "style": "IPY_MODEL_41b2bd45362949ff8053a1905c059ec5",
            "value": " 3/3 [00:00&lt;00:00,  7.79ba/s]"
          }
        },
        "41b4e5e059e6464cb5c75c8ef167870c": {
          "model_module": "@jupyter-widgets/base",
          "model_name": "LayoutModel",
          "model_module_version": "1.2.0",
          "state": {
            "_model_module": "@jupyter-widgets/base",
            "_model_module_version": "1.2.0",
            "_model_name": "LayoutModel",
            "_view_count": null,
            "_view_module": "@jupyter-widgets/base",
            "_view_module_version": "1.2.0",
            "_view_name": "LayoutView",
            "align_content": null,
            "align_items": null,
            "align_self": null,
            "border": null,
            "bottom": null,
            "display": null,
            "flex": null,
            "flex_flow": null,
            "grid_area": null,
            "grid_auto_columns": null,
            "grid_auto_flow": null,
            "grid_auto_rows": null,
            "grid_column": null,
            "grid_gap": null,
            "grid_row": null,
            "grid_template_areas": null,
            "grid_template_columns": null,
            "grid_template_rows": null,
            "height": null,
            "justify_content": null,
            "justify_items": null,
            "left": null,
            "margin": null,
            "max_height": null,
            "max_width": null,
            "min_height": null,
            "min_width": null,
            "object_fit": null,
            "object_position": null,
            "order": null,
            "overflow": null,
            "overflow_x": null,
            "overflow_y": null,
            "padding": null,
            "right": null,
            "top": null,
            "visibility": null,
            "width": null
          }
        },
        "3e1fb9e8eae440df8057bc851be5ac43": {
          "model_module": "@jupyter-widgets/base",
          "model_name": "LayoutModel",
          "model_module_version": "1.2.0",
          "state": {
            "_model_module": "@jupyter-widgets/base",
            "_model_module_version": "1.2.0",
            "_model_name": "LayoutModel",
            "_view_count": null,
            "_view_module": "@jupyter-widgets/base",
            "_view_module_version": "1.2.0",
            "_view_name": "LayoutView",
            "align_content": null,
            "align_items": null,
            "align_self": null,
            "border": null,
            "bottom": null,
            "display": null,
            "flex": null,
            "flex_flow": null,
            "grid_area": null,
            "grid_auto_columns": null,
            "grid_auto_flow": null,
            "grid_auto_rows": null,
            "grid_column": null,
            "grid_gap": null,
            "grid_row": null,
            "grid_template_areas": null,
            "grid_template_columns": null,
            "grid_template_rows": null,
            "height": null,
            "justify_content": null,
            "justify_items": null,
            "left": null,
            "margin": null,
            "max_height": null,
            "max_width": null,
            "min_height": null,
            "min_width": null,
            "object_fit": null,
            "object_position": null,
            "order": null,
            "overflow": null,
            "overflow_x": null,
            "overflow_y": null,
            "padding": null,
            "right": null,
            "top": null,
            "visibility": null,
            "width": null
          }
        },
        "544ec1e244f4457fabf18b1a808c2686": {
          "model_module": "@jupyter-widgets/controls",
          "model_name": "DescriptionStyleModel",
          "model_module_version": "1.5.0",
          "state": {
            "_model_module": "@jupyter-widgets/controls",
            "_model_module_version": "1.5.0",
            "_model_name": "DescriptionStyleModel",
            "_view_count": null,
            "_view_module": "@jupyter-widgets/base",
            "_view_module_version": "1.2.0",
            "_view_name": "StyleView",
            "description_width": ""
          }
        },
        "2a2ccc535d5b46258f10ea3db74ff60c": {
          "model_module": "@jupyter-widgets/base",
          "model_name": "LayoutModel",
          "model_module_version": "1.2.0",
          "state": {
            "_model_module": "@jupyter-widgets/base",
            "_model_module_version": "1.2.0",
            "_model_name": "LayoutModel",
            "_view_count": null,
            "_view_module": "@jupyter-widgets/base",
            "_view_module_version": "1.2.0",
            "_view_name": "LayoutView",
            "align_content": null,
            "align_items": null,
            "align_self": null,
            "border": null,
            "bottom": null,
            "display": null,
            "flex": null,
            "flex_flow": null,
            "grid_area": null,
            "grid_auto_columns": null,
            "grid_auto_flow": null,
            "grid_auto_rows": null,
            "grid_column": null,
            "grid_gap": null,
            "grid_row": null,
            "grid_template_areas": null,
            "grid_template_columns": null,
            "grid_template_rows": null,
            "height": null,
            "justify_content": null,
            "justify_items": null,
            "left": null,
            "margin": null,
            "max_height": null,
            "max_width": null,
            "min_height": null,
            "min_width": null,
            "object_fit": null,
            "object_position": null,
            "order": null,
            "overflow": null,
            "overflow_x": null,
            "overflow_y": null,
            "padding": null,
            "right": null,
            "top": null,
            "visibility": null,
            "width": null
          }
        },
        "416afe6b48b74f5ba32e4232ac08b058": {
          "model_module": "@jupyter-widgets/controls",
          "model_name": "ProgressStyleModel",
          "model_module_version": "1.5.0",
          "state": {
            "_model_module": "@jupyter-widgets/controls",
            "_model_module_version": "1.5.0",
            "_model_name": "ProgressStyleModel",
            "_view_count": null,
            "_view_module": "@jupyter-widgets/base",
            "_view_module_version": "1.2.0",
            "_view_name": "StyleView",
            "bar_color": null,
            "description_width": ""
          }
        },
        "a3a63703f6e345e4810377b6c1fd5dff": {
          "model_module": "@jupyter-widgets/base",
          "model_name": "LayoutModel",
          "model_module_version": "1.2.0",
          "state": {
            "_model_module": "@jupyter-widgets/base",
            "_model_module_version": "1.2.0",
            "_model_name": "LayoutModel",
            "_view_count": null,
            "_view_module": "@jupyter-widgets/base",
            "_view_module_version": "1.2.0",
            "_view_name": "LayoutView",
            "align_content": null,
            "align_items": null,
            "align_self": null,
            "border": null,
            "bottom": null,
            "display": null,
            "flex": null,
            "flex_flow": null,
            "grid_area": null,
            "grid_auto_columns": null,
            "grid_auto_flow": null,
            "grid_auto_rows": null,
            "grid_column": null,
            "grid_gap": null,
            "grid_row": null,
            "grid_template_areas": null,
            "grid_template_columns": null,
            "grid_template_rows": null,
            "height": null,
            "justify_content": null,
            "justify_items": null,
            "left": null,
            "margin": null,
            "max_height": null,
            "max_width": null,
            "min_height": null,
            "min_width": null,
            "object_fit": null,
            "object_position": null,
            "order": null,
            "overflow": null,
            "overflow_x": null,
            "overflow_y": null,
            "padding": null,
            "right": null,
            "top": null,
            "visibility": null,
            "width": null
          }
        },
        "41b2bd45362949ff8053a1905c059ec5": {
          "model_module": "@jupyter-widgets/controls",
          "model_name": "DescriptionStyleModel",
          "model_module_version": "1.5.0",
          "state": {
            "_model_module": "@jupyter-widgets/controls",
            "_model_module_version": "1.5.0",
            "_model_name": "DescriptionStyleModel",
            "_view_count": null,
            "_view_module": "@jupyter-widgets/base",
            "_view_module_version": "1.2.0",
            "_view_name": "StyleView",
            "description_width": ""
          }
        },
        "a63c718b9db04be492204835973d9ae3": {
          "model_module": "@jupyter-widgets/controls",
          "model_name": "HBoxModel",
          "model_module_version": "1.5.0",
          "state": {
            "_dom_classes": [],
            "_model_module": "@jupyter-widgets/controls",
            "_model_module_version": "1.5.0",
            "_model_name": "HBoxModel",
            "_view_count": null,
            "_view_module": "@jupyter-widgets/controls",
            "_view_module_version": "1.5.0",
            "_view_name": "HBoxView",
            "box_style": "",
            "children": [
              "IPY_MODEL_008423785d654b48aaa392267752b84d",
              "IPY_MODEL_b05b0f27ccde480faaaa0e01f95993f8",
              "IPY_MODEL_7e732b6feca74e1ea0c8312143718454"
            ],
            "layout": "IPY_MODEL_7b128f92dee142ada83f19adc43fc93d"
          }
        },
        "008423785d654b48aaa392267752b84d": {
          "model_module": "@jupyter-widgets/controls",
          "model_name": "HTMLModel",
          "model_module_version": "1.5.0",
          "state": {
            "_dom_classes": [],
            "_model_module": "@jupyter-widgets/controls",
            "_model_module_version": "1.5.0",
            "_model_name": "HTMLModel",
            "_view_count": null,
            "_view_module": "@jupyter-widgets/controls",
            "_view_module_version": "1.5.0",
            "_view_name": "HTMLView",
            "description": "",
            "description_tooltip": null,
            "layout": "IPY_MODEL_94604496995046579ef65f356a33366d",
            "placeholder": "​",
            "style": "IPY_MODEL_a8b180f3f17c4d37b43b087b0c7dc685",
            "value": "Downloading: 100%"
          }
        },
        "b05b0f27ccde480faaaa0e01f95993f8": {
          "model_module": "@jupyter-widgets/controls",
          "model_name": "FloatProgressModel",
          "model_module_version": "1.5.0",
          "state": {
            "_dom_classes": [],
            "_model_module": "@jupyter-widgets/controls",
            "_model_module_version": "1.5.0",
            "_model_name": "FloatProgressModel",
            "_view_count": null,
            "_view_module": "@jupyter-widgets/controls",
            "_view_module_version": "1.5.0",
            "_view_name": "ProgressView",
            "bar_style": "success",
            "description": "",
            "description_tooltip": null,
            "layout": "IPY_MODEL_c6f20a12565b46ddb90f2868b704a406",
            "max": 546,
            "min": 0,
            "orientation": "horizontal",
            "style": "IPY_MODEL_0e022ebef4014b3e8a420e6417ecf365",
            "value": 546
          }
        },
        "7e732b6feca74e1ea0c8312143718454": {
          "model_module": "@jupyter-widgets/controls",
          "model_name": "HTMLModel",
          "model_module_version": "1.5.0",
          "state": {
            "_dom_classes": [],
            "_model_module": "@jupyter-widgets/controls",
            "_model_module_version": "1.5.0",
            "_model_name": "HTMLModel",
            "_view_count": null,
            "_view_module": "@jupyter-widgets/controls",
            "_view_module_version": "1.5.0",
            "_view_name": "HTMLView",
            "description": "",
            "description_tooltip": null,
            "layout": "IPY_MODEL_e9e56876cee14658b84f2bfade8bed67",
            "placeholder": "​",
            "style": "IPY_MODEL_15382d8232ec45e898b4e15489759afa",
            "value": " 546/546 [00:00&lt;00:00, 12.3kB/s]"
          }
        },
        "7b128f92dee142ada83f19adc43fc93d": {
          "model_module": "@jupyter-widgets/base",
          "model_name": "LayoutModel",
          "model_module_version": "1.2.0",
          "state": {
            "_model_module": "@jupyter-widgets/base",
            "_model_module_version": "1.2.0",
            "_model_name": "LayoutModel",
            "_view_count": null,
            "_view_module": "@jupyter-widgets/base",
            "_view_module_version": "1.2.0",
            "_view_name": "LayoutView",
            "align_content": null,
            "align_items": null,
            "align_self": null,
            "border": null,
            "bottom": null,
            "display": null,
            "flex": null,
            "flex_flow": null,
            "grid_area": null,
            "grid_auto_columns": null,
            "grid_auto_flow": null,
            "grid_auto_rows": null,
            "grid_column": null,
            "grid_gap": null,
            "grid_row": null,
            "grid_template_areas": null,
            "grid_template_columns": null,
            "grid_template_rows": null,
            "height": null,
            "justify_content": null,
            "justify_items": null,
            "left": null,
            "margin": null,
            "max_height": null,
            "max_width": null,
            "min_height": null,
            "min_width": null,
            "object_fit": null,
            "object_position": null,
            "order": null,
            "overflow": null,
            "overflow_x": null,
            "overflow_y": null,
            "padding": null,
            "right": null,
            "top": null,
            "visibility": null,
            "width": null
          }
        },
        "94604496995046579ef65f356a33366d": {
          "model_module": "@jupyter-widgets/base",
          "model_name": "LayoutModel",
          "model_module_version": "1.2.0",
          "state": {
            "_model_module": "@jupyter-widgets/base",
            "_model_module_version": "1.2.0",
            "_model_name": "LayoutModel",
            "_view_count": null,
            "_view_module": "@jupyter-widgets/base",
            "_view_module_version": "1.2.0",
            "_view_name": "LayoutView",
            "align_content": null,
            "align_items": null,
            "align_self": null,
            "border": null,
            "bottom": null,
            "display": null,
            "flex": null,
            "flex_flow": null,
            "grid_area": null,
            "grid_auto_columns": null,
            "grid_auto_flow": null,
            "grid_auto_rows": null,
            "grid_column": null,
            "grid_gap": null,
            "grid_row": null,
            "grid_template_areas": null,
            "grid_template_columns": null,
            "grid_template_rows": null,
            "height": null,
            "justify_content": null,
            "justify_items": null,
            "left": null,
            "margin": null,
            "max_height": null,
            "max_width": null,
            "min_height": null,
            "min_width": null,
            "object_fit": null,
            "object_position": null,
            "order": null,
            "overflow": null,
            "overflow_x": null,
            "overflow_y": null,
            "padding": null,
            "right": null,
            "top": null,
            "visibility": null,
            "width": null
          }
        },
        "a8b180f3f17c4d37b43b087b0c7dc685": {
          "model_module": "@jupyter-widgets/controls",
          "model_name": "DescriptionStyleModel",
          "model_module_version": "1.5.0",
          "state": {
            "_model_module": "@jupyter-widgets/controls",
            "_model_module_version": "1.5.0",
            "_model_name": "DescriptionStyleModel",
            "_view_count": null,
            "_view_module": "@jupyter-widgets/base",
            "_view_module_version": "1.2.0",
            "_view_name": "StyleView",
            "description_width": ""
          }
        },
        "c6f20a12565b46ddb90f2868b704a406": {
          "model_module": "@jupyter-widgets/base",
          "model_name": "LayoutModel",
          "model_module_version": "1.2.0",
          "state": {
            "_model_module": "@jupyter-widgets/base",
            "_model_module_version": "1.2.0",
            "_model_name": "LayoutModel",
            "_view_count": null,
            "_view_module": "@jupyter-widgets/base",
            "_view_module_version": "1.2.0",
            "_view_name": "LayoutView",
            "align_content": null,
            "align_items": null,
            "align_self": null,
            "border": null,
            "bottom": null,
            "display": null,
            "flex": null,
            "flex_flow": null,
            "grid_area": null,
            "grid_auto_columns": null,
            "grid_auto_flow": null,
            "grid_auto_rows": null,
            "grid_column": null,
            "grid_gap": null,
            "grid_row": null,
            "grid_template_areas": null,
            "grid_template_columns": null,
            "grid_template_rows": null,
            "height": null,
            "justify_content": null,
            "justify_items": null,
            "left": null,
            "margin": null,
            "max_height": null,
            "max_width": null,
            "min_height": null,
            "min_width": null,
            "object_fit": null,
            "object_position": null,
            "order": null,
            "overflow": null,
            "overflow_x": null,
            "overflow_y": null,
            "padding": null,
            "right": null,
            "top": null,
            "visibility": null,
            "width": null
          }
        },
        "0e022ebef4014b3e8a420e6417ecf365": {
          "model_module": "@jupyter-widgets/controls",
          "model_name": "ProgressStyleModel",
          "model_module_version": "1.5.0",
          "state": {
            "_model_module": "@jupyter-widgets/controls",
            "_model_module_version": "1.5.0",
            "_model_name": "ProgressStyleModel",
            "_view_count": null,
            "_view_module": "@jupyter-widgets/base",
            "_view_module_version": "1.2.0",
            "_view_name": "StyleView",
            "bar_color": null,
            "description_width": ""
          }
        },
        "e9e56876cee14658b84f2bfade8bed67": {
          "model_module": "@jupyter-widgets/base",
          "model_name": "LayoutModel",
          "model_module_version": "1.2.0",
          "state": {
            "_model_module": "@jupyter-widgets/base",
            "_model_module_version": "1.2.0",
            "_model_name": "LayoutModel",
            "_view_count": null,
            "_view_module": "@jupyter-widgets/base",
            "_view_module_version": "1.2.0",
            "_view_name": "LayoutView",
            "align_content": null,
            "align_items": null,
            "align_self": null,
            "border": null,
            "bottom": null,
            "display": null,
            "flex": null,
            "flex_flow": null,
            "grid_area": null,
            "grid_auto_columns": null,
            "grid_auto_flow": null,
            "grid_auto_rows": null,
            "grid_column": null,
            "grid_gap": null,
            "grid_row": null,
            "grid_template_areas": null,
            "grid_template_columns": null,
            "grid_template_rows": null,
            "height": null,
            "justify_content": null,
            "justify_items": null,
            "left": null,
            "margin": null,
            "max_height": null,
            "max_width": null,
            "min_height": null,
            "min_width": null,
            "object_fit": null,
            "object_position": null,
            "order": null,
            "overflow": null,
            "overflow_x": null,
            "overflow_y": null,
            "padding": null,
            "right": null,
            "top": null,
            "visibility": null,
            "width": null
          }
        },
        "15382d8232ec45e898b4e15489759afa": {
          "model_module": "@jupyter-widgets/controls",
          "model_name": "DescriptionStyleModel",
          "model_module_version": "1.5.0",
          "state": {
            "_model_module": "@jupyter-widgets/controls",
            "_model_module_version": "1.5.0",
            "_model_name": "DescriptionStyleModel",
            "_view_count": null,
            "_view_module": "@jupyter-widgets/base",
            "_view_module_version": "1.2.0",
            "_view_name": "StyleView",
            "description_width": ""
          }
        },
        "18a95917945444e2a612cdae71ef9a3c": {
          "model_module": "@jupyter-widgets/controls",
          "model_name": "HBoxModel",
          "model_module_version": "1.5.0",
          "state": {
            "_dom_classes": [],
            "_model_module": "@jupyter-widgets/controls",
            "_model_module_version": "1.5.0",
            "_model_name": "HBoxModel",
            "_view_count": null,
            "_view_module": "@jupyter-widgets/controls",
            "_view_module_version": "1.5.0",
            "_view_name": "HBoxView",
            "box_style": "",
            "children": [
              "IPY_MODEL_b680e1c3a281436799841b8dd6637813",
              "IPY_MODEL_4f5781e6e2764102b7fc78338c05279c",
              "IPY_MODEL_bb1ec13d5862456f8dcc46bdce8eac64"
            ],
            "layout": "IPY_MODEL_58b17478f9314f3c972020f03d0e70c4"
          }
        },
        "b680e1c3a281436799841b8dd6637813": {
          "model_module": "@jupyter-widgets/controls",
          "model_name": "HTMLModel",
          "model_module_version": "1.5.0",
          "state": {
            "_dom_classes": [],
            "_model_module": "@jupyter-widgets/controls",
            "_model_module_version": "1.5.0",
            "_model_name": "HTMLModel",
            "_view_count": null,
            "_view_module": "@jupyter-widgets/controls",
            "_view_module_version": "1.5.0",
            "_view_name": "HTMLView",
            "description": "",
            "description_tooltip": null,
            "layout": "IPY_MODEL_56b727dedaad45dc88bd7d00eac90217",
            "placeholder": "​",
            "style": "IPY_MODEL_df107569eb3d4044909522cbc42442a6",
            "value": "Downloading: 100%"
          }
        },
        "4f5781e6e2764102b7fc78338c05279c": {
          "model_module": "@jupyter-widgets/controls",
          "model_name": "FloatProgressModel",
          "model_module_version": "1.5.0",
          "state": {
            "_dom_classes": [],
            "_model_module": "@jupyter-widgets/controls",
            "_model_module_version": "1.5.0",
            "_model_name": "FloatProgressModel",
            "_view_count": null,
            "_view_module": "@jupyter-widgets/controls",
            "_view_module_version": "1.5.0",
            "_view_name": "ProgressView",
            "bar_style": "success",
            "description": "",
            "description_tooltip": null,
            "layout": "IPY_MODEL_39e4452341014d07b34b29a5a9f5daf4",
            "max": 904693,
            "min": 0,
            "orientation": "horizontal",
            "style": "IPY_MODEL_b87a9071847e4ef8a2b37912609715b6",
            "value": 904693
          }
        },
        "bb1ec13d5862456f8dcc46bdce8eac64": {
          "model_module": "@jupyter-widgets/controls",
          "model_name": "HTMLModel",
          "model_module_version": "1.5.0",
          "state": {
            "_dom_classes": [],
            "_model_module": "@jupyter-widgets/controls",
            "_model_module_version": "1.5.0",
            "_model_name": "HTMLModel",
            "_view_count": null,
            "_view_module": "@jupyter-widgets/controls",
            "_view_module_version": "1.5.0",
            "_view_name": "HTMLView",
            "description": "",
            "description_tooltip": null,
            "layout": "IPY_MODEL_488471f0e53a425aa82fdaa79d4a5a32",
            "placeholder": "​",
            "style": "IPY_MODEL_ee08e1ba43fa48c598a8fafa047288da",
            "value": " 905k/905k [00:00&lt;00:00, 2.41MB/s]"
          }
        },
        "58b17478f9314f3c972020f03d0e70c4": {
          "model_module": "@jupyter-widgets/base",
          "model_name": "LayoutModel",
          "model_module_version": "1.2.0",
          "state": {
            "_model_module": "@jupyter-widgets/base",
            "_model_module_version": "1.2.0",
            "_model_name": "LayoutModel",
            "_view_count": null,
            "_view_module": "@jupyter-widgets/base",
            "_view_module_version": "1.2.0",
            "_view_name": "LayoutView",
            "align_content": null,
            "align_items": null,
            "align_self": null,
            "border": null,
            "bottom": null,
            "display": null,
            "flex": null,
            "flex_flow": null,
            "grid_area": null,
            "grid_auto_columns": null,
            "grid_auto_flow": null,
            "grid_auto_rows": null,
            "grid_column": null,
            "grid_gap": null,
            "grid_row": null,
            "grid_template_areas": null,
            "grid_template_columns": null,
            "grid_template_rows": null,
            "height": null,
            "justify_content": null,
            "justify_items": null,
            "left": null,
            "margin": null,
            "max_height": null,
            "max_width": null,
            "min_height": null,
            "min_width": null,
            "object_fit": null,
            "object_position": null,
            "order": null,
            "overflow": null,
            "overflow_x": null,
            "overflow_y": null,
            "padding": null,
            "right": null,
            "top": null,
            "visibility": null,
            "width": null
          }
        },
        "56b727dedaad45dc88bd7d00eac90217": {
          "model_module": "@jupyter-widgets/base",
          "model_name": "LayoutModel",
          "model_module_version": "1.2.0",
          "state": {
            "_model_module": "@jupyter-widgets/base",
            "_model_module_version": "1.2.0",
            "_model_name": "LayoutModel",
            "_view_count": null,
            "_view_module": "@jupyter-widgets/base",
            "_view_module_version": "1.2.0",
            "_view_name": "LayoutView",
            "align_content": null,
            "align_items": null,
            "align_self": null,
            "border": null,
            "bottom": null,
            "display": null,
            "flex": null,
            "flex_flow": null,
            "grid_area": null,
            "grid_auto_columns": null,
            "grid_auto_flow": null,
            "grid_auto_rows": null,
            "grid_column": null,
            "grid_gap": null,
            "grid_row": null,
            "grid_template_areas": null,
            "grid_template_columns": null,
            "grid_template_rows": null,
            "height": null,
            "justify_content": null,
            "justify_items": null,
            "left": null,
            "margin": null,
            "max_height": null,
            "max_width": null,
            "min_height": null,
            "min_width": null,
            "object_fit": null,
            "object_position": null,
            "order": null,
            "overflow": null,
            "overflow_x": null,
            "overflow_y": null,
            "padding": null,
            "right": null,
            "top": null,
            "visibility": null,
            "width": null
          }
        },
        "df107569eb3d4044909522cbc42442a6": {
          "model_module": "@jupyter-widgets/controls",
          "model_name": "DescriptionStyleModel",
          "model_module_version": "1.5.0",
          "state": {
            "_model_module": "@jupyter-widgets/controls",
            "_model_module_version": "1.5.0",
            "_model_name": "DescriptionStyleModel",
            "_view_count": null,
            "_view_module": "@jupyter-widgets/base",
            "_view_module_version": "1.2.0",
            "_view_name": "StyleView",
            "description_width": ""
          }
        },
        "39e4452341014d07b34b29a5a9f5daf4": {
          "model_module": "@jupyter-widgets/base",
          "model_name": "LayoutModel",
          "model_module_version": "1.2.0",
          "state": {
            "_model_module": "@jupyter-widgets/base",
            "_model_module_version": "1.2.0",
            "_model_name": "LayoutModel",
            "_view_count": null,
            "_view_module": "@jupyter-widgets/base",
            "_view_module_version": "1.2.0",
            "_view_name": "LayoutView",
            "align_content": null,
            "align_items": null,
            "align_self": null,
            "border": null,
            "bottom": null,
            "display": null,
            "flex": null,
            "flex_flow": null,
            "grid_area": null,
            "grid_auto_columns": null,
            "grid_auto_flow": null,
            "grid_auto_rows": null,
            "grid_column": null,
            "grid_gap": null,
            "grid_row": null,
            "grid_template_areas": null,
            "grid_template_columns": null,
            "grid_template_rows": null,
            "height": null,
            "justify_content": null,
            "justify_items": null,
            "left": null,
            "margin": null,
            "max_height": null,
            "max_width": null,
            "min_height": null,
            "min_width": null,
            "object_fit": null,
            "object_position": null,
            "order": null,
            "overflow": null,
            "overflow_x": null,
            "overflow_y": null,
            "padding": null,
            "right": null,
            "top": null,
            "visibility": null,
            "width": null
          }
        },
        "b87a9071847e4ef8a2b37912609715b6": {
          "model_module": "@jupyter-widgets/controls",
          "model_name": "ProgressStyleModel",
          "model_module_version": "1.5.0",
          "state": {
            "_model_module": "@jupyter-widgets/controls",
            "_model_module_version": "1.5.0",
            "_model_name": "ProgressStyleModel",
            "_view_count": null,
            "_view_module": "@jupyter-widgets/base",
            "_view_module_version": "1.2.0",
            "_view_name": "StyleView",
            "bar_color": null,
            "description_width": ""
          }
        },
        "488471f0e53a425aa82fdaa79d4a5a32": {
          "model_module": "@jupyter-widgets/base",
          "model_name": "LayoutModel",
          "model_module_version": "1.2.0",
          "state": {
            "_model_module": "@jupyter-widgets/base",
            "_model_module_version": "1.2.0",
            "_model_name": "LayoutModel",
            "_view_count": null,
            "_view_module": "@jupyter-widgets/base",
            "_view_module_version": "1.2.0",
            "_view_name": "LayoutView",
            "align_content": null,
            "align_items": null,
            "align_self": null,
            "border": null,
            "bottom": null,
            "display": null,
            "flex": null,
            "flex_flow": null,
            "grid_area": null,
            "grid_auto_columns": null,
            "grid_auto_flow": null,
            "grid_auto_rows": null,
            "grid_column": null,
            "grid_gap": null,
            "grid_row": null,
            "grid_template_areas": null,
            "grid_template_columns": null,
            "grid_template_rows": null,
            "height": null,
            "justify_content": null,
            "justify_items": null,
            "left": null,
            "margin": null,
            "max_height": null,
            "max_width": null,
            "min_height": null,
            "min_width": null,
            "object_fit": null,
            "object_position": null,
            "order": null,
            "overflow": null,
            "overflow_x": null,
            "overflow_y": null,
            "padding": null,
            "right": null,
            "top": null,
            "visibility": null,
            "width": null
          }
        },
        "ee08e1ba43fa48c598a8fafa047288da": {
          "model_module": "@jupyter-widgets/controls",
          "model_name": "DescriptionStyleModel",
          "model_module_version": "1.5.0",
          "state": {
            "_model_module": "@jupyter-widgets/controls",
            "_model_module_version": "1.5.0",
            "_model_name": "DescriptionStyleModel",
            "_view_count": null,
            "_view_module": "@jupyter-widgets/base",
            "_view_module_version": "1.2.0",
            "_view_name": "StyleView",
            "description_width": ""
          }
        },
        "8af2e70f1dcb42fdadbf90213c88b388": {
          "model_module": "@jupyter-widgets/controls",
          "model_name": "HBoxModel",
          "model_module_version": "1.5.0",
          "state": {
            "_dom_classes": [],
            "_model_module": "@jupyter-widgets/controls",
            "_model_module_version": "1.5.0",
            "_model_name": "HBoxModel",
            "_view_count": null,
            "_view_module": "@jupyter-widgets/controls",
            "_view_module_version": "1.5.0",
            "_view_name": "HBoxView",
            "box_style": "",
            "children": [
              "IPY_MODEL_799a926f9a454a288cd01da1bc2d93ae",
              "IPY_MODEL_e0e701a6d45246f9a84a4347350a3928",
              "IPY_MODEL_31e65f81542d4a39ade362d109e6b225"
            ],
            "layout": "IPY_MODEL_34daeedbf10c4f2196a99778c247e50f"
          }
        },
        "799a926f9a454a288cd01da1bc2d93ae": {
          "model_module": "@jupyter-widgets/controls",
          "model_name": "HTMLModel",
          "model_module_version": "1.5.0",
          "state": {
            "_dom_classes": [],
            "_model_module": "@jupyter-widgets/controls",
            "_model_module_version": "1.5.0",
            "_model_name": "HTMLModel",
            "_view_count": null,
            "_view_module": "@jupyter-widgets/controls",
            "_view_module_version": "1.5.0",
            "_view_name": "HTMLView",
            "description": "",
            "description_tooltip": null,
            "layout": "IPY_MODEL_ccbce99743db4391a7a59ee6999effca",
            "placeholder": "​",
            "style": "IPY_MODEL_86767cde30ff4fe282fdef3d653088ba",
            "value": "Downloading: 100%"
          }
        },
        "e0e701a6d45246f9a84a4347350a3928": {
          "model_module": "@jupyter-widgets/controls",
          "model_name": "FloatProgressModel",
          "model_module_version": "1.5.0",
          "state": {
            "_dom_classes": [],
            "_model_module": "@jupyter-widgets/controls",
            "_model_module_version": "1.5.0",
            "_model_name": "FloatProgressModel",
            "_view_count": null,
            "_view_module": "@jupyter-widgets/controls",
            "_view_module_version": "1.5.0",
            "_view_name": "ProgressView",
            "bar_style": "success",
            "description": "",
            "description_tooltip": null,
            "layout": "IPY_MODEL_54e835e6f980426ca89aaa75c7b99781",
            "max": 282,
            "min": 0,
            "orientation": "horizontal",
            "style": "IPY_MODEL_faf4c7ba01314466b448a02f03d9e74f",
            "value": 282
          }
        },
        "31e65f81542d4a39ade362d109e6b225": {
          "model_module": "@jupyter-widgets/controls",
          "model_name": "HTMLModel",
          "model_module_version": "1.5.0",
          "state": {
            "_dom_classes": [],
            "_model_module": "@jupyter-widgets/controls",
            "_model_module_version": "1.5.0",
            "_model_name": "HTMLModel",
            "_view_count": null,
            "_view_module": "@jupyter-widgets/controls",
            "_view_module_version": "1.5.0",
            "_view_name": "HTMLView",
            "description": "",
            "description_tooltip": null,
            "layout": "IPY_MODEL_7cb38e13d3fc4f9db90d240fcddf892e",
            "placeholder": "​",
            "style": "IPY_MODEL_49612cc70541420b967a9420b0f175e2",
            "value": " 282/282 [00:00&lt;00:00, 4.99kB/s]"
          }
        },
        "34daeedbf10c4f2196a99778c247e50f": {
          "model_module": "@jupyter-widgets/base",
          "model_name": "LayoutModel",
          "model_module_version": "1.2.0",
          "state": {
            "_model_module": "@jupyter-widgets/base",
            "_model_module_version": "1.2.0",
            "_model_name": "LayoutModel",
            "_view_count": null,
            "_view_module": "@jupyter-widgets/base",
            "_view_module_version": "1.2.0",
            "_view_name": "LayoutView",
            "align_content": null,
            "align_items": null,
            "align_self": null,
            "border": null,
            "bottom": null,
            "display": null,
            "flex": null,
            "flex_flow": null,
            "grid_area": null,
            "grid_auto_columns": null,
            "grid_auto_flow": null,
            "grid_auto_rows": null,
            "grid_column": null,
            "grid_gap": null,
            "grid_row": null,
            "grid_template_areas": null,
            "grid_template_columns": null,
            "grid_template_rows": null,
            "height": null,
            "justify_content": null,
            "justify_items": null,
            "left": null,
            "margin": null,
            "max_height": null,
            "max_width": null,
            "min_height": null,
            "min_width": null,
            "object_fit": null,
            "object_position": null,
            "order": null,
            "overflow": null,
            "overflow_x": null,
            "overflow_y": null,
            "padding": null,
            "right": null,
            "top": null,
            "visibility": null,
            "width": null
          }
        },
        "ccbce99743db4391a7a59ee6999effca": {
          "model_module": "@jupyter-widgets/base",
          "model_name": "LayoutModel",
          "model_module_version": "1.2.0",
          "state": {
            "_model_module": "@jupyter-widgets/base",
            "_model_module_version": "1.2.0",
            "_model_name": "LayoutModel",
            "_view_count": null,
            "_view_module": "@jupyter-widgets/base",
            "_view_module_version": "1.2.0",
            "_view_name": "LayoutView",
            "align_content": null,
            "align_items": null,
            "align_self": null,
            "border": null,
            "bottom": null,
            "display": null,
            "flex": null,
            "flex_flow": null,
            "grid_area": null,
            "grid_auto_columns": null,
            "grid_auto_flow": null,
            "grid_auto_rows": null,
            "grid_column": null,
            "grid_gap": null,
            "grid_row": null,
            "grid_template_areas": null,
            "grid_template_columns": null,
            "grid_template_rows": null,
            "height": null,
            "justify_content": null,
            "justify_items": null,
            "left": null,
            "margin": null,
            "max_height": null,
            "max_width": null,
            "min_height": null,
            "min_width": null,
            "object_fit": null,
            "object_position": null,
            "order": null,
            "overflow": null,
            "overflow_x": null,
            "overflow_y": null,
            "padding": null,
            "right": null,
            "top": null,
            "visibility": null,
            "width": null
          }
        },
        "86767cde30ff4fe282fdef3d653088ba": {
          "model_module": "@jupyter-widgets/controls",
          "model_name": "DescriptionStyleModel",
          "model_module_version": "1.5.0",
          "state": {
            "_model_module": "@jupyter-widgets/controls",
            "_model_module_version": "1.5.0",
            "_model_name": "DescriptionStyleModel",
            "_view_count": null,
            "_view_module": "@jupyter-widgets/base",
            "_view_module_version": "1.2.0",
            "_view_name": "StyleView",
            "description_width": ""
          }
        },
        "54e835e6f980426ca89aaa75c7b99781": {
          "model_module": "@jupyter-widgets/base",
          "model_name": "LayoutModel",
          "model_module_version": "1.2.0",
          "state": {
            "_model_module": "@jupyter-widgets/base",
            "_model_module_version": "1.2.0",
            "_model_name": "LayoutModel",
            "_view_count": null,
            "_view_module": "@jupyter-widgets/base",
            "_view_module_version": "1.2.0",
            "_view_name": "LayoutView",
            "align_content": null,
            "align_items": null,
            "align_self": null,
            "border": null,
            "bottom": null,
            "display": null,
            "flex": null,
            "flex_flow": null,
            "grid_area": null,
            "grid_auto_columns": null,
            "grid_auto_flow": null,
            "grid_auto_rows": null,
            "grid_column": null,
            "grid_gap": null,
            "grid_row": null,
            "grid_template_areas": null,
            "grid_template_columns": null,
            "grid_template_rows": null,
            "height": null,
            "justify_content": null,
            "justify_items": null,
            "left": null,
            "margin": null,
            "max_height": null,
            "max_width": null,
            "min_height": null,
            "min_width": null,
            "object_fit": null,
            "object_position": null,
            "order": null,
            "overflow": null,
            "overflow_x": null,
            "overflow_y": null,
            "padding": null,
            "right": null,
            "top": null,
            "visibility": null,
            "width": null
          }
        },
        "faf4c7ba01314466b448a02f03d9e74f": {
          "model_module": "@jupyter-widgets/controls",
          "model_name": "ProgressStyleModel",
          "model_module_version": "1.5.0",
          "state": {
            "_model_module": "@jupyter-widgets/controls",
            "_model_module_version": "1.5.0",
            "_model_name": "ProgressStyleModel",
            "_view_count": null,
            "_view_module": "@jupyter-widgets/base",
            "_view_module_version": "1.2.0",
            "_view_name": "StyleView",
            "bar_color": null,
            "description_width": ""
          }
        },
        "7cb38e13d3fc4f9db90d240fcddf892e": {
          "model_module": "@jupyter-widgets/base",
          "model_name": "LayoutModel",
          "model_module_version": "1.2.0",
          "state": {
            "_model_module": "@jupyter-widgets/base",
            "_model_module_version": "1.2.0",
            "_model_name": "LayoutModel",
            "_view_count": null,
            "_view_module": "@jupyter-widgets/base",
            "_view_module_version": "1.2.0",
            "_view_name": "LayoutView",
            "align_content": null,
            "align_items": null,
            "align_self": null,
            "border": null,
            "bottom": null,
            "display": null,
            "flex": null,
            "flex_flow": null,
            "grid_area": null,
            "grid_auto_columns": null,
            "grid_auto_flow": null,
            "grid_auto_rows": null,
            "grid_column": null,
            "grid_gap": null,
            "grid_row": null,
            "grid_template_areas": null,
            "grid_template_columns": null,
            "grid_template_rows": null,
            "height": null,
            "justify_content": null,
            "justify_items": null,
            "left": null,
            "margin": null,
            "max_height": null,
            "max_width": null,
            "min_height": null,
            "min_width": null,
            "object_fit": null,
            "object_position": null,
            "order": null,
            "overflow": null,
            "overflow_x": null,
            "overflow_y": null,
            "padding": null,
            "right": null,
            "top": null,
            "visibility": null,
            "width": null
          }
        },
        "49612cc70541420b967a9420b0f175e2": {
          "model_module": "@jupyter-widgets/controls",
          "model_name": "DescriptionStyleModel",
          "model_module_version": "1.5.0",
          "state": {
            "_model_module": "@jupyter-widgets/controls",
            "_model_module_version": "1.5.0",
            "_model_name": "DescriptionStyleModel",
            "_view_count": null,
            "_view_module": "@jupyter-widgets/base",
            "_view_module_version": "1.2.0",
            "_view_name": "StyleView",
            "description_width": ""
          }
        },
        "d2c942a365ca4e52a9bc1660312c69f5": {
          "model_module": "@jupyter-widgets/controls",
          "model_name": "HBoxModel",
          "model_module_version": "1.5.0",
          "state": {
            "_dom_classes": [],
            "_model_module": "@jupyter-widgets/controls",
            "_model_module_version": "1.5.0",
            "_model_name": "HBoxModel",
            "_view_count": null,
            "_view_module": "@jupyter-widgets/controls",
            "_view_module_version": "1.5.0",
            "_view_name": "HBoxView",
            "box_style": "",
            "children": [
              "IPY_MODEL_21ddbb1a9e5742fd90d4b475c0bbd244",
              "IPY_MODEL_644e36775212460c8e5027e30fce6d24",
              "IPY_MODEL_f9cbf78b5fb04689bef146455d269bba"
            ],
            "layout": "IPY_MODEL_668a7225bf104537b97bd79035393a60"
          }
        },
        "21ddbb1a9e5742fd90d4b475c0bbd244": {
          "model_module": "@jupyter-widgets/controls",
          "model_name": "HTMLModel",
          "model_module_version": "1.5.0",
          "state": {
            "_dom_classes": [],
            "_model_module": "@jupyter-widgets/controls",
            "_model_module_version": "1.5.0",
            "_model_name": "HTMLModel",
            "_view_count": null,
            "_view_module": "@jupyter-widgets/controls",
            "_view_module_version": "1.5.0",
            "_view_name": "HTMLView",
            "description": "",
            "description_tooltip": null,
            "layout": "IPY_MODEL_3406ce04ca0b4365930883728ccc7c1c",
            "placeholder": "​",
            "style": "IPY_MODEL_b385dabafa124683ac571ca69c932d3e",
            "value": "100%"
          }
        },
        "644e36775212460c8e5027e30fce6d24": {
          "model_module": "@jupyter-widgets/controls",
          "model_name": "FloatProgressModel",
          "model_module_version": "1.5.0",
          "state": {
            "_dom_classes": [],
            "_model_module": "@jupyter-widgets/controls",
            "_model_module_version": "1.5.0",
            "_model_name": "FloatProgressModel",
            "_view_count": null,
            "_view_module": "@jupyter-widgets/controls",
            "_view_module_version": "1.5.0",
            "_view_name": "ProgressView",
            "bar_style": "success",
            "description": "",
            "description_tooltip": null,
            "layout": "IPY_MODEL_93959230bef2426fb4421d85c056d134",
            "max": 22,
            "min": 0,
            "orientation": "horizontal",
            "style": "IPY_MODEL_cd878c0a75ac4b9a85f5c7862535dcf7",
            "value": 22
          }
        },
        "f9cbf78b5fb04689bef146455d269bba": {
          "model_module": "@jupyter-widgets/controls",
          "model_name": "HTMLModel",
          "model_module_version": "1.5.0",
          "state": {
            "_dom_classes": [],
            "_model_module": "@jupyter-widgets/controls",
            "_model_module_version": "1.5.0",
            "_model_name": "HTMLModel",
            "_view_count": null,
            "_view_module": "@jupyter-widgets/controls",
            "_view_module_version": "1.5.0",
            "_view_name": "HTMLView",
            "description": "",
            "description_tooltip": null,
            "layout": "IPY_MODEL_b622b91d0c1147a5a92650ae56c83e9e",
            "placeholder": "​",
            "style": "IPY_MODEL_b0c272d0c1fe4cdeab9f32f0d52e1f07",
            "value": " 22/22 [00:04&lt;00:00,  5.56ba/s]"
          }
        },
        "668a7225bf104537b97bd79035393a60": {
          "model_module": "@jupyter-widgets/base",
          "model_name": "LayoutModel",
          "model_module_version": "1.2.0",
          "state": {
            "_model_module": "@jupyter-widgets/base",
            "_model_module_version": "1.2.0",
            "_model_name": "LayoutModel",
            "_view_count": null,
            "_view_module": "@jupyter-widgets/base",
            "_view_module_version": "1.2.0",
            "_view_name": "LayoutView",
            "align_content": null,
            "align_items": null,
            "align_self": null,
            "border": null,
            "bottom": null,
            "display": null,
            "flex": null,
            "flex_flow": null,
            "grid_area": null,
            "grid_auto_columns": null,
            "grid_auto_flow": null,
            "grid_auto_rows": null,
            "grid_column": null,
            "grid_gap": null,
            "grid_row": null,
            "grid_template_areas": null,
            "grid_template_columns": null,
            "grid_template_rows": null,
            "height": null,
            "justify_content": null,
            "justify_items": null,
            "left": null,
            "margin": null,
            "max_height": null,
            "max_width": null,
            "min_height": null,
            "min_width": null,
            "object_fit": null,
            "object_position": null,
            "order": null,
            "overflow": null,
            "overflow_x": null,
            "overflow_y": null,
            "padding": null,
            "right": null,
            "top": null,
            "visibility": null,
            "width": null
          }
        },
        "3406ce04ca0b4365930883728ccc7c1c": {
          "model_module": "@jupyter-widgets/base",
          "model_name": "LayoutModel",
          "model_module_version": "1.2.0",
          "state": {
            "_model_module": "@jupyter-widgets/base",
            "_model_module_version": "1.2.0",
            "_model_name": "LayoutModel",
            "_view_count": null,
            "_view_module": "@jupyter-widgets/base",
            "_view_module_version": "1.2.0",
            "_view_name": "LayoutView",
            "align_content": null,
            "align_items": null,
            "align_self": null,
            "border": null,
            "bottom": null,
            "display": null,
            "flex": null,
            "flex_flow": null,
            "grid_area": null,
            "grid_auto_columns": null,
            "grid_auto_flow": null,
            "grid_auto_rows": null,
            "grid_column": null,
            "grid_gap": null,
            "grid_row": null,
            "grid_template_areas": null,
            "grid_template_columns": null,
            "grid_template_rows": null,
            "height": null,
            "justify_content": null,
            "justify_items": null,
            "left": null,
            "margin": null,
            "max_height": null,
            "max_width": null,
            "min_height": null,
            "min_width": null,
            "object_fit": null,
            "object_position": null,
            "order": null,
            "overflow": null,
            "overflow_x": null,
            "overflow_y": null,
            "padding": null,
            "right": null,
            "top": null,
            "visibility": null,
            "width": null
          }
        },
        "b385dabafa124683ac571ca69c932d3e": {
          "model_module": "@jupyter-widgets/controls",
          "model_name": "DescriptionStyleModel",
          "model_module_version": "1.5.0",
          "state": {
            "_model_module": "@jupyter-widgets/controls",
            "_model_module_version": "1.5.0",
            "_model_name": "DescriptionStyleModel",
            "_view_count": null,
            "_view_module": "@jupyter-widgets/base",
            "_view_module_version": "1.2.0",
            "_view_name": "StyleView",
            "description_width": ""
          }
        },
        "93959230bef2426fb4421d85c056d134": {
          "model_module": "@jupyter-widgets/base",
          "model_name": "LayoutModel",
          "model_module_version": "1.2.0",
          "state": {
            "_model_module": "@jupyter-widgets/base",
            "_model_module_version": "1.2.0",
            "_model_name": "LayoutModel",
            "_view_count": null,
            "_view_module": "@jupyter-widgets/base",
            "_view_module_version": "1.2.0",
            "_view_name": "LayoutView",
            "align_content": null,
            "align_items": null,
            "align_self": null,
            "border": null,
            "bottom": null,
            "display": null,
            "flex": null,
            "flex_flow": null,
            "grid_area": null,
            "grid_auto_columns": null,
            "grid_auto_flow": null,
            "grid_auto_rows": null,
            "grid_column": null,
            "grid_gap": null,
            "grid_row": null,
            "grid_template_areas": null,
            "grid_template_columns": null,
            "grid_template_rows": null,
            "height": null,
            "justify_content": null,
            "justify_items": null,
            "left": null,
            "margin": null,
            "max_height": null,
            "max_width": null,
            "min_height": null,
            "min_width": null,
            "object_fit": null,
            "object_position": null,
            "order": null,
            "overflow": null,
            "overflow_x": null,
            "overflow_y": null,
            "padding": null,
            "right": null,
            "top": null,
            "visibility": null,
            "width": null
          }
        },
        "cd878c0a75ac4b9a85f5c7862535dcf7": {
          "model_module": "@jupyter-widgets/controls",
          "model_name": "ProgressStyleModel",
          "model_module_version": "1.5.0",
          "state": {
            "_model_module": "@jupyter-widgets/controls",
            "_model_module_version": "1.5.0",
            "_model_name": "ProgressStyleModel",
            "_view_count": null,
            "_view_module": "@jupyter-widgets/base",
            "_view_module_version": "1.2.0",
            "_view_name": "StyleView",
            "bar_color": null,
            "description_width": ""
          }
        },
        "b622b91d0c1147a5a92650ae56c83e9e": {
          "model_module": "@jupyter-widgets/base",
          "model_name": "LayoutModel",
          "model_module_version": "1.2.0",
          "state": {
            "_model_module": "@jupyter-widgets/base",
            "_model_module_version": "1.2.0",
            "_model_name": "LayoutModel",
            "_view_count": null,
            "_view_module": "@jupyter-widgets/base",
            "_view_module_version": "1.2.0",
            "_view_name": "LayoutView",
            "align_content": null,
            "align_items": null,
            "align_self": null,
            "border": null,
            "bottom": null,
            "display": null,
            "flex": null,
            "flex_flow": null,
            "grid_area": null,
            "grid_auto_columns": null,
            "grid_auto_flow": null,
            "grid_auto_rows": null,
            "grid_column": null,
            "grid_gap": null,
            "grid_row": null,
            "grid_template_areas": null,
            "grid_template_columns": null,
            "grid_template_rows": null,
            "height": null,
            "justify_content": null,
            "justify_items": null,
            "left": null,
            "margin": null,
            "max_height": null,
            "max_width": null,
            "min_height": null,
            "min_width": null,
            "object_fit": null,
            "object_position": null,
            "order": null,
            "overflow": null,
            "overflow_x": null,
            "overflow_y": null,
            "padding": null,
            "right": null,
            "top": null,
            "visibility": null,
            "width": null
          }
        },
        "b0c272d0c1fe4cdeab9f32f0d52e1f07": {
          "model_module": "@jupyter-widgets/controls",
          "model_name": "DescriptionStyleModel",
          "model_module_version": "1.5.0",
          "state": {
            "_model_module": "@jupyter-widgets/controls",
            "_model_module_version": "1.5.0",
            "_model_name": "DescriptionStyleModel",
            "_view_count": null,
            "_view_module": "@jupyter-widgets/base",
            "_view_module_version": "1.2.0",
            "_view_name": "StyleView",
            "description_width": ""
          }
        },
        "4daf188362c24841b7a697321cbe9659": {
          "model_module": "@jupyter-widgets/controls",
          "model_name": "HBoxModel",
          "model_module_version": "1.5.0",
          "state": {
            "_dom_classes": [],
            "_model_module": "@jupyter-widgets/controls",
            "_model_module_version": "1.5.0",
            "_model_name": "HBoxModel",
            "_view_count": null,
            "_view_module": "@jupyter-widgets/controls",
            "_view_module_version": "1.5.0",
            "_view_name": "HBoxView",
            "box_style": "",
            "children": [
              "IPY_MODEL_2815508ccfc44585adb692de93f75b96",
              "IPY_MODEL_0d5ae7d80c454b1588031cce43f9dfa4",
              "IPY_MODEL_7d7e8603c12f4338bce86a23e4252a00"
            ],
            "layout": "IPY_MODEL_c373ecb8952346a6962071991e922a4d"
          }
        },
        "2815508ccfc44585adb692de93f75b96": {
          "model_module": "@jupyter-widgets/controls",
          "model_name": "HTMLModel",
          "model_module_version": "1.5.0",
          "state": {
            "_dom_classes": [],
            "_model_module": "@jupyter-widgets/controls",
            "_model_module_version": "1.5.0",
            "_model_name": "HTMLModel",
            "_view_count": null,
            "_view_module": "@jupyter-widgets/controls",
            "_view_module_version": "1.5.0",
            "_view_name": "HTMLView",
            "description": "",
            "description_tooltip": null,
            "layout": "IPY_MODEL_e9276740cd4e47208ac78bb00493a367",
            "placeholder": "​",
            "style": "IPY_MODEL_f7214b3aaca04a7583fa132845f6dd7b",
            "value": "100%"
          }
        },
        "0d5ae7d80c454b1588031cce43f9dfa4": {
          "model_module": "@jupyter-widgets/controls",
          "model_name": "FloatProgressModel",
          "model_module_version": "1.5.0",
          "state": {
            "_dom_classes": [],
            "_model_module": "@jupyter-widgets/controls",
            "_model_module_version": "1.5.0",
            "_model_name": "FloatProgressModel",
            "_view_count": null,
            "_view_module": "@jupyter-widgets/controls",
            "_view_module_version": "1.5.0",
            "_view_name": "ProgressView",
            "bar_style": "success",
            "description": "",
            "description_tooltip": null,
            "layout": "IPY_MODEL_e2260d347fee437e820be1773ff6bf56",
            "max": 3,
            "min": 0,
            "orientation": "horizontal",
            "style": "IPY_MODEL_833f674b40bc4d1397bfe5f7a5275dbd",
            "value": 3
          }
        },
        "7d7e8603c12f4338bce86a23e4252a00": {
          "model_module": "@jupyter-widgets/controls",
          "model_name": "HTMLModel",
          "model_module_version": "1.5.0",
          "state": {
            "_dom_classes": [],
            "_model_module": "@jupyter-widgets/controls",
            "_model_module_version": "1.5.0",
            "_model_name": "HTMLModel",
            "_view_count": null,
            "_view_module": "@jupyter-widgets/controls",
            "_view_module_version": "1.5.0",
            "_view_name": "HTMLView",
            "description": "",
            "description_tooltip": null,
            "layout": "IPY_MODEL_56215db42cd6428b8b9915989458dea1",
            "placeholder": "​",
            "style": "IPY_MODEL_060add3c36c741aeb4b1c592e36bb3b1",
            "value": " 3/3 [00:00&lt;00:00,  4.50ba/s]"
          }
        },
        "c373ecb8952346a6962071991e922a4d": {
          "model_module": "@jupyter-widgets/base",
          "model_name": "LayoutModel",
          "model_module_version": "1.2.0",
          "state": {
            "_model_module": "@jupyter-widgets/base",
            "_model_module_version": "1.2.0",
            "_model_name": "LayoutModel",
            "_view_count": null,
            "_view_module": "@jupyter-widgets/base",
            "_view_module_version": "1.2.0",
            "_view_name": "LayoutView",
            "align_content": null,
            "align_items": null,
            "align_self": null,
            "border": null,
            "bottom": null,
            "display": null,
            "flex": null,
            "flex_flow": null,
            "grid_area": null,
            "grid_auto_columns": null,
            "grid_auto_flow": null,
            "grid_auto_rows": null,
            "grid_column": null,
            "grid_gap": null,
            "grid_row": null,
            "grid_template_areas": null,
            "grid_template_columns": null,
            "grid_template_rows": null,
            "height": null,
            "justify_content": null,
            "justify_items": null,
            "left": null,
            "margin": null,
            "max_height": null,
            "max_width": null,
            "min_height": null,
            "min_width": null,
            "object_fit": null,
            "object_position": null,
            "order": null,
            "overflow": null,
            "overflow_x": null,
            "overflow_y": null,
            "padding": null,
            "right": null,
            "top": null,
            "visibility": null,
            "width": null
          }
        },
        "e9276740cd4e47208ac78bb00493a367": {
          "model_module": "@jupyter-widgets/base",
          "model_name": "LayoutModel",
          "model_module_version": "1.2.0",
          "state": {
            "_model_module": "@jupyter-widgets/base",
            "_model_module_version": "1.2.0",
            "_model_name": "LayoutModel",
            "_view_count": null,
            "_view_module": "@jupyter-widgets/base",
            "_view_module_version": "1.2.0",
            "_view_name": "LayoutView",
            "align_content": null,
            "align_items": null,
            "align_self": null,
            "border": null,
            "bottom": null,
            "display": null,
            "flex": null,
            "flex_flow": null,
            "grid_area": null,
            "grid_auto_columns": null,
            "grid_auto_flow": null,
            "grid_auto_rows": null,
            "grid_column": null,
            "grid_gap": null,
            "grid_row": null,
            "grid_template_areas": null,
            "grid_template_columns": null,
            "grid_template_rows": null,
            "height": null,
            "justify_content": null,
            "justify_items": null,
            "left": null,
            "margin": null,
            "max_height": null,
            "max_width": null,
            "min_height": null,
            "min_width": null,
            "object_fit": null,
            "object_position": null,
            "order": null,
            "overflow": null,
            "overflow_x": null,
            "overflow_y": null,
            "padding": null,
            "right": null,
            "top": null,
            "visibility": null,
            "width": null
          }
        },
        "f7214b3aaca04a7583fa132845f6dd7b": {
          "model_module": "@jupyter-widgets/controls",
          "model_name": "DescriptionStyleModel",
          "model_module_version": "1.5.0",
          "state": {
            "_model_module": "@jupyter-widgets/controls",
            "_model_module_version": "1.5.0",
            "_model_name": "DescriptionStyleModel",
            "_view_count": null,
            "_view_module": "@jupyter-widgets/base",
            "_view_module_version": "1.2.0",
            "_view_name": "StyleView",
            "description_width": ""
          }
        },
        "e2260d347fee437e820be1773ff6bf56": {
          "model_module": "@jupyter-widgets/base",
          "model_name": "LayoutModel",
          "model_module_version": "1.2.0",
          "state": {
            "_model_module": "@jupyter-widgets/base",
            "_model_module_version": "1.2.0",
            "_model_name": "LayoutModel",
            "_view_count": null,
            "_view_module": "@jupyter-widgets/base",
            "_view_module_version": "1.2.0",
            "_view_name": "LayoutView",
            "align_content": null,
            "align_items": null,
            "align_self": null,
            "border": null,
            "bottom": null,
            "display": null,
            "flex": null,
            "flex_flow": null,
            "grid_area": null,
            "grid_auto_columns": null,
            "grid_auto_flow": null,
            "grid_auto_rows": null,
            "grid_column": null,
            "grid_gap": null,
            "grid_row": null,
            "grid_template_areas": null,
            "grid_template_columns": null,
            "grid_template_rows": null,
            "height": null,
            "justify_content": null,
            "justify_items": null,
            "left": null,
            "margin": null,
            "max_height": null,
            "max_width": null,
            "min_height": null,
            "min_width": null,
            "object_fit": null,
            "object_position": null,
            "order": null,
            "overflow": null,
            "overflow_x": null,
            "overflow_y": null,
            "padding": null,
            "right": null,
            "top": null,
            "visibility": null,
            "width": null
          }
        },
        "833f674b40bc4d1397bfe5f7a5275dbd": {
          "model_module": "@jupyter-widgets/controls",
          "model_name": "ProgressStyleModel",
          "model_module_version": "1.5.0",
          "state": {
            "_model_module": "@jupyter-widgets/controls",
            "_model_module_version": "1.5.0",
            "_model_name": "ProgressStyleModel",
            "_view_count": null,
            "_view_module": "@jupyter-widgets/base",
            "_view_module_version": "1.2.0",
            "_view_name": "StyleView",
            "bar_color": null,
            "description_width": ""
          }
        },
        "56215db42cd6428b8b9915989458dea1": {
          "model_module": "@jupyter-widgets/base",
          "model_name": "LayoutModel",
          "model_module_version": "1.2.0",
          "state": {
            "_model_module": "@jupyter-widgets/base",
            "_model_module_version": "1.2.0",
            "_model_name": "LayoutModel",
            "_view_count": null,
            "_view_module": "@jupyter-widgets/base",
            "_view_module_version": "1.2.0",
            "_view_name": "LayoutView",
            "align_content": null,
            "align_items": null,
            "align_self": null,
            "border": null,
            "bottom": null,
            "display": null,
            "flex": null,
            "flex_flow": null,
            "grid_area": null,
            "grid_auto_columns": null,
            "grid_auto_flow": null,
            "grid_auto_rows": null,
            "grid_column": null,
            "grid_gap": null,
            "grid_row": null,
            "grid_template_areas": null,
            "grid_template_columns": null,
            "grid_template_rows": null,
            "height": null,
            "justify_content": null,
            "justify_items": null,
            "left": null,
            "margin": null,
            "max_height": null,
            "max_width": null,
            "min_height": null,
            "min_width": null,
            "object_fit": null,
            "object_position": null,
            "order": null,
            "overflow": null,
            "overflow_x": null,
            "overflow_y": null,
            "padding": null,
            "right": null,
            "top": null,
            "visibility": null,
            "width": null
          }
        },
        "060add3c36c741aeb4b1c592e36bb3b1": {
          "model_module": "@jupyter-widgets/controls",
          "model_name": "DescriptionStyleModel",
          "model_module_version": "1.5.0",
          "state": {
            "_model_module": "@jupyter-widgets/controls",
            "_model_module_version": "1.5.0",
            "_model_name": "DescriptionStyleModel",
            "_view_count": null,
            "_view_module": "@jupyter-widgets/base",
            "_view_module_version": "1.2.0",
            "_view_name": "StyleView",
            "description_width": ""
          }
        },
        "443a822a194e4868a1f6a1dd70a4662d": {
          "model_module": "@jupyter-widgets/controls",
          "model_name": "HBoxModel",
          "model_module_version": "1.5.0",
          "state": {
            "_dom_classes": [],
            "_model_module": "@jupyter-widgets/controls",
            "_model_module_version": "1.5.0",
            "_model_name": "HBoxModel",
            "_view_count": null,
            "_view_module": "@jupyter-widgets/controls",
            "_view_module_version": "1.5.0",
            "_view_name": "HBoxView",
            "box_style": "",
            "children": [
              "IPY_MODEL_b2856db0a72e499d8043793763ea1be1",
              "IPY_MODEL_40d9900ae6194001892c132825a3aa52",
              "IPY_MODEL_aecb6694ae684a7d811257165d9fb1e3"
            ],
            "layout": "IPY_MODEL_2dba2dd95b9241329303f6d1c9b7fa3a"
          }
        },
        "b2856db0a72e499d8043793763ea1be1": {
          "model_module": "@jupyter-widgets/controls",
          "model_name": "HTMLModel",
          "model_module_version": "1.5.0",
          "state": {
            "_dom_classes": [],
            "_model_module": "@jupyter-widgets/controls",
            "_model_module_version": "1.5.0",
            "_model_name": "HTMLModel",
            "_view_count": null,
            "_view_module": "@jupyter-widgets/controls",
            "_view_module_version": "1.5.0",
            "_view_name": "HTMLView",
            "description": "",
            "description_tooltip": null,
            "layout": "IPY_MODEL_1355a7b81e2143d39f8444cebc1170d2",
            "placeholder": "​",
            "style": "IPY_MODEL_26cf358a1a3f487fbfccffaa3f22132c",
            "value": "100%"
          }
        },
        "40d9900ae6194001892c132825a3aa52": {
          "model_module": "@jupyter-widgets/controls",
          "model_name": "FloatProgressModel",
          "model_module_version": "1.5.0",
          "state": {
            "_dom_classes": [],
            "_model_module": "@jupyter-widgets/controls",
            "_model_module_version": "1.5.0",
            "_model_name": "FloatProgressModel",
            "_view_count": null,
            "_view_module": "@jupyter-widgets/controls",
            "_view_module_version": "1.5.0",
            "_view_name": "ProgressView",
            "bar_style": "success",
            "description": "",
            "description_tooltip": null,
            "layout": "IPY_MODEL_e220b8de12f04834ad94ba3b70dffc2b",
            "max": 3,
            "min": 0,
            "orientation": "horizontal",
            "style": "IPY_MODEL_209be41238f64d0481b3f443a9eeab7c",
            "value": 3
          }
        },
        "aecb6694ae684a7d811257165d9fb1e3": {
          "model_module": "@jupyter-widgets/controls",
          "model_name": "HTMLModel",
          "model_module_version": "1.5.0",
          "state": {
            "_dom_classes": [],
            "_model_module": "@jupyter-widgets/controls",
            "_model_module_version": "1.5.0",
            "_model_name": "HTMLModel",
            "_view_count": null,
            "_view_module": "@jupyter-widgets/controls",
            "_view_module_version": "1.5.0",
            "_view_name": "HTMLView",
            "description": "",
            "description_tooltip": null,
            "layout": "IPY_MODEL_a6a614aa310f4f029ad0915151da9fae",
            "placeholder": "​",
            "style": "IPY_MODEL_6f2320173bd44e0c993033715b8c5351",
            "value": " 3/3 [00:00&lt;00:00,  5.44ba/s]"
          }
        },
        "2dba2dd95b9241329303f6d1c9b7fa3a": {
          "model_module": "@jupyter-widgets/base",
          "model_name": "LayoutModel",
          "model_module_version": "1.2.0",
          "state": {
            "_model_module": "@jupyter-widgets/base",
            "_model_module_version": "1.2.0",
            "_model_name": "LayoutModel",
            "_view_count": null,
            "_view_module": "@jupyter-widgets/base",
            "_view_module_version": "1.2.0",
            "_view_name": "LayoutView",
            "align_content": null,
            "align_items": null,
            "align_self": null,
            "border": null,
            "bottom": null,
            "display": null,
            "flex": null,
            "flex_flow": null,
            "grid_area": null,
            "grid_auto_columns": null,
            "grid_auto_flow": null,
            "grid_auto_rows": null,
            "grid_column": null,
            "grid_gap": null,
            "grid_row": null,
            "grid_template_areas": null,
            "grid_template_columns": null,
            "grid_template_rows": null,
            "height": null,
            "justify_content": null,
            "justify_items": null,
            "left": null,
            "margin": null,
            "max_height": null,
            "max_width": null,
            "min_height": null,
            "min_width": null,
            "object_fit": null,
            "object_position": null,
            "order": null,
            "overflow": null,
            "overflow_x": null,
            "overflow_y": null,
            "padding": null,
            "right": null,
            "top": null,
            "visibility": null,
            "width": null
          }
        },
        "1355a7b81e2143d39f8444cebc1170d2": {
          "model_module": "@jupyter-widgets/base",
          "model_name": "LayoutModel",
          "model_module_version": "1.2.0",
          "state": {
            "_model_module": "@jupyter-widgets/base",
            "_model_module_version": "1.2.0",
            "_model_name": "LayoutModel",
            "_view_count": null,
            "_view_module": "@jupyter-widgets/base",
            "_view_module_version": "1.2.0",
            "_view_name": "LayoutView",
            "align_content": null,
            "align_items": null,
            "align_self": null,
            "border": null,
            "bottom": null,
            "display": null,
            "flex": null,
            "flex_flow": null,
            "grid_area": null,
            "grid_auto_columns": null,
            "grid_auto_flow": null,
            "grid_auto_rows": null,
            "grid_column": null,
            "grid_gap": null,
            "grid_row": null,
            "grid_template_areas": null,
            "grid_template_columns": null,
            "grid_template_rows": null,
            "height": null,
            "justify_content": null,
            "justify_items": null,
            "left": null,
            "margin": null,
            "max_height": null,
            "max_width": null,
            "min_height": null,
            "min_width": null,
            "object_fit": null,
            "object_position": null,
            "order": null,
            "overflow": null,
            "overflow_x": null,
            "overflow_y": null,
            "padding": null,
            "right": null,
            "top": null,
            "visibility": null,
            "width": null
          }
        },
        "26cf358a1a3f487fbfccffaa3f22132c": {
          "model_module": "@jupyter-widgets/controls",
          "model_name": "DescriptionStyleModel",
          "model_module_version": "1.5.0",
          "state": {
            "_model_module": "@jupyter-widgets/controls",
            "_model_module_version": "1.5.0",
            "_model_name": "DescriptionStyleModel",
            "_view_count": null,
            "_view_module": "@jupyter-widgets/base",
            "_view_module_version": "1.2.0",
            "_view_name": "StyleView",
            "description_width": ""
          }
        },
        "e220b8de12f04834ad94ba3b70dffc2b": {
          "model_module": "@jupyter-widgets/base",
          "model_name": "LayoutModel",
          "model_module_version": "1.2.0",
          "state": {
            "_model_module": "@jupyter-widgets/base",
            "_model_module_version": "1.2.0",
            "_model_name": "LayoutModel",
            "_view_count": null,
            "_view_module": "@jupyter-widgets/base",
            "_view_module_version": "1.2.0",
            "_view_name": "LayoutView",
            "align_content": null,
            "align_items": null,
            "align_self": null,
            "border": null,
            "bottom": null,
            "display": null,
            "flex": null,
            "flex_flow": null,
            "grid_area": null,
            "grid_auto_columns": null,
            "grid_auto_flow": null,
            "grid_auto_rows": null,
            "grid_column": null,
            "grid_gap": null,
            "grid_row": null,
            "grid_template_areas": null,
            "grid_template_columns": null,
            "grid_template_rows": null,
            "height": null,
            "justify_content": null,
            "justify_items": null,
            "left": null,
            "margin": null,
            "max_height": null,
            "max_width": null,
            "min_height": null,
            "min_width": null,
            "object_fit": null,
            "object_position": null,
            "order": null,
            "overflow": null,
            "overflow_x": null,
            "overflow_y": null,
            "padding": null,
            "right": null,
            "top": null,
            "visibility": null,
            "width": null
          }
        },
        "209be41238f64d0481b3f443a9eeab7c": {
          "model_module": "@jupyter-widgets/controls",
          "model_name": "ProgressStyleModel",
          "model_module_version": "1.5.0",
          "state": {
            "_model_module": "@jupyter-widgets/controls",
            "_model_module_version": "1.5.0",
            "_model_name": "ProgressStyleModel",
            "_view_count": null,
            "_view_module": "@jupyter-widgets/base",
            "_view_module_version": "1.2.0",
            "_view_name": "StyleView",
            "bar_color": null,
            "description_width": ""
          }
        },
        "a6a614aa310f4f029ad0915151da9fae": {
          "model_module": "@jupyter-widgets/base",
          "model_name": "LayoutModel",
          "model_module_version": "1.2.0",
          "state": {
            "_model_module": "@jupyter-widgets/base",
            "_model_module_version": "1.2.0",
            "_model_name": "LayoutModel",
            "_view_count": null,
            "_view_module": "@jupyter-widgets/base",
            "_view_module_version": "1.2.0",
            "_view_name": "LayoutView",
            "align_content": null,
            "align_items": null,
            "align_self": null,
            "border": null,
            "bottom": null,
            "display": null,
            "flex": null,
            "flex_flow": null,
            "grid_area": null,
            "grid_auto_columns": null,
            "grid_auto_flow": null,
            "grid_auto_rows": null,
            "grid_column": null,
            "grid_gap": null,
            "grid_row": null,
            "grid_template_areas": null,
            "grid_template_columns": null,
            "grid_template_rows": null,
            "height": null,
            "justify_content": null,
            "justify_items": null,
            "left": null,
            "margin": null,
            "max_height": null,
            "max_width": null,
            "min_height": null,
            "min_width": null,
            "object_fit": null,
            "object_position": null,
            "order": null,
            "overflow": null,
            "overflow_x": null,
            "overflow_y": null,
            "padding": null,
            "right": null,
            "top": null,
            "visibility": null,
            "width": null
          }
        },
        "6f2320173bd44e0c993033715b8c5351": {
          "model_module": "@jupyter-widgets/controls",
          "model_name": "DescriptionStyleModel",
          "model_module_version": "1.5.0",
          "state": {
            "_model_module": "@jupyter-widgets/controls",
            "_model_module_version": "1.5.0",
            "_model_name": "DescriptionStyleModel",
            "_view_count": null,
            "_view_module": "@jupyter-widgets/base",
            "_view_module_version": "1.2.0",
            "_view_name": "StyleView",
            "description_width": ""
          }
        },
        "a880a2d1b2934a7cbdbb17733ed7a585": {
          "model_module": "@jupyter-widgets/controls",
          "model_name": "HBoxModel",
          "model_module_version": "1.5.0",
          "state": {
            "_dom_classes": [],
            "_model_module": "@jupyter-widgets/controls",
            "_model_module_version": "1.5.0",
            "_model_name": "HBoxModel",
            "_view_count": null,
            "_view_module": "@jupyter-widgets/controls",
            "_view_module_version": "1.5.0",
            "_view_name": "HBoxView",
            "box_style": "",
            "children": [
              "IPY_MODEL_b90e7e85b03e4efa99ddc2b3200f24d2",
              "IPY_MODEL_e4b4fa99c76b413dab03dc5f73f48cfd",
              "IPY_MODEL_e61d8d19cd4748d69900e37ca5b5ae0d"
            ],
            "layout": "IPY_MODEL_f131d649df2b4a80800c755a305ec6d6"
          }
        },
        "b90e7e85b03e4efa99ddc2b3200f24d2": {
          "model_module": "@jupyter-widgets/controls",
          "model_name": "HTMLModel",
          "model_module_version": "1.5.0",
          "state": {
            "_dom_classes": [],
            "_model_module": "@jupyter-widgets/controls",
            "_model_module_version": "1.5.0",
            "_model_name": "HTMLModel",
            "_view_count": null,
            "_view_module": "@jupyter-widgets/controls",
            "_view_module_version": "1.5.0",
            "_view_name": "HTMLView",
            "description": "",
            "description_tooltip": null,
            "layout": "IPY_MODEL_3072df70dbc24e5e95df297bc872b62a",
            "placeholder": "​",
            "style": "IPY_MODEL_000080a66f0445aa9e43fe118e7ea12d",
            "value": "Downloading: 100%"
          }
        },
        "e4b4fa99c76b413dab03dc5f73f48cfd": {
          "model_module": "@jupyter-widgets/controls",
          "model_name": "FloatProgressModel",
          "model_module_version": "1.5.0",
          "state": {
            "_dom_classes": [],
            "_model_module": "@jupyter-widgets/controls",
            "_model_module_version": "1.5.0",
            "_model_name": "FloatProgressModel",
            "_view_count": null,
            "_view_module": "@jupyter-widgets/controls",
            "_view_module_version": "1.5.0",
            "_view_name": "ProgressView",
            "bar_style": "success",
            "description": "",
            "description_tooltip": null,
            "layout": "IPY_MODEL_08c073133ce84707ac3fe6e248149c7b",
            "max": 423498558,
            "min": 0,
            "orientation": "horizontal",
            "style": "IPY_MODEL_d39b1a40dd934442aa31bff221af2a38",
            "value": 423498558
          }
        },
        "e61d8d19cd4748d69900e37ca5b5ae0d": {
          "model_module": "@jupyter-widgets/controls",
          "model_name": "HTMLModel",
          "model_module_version": "1.5.0",
          "state": {
            "_dom_classes": [],
            "_model_module": "@jupyter-widgets/controls",
            "_model_module_version": "1.5.0",
            "_model_name": "HTMLModel",
            "_view_count": null,
            "_view_module": "@jupyter-widgets/controls",
            "_view_module_version": "1.5.0",
            "_view_name": "HTMLView",
            "description": "",
            "description_tooltip": null,
            "layout": "IPY_MODEL_eb17e51c97724e56b289ea850a09709a",
            "placeholder": "​",
            "style": "IPY_MODEL_b933d5a2543648dd8e827f9adfb73562",
            "value": " 423M/423M [00:11&lt;00:00, 43.0MB/s]"
          }
        },
        "f131d649df2b4a80800c755a305ec6d6": {
          "model_module": "@jupyter-widgets/base",
          "model_name": "LayoutModel",
          "model_module_version": "1.2.0",
          "state": {
            "_model_module": "@jupyter-widgets/base",
            "_model_module_version": "1.2.0",
            "_model_name": "LayoutModel",
            "_view_count": null,
            "_view_module": "@jupyter-widgets/base",
            "_view_module_version": "1.2.0",
            "_view_name": "LayoutView",
            "align_content": null,
            "align_items": null,
            "align_self": null,
            "border": null,
            "bottom": null,
            "display": null,
            "flex": null,
            "flex_flow": null,
            "grid_area": null,
            "grid_auto_columns": null,
            "grid_auto_flow": null,
            "grid_auto_rows": null,
            "grid_column": null,
            "grid_gap": null,
            "grid_row": null,
            "grid_template_areas": null,
            "grid_template_columns": null,
            "grid_template_rows": null,
            "height": null,
            "justify_content": null,
            "justify_items": null,
            "left": null,
            "margin": null,
            "max_height": null,
            "max_width": null,
            "min_height": null,
            "min_width": null,
            "object_fit": null,
            "object_position": null,
            "order": null,
            "overflow": null,
            "overflow_x": null,
            "overflow_y": null,
            "padding": null,
            "right": null,
            "top": null,
            "visibility": null,
            "width": null
          }
        },
        "3072df70dbc24e5e95df297bc872b62a": {
          "model_module": "@jupyter-widgets/base",
          "model_name": "LayoutModel",
          "model_module_version": "1.2.0",
          "state": {
            "_model_module": "@jupyter-widgets/base",
            "_model_module_version": "1.2.0",
            "_model_name": "LayoutModel",
            "_view_count": null,
            "_view_module": "@jupyter-widgets/base",
            "_view_module_version": "1.2.0",
            "_view_name": "LayoutView",
            "align_content": null,
            "align_items": null,
            "align_self": null,
            "border": null,
            "bottom": null,
            "display": null,
            "flex": null,
            "flex_flow": null,
            "grid_area": null,
            "grid_auto_columns": null,
            "grid_auto_flow": null,
            "grid_auto_rows": null,
            "grid_column": null,
            "grid_gap": null,
            "grid_row": null,
            "grid_template_areas": null,
            "grid_template_columns": null,
            "grid_template_rows": null,
            "height": null,
            "justify_content": null,
            "justify_items": null,
            "left": null,
            "margin": null,
            "max_height": null,
            "max_width": null,
            "min_height": null,
            "min_width": null,
            "object_fit": null,
            "object_position": null,
            "order": null,
            "overflow": null,
            "overflow_x": null,
            "overflow_y": null,
            "padding": null,
            "right": null,
            "top": null,
            "visibility": null,
            "width": null
          }
        },
        "000080a66f0445aa9e43fe118e7ea12d": {
          "model_module": "@jupyter-widgets/controls",
          "model_name": "DescriptionStyleModel",
          "model_module_version": "1.5.0",
          "state": {
            "_model_module": "@jupyter-widgets/controls",
            "_model_module_version": "1.5.0",
            "_model_name": "DescriptionStyleModel",
            "_view_count": null,
            "_view_module": "@jupyter-widgets/base",
            "_view_module_version": "1.2.0",
            "_view_name": "StyleView",
            "description_width": ""
          }
        },
        "08c073133ce84707ac3fe6e248149c7b": {
          "model_module": "@jupyter-widgets/base",
          "model_name": "LayoutModel",
          "model_module_version": "1.2.0",
          "state": {
            "_model_module": "@jupyter-widgets/base",
            "_model_module_version": "1.2.0",
            "_model_name": "LayoutModel",
            "_view_count": null,
            "_view_module": "@jupyter-widgets/base",
            "_view_module_version": "1.2.0",
            "_view_name": "LayoutView",
            "align_content": null,
            "align_items": null,
            "align_self": null,
            "border": null,
            "bottom": null,
            "display": null,
            "flex": null,
            "flex_flow": null,
            "grid_area": null,
            "grid_auto_columns": null,
            "grid_auto_flow": null,
            "grid_auto_rows": null,
            "grid_column": null,
            "grid_gap": null,
            "grid_row": null,
            "grid_template_areas": null,
            "grid_template_columns": null,
            "grid_template_rows": null,
            "height": null,
            "justify_content": null,
            "justify_items": null,
            "left": null,
            "margin": null,
            "max_height": null,
            "max_width": null,
            "min_height": null,
            "min_width": null,
            "object_fit": null,
            "object_position": null,
            "order": null,
            "overflow": null,
            "overflow_x": null,
            "overflow_y": null,
            "padding": null,
            "right": null,
            "top": null,
            "visibility": null,
            "width": null
          }
        },
        "d39b1a40dd934442aa31bff221af2a38": {
          "model_module": "@jupyter-widgets/controls",
          "model_name": "ProgressStyleModel",
          "model_module_version": "1.5.0",
          "state": {
            "_model_module": "@jupyter-widgets/controls",
            "_model_module_version": "1.5.0",
            "_model_name": "ProgressStyleModel",
            "_view_count": null,
            "_view_module": "@jupyter-widgets/base",
            "_view_module_version": "1.2.0",
            "_view_name": "StyleView",
            "bar_color": null,
            "description_width": ""
          }
        },
        "eb17e51c97724e56b289ea850a09709a": {
          "model_module": "@jupyter-widgets/base",
          "model_name": "LayoutModel",
          "model_module_version": "1.2.0",
          "state": {
            "_model_module": "@jupyter-widgets/base",
            "_model_module_version": "1.2.0",
            "_model_name": "LayoutModel",
            "_view_count": null,
            "_view_module": "@jupyter-widgets/base",
            "_view_module_version": "1.2.0",
            "_view_name": "LayoutView",
            "align_content": null,
            "align_items": null,
            "align_self": null,
            "border": null,
            "bottom": null,
            "display": null,
            "flex": null,
            "flex_flow": null,
            "grid_area": null,
            "grid_auto_columns": null,
            "grid_auto_flow": null,
            "grid_auto_rows": null,
            "grid_column": null,
            "grid_gap": null,
            "grid_row": null,
            "grid_template_areas": null,
            "grid_template_columns": null,
            "grid_template_rows": null,
            "height": null,
            "justify_content": null,
            "justify_items": null,
            "left": null,
            "margin": null,
            "max_height": null,
            "max_width": null,
            "min_height": null,
            "min_width": null,
            "object_fit": null,
            "object_position": null,
            "order": null,
            "overflow": null,
            "overflow_x": null,
            "overflow_y": null,
            "padding": null,
            "right": null,
            "top": null,
            "visibility": null,
            "width": null
          }
        },
        "b933d5a2543648dd8e827f9adfb73562": {
          "model_module": "@jupyter-widgets/controls",
          "model_name": "DescriptionStyleModel",
          "model_module_version": "1.5.0",
          "state": {
            "_model_module": "@jupyter-widgets/controls",
            "_model_module_version": "1.5.0",
            "_model_name": "DescriptionStyleModel",
            "_view_count": null,
            "_view_module": "@jupyter-widgets/base",
            "_view_module_version": "1.2.0",
            "_view_name": "StyleView",
            "description_width": ""
          }
        }
      }
    }
  },
  "cells": [
    {
      "cell_type": "markdown",
      "metadata": {
        "id": "view-in-github",
        "colab_type": "text"
      },
      "source": [
        "<a href=\"https://colab.research.google.com/github/Supathatkh/datasci_/blob/main/04n_NLP_Thai_Text_Classification.ipynb\" target=\"_parent\"><img src=\"https://colab.research.google.com/assets/colab-badge.svg\" alt=\"Open In Colab\"/></a>"
      ]
    },
    {
      "cell_type": "markdown",
      "source": [
        "#บทที่ 4n - NLP คืออะไร? บทเรียนจากอดีตสู่ปัจจุบัน"
      ],
      "metadata": {
        "id": "Uq-J1hrtTwts"
      }
    },
    {
      "cell_type": "code",
      "source": [
        "!wget https://github.com/PyThaiNLP/wisesight-sentiment/archive/master.zip; unzip master.zip\n",
        "!mv wisesight-sentiment-master/kaggle-competition/* .\n",
        "!pip -q install tensorflow_text\n",
        "!pip -q install pythainlp==3.0.0\n",
        "!pip -q install emoji\n",
        "!pip -q install python-crfsuite\n",
        "!ls"
      ],
      "metadata": {
        "colab": {
          "base_uri": "https://localhost:8080/"
        },
        "id": "kHpRAUaMTv5m",
        "outputId": "d4457240-a248-4057-fed5-756eb7b4649f"
      },
      "execution_count": null,
      "outputs": [
        {
          "output_type": "stream",
          "name": "stdout",
          "text": [
            "--2022-08-09 11:13:39--  https://github.com/PyThaiNLP/wisesight-sentiment/archive/master.zip\n",
            "Resolving github.com (github.com)... 140.82.113.4\n",
            "Connecting to github.com (github.com)|140.82.113.4|:443... connected.\n",
            "HTTP request sent, awaiting response... 302 Found\n",
            "Location: https://codeload.github.com/PyThaiNLP/wisesight-sentiment/zip/refs/heads/master [following]\n",
            "--2022-08-09 11:13:39--  https://codeload.github.com/PyThaiNLP/wisesight-sentiment/zip/refs/heads/master\n",
            "Resolving codeload.github.com (codeload.github.com)... 140.82.113.9\n",
            "Connecting to codeload.github.com (codeload.github.com)|140.82.113.9|:443... connected.\n",
            "HTTP request sent, awaiting response... 200 OK\n",
            "Length: unspecified [application/zip]\n",
            "Saving to: ‘master.zip’\n",
            "\n",
            "master.zip              [      <=>           ]   6.07M  3.83MB/s    in 1.6s    \n",
            "\n",
            "2022-08-09 11:13:41 (3.83 MB/s) - ‘master.zip’ saved [6365495]\n",
            "\n",
            "Archive:  master.zip\n",
            "66eb261de09f88e842ae57bee0b8471ae2c30c1f\n",
            "   creating: wisesight-sentiment-master/\n",
            "  inflating: wisesight-sentiment-master/.gitignore  \n",
            "  inflating: wisesight-sentiment-master/LICENSE  \n",
            "  inflating: wisesight-sentiment-master/README.md  \n",
            "  inflating: wisesight-sentiment-master/exploration.ipynb  \n",
            "   creating: wisesight-sentiment-master/huggingface/\n",
            " extracting: wisesight-sentiment-master/huggingface/data.zip  \n",
            "  inflating: wisesight-sentiment-master/huggingface/process_huggingface.ipynb  \n",
            "   creating: wisesight-sentiment-master/kaggle-competition/\n",
            "  inflating: wisesight-sentiment-master/kaggle-competition/README.md  \n",
            "  inflating: wisesight-sentiment-master/kaggle-competition/competition.ipynb  \n",
            "  inflating: wisesight-sentiment-master/kaggle-competition/test.txt  \n",
            "  inflating: wisesight-sentiment-master/kaggle-competition/test_label.txt  \n",
            "  inflating: wisesight-sentiment-master/kaggle-competition/test_majority.csv  \n",
            "  inflating: wisesight-sentiment-master/kaggle-competition/test_solution.csv  \n",
            "  inflating: wisesight-sentiment-master/kaggle-competition/text_generation.ipynb  \n",
            "  inflating: wisesight-sentiment-master/kaggle-competition/train.txt  \n",
            "  inflating: wisesight-sentiment-master/kaggle-competition/train_label.txt  \n",
            "  inflating: wisesight-sentiment-master/kaggle-competition/train_model.py  \n",
            "  inflating: wisesight-sentiment-master/neg.txt  \n",
            "  inflating: wisesight-sentiment-master/neu.txt  \n",
            "  inflating: wisesight-sentiment-master/pos.txt  \n",
            "  inflating: wisesight-sentiment-master/q.txt  \n",
            "   creating: wisesight-sentiment-master/word-tokenization/\n",
            "  inflating: wisesight-sentiment-master/word-tokenization/README.md  \n",
            "  inflating: wisesight-sentiment-master/word-tokenization/data-preparation-and-post-processing.ipynb  \n",
            "  inflating: wisesight-sentiment-master/word-tokenization/wisesight-1000-samples-tokenised.label  \n",
            "  inflating: wisesight-sentiment-master/word-tokenization/wisesight-1000-samples-tokenised.txt  \n",
            "  inflating: wisesight-sentiment-master/word-tokenization/wisesight-160-samples-tokenised.label  \n",
            "  inflating: wisesight-sentiment-master/word-tokenization/wisesight-160-samples-tokenised.txt  \n",
            "\u001b[K     |████████████████████████████████| 4.6 MB 8.7 MB/s \n",
            "\u001b[K     |████████████████████████████████| 511.7 MB 5.9 kB/s \n",
            "\u001b[K     |████████████████████████████████| 1.6 MB 42.2 MB/s \n",
            "\u001b[K     |████████████████████████████████| 438 kB 57.8 MB/s \n",
            "\u001b[K     |████████████████████████████████| 5.8 MB 38.1 MB/s \n",
            "\u001b[K     |████████████████████████████████| 11.5 MB 5.7 MB/s \n",
            "\u001b[K     |████████████████████████████████| 197 kB 7.1 MB/s \n",
            "\u001b[?25h  Building wheel for emoji (setup.py) ... \u001b[?25l\u001b[?25hdone\n",
            "\u001b[K     |████████████████████████████████| 965 kB 6.4 MB/s \n",
            "\u001b[?25hcompetition.ipynb  test_majority.csv\t  train_model.py\n",
            "master.zip\t   test_solution.csv\t  train.txt\n",
            "README.md\t   test.txt\t\t  wisesight-sentiment-master\n",
            "sample_data\t   text_generation.ipynb\n",
            "test_label.txt\t   train_label.txt\n"
          ]
        }
      ]
    },
    {
      "cell_type": "markdown",
      "source": [
        "##โค้ดต้นฉบับจาก: Wisesight Sentiment Competition https://github.com/PyThaiNLP/wisesight-sentiment/blob/master/kaggle-competition/competition.ipynb"
      ],
      "metadata": {
        "id": "NoAsLRP2T149"
      }
    },
    {
      "cell_type": "code",
      "execution_count": null,
      "metadata": {
        "id": "FB8fImnZTs2a"
      },
      "outputs": [],
      "source": [
        "import pandas as pd\n",
        "import numpy as np\n",
        "from pythainlp import word_tokenize\n",
        "from tqdm import tqdm_notebook\n",
        "import re\n",
        "import emoji\n",
        "\n",
        "#viz\n",
        "from plotnine import *\n",
        "import matplotlib.pyplot as plt\n",
        "import seaborn as sns"
      ]
    },
    {
      "cell_type": "code",
      "source": [
        "def replace_url(text):\n",
        "    URL_PATTERN = r\"\"\"(?i)\\b((?:https?:(?:/{1,3}|[a-z0-9%])|[a-z0-9.\\-]+[.](?:com|net|org|edu|gov|mil|aero|asia|biz|cat|coop|info|int|jobs|mobi|museum|name|post|pro|tel|travel|xxx|ac|ad|ae|af|ag|ai|al|am|an|ao|aq|ar|as|at|au|aw|ax|az|ba|bb|bd|be|bf|bg|bh|bi|bj|bm|bn|bo|br|bs|bt|bv|bw|by|bz|ca|cc|cd|cf|cg|ch|ci|ck|cl|cm|cn|co|cr|cs|cu|cv|cx|cy|cz|dd|de|dj|dk|dm|do|dz|ec|ee|eg|eh|er|es|et|eu|fi|fj|fk|fm|fo|fr|ga|gb|gd|ge|gf|gg|gh|gi|gl|gm|gn|gp|gq|gr|gs|gt|gu|gw|gy|hk|hm|hn|hr|ht|hu|id|ie|il|im|in|io|iq|ir|is|it|je|jm|jo|jp|ke|kg|kh|ki|km|kn|kp|kr|kw|ky|kz|la|lb|lc|li|lk|lr|ls|lt|lu|lv|ly|ma|mc|md|me|mg|mh|mk|ml|mm|mn|mo|mp|mq|mr|ms|mt|mu|mv|mw|mx|my|mz|na|nc|ne|nf|ng|ni|nl|no|np|nr|nu|nz|om|pa|pe|pf|pg|ph|pk|pl|pm|pn|pr|ps|pt|pw|py|qa|re|ro|rs|ru|rw|sa|sb|sc|sd|se|sg|sh|si|sj|Ja|sk|sl|sm|sn|so|sr|ss|st|su|sv|sx|sy|sz|tc|td|tf|tg|th|tj|tk|tl|tm|tn|to|tp|tr|tt|tv|tw|tz|ua|ug|uk|us|uy|uz|va|vc|ve|vg|vi|vn|vu|wf|ws|ye|yt|yu|za|zm|zw)/)(?:[^\\s()<>{}\\[\\]]+|\\([^\\s()]*?\\([^\\s()]+\\)[^\\s()]*?\\)|\\([^\\s]+?\\))+(?:\\([^\\s()]*?\\([^\\s()]+\\)[^\\s()]*?\\)|\\([^\\s]+?\\)|[^\\s`!()\\[\\]{};:'\".,<>?«»“”‘’])|(?:(?<!@)[a-z0-9]+(?:[.\\-][a-z0-9]+)*[.](?:com|net|org|edu|gov|mil|aero|asia|biz|cat|coop|info|int|jobs|mobi|museum|name|post|pro|tel|travel|xxx|ac|ad|ae|af|ag|ai|al|am|an|ao|aq|ar|as|at|au|aw|ax|az|ba|bb|bd|be|bf|bg|bh|bi|bj|bm|bn|bo|br|bs|bt|bv|bw|by|bz|ca|cc|cd|cf|cg|ch|ci|ck|cl|cm|cn|co|cr|cs|cu|cv|cx|cy|cz|dd|de|dj|dk|dm|do|dz|ec|ee|eg|eh|er|es|et|eu|fi|fj|fk|fm|fo|fr|ga|gb|gd|ge|gf|gg|gh|gi|gl|gm|gn|gp|gq|gr|gs|gt|gu|gw|gy|hk|hm|hn|hr|ht|hu|id|ie|il|im|in|io|iq|ir|is|it|je|jm|jo|jp|ke|kg|kh|ki|km|kn|kp|kr|kw|ky|kz|la|lb|lc|li|lk|lr|ls|lt|lu|lv|ly|ma|mc|md|me|mg|mh|mk|ml|mm|mn|mo|mp|mq|mr|ms|mt|mu|mv|mw|mx|my|mz|na|nc|ne|nf|ng|ni|nl|no|np|nr|nu|nz|om|pa|pe|pf|pg|ph|pk|pl|pm|pn|pr|ps|pt|pw|py|qa|re|ro|rs|ru|rw|sa|sb|sc|sd|se|sg|sh|si|sj|Ja|sk|sl|sm|sn|so|sr|ss|st|su|sv|sx|sy|sz|tc|td|tf|tg|th|tj|tk|tl|tm|tn|to|tp|tr|tt|tv|tw|tz|ua|ug|uk|us|uy|uz|va|vc|ve|vg|vi|vn|vu|wf|ws|ye|yt|yu|za|zm|zw)\\b/?(?!@)))\"\"\"\n",
        "    return re.sub(URL_PATTERN, 'xxurl', text)\n",
        "\n",
        "def replace_rep(text):\n",
        "    def _replace_rep(m):\n",
        "        c,cc = m.groups()\n",
        "        return f'{c}xxrep'\n",
        "    re_rep = re.compile(r'(\\S)(\\1{2,})')\n",
        "    return re_rep.sub(_replace_rep, text)\n",
        "\n",
        "def ungroup_emoji(toks):\n",
        "    res = []\n",
        "    for tok in toks:\n",
        "        if emoji.emoji_count(tok) == len(tok):\n",
        "            for char in tok:\n",
        "                res.append(char)\n",
        "        else:\n",
        "            res.append(tok)\n",
        "    return res\n",
        "\n",
        "def process_text(text):\n",
        "    #pre rules\n",
        "    res = text.lower().strip() # 'AAAA'\n",
        "    res = replace_url(res)\n",
        "    res = replace_rep(res) # 'แมวนอนกินปลา' => 'แมว นอน กิน ปลา'\n",
        "    \n",
        "    #tokenize\n",
        "    res = [word for word in word_tokenize(res) if word and not re.search(pattern=r\"\\s+\", string=word)]\n",
        "    \n",
        "    #post rules\n",
        "    res = ungroup_emoji(res)\n",
        "    \n",
        "    return res"
      ],
      "metadata": {
        "id": "Xkpeg8JUT9_u"
      },
      "execution_count": null,
      "outputs": []
    },
    {
      "cell_type": "code",
      "source": [
        "with open('train.txt') as f:\n",
        "    texts = [line.strip() for line in f.readlines()]\n",
        "f.close()\n",
        "\n",
        "with open('train_label.txt') as f:\n",
        "    categories = [line.strip() for line in f.readlines()]\n",
        "f.close()\n",
        "\n",
        "all_df = pd.DataFrame({'category':categories, 'texts':texts})\n",
        "all_df.to_csv('all_df.csv',index=False)\n",
        "all_df.shape"
      ],
      "metadata": {
        "colab": {
          "base_uri": "https://localhost:8080/"
        },
        "id": "OeHss1gWUBxX",
        "outputId": "920a99c1-0a08-4dea-899a-09011b59843a"
      },
      "execution_count": null,
      "outputs": [
        {
          "output_type": "execute_result",
          "data": {
            "text/plain": [
              "(24063, 2)"
            ]
          },
          "metadata": {},
          "execution_count": 4
        }
      ]
    },
    {
      "cell_type": "code",
      "source": [
        "all_df"
      ],
      "metadata": {
        "colab": {
          "base_uri": "https://localhost:8080/",
          "height": 424
        },
        "id": "1WqGygEwUD3v",
        "outputId": "2434464f-04f2-4bcf-b44a-e37615c2c7c8"
      },
      "execution_count": null,
      "outputs": [
        {
          "output_type": "execute_result",
          "data": {
            "text/plain": [
              "      category                                              texts\n",
              "0          neu  ประเทศเราผลิตและส่งออกยาสูบเยอะสุดในโลกจิงป่าวคับ\n",
              "1          neu                                                 คะ\n",
              "2          neg                        อิเหี้ยออมทำกูอยากกินเอ็มเค\n",
              "3          neu                                                😅😅😅\n",
              "4          neu                            สวัสดีวันพุธ แนน อะไรนะ\n",
              "...        ...                                                ...\n",
              "24058      neg                                     แม่งควายล้วนนน\n",
              "24059      neg                   ดอยสุเทพน้องง ไปหมดแล้วววว #pm25\n",
              "24060      neg                           ค่าชุดอาจจะแพงกว่าส่วนลด\n",
              "24061      neu                              รัฐต้องการแค่ภาษีครับ\n",
              "24062      neu  ™ ได้พัฒนาระบบเข้าสู่รุ่นที่สองแล้ว มาดูกันสิว...\n",
              "\n",
              "[24063 rows x 2 columns]"
            ],
            "text/html": [
              "\n",
              "  <div id=\"df-8c048ef6-144c-423c-9efd-5d3372077dd5\">\n",
              "    <div class=\"colab-df-container\">\n",
              "      <div>\n",
              "<style scoped>\n",
              "    .dataframe tbody tr th:only-of-type {\n",
              "        vertical-align: middle;\n",
              "    }\n",
              "\n",
              "    .dataframe tbody tr th {\n",
              "        vertical-align: top;\n",
              "    }\n",
              "\n",
              "    .dataframe thead th {\n",
              "        text-align: right;\n",
              "    }\n",
              "</style>\n",
              "<table border=\"1\" class=\"dataframe\">\n",
              "  <thead>\n",
              "    <tr style=\"text-align: right;\">\n",
              "      <th></th>\n",
              "      <th>category</th>\n",
              "      <th>texts</th>\n",
              "    </tr>\n",
              "  </thead>\n",
              "  <tbody>\n",
              "    <tr>\n",
              "      <th>0</th>\n",
              "      <td>neu</td>\n",
              "      <td>ประเทศเราผลิตและส่งออกยาสูบเยอะสุดในโลกจิงป่าวคับ</td>\n",
              "    </tr>\n",
              "    <tr>\n",
              "      <th>1</th>\n",
              "      <td>neu</td>\n",
              "      <td>คะ</td>\n",
              "    </tr>\n",
              "    <tr>\n",
              "      <th>2</th>\n",
              "      <td>neg</td>\n",
              "      <td>อิเหี้ยออมทำกูอยากกินเอ็มเค</td>\n",
              "    </tr>\n",
              "    <tr>\n",
              "      <th>3</th>\n",
              "      <td>neu</td>\n",
              "      <td>😅😅😅</td>\n",
              "    </tr>\n",
              "    <tr>\n",
              "      <th>4</th>\n",
              "      <td>neu</td>\n",
              "      <td>สวัสดีวันพุธ แนน อะไรนะ</td>\n",
              "    </tr>\n",
              "    <tr>\n",
              "      <th>...</th>\n",
              "      <td>...</td>\n",
              "      <td>...</td>\n",
              "    </tr>\n",
              "    <tr>\n",
              "      <th>24058</th>\n",
              "      <td>neg</td>\n",
              "      <td>แม่งควายล้วนนน</td>\n",
              "    </tr>\n",
              "    <tr>\n",
              "      <th>24059</th>\n",
              "      <td>neg</td>\n",
              "      <td>ดอยสุเทพน้องง ไปหมดแล้วววว #pm25</td>\n",
              "    </tr>\n",
              "    <tr>\n",
              "      <th>24060</th>\n",
              "      <td>neg</td>\n",
              "      <td>ค่าชุดอาจจะแพงกว่าส่วนลด</td>\n",
              "    </tr>\n",
              "    <tr>\n",
              "      <th>24061</th>\n",
              "      <td>neu</td>\n",
              "      <td>รัฐต้องการแค่ภาษีครับ</td>\n",
              "    </tr>\n",
              "    <tr>\n",
              "      <th>24062</th>\n",
              "      <td>neu</td>\n",
              "      <td>™ ได้พัฒนาระบบเข้าสู่รุ่นที่สองแล้ว มาดูกันสิว...</td>\n",
              "    </tr>\n",
              "  </tbody>\n",
              "</table>\n",
              "<p>24063 rows × 2 columns</p>\n",
              "</div>\n",
              "      <button class=\"colab-df-convert\" onclick=\"convertToInteractive('df-8c048ef6-144c-423c-9efd-5d3372077dd5')\"\n",
              "              title=\"Convert this dataframe to an interactive table.\"\n",
              "              style=\"display:none;\">\n",
              "        \n",
              "  <svg xmlns=\"http://www.w3.org/2000/svg\" height=\"24px\"viewBox=\"0 0 24 24\"\n",
              "       width=\"24px\">\n",
              "    <path d=\"M0 0h24v24H0V0z\" fill=\"none\"/>\n",
              "    <path d=\"M18.56 5.44l.94 2.06.94-2.06 2.06-.94-2.06-.94-.94-2.06-.94 2.06-2.06.94zm-11 1L8.5 8.5l.94-2.06 2.06-.94-2.06-.94L8.5 2.5l-.94 2.06-2.06.94zm10 10l.94 2.06.94-2.06 2.06-.94-2.06-.94-.94-2.06-.94 2.06-2.06.94z\"/><path d=\"M17.41 7.96l-1.37-1.37c-.4-.4-.92-.59-1.43-.59-.52 0-1.04.2-1.43.59L10.3 9.45l-7.72 7.72c-.78.78-.78 2.05 0 2.83L4 21.41c.39.39.9.59 1.41.59.51 0 1.02-.2 1.41-.59l7.78-7.78 2.81-2.81c.8-.78.8-2.07 0-2.86zM5.41 20L4 18.59l7.72-7.72 1.47 1.35L5.41 20z\"/>\n",
              "  </svg>\n",
              "      </button>\n",
              "      \n",
              "  <style>\n",
              "    .colab-df-container {\n",
              "      display:flex;\n",
              "      flex-wrap:wrap;\n",
              "      gap: 12px;\n",
              "    }\n",
              "\n",
              "    .colab-df-convert {\n",
              "      background-color: #E8F0FE;\n",
              "      border: none;\n",
              "      border-radius: 50%;\n",
              "      cursor: pointer;\n",
              "      display: none;\n",
              "      fill: #1967D2;\n",
              "      height: 32px;\n",
              "      padding: 0 0 0 0;\n",
              "      width: 32px;\n",
              "    }\n",
              "\n",
              "    .colab-df-convert:hover {\n",
              "      background-color: #E2EBFA;\n",
              "      box-shadow: 0px 1px 2px rgba(60, 64, 67, 0.3), 0px 1px 3px 1px rgba(60, 64, 67, 0.15);\n",
              "      fill: #174EA6;\n",
              "    }\n",
              "\n",
              "    [theme=dark] .colab-df-convert {\n",
              "      background-color: #3B4455;\n",
              "      fill: #D2E3FC;\n",
              "    }\n",
              "\n",
              "    [theme=dark] .colab-df-convert:hover {\n",
              "      background-color: #434B5C;\n",
              "      box-shadow: 0px 1px 3px 1px rgba(0, 0, 0, 0.15);\n",
              "      filter: drop-shadow(0px 1px 2px rgba(0, 0, 0, 0.3));\n",
              "      fill: #FFFFFF;\n",
              "    }\n",
              "  </style>\n",
              "\n",
              "      <script>\n",
              "        const buttonEl =\n",
              "          document.querySelector('#df-8c048ef6-144c-423c-9efd-5d3372077dd5 button.colab-df-convert');\n",
              "        buttonEl.style.display =\n",
              "          google.colab.kernel.accessAllowed ? 'block' : 'none';\n",
              "\n",
              "        async function convertToInteractive(key) {\n",
              "          const element = document.querySelector('#df-8c048ef6-144c-423c-9efd-5d3372077dd5');\n",
              "          const dataTable =\n",
              "            await google.colab.kernel.invokeFunction('convertToInteractive',\n",
              "                                                     [key], {});\n",
              "          if (!dataTable) return;\n",
              "\n",
              "          const docLinkHtml = 'Like what you see? Visit the ' +\n",
              "            '<a target=\"_blank\" href=https://colab.research.google.com/notebooks/data_table.ipynb>data table notebook</a>'\n",
              "            + ' to learn more about interactive tables.';\n",
              "          element.innerHTML = '';\n",
              "          dataTable['output_type'] = 'display_data';\n",
              "          await google.colab.output.renderOutput(dataTable, element);\n",
              "          const docLink = document.createElement('div');\n",
              "          docLink.innerHTML = docLinkHtml;\n",
              "          element.appendChild(docLink);\n",
              "        }\n",
              "      </script>\n",
              "    </div>\n",
              "  </div>\n",
              "  "
            ]
          },
          "metadata": {},
          "execution_count": 5
        }
      ]
    },
    {
      "cell_type": "code",
      "source": [
        "with open('test.txt') as f:\n",
        "    texts = [line.strip() for line in f.readlines()]\n",
        "f.close()\n",
        "\n",
        "test_df = pd.DataFrame({'category':'test', 'texts':texts})\n",
        "test_df.to_csv('test_df.csv',index=False)\n",
        "test_df.shape"
      ],
      "metadata": {
        "colab": {
          "base_uri": "https://localhost:8080/"
        },
        "id": "50BflY6QUJmq",
        "outputId": "5c52f559-fd2a-4bdc-d859-e11d641331cd"
      },
      "execution_count": null,
      "outputs": [
        {
          "output_type": "execute_result",
          "data": {
            "text/plain": [
              "(2674, 2)"
            ]
          },
          "metadata": {},
          "execution_count": 7
        }
      ]
    },
    {
      "cell_type": "code",
      "source": [
        "\n",
        "all_df = pd.read_csv('all_df.csv')\n",
        "test_df = pd.read_csv('test_df.csv')\n",
        "\n",
        "all_df['processed'] = all_df.texts.map(lambda x: '|'.join(process_text(x)))\n",
        "all_df['wc'] = all_df.processed.map(lambda x: len(x.split('|')))\n",
        "all_df['uwc'] = all_df.processed.map(lambda x: len(set(x.split('|'))))\n",
        "\n",
        "test_df['processed'] = test_df.texts.map(lambda x: '|'.join(process_text(x)))\n",
        "test_df['wc'] = test_df.processed.map(lambda x: len(x.split('|')))\n",
        "test_df['uwc'] = test_df.processed.map(lambda x: len(set(x.split('|'))))"
      ],
      "metadata": {
        "id": "PKQ3Pa8kUKxi"
      },
      "execution_count": null,
      "outputs": []
    },
    {
      "cell_type": "code",
      "source": [
        "all_df.values.tolist()[0]"
      ],
      "metadata": {
        "colab": {
          "base_uri": "https://localhost:8080/"
        },
        "id": "J5COS_DsUOiV",
        "outputId": "58bc2460-6967-44b1-87fe-c30d89553b1f"
      },
      "execution_count": null,
      "outputs": [
        {
          "output_type": "execute_result",
          "data": {
            "text/plain": [
              "['neu',\n",
              " 'ประเทศเราผลิตและส่งออกยาสูบเยอะสุดในโลกจิงป่าวคับ',\n",
              " 'ประเทศ|เรา|ผลิต|และ|ส่งออก|ยาสูบ|เยอะ|สุด|ใน|โลก|จิง|ป่าว|คับ',\n",
              " 13,\n",
              " 13]"
            ]
          },
          "metadata": {},
          "execution_count": 9
        }
      ]
    },
    {
      "cell_type": "code",
      "source": [
        "all_df.category.value_counts() / all_df.shape[0]"
      ],
      "metadata": {
        "colab": {
          "base_uri": "https://localhost:8080/"
        },
        "id": "IBjAEG48UQeA",
        "outputId": "8978f5ac-d6ce-4b80-b217-cb03f9a0875d"
      },
      "execution_count": null,
      "outputs": [
        {
          "output_type": "execute_result",
          "data": {
            "text/plain": [
              "neu    0.544612\n",
              "neg    0.255164\n",
              "pos    0.178698\n",
              "q      0.021527\n",
              "Name: category, dtype: float64"
            ]
          },
          "metadata": {},
          "execution_count": 10
        }
      ]
    },
    {
      "cell_type": "code",
      "source": [
        "from sklearn.model_selection import train_test_split\n",
        "train_df, valid_df = train_test_split(all_df, test_size=0.15, random_state=1412)\n",
        "train_df = train_df.reset_index(drop=True)\n",
        "valid_df = valid_df.reset_index(drop=True)"
      ],
      "metadata": {
        "id": "SzR1aWwsUfTy"
      },
      "execution_count": null,
      "outputs": []
    },
    {
      "cell_type": "code",
      "source": [
        "train_df.head()"
      ],
      "metadata": {
        "colab": {
          "base_uri": "https://localhost:8080/",
          "height": 206
        },
        "id": "_W3W-M9fUi2R",
        "outputId": "7bdeaf13-20cb-491d-9f07-ef98f9ea3522"
      },
      "execution_count": null,
      "outputs": [
        {
          "output_type": "execute_result",
          "data": {
            "text/plain": [
              "  category                                              texts  \\\n",
              "0      neg  กันแดดคิวเพลสตัวใหม่นี่คุมมันดีจริงอ่ะ นี่หน้า...   \n",
              "1      neu  พบกับการร่วมตัวของศิลปิน Soul Pop สามยุค สามสไ...   \n",
              "2      neu                                          👌🏻👌🏻👌🏻😆😆😆   \n",
              "3      neu                       จ-ศ แถมถึง 29 ไม่ทันมะว้าาาา   \n",
              "4      neg  ใช้ดีค่ะ บอกต่อ คือเป็นคนเเพ้ง่ายมากกก ใช้กานิ...   \n",
              "\n",
              "                                           processed   wc  uwc  \n",
              "0  กันแดด|คิว|เพลส|ตัวใหม่|นี่|คุม|มัน|ดีจริง|อ่ะ...   29   24  \n",
              "1  พบ|กับ|การ|ร่วม|ตัว|ของ|ศิลปิน|soul|pop|สาม|ยุ...  107   85  \n",
              "2                                      👌🏻👌🏻👌🏻😆|xxrep    2    2  \n",
              "3              จ|-|ศ|แถม|ถึง|29|ไม่|ทัน|มะ|ว้า|xxrep   11   11  \n",
              "4  ใช้|ดี|ค่ะ|บอกต่อ|คือ|เป็น|คน|เเพ้|ง่าย|มาก|xx...   46   36  "
            ],
            "text/html": [
              "\n",
              "  <div id=\"df-f2c8f22a-009e-4a4f-8994-3109e9e71a25\">\n",
              "    <div class=\"colab-df-container\">\n",
              "      <div>\n",
              "<style scoped>\n",
              "    .dataframe tbody tr th:only-of-type {\n",
              "        vertical-align: middle;\n",
              "    }\n",
              "\n",
              "    .dataframe tbody tr th {\n",
              "        vertical-align: top;\n",
              "    }\n",
              "\n",
              "    .dataframe thead th {\n",
              "        text-align: right;\n",
              "    }\n",
              "</style>\n",
              "<table border=\"1\" class=\"dataframe\">\n",
              "  <thead>\n",
              "    <tr style=\"text-align: right;\">\n",
              "      <th></th>\n",
              "      <th>category</th>\n",
              "      <th>texts</th>\n",
              "      <th>processed</th>\n",
              "      <th>wc</th>\n",
              "      <th>uwc</th>\n",
              "    </tr>\n",
              "  </thead>\n",
              "  <tbody>\n",
              "    <tr>\n",
              "      <th>0</th>\n",
              "      <td>neg</td>\n",
              "      <td>กันแดดคิวเพลสตัวใหม่นี่คุมมันดีจริงอ่ะ นี่หน้า...</td>\n",
              "      <td>กันแดด|คิว|เพลส|ตัวใหม่|นี่|คุม|มัน|ดีจริง|อ่ะ...</td>\n",
              "      <td>29</td>\n",
              "      <td>24</td>\n",
              "    </tr>\n",
              "    <tr>\n",
              "      <th>1</th>\n",
              "      <td>neu</td>\n",
              "      <td>พบกับการร่วมตัวของศิลปิน Soul Pop สามยุค สามสไ...</td>\n",
              "      <td>พบ|กับ|การ|ร่วม|ตัว|ของ|ศิลปิน|soul|pop|สาม|ยุ...</td>\n",
              "      <td>107</td>\n",
              "      <td>85</td>\n",
              "    </tr>\n",
              "    <tr>\n",
              "      <th>2</th>\n",
              "      <td>neu</td>\n",
              "      <td>👌🏻👌🏻👌🏻😆😆😆</td>\n",
              "      <td>👌🏻👌🏻👌🏻😆|xxrep</td>\n",
              "      <td>2</td>\n",
              "      <td>2</td>\n",
              "    </tr>\n",
              "    <tr>\n",
              "      <th>3</th>\n",
              "      <td>neu</td>\n",
              "      <td>จ-ศ แถมถึง 29 ไม่ทันมะว้าาาา</td>\n",
              "      <td>จ|-|ศ|แถม|ถึง|29|ไม่|ทัน|มะ|ว้า|xxrep</td>\n",
              "      <td>11</td>\n",
              "      <td>11</td>\n",
              "    </tr>\n",
              "    <tr>\n",
              "      <th>4</th>\n",
              "      <td>neg</td>\n",
              "      <td>ใช้ดีค่ะ บอกต่อ คือเป็นคนเเพ้ง่ายมากกก ใช้กานิ...</td>\n",
              "      <td>ใช้|ดี|ค่ะ|บอกต่อ|คือ|เป็น|คน|เเพ้|ง่าย|มาก|xx...</td>\n",
              "      <td>46</td>\n",
              "      <td>36</td>\n",
              "    </tr>\n",
              "  </tbody>\n",
              "</table>\n",
              "</div>\n",
              "      <button class=\"colab-df-convert\" onclick=\"convertToInteractive('df-f2c8f22a-009e-4a4f-8994-3109e9e71a25')\"\n",
              "              title=\"Convert this dataframe to an interactive table.\"\n",
              "              style=\"display:none;\">\n",
              "        \n",
              "  <svg xmlns=\"http://www.w3.org/2000/svg\" height=\"24px\"viewBox=\"0 0 24 24\"\n",
              "       width=\"24px\">\n",
              "    <path d=\"M0 0h24v24H0V0z\" fill=\"none\"/>\n",
              "    <path d=\"M18.56 5.44l.94 2.06.94-2.06 2.06-.94-2.06-.94-.94-2.06-.94 2.06-2.06.94zm-11 1L8.5 8.5l.94-2.06 2.06-.94-2.06-.94L8.5 2.5l-.94 2.06-2.06.94zm10 10l.94 2.06.94-2.06 2.06-.94-2.06-.94-.94-2.06-.94 2.06-2.06.94z\"/><path d=\"M17.41 7.96l-1.37-1.37c-.4-.4-.92-.59-1.43-.59-.52 0-1.04.2-1.43.59L10.3 9.45l-7.72 7.72c-.78.78-.78 2.05 0 2.83L4 21.41c.39.39.9.59 1.41.59.51 0 1.02-.2 1.41-.59l7.78-7.78 2.81-2.81c.8-.78.8-2.07 0-2.86zM5.41 20L4 18.59l7.72-7.72 1.47 1.35L5.41 20z\"/>\n",
              "  </svg>\n",
              "      </button>\n",
              "      \n",
              "  <style>\n",
              "    .colab-df-container {\n",
              "      display:flex;\n",
              "      flex-wrap:wrap;\n",
              "      gap: 12px;\n",
              "    }\n",
              "\n",
              "    .colab-df-convert {\n",
              "      background-color: #E8F0FE;\n",
              "      border: none;\n",
              "      border-radius: 50%;\n",
              "      cursor: pointer;\n",
              "      display: none;\n",
              "      fill: #1967D2;\n",
              "      height: 32px;\n",
              "      padding: 0 0 0 0;\n",
              "      width: 32px;\n",
              "    }\n",
              "\n",
              "    .colab-df-convert:hover {\n",
              "      background-color: #E2EBFA;\n",
              "      box-shadow: 0px 1px 2px rgba(60, 64, 67, 0.3), 0px 1px 3px 1px rgba(60, 64, 67, 0.15);\n",
              "      fill: #174EA6;\n",
              "    }\n",
              "\n",
              "    [theme=dark] .colab-df-convert {\n",
              "      background-color: #3B4455;\n",
              "      fill: #D2E3FC;\n",
              "    }\n",
              "\n",
              "    [theme=dark] .colab-df-convert:hover {\n",
              "      background-color: #434B5C;\n",
              "      box-shadow: 0px 1px 3px 1px rgba(0, 0, 0, 0.15);\n",
              "      filter: drop-shadow(0px 1px 2px rgba(0, 0, 0, 0.3));\n",
              "      fill: #FFFFFF;\n",
              "    }\n",
              "  </style>\n",
              "\n",
              "      <script>\n",
              "        const buttonEl =\n",
              "          document.querySelector('#df-f2c8f22a-009e-4a4f-8994-3109e9e71a25 button.colab-df-convert');\n",
              "        buttonEl.style.display =\n",
              "          google.colab.kernel.accessAllowed ? 'block' : 'none';\n",
              "\n",
              "        async function convertToInteractive(key) {\n",
              "          const element = document.querySelector('#df-f2c8f22a-009e-4a4f-8994-3109e9e71a25');\n",
              "          const dataTable =\n",
              "            await google.colab.kernel.invokeFunction('convertToInteractive',\n",
              "                                                     [key], {});\n",
              "          if (!dataTable) return;\n",
              "\n",
              "          const docLinkHtml = 'Like what you see? Visit the ' +\n",
              "            '<a target=\"_blank\" href=https://colab.research.google.com/notebooks/data_table.ipynb>data table notebook</a>'\n",
              "            + ' to learn more about interactive tables.';\n",
              "          element.innerHTML = '';\n",
              "          dataTable['output_type'] = 'display_data';\n",
              "          await google.colab.output.renderOutput(dataTable, element);\n",
              "          const docLink = document.createElement('div');\n",
              "          docLink.innerHTML = docLinkHtml;\n",
              "          element.appendChild(docLink);\n",
              "        }\n",
              "      </script>\n",
              "    </div>\n",
              "  </div>\n",
              "  "
            ]
          },
          "metadata": {},
          "execution_count": 12
        }
      ]
    },
    {
      "cell_type": "code",
      "source": [
        "valid_df.head()"
      ],
      "metadata": {
        "colab": {
          "base_uri": "https://localhost:8080/",
          "height": 206
        },
        "id": "rmiGqTs2UlSE",
        "outputId": "14d0c81b-bc6b-4842-e052-f70e611908d7"
      },
      "execution_count": null,
      "outputs": [
        {
          "output_type": "execute_result",
          "data": {
            "text/plain": [
              "  category                                              texts  \\\n",
              "0      neu  เห็นคนลบแอพ viu ก็เห็นใจและเข้าใจเขานะคะ แผลมั...   \n",
              "1      neu  ไปชมไม้คิวของแชมป์ และรองแชมป์ กันจ้า! ..........   \n",
              "2      neg  กลุ่มรถซีวิคเป็นกลุ่มที่น่ารำคานมากกกกกกกกก อว...   \n",
              "3      neu  อยากสวยเหมือนเจ้าของแบรนด์สิคะ เนย โชติกา ใบหน...   \n",
              "4      neg  ข้าวโถละร้อย แพง เพราะตักเป็นจานๆละ15 เต็มที่ก...   \n",
              "\n",
              "                                           processed   wc  uwc  \n",
              "0  เห็น|คน|ลบ|แอพ|viu|ก็|เห็นใจ|และ|เข้าใจ|เขา|นะ...   46   41  \n",
              "1  ไป|ชม|ไม้คิว|ของ|แชมป์|และ|รอง|แชมป์|กัน|จ้า|!...   41   39  \n",
              "2  กลุ่ม|รถ|ซีวิค|เป็น|กลุ่ม|ที่|น่า|รำ|คาน|มาก|x...   46   35  \n",
              "3  อยาก|สวย|เหมือน|เจ้าของ|แบรนด์|สิ|คะ|เนย|โชติ|...   72   56  \n",
              "4  ข้าว|โถ|ละ|ร้อย|แพง|เพราะ|ตัก|เป็น|จาน|ๆ|ละ|15...  385  215  "
            ],
            "text/html": [
              "\n",
              "  <div id=\"df-f6291e3f-9efa-4367-aab9-265a3280e8de\">\n",
              "    <div class=\"colab-df-container\">\n",
              "      <div>\n",
              "<style scoped>\n",
              "    .dataframe tbody tr th:only-of-type {\n",
              "        vertical-align: middle;\n",
              "    }\n",
              "\n",
              "    .dataframe tbody tr th {\n",
              "        vertical-align: top;\n",
              "    }\n",
              "\n",
              "    .dataframe thead th {\n",
              "        text-align: right;\n",
              "    }\n",
              "</style>\n",
              "<table border=\"1\" class=\"dataframe\">\n",
              "  <thead>\n",
              "    <tr style=\"text-align: right;\">\n",
              "      <th></th>\n",
              "      <th>category</th>\n",
              "      <th>texts</th>\n",
              "      <th>processed</th>\n",
              "      <th>wc</th>\n",
              "      <th>uwc</th>\n",
              "    </tr>\n",
              "  </thead>\n",
              "  <tbody>\n",
              "    <tr>\n",
              "      <th>0</th>\n",
              "      <td>neu</td>\n",
              "      <td>เห็นคนลบแอพ viu ก็เห็นใจและเข้าใจเขานะคะ แผลมั...</td>\n",
              "      <td>เห็น|คน|ลบ|แอพ|viu|ก็|เห็นใจ|และ|เข้าใจ|เขา|นะ...</td>\n",
              "      <td>46</td>\n",
              "      <td>41</td>\n",
              "    </tr>\n",
              "    <tr>\n",
              "      <th>1</th>\n",
              "      <td>neu</td>\n",
              "      <td>ไปชมไม้คิวของแชมป์ และรองแชมป์ กันจ้า! ..........</td>\n",
              "      <td>ไป|ชม|ไม้คิว|ของ|แชมป์|และ|รอง|แชมป์|กัน|จ้า|!...</td>\n",
              "      <td>41</td>\n",
              "      <td>39</td>\n",
              "    </tr>\n",
              "    <tr>\n",
              "      <th>2</th>\n",
              "      <td>neg</td>\n",
              "      <td>กลุ่มรถซีวิคเป็นกลุ่มที่น่ารำคานมากกกกกกกกก อว...</td>\n",
              "      <td>กลุ่ม|รถ|ซีวิค|เป็น|กลุ่ม|ที่|น่า|รำ|คาน|มาก|x...</td>\n",
              "      <td>46</td>\n",
              "      <td>35</td>\n",
              "    </tr>\n",
              "    <tr>\n",
              "      <th>3</th>\n",
              "      <td>neu</td>\n",
              "      <td>อยากสวยเหมือนเจ้าของแบรนด์สิคะ เนย โชติกา ใบหน...</td>\n",
              "      <td>อยาก|สวย|เหมือน|เจ้าของ|แบรนด์|สิ|คะ|เนย|โชติ|...</td>\n",
              "      <td>72</td>\n",
              "      <td>56</td>\n",
              "    </tr>\n",
              "    <tr>\n",
              "      <th>4</th>\n",
              "      <td>neg</td>\n",
              "      <td>ข้าวโถละร้อย แพง เพราะตักเป็นจานๆละ15 เต็มที่ก...</td>\n",
              "      <td>ข้าว|โถ|ละ|ร้อย|แพง|เพราะ|ตัก|เป็น|จาน|ๆ|ละ|15...</td>\n",
              "      <td>385</td>\n",
              "      <td>215</td>\n",
              "    </tr>\n",
              "  </tbody>\n",
              "</table>\n",
              "</div>\n",
              "      <button class=\"colab-df-convert\" onclick=\"convertToInteractive('df-f6291e3f-9efa-4367-aab9-265a3280e8de')\"\n",
              "              title=\"Convert this dataframe to an interactive table.\"\n",
              "              style=\"display:none;\">\n",
              "        \n",
              "  <svg xmlns=\"http://www.w3.org/2000/svg\" height=\"24px\"viewBox=\"0 0 24 24\"\n",
              "       width=\"24px\">\n",
              "    <path d=\"M0 0h24v24H0V0z\" fill=\"none\"/>\n",
              "    <path d=\"M18.56 5.44l.94 2.06.94-2.06 2.06-.94-2.06-.94-.94-2.06-.94 2.06-2.06.94zm-11 1L8.5 8.5l.94-2.06 2.06-.94-2.06-.94L8.5 2.5l-.94 2.06-2.06.94zm10 10l.94 2.06.94-2.06 2.06-.94-2.06-.94-.94-2.06-.94 2.06-2.06.94z\"/><path d=\"M17.41 7.96l-1.37-1.37c-.4-.4-.92-.59-1.43-.59-.52 0-1.04.2-1.43.59L10.3 9.45l-7.72 7.72c-.78.78-.78 2.05 0 2.83L4 21.41c.39.39.9.59 1.41.59.51 0 1.02-.2 1.41-.59l7.78-7.78 2.81-2.81c.8-.78.8-2.07 0-2.86zM5.41 20L4 18.59l7.72-7.72 1.47 1.35L5.41 20z\"/>\n",
              "  </svg>\n",
              "      </button>\n",
              "      \n",
              "  <style>\n",
              "    .colab-df-container {\n",
              "      display:flex;\n",
              "      flex-wrap:wrap;\n",
              "      gap: 12px;\n",
              "    }\n",
              "\n",
              "    .colab-df-convert {\n",
              "      background-color: #E8F0FE;\n",
              "      border: none;\n",
              "      border-radius: 50%;\n",
              "      cursor: pointer;\n",
              "      display: none;\n",
              "      fill: #1967D2;\n",
              "      height: 32px;\n",
              "      padding: 0 0 0 0;\n",
              "      width: 32px;\n",
              "    }\n",
              "\n",
              "    .colab-df-convert:hover {\n",
              "      background-color: #E2EBFA;\n",
              "      box-shadow: 0px 1px 2px rgba(60, 64, 67, 0.3), 0px 1px 3px 1px rgba(60, 64, 67, 0.15);\n",
              "      fill: #174EA6;\n",
              "    }\n",
              "\n",
              "    [theme=dark] .colab-df-convert {\n",
              "      background-color: #3B4455;\n",
              "      fill: #D2E3FC;\n",
              "    }\n",
              "\n",
              "    [theme=dark] .colab-df-convert:hover {\n",
              "      background-color: #434B5C;\n",
              "      box-shadow: 0px 1px 3px 1px rgba(0, 0, 0, 0.15);\n",
              "      filter: drop-shadow(0px 1px 2px rgba(0, 0, 0, 0.3));\n",
              "      fill: #FFFFFF;\n",
              "    }\n",
              "  </style>\n",
              "\n",
              "      <script>\n",
              "        const buttonEl =\n",
              "          document.querySelector('#df-f6291e3f-9efa-4367-aab9-265a3280e8de button.colab-df-convert');\n",
              "        buttonEl.style.display =\n",
              "          google.colab.kernel.accessAllowed ? 'block' : 'none';\n",
              "\n",
              "        async function convertToInteractive(key) {\n",
              "          const element = document.querySelector('#df-f6291e3f-9efa-4367-aab9-265a3280e8de');\n",
              "          const dataTable =\n",
              "            await google.colab.kernel.invokeFunction('convertToInteractive',\n",
              "                                                     [key], {});\n",
              "          if (!dataTable) return;\n",
              "\n",
              "          const docLinkHtml = 'Like what you see? Visit the ' +\n",
              "            '<a target=\"_blank\" href=https://colab.research.google.com/notebooks/data_table.ipynb>data table notebook</a>'\n",
              "            + ' to learn more about interactive tables.';\n",
              "          element.innerHTML = '';\n",
              "          dataTable['output_type'] = 'display_data';\n",
              "          await google.colab.output.renderOutput(dataTable, element);\n",
              "          const docLink = document.createElement('div');\n",
              "          docLink.innerHTML = docLinkHtml;\n",
              "          element.appendChild(docLink);\n",
              "        }\n",
              "      </script>\n",
              "    </div>\n",
              "  </div>\n",
              "  "
            ]
          },
          "metadata": {},
          "execution_count": 13
        }
      ]
    },
    {
      "cell_type": "markdown",
      "source": [
        "##Bag-of-Word"
      ],
      "metadata": {
        "id": "JJgKBfyEUqxp"
      }
    },
    {
      "cell_type": "code",
      "source": [
        "y_train = train_df['category']\n",
        "y_valid = valid_df['category']"
      ],
      "metadata": {
        "id": "1Kn7zRJ-UsMi"
      },
      "execution_count": null,
      "outputs": []
    },
    {
      "cell_type": "code",
      "source": [
        "\n",
        "from sklearn.feature_extraction.text import TfidfVectorizer\n",
        "from sklearn.linear_model import LogisticRegression\n",
        "\n",
        "tfidf = TfidfVectorizer(tokenizer=process_text, ngram_range=(1,2), min_df=20, sublinear_tf=True)\n",
        "tfidf_fit = tfidf.fit(all_df['texts'])\n",
        "text_train = tfidf_fit.transform(train_df['texts'])\n",
        "text_valid = tfidf_fit.transform(valid_df['texts'])\n",
        "text_test = tfidf_fit.transform(test_df['texts'])\n",
        "text_train.shape, text_valid.shape"
      ],
      "metadata": {
        "colab": {
          "base_uri": "https://localhost:8080/"
        },
        "id": "9J-ASsWRUukJ",
        "outputId": "6f649be6-354c-4ea6-ab52-1b5fa4263fb5"
      },
      "execution_count": null,
      "outputs": [
        {
          "output_type": "stream",
          "name": "stderr",
          "text": [
            "/usr/local/lib/python3.7/dist-packages/sklearn/feature_extraction/text.py:517: UserWarning: The parameter 'token_pattern' will not be used since 'tokenizer' is not None'\n",
            "  \"The parameter 'token_pattern' will not be used\"\n"
          ]
        },
        {
          "output_type": "execute_result",
          "data": {
            "text/plain": [
              "((20453, 4601), (3610, 4601))"
            ]
          },
          "metadata": {},
          "execution_count": 15
        }
      ]
    },
    {
      "cell_type": "markdown",
      "source": [
        "![download.png](data:image/png;base64,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)"
      ],
      "metadata": {
        "id": "OGmG9QzIWNFB"
      }
    },
    {
      "cell_type": "markdown",
      "source": [
        "##คำสั่งในการสร้าง BoW"
      ],
      "metadata": {
        "id": "1iA_QQIya-fv"
      }
    },
    {
      "cell_type": "markdown",
      "source": [
        "TfidfVectorizer(tokenizer=process_text, ngram_range=(1,2), min_df=20, sublinear_tf=True)\n",
        "\n",
        "\n",
        "tokenizer"
      ],
      "metadata": {
        "id": "Kwo6S4aibCKG"
      }
    },
    {
      "cell_type": "code",
      "source": [
        "train_df['texts'].values.tolist()[0]"
      ],
      "metadata": {
        "colab": {
          "base_uri": "https://localhost:8080/",
          "height": 35
        },
        "id": "j9GS9ZUXbC49",
        "outputId": "b05db7ae-dd3a-48e1-a53f-e5a94a990e48"
      },
      "execution_count": null,
      "outputs": [
        {
          "output_type": "execute_result",
          "data": {
            "text/plain": [
              "'กันแดดคิวเพลสตัวใหม่นี่คุมมันดีจริงอ่ะ นี่หน้ามัน ยิ่งทีโซนยิ่งมันเยอะ นีเวียหลอดยาวๆฝาเขียวก็เอาไม่อยู่อ่ะ แล้วช่ว…'"
            ],
            "application/vnd.google.colaboratory.intrinsic+json": {
              "type": "string"
            }
          },
          "metadata": {},
          "execution_count": 16
        }
      ]
    },
    {
      "cell_type": "code",
      "source": [
        "\n",
        "train_df['processed'].values.tolist()[0].split('|')[:5]"
      ],
      "metadata": {
        "colab": {
          "base_uri": "https://localhost:8080/"
        },
        "id": "hyqL7CEfbGfb",
        "outputId": "291d1baf-e620-46e6-cb30-e7f903adc1ce"
      },
      "execution_count": null,
      "outputs": [
        {
          "output_type": "execute_result",
          "data": {
            "text/plain": [
              "['กันแดด', 'คิว', 'เพลส', 'ตัวใหม่', 'นี่']"
            ]
          },
          "metadata": {},
          "execution_count": 17
        }
      ]
    },
    {
      "cell_type": "code",
      "source": [
        "tfidf.get_feature_names_out()"
      ],
      "metadata": {
        "colab": {
          "base_uri": "https://localhost:8080/"
        },
        "id": "MHfYErc-bIFQ",
        "outputId": "77a1e59e-f339-462b-d10a-4855ae80e6f1"
      },
      "execution_count": null,
      "outputs": [
        {
          "output_type": "execute_result",
          "data": {
            "text/plain": [
              "array(['!', '! #', '! .', ..., '🤣 xxrep', '🤤', '🥃'], dtype=object)"
            ]
          },
          "metadata": {},
          "execution_count": 18
        }
      ]
    },
    {
      "cell_type": "code",
      "source": [
        "[np.where(tfidf.get_feature_names_out() == x) for x in train_df['processed'].values.tolist()[0].split('|')[:5]]"
      ],
      "metadata": {
        "colab": {
          "base_uri": "https://localhost:8080/"
        },
        "id": "6HzWGb6vbKnZ",
        "outputId": "489b888a-9a43-43b8-b65b-8dd877086913"
      },
      "execution_count": null,
      "outputs": [
        {
          "output_type": "execute_result",
          "data": {
            "text/plain": [
              "[(array([747]),),\n",
              " (array([1072]),),\n",
              " (array([], dtype=int64),),\n",
              " (array([1493]),),\n",
              " (array([1862]),)]"
            ]
          },
          "metadata": {},
          "execution_count": 19
        }
      ]
    },
    {
      "cell_type": "code",
      "source": [
        "train_df['processed'].values.tolist()[0].split('|')[:5] # ngram = 1\n",
        "# [กันแดด,คิว,เพลส] # ngram = 3\n",
        "# [กันแดด+คิว] # ngram =2\n"
      ],
      "metadata": {
        "colab": {
          "base_uri": "https://localhost:8080/"
        },
        "id": "fKK-Z7WPbNIg",
        "outputId": "a8d760af-a42c-475c-8838-72f003c898d7"
      },
      "execution_count": null,
      "outputs": [
        {
          "output_type": "execute_result",
          "data": {
            "text/plain": [
              "['กันแดด', 'คิว', 'เพลส', 'ตัวใหม่', 'นี่']"
            ]
          },
          "metadata": {},
          "execution_count": 20
        }
      ]
    },
    {
      "cell_type": "markdown",
      "source": [
        "min_df\n",
        "\n",
        "sublinear_tf\n",
        "\n",
        "1 + log(tf)"
      ],
      "metadata": {
        "id": "6zHflWGIbSzD"
      }
    },
    {
      "cell_type": "code",
      "source": [
        "X_train = text_train.toarray()\n",
        "X_valid = text_valid.toarray()\n",
        "X_test = text_test.toarray()\n",
        "X_train.shape, X_valid.shape"
      ],
      "metadata": {
        "colab": {
          "base_uri": "https://localhost:8080/"
        },
        "id": "TbS6DJ9lbTOS",
        "outputId": "e3d43e32-c98f-4717-c4a3-ca2e1778eff0"
      },
      "execution_count": null,
      "outputs": [
        {
          "output_type": "execute_result",
          "data": {
            "text/plain": [
              "((20453, 4601), (3610, 4601))"
            ]
          },
          "metadata": {},
          "execution_count": 21
        }
      ]
    },
    {
      "cell_type": "code",
      "source": [
        "\n",
        "X_train"
      ],
      "metadata": {
        "colab": {
          "base_uri": "https://localhost:8080/"
        },
        "id": "uKVnSkCBbgx1",
        "outputId": "da5724a6-50f6-41df-e373-97de46f56fd6"
      },
      "execution_count": null,
      "outputs": [
        {
          "output_type": "execute_result",
          "data": {
            "text/plain": [
              "array([[0., 0., 0., ..., 0., 0., 0.],\n",
              "       [0., 0., 0., ..., 0., 0., 0.],\n",
              "       [0., 0., 0., ..., 0., 0., 0.],\n",
              "       ...,\n",
              "       [0., 0., 0., ..., 0., 0., 0.],\n",
              "       [0., 0., 0., ..., 0., 0., 0.],\n",
              "       [0., 0., 0., ..., 0., 0., 0.]])"
            ]
          },
          "metadata": {},
          "execution_count": 22
        }
      ]
    },
    {
      "cell_type": "code",
      "source": [
        "model = LogisticRegression(C=2., penalty='l2', solver='liblinear', dual=False, multi_class='ovr')\n",
        "model.fit(X_train,y_train)\n",
        "model.score(X_valid,y_valid)"
      ],
      "metadata": {
        "colab": {
          "base_uri": "https://localhost:8080/"
        },
        "id": "3dbm3gInbiYP",
        "outputId": "53bdefbe-8a0c-4b5d-dde8-403bf033a862"
      },
      "execution_count": null,
      "outputs": [
        {
          "output_type": "execute_result",
          "data": {
            "text/plain": [
              "0.7277008310249308"
            ]
          },
          "metadata": {},
          "execution_count": 23
        }
      ]
    },
    {
      "cell_type": "code",
      "source": [
        "\n",
        "from sklearn.metrics import classification_report\n",
        "y_val_pred = model.predict(X_valid)\n",
        "print(classification_report(y_valid, y_val_pred))"
      ],
      "metadata": {
        "colab": {
          "base_uri": "https://localhost:8080/"
        },
        "id": "6vus2SXzblHz",
        "outputId": "9d66a07c-eefd-46c0-f167-3564a95de83d"
      },
      "execution_count": null,
      "outputs": [
        {
          "output_type": "stream",
          "name": "stdout",
          "text": [
            "              precision    recall  f1-score   support\n",
            "\n",
            "         neg       0.76      0.69      0.72       954\n",
            "         neu       0.72      0.89      0.80      1959\n",
            "         pos       0.69      0.37      0.48       617\n",
            "           q       0.56      0.06      0.11        80\n",
            "\n",
            "    accuracy                           0.73      3610\n",
            "   macro avg       0.68      0.50      0.53      3610\n",
            "weighted avg       0.72      0.73      0.71      3610\n",
            "\n"
          ]
        }
      ]
    },
    {
      "cell_type": "markdown",
      "source": [
        "##ใช้งานจริง"
      ],
      "metadata": {
        "id": "AgUSL_rIbnPm"
      }
    },
    {
      "cell_type": "code",
      "source": [
        "sample = ['ร้านอาหารร้านนี้อร่อยดี','อาหารร้านนี้ไม่อร่อยเลย']\n",
        "sample_feature = tfidf_fit.transform(sample)\n",
        "model.predict(sample_feature)"
      ],
      "metadata": {
        "colab": {
          "base_uri": "https://localhost:8080/"
        },
        "id": "oPHRC5zibo26",
        "outputId": "74f40ec4-a7b4-4112-bb5f-c3e24e875d87"
      },
      "execution_count": null,
      "outputs": [
        {
          "output_type": "execute_result",
          "data": {
            "text/plain": [
              "array(['pos', 'neg'], dtype=object)"
            ]
          },
          "metadata": {},
          "execution_count": 25
        }
      ]
    },
    {
      "cell_type": "code",
      "source": [
        "sample_feature.toarray()"
      ],
      "metadata": {
        "colab": {
          "base_uri": "https://localhost:8080/"
        },
        "id": "j9tpsknPb-qM",
        "outputId": "66dc701b-c6d3-4a8b-f06e-9aa617cdc7f9"
      },
      "execution_count": null,
      "outputs": [
        {
          "output_type": "execute_result",
          "data": {
            "text/plain": [
              "array([[0., 0., 0., ..., 0., 0., 0.],\n",
              "       [0., 0., 0., ..., 0., 0., 0.]])"
            ]
          },
          "metadata": {},
          "execution_count": 26
        }
      ]
    },
    {
      "cell_type": "markdown",
      "source": [
        "##ข้อเสีย"
      ],
      "metadata": {
        "id": "M7j8z6VHcBBK"
      }
    },
    {
      "cell_type": "code",
      "source": [
        "sample = ['ร้านอาหารร้านนี้อร่อยตรงไหน','อาหารร้านนี้ไม่เคยไม่อร่อยเลย']\n",
        "sample_feature = tfidf_fit.transform(sample)\n",
        "model.predict(sample_feature)"
      ],
      "metadata": {
        "colab": {
          "base_uri": "https://localhost:8080/"
        },
        "id": "feuhZubTb_8j",
        "outputId": "e3ce265f-c7a0-4b30-98b2-ac456c485084"
      },
      "execution_count": null,
      "outputs": [
        {
          "output_type": "execute_result",
          "data": {
            "text/plain": [
              "array(['pos', 'neg'], dtype=object)"
            ]
          },
          "metadata": {},
          "execution_count": 27
        }
      ]
    },
    {
      "cell_type": "markdown",
      "source": [
        "## RNN/LSTM"
      ],
      "metadata": {
        "id": "rVvmzGUrcMaE"
      }
    },
    {
      "cell_type": "code",
      "source": [
        "import tensorflow as tf"
      ],
      "metadata": {
        "id": "djJK3JsvcN65"
      },
      "execution_count": null,
      "outputs": []
    },
    {
      "cell_type": "code",
      "source": [
        "def process_text_rnn(text):\n",
        "    #pre rules\n",
        "    res = text.lower().strip()\n",
        "    res = replace_url(res)\n",
        "    res = replace_rep(res)\n",
        "    \n",
        "    #tokenize\n",
        "    res = [word for word in word_tokenize(res) if word and not re.search(pattern=r\"\\s+\", string=word)]\n",
        "    \n",
        "    #post rules\n",
        "    res = ungroup_emoji(res)\n",
        "    \n",
        "    return ' '.join(res)"
      ],
      "metadata": {
        "id": "7PBCe81KcPRn"
      },
      "execution_count": null,
      "outputs": []
    },
    {
      "cell_type": "code",
      "source": [
        "BUFFER_SIZE = 10000\n",
        "BATCH_SIZE = 64\n",
        "\n",
        "text_train = [' '.join(x.split('|')) for x in train_df['processed'].values.tolist()]\n",
        "text_valid = [' '.join(x.split('|')) for x in valid_df['processed'].values.tolist()]"
      ],
      "metadata": {
        "id": "14u7gcLAcQ29"
      },
      "execution_count": null,
      "outputs": []
    },
    {
      "cell_type": "code",
      "source": [
        "\n",
        "text_train[0]"
      ],
      "metadata": {
        "colab": {
          "base_uri": "https://localhost:8080/",
          "height": 35
        },
        "id": "NReoSOIUcTnp",
        "outputId": "1dba5a49-be14-42fb-9401-ca3aaadf3ef5"
      },
      "execution_count": null,
      "outputs": [
        {
          "output_type": "execute_result",
          "data": {
            "text/plain": [
              "'กันแดด คิว เพลส ตัวใหม่ นี่ คุม มัน ดีจริง อ่ะ นี่ หน้า มัน ยิ่ง ที โซน ยิ่ง มัน เยอะ นีเวีย หลอด ยาว ๆ ฝา เขียว ก็ เอาไม่อยู่ อ่ะ แล้ว ช่ว…'"
            ],
            "application/vnd.google.colaboratory.intrinsic+json": {
              "type": "string"
            }
          },
          "metadata": {},
          "execution_count": 31
        }
      ]
    },
    {
      "cell_type": "code",
      "source": [
        "\n",
        "word_count = []\n",
        "for sent in text_train:\n",
        "  for w in sent.split():\n",
        "      word_count.append(w)"
      ],
      "metadata": {
        "id": "PeSjrwj9cVAf"
      },
      "execution_count": null,
      "outputs": []
    },
    {
      "cell_type": "code",
      "source": [
        "word_count[:5]"
      ],
      "metadata": {
        "colab": {
          "base_uri": "https://localhost:8080/"
        },
        "id": "izfH_smlcdEE",
        "outputId": "9ce04ece-fd92-46f4-d4a1-a968dee6c024"
      },
      "execution_count": null,
      "outputs": [
        {
          "output_type": "execute_result",
          "data": {
            "text/plain": [
              "['กันแดด', 'คิว', 'เพลส', 'ตัวใหม่', 'นี่']"
            ]
          },
          "metadata": {},
          "execution_count": 33
        }
      ]
    },
    {
      "cell_type": "code",
      "source": [
        "VOCAB_SIZE = len(set(word_count))\n",
        "encoder = tf.keras.layers.TextVectorization(max_tokens=VOCAB_SIZE)\n",
        "encoder.adapt(text_train)"
      ],
      "metadata": {
        "id": "Mk1DWuN3dt_W"
      },
      "execution_count": null,
      "outputs": []
    },
    {
      "cell_type": "code",
      "source": [
        "VOCAB_SIZE"
      ],
      "metadata": {
        "colab": {
          "base_uri": "https://localhost:8080/"
        },
        "id": "0xqUN7kLdvLS",
        "outputId": "253adaaf-2058-4a51-b97a-5d72bb1dd404"
      },
      "execution_count": null,
      "outputs": [
        {
          "output_type": "execute_result",
          "data": {
            "text/plain": [
              "24518"
            ]
          },
          "metadata": {},
          "execution_count": 35
        }
      ]
    },
    {
      "cell_type": "code",
      "source": [
        "vocab = np.array(encoder.get_vocabulary())\n",
        "vocab[:20]"
      ],
      "metadata": {
        "colab": {
          "base_uri": "https://localhost:8080/"
        },
        "id": "uNxxPuepdxum",
        "outputId": "ca2f5570-8a13-4413-bd3a-c8acc70eaa67"
      },
      "execution_count": null,
      "outputs": [
        {
          "output_type": "execute_result",
          "data": {
            "text/plain": [
              "array(['', '[UNK]', 'ไม่', 'xxrep', 'ที่', 'ไป', 'ได้', 'มี', 'มา', 'จะ',\n",
              "       'เลย', 'ก็', 'ๆ', 'ให้', 'แล้ว', 'ครับ', 'ใน', 'และ', 'ของ', 'กิน'],\n",
              "      dtype='<U39')"
            ]
          },
          "metadata": {},
          "execution_count": 36
        }
      ]
    },
    {
      "cell_type": "code",
      "source": [
        "example = process_text_rnn('ร้านอาหารร้านนี้อร่อย')\n",
        "encoded_example = encoder(example).numpy()\n",
        "encoded_example"
      ],
      "metadata": {
        "colab": {
          "base_uri": "https://localhost:8080/"
        },
        "id": "NZMYO86HdzLC",
        "outputId": "65464eab-7362-45f2-df23-1a4ed109ba91"
      },
      "execution_count": null,
      "outputs": [
        {
          "output_type": "execute_result",
          "data": {
            "text/plain": [
              "array([2009,  108,   24,  188])"
            ]
          },
          "metadata": {},
          "execution_count": 38
        }
      ]
    },
    {
      "cell_type": "code",
      "source": [
        "example"
      ],
      "metadata": {
        "colab": {
          "base_uri": "https://localhost:8080/",
          "height": 35
        },
        "id": "s2t4m456d6ua",
        "outputId": "a4f2026d-cb14-4b8f-99a8-caf40f6c2e14"
      },
      "execution_count": null,
      "outputs": [
        {
          "output_type": "execute_result",
          "data": {
            "text/plain": [
              "'ร้านอาหาร ร้าน นี้ อร่อย'"
            ],
            "application/vnd.google.colaboratory.intrinsic+json": {
              "type": "string"
            }
          },
          "metadata": {},
          "execution_count": 39
        }
      ]
    },
    {
      "cell_type": "code",
      "source": [
        "[vocab[x] for x in encoded_example]"
      ],
      "metadata": {
        "colab": {
          "base_uri": "https://localhost:8080/"
        },
        "id": "O0X64A45d88e",
        "outputId": "b91e2d10-6a83-4259-a27b-29bb858cfa81"
      },
      "execution_count": null,
      "outputs": [
        {
          "output_type": "execute_result",
          "data": {
            "text/plain": [
              "['ร้านอาหาร', 'ร้าน', 'นี้', 'อร่อย']"
            ]
          },
          "metadata": {},
          "execution_count": 40
        }
      ]
    },
    {
      "cell_type": "code",
      "source": [
        "\n",
        "set(y_train)"
      ],
      "metadata": {
        "colab": {
          "base_uri": "https://localhost:8080/"
        },
        "id": "OVMe0BLId-72",
        "outputId": "b4492bf6-cf24-45f9-f211-0902f8ed5648"
      },
      "execution_count": null,
      "outputs": [
        {
          "output_type": "execute_result",
          "data": {
            "text/plain": [
              "{'neg', 'neu', 'pos', 'q'}"
            ]
          },
          "metadata": {},
          "execution_count": 41
        }
      ]
    },
    {
      "cell_type": "code",
      "source": [
        "\n",
        "y_train = train_df['category']\n",
        "y_valid = valid_df['category']\n",
        "y_class = ['neg', 'neu', 'pos', 'q']"
      ],
      "metadata": {
        "id": "ITa_Ia_qeANk"
      },
      "execution_count": null,
      "outputs": []
    },
    {
      "cell_type": "code",
      "source": [
        "\n",
        "from sklearn import preprocessing\n",
        "from tensorflow.keras.utils import to_categorical\n",
        "\n",
        "le = preprocessing.LabelEncoder()\n",
        "le.fit(y_class)\n",
        "y_train = le.transform(y_train)\n",
        "y_val = le.transform(y_valid)\n",
        "y_train = to_categorical(y_train)\n",
        "y_val = to_categorical(y_val)\n",
        "print(y_train.shape)"
      ],
      "metadata": {
        "colab": {
          "base_uri": "https://localhost:8080/"
        },
        "id": "Iy7lj7tDeQBE",
        "outputId": "d14e08d6-7de3-4fae-df48-7dcdeb1d4e63"
      },
      "execution_count": null,
      "outputs": [
        {
          "output_type": "stream",
          "name": "stdout",
          "text": [
            "(20453, 4)\n"
          ]
        }
      ]
    },
    {
      "cell_type": "code",
      "source": [
        "train_df['category'].values.tolist()[0]"
      ],
      "metadata": {
        "colab": {
          "base_uri": "https://localhost:8080/",
          "height": 35
        },
        "id": "EjWc73ELeRbS",
        "outputId": "6dabe07e-f0da-4395-a640-796902a50dcf"
      },
      "execution_count": null,
      "outputs": [
        {
          "output_type": "execute_result",
          "data": {
            "text/plain": [
              "'neg'"
            ],
            "application/vnd.google.colaboratory.intrinsic+json": {
              "type": "string"
            }
          },
          "metadata": {},
          "execution_count": 44
        }
      ]
    },
    {
      "cell_type": "code",
      "source": [
        "y_train[0]"
      ],
      "metadata": {
        "colab": {
          "base_uri": "https://localhost:8080/"
        },
        "id": "rtYrl1TleSpJ",
        "outputId": "d2a44176-7f1d-4a56-8c7a-5179e7d02448"
      },
      "execution_count": null,
      "outputs": [
        {
          "output_type": "execute_result",
          "data": {
            "text/plain": [
              "array([1., 0., 0., 0.], dtype=float32)"
            ]
          },
          "metadata": {},
          "execution_count": 45
        }
      ]
    },
    {
      "cell_type": "code",
      "source": [
        "\n",
        "model = tf.keras.Sequential([\n",
        "    encoder,\n",
        "    tf.keras.layers.Embedding(\n",
        "        input_dim=len(encoder.get_vocabulary()),\n",
        "        output_dim=512,\n",
        "        # Use masking to handle the variable sequence lengths\n",
        "        mask_zero=True),\n",
        "    tf.keras.layers.Bidirectional(tf.keras.layers.LSTM(256)),\n",
        "    tf.keras.layers.Dense(128, activation='relu'),\n",
        "    tf.keras.layers.Dense(y_train.shape[1], activation='softmax')\n",
        "])"
      ],
      "metadata": {
        "id": "-1KuogereUR-"
      },
      "execution_count": null,
      "outputs": []
    },
    {
      "cell_type": "code",
      "source": [
        "sample_text = ('ร้านอาหารร้านนี้อร่อยมาก')\n",
        "predictions = model.predict(np.array([sample_text]))\n",
        "print(predictions)\n",
        "le.classes_"
      ],
      "metadata": {
        "colab": {
          "base_uri": "https://localhost:8080/"
        },
        "id": "SMUYNA9_eVsY",
        "outputId": "82a5b46b-88b8-4c69-d984-2f8e316c4abb"
      },
      "execution_count": null,
      "outputs": [
        {
          "output_type": "stream",
          "name": "stdout",
          "text": [
            "1/1 [==============================] - 7s 7s/step\n",
            "[[0.25169277 0.24609011 0.25090125 0.25131592]]\n"
          ]
        },
        {
          "output_type": "execute_result",
          "data": {
            "text/plain": [
              "array(['neg', 'neu', 'pos', 'q'], dtype='<U3')"
            ]
          },
          "metadata": {},
          "execution_count": 47
        }
      ]
    },
    {
      "cell_type": "code",
      "source": [
        "model.compile(loss='categorical_crossentropy',\n",
        "              optimizer=tf.keras.optimizers.Adam(1e-4),\n",
        "              metrics=['accuracy'])"
      ],
      "metadata": {
        "id": "Qo4KbeoieW88"
      },
      "execution_count": null,
      "outputs": []
    },
    {
      "cell_type": "code",
      "source": [
        "\n",
        "model.fit(np.array(text_train), y_train, validation_data=(np.array(text_valid), y_val), epochs=3, verbose=2)"
      ],
      "metadata": {
        "colab": {
          "base_uri": "https://localhost:8080/"
        },
        "id": "ka08CcJ6eYmJ",
        "outputId": "7a678b9d-1774-45cb-9d63-a63496e79cbd"
      },
      "execution_count": null,
      "outputs": [
        {
          "output_type": "stream",
          "name": "stdout",
          "text": [
            "Epoch 1/3\n",
            "640/640 - 1607s - loss: 0.9724 - accuracy: 0.6138 - val_loss: 0.7948 - val_accuracy: 0.6853 - 1607s/epoch - 3s/step\n",
            "Epoch 2/3\n",
            "640/640 - 1483s - loss: 0.6661 - accuracy: 0.7401 - val_loss: 0.7074 - val_accuracy: 0.7194 - 1483s/epoch - 2s/step\n",
            "Epoch 3/3\n",
            "640/640 - 1495s - loss: 0.5135 - accuracy: 0.8019 - val_loss: 0.7256 - val_accuracy: 0.7161 - 1495s/epoch - 2s/step\n"
          ]
        },
        {
          "output_type": "execute_result",
          "data": {
            "text/plain": [
              "<keras.callbacks.History at 0x7f027c241490>"
            ]
          },
          "metadata": {},
          "execution_count": 49
        }
      ]
    },
    {
      "cell_type": "code",
      "source": [
        "\n",
        "value = model.predict(np.array(text_valid))\n",
        "y_val_pred = np.argmax(value,axis=1)\n",
        "y_val_true = np.argmax(y_val,axis=1)\n",
        "print(classification_report(y_val_true, y_val_pred))"
      ],
      "metadata": {
        "colab": {
          "base_uri": "https://localhost:8080/"
        },
        "id": "QCFSczwdeaMt",
        "outputId": "3e0aac1e-58f5-4705-b500-232a9e819c47"
      },
      "execution_count": null,
      "outputs": [
        {
          "output_type": "stream",
          "name": "stdout",
          "text": [
            "113/113 [==============================] - 55s 450ms/step\n",
            "              precision    recall  f1-score   support\n",
            "\n",
            "           0       0.72      0.73      0.72       954\n",
            "           1       0.73      0.85      0.78      1959\n",
            "           2       0.64      0.35      0.45       617\n",
            "           3       0.48      0.25      0.33        80\n",
            "\n",
            "    accuracy                           0.72      3610\n",
            "   macro avg       0.64      0.54      0.57      3610\n",
            "weighted avg       0.71      0.72      0.70      3610\n",
            "\n"
          ]
        }
      ]
    },
    {
      "cell_type": "markdown",
      "source": [
        "\n",
        "## Pretrained Representation (CNN)"
      ],
      "metadata": {
        "id": "crffbN0HefJ8"
      }
    },
    {
      "cell_type": "code",
      "source": [
        "import tensorflow_hub as hub\n",
        "import tensorflow_text\n",
        "import tensorflow as tf #tensorflow 2.1.0\n",
        "\n",
        "enc = hub.load('https://tfhub.dev/google/universal-sentence-encoder-multilingual/3')"
      ],
      "metadata": {
        "id": "AhB00-YPehOa"
      },
      "execution_count": null,
      "outputs": []
    },
    {
      "cell_type": "markdown",
      "source": [
        "![download (1).png](data:image/png;base64,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)"
      ],
      "metadata": {
        "id": "9an2oni1eqrf"
      }
    },
    {
      "cell_type": "code",
      "source": [
        "y_train = train_df['category']\n",
        "y_valid = valid_df['category']"
      ],
      "metadata": {
        "id": "2zvPhoqnesIP"
      },
      "execution_count": null,
      "outputs": []
    },
    {
      "cell_type": "code",
      "source": [
        "X_trains = []\n",
        "X_vals = []\n",
        "bs = 10\n"
      ],
      "metadata": {
        "id": "r5AVOboLfZ9k"
      },
      "execution_count": null,
      "outputs": []
    },
    {
      "cell_type": "code",
      "source": [
        "\n",
        "for i in tqdm_notebook(range(y_valid.shape[0]//bs+1)):\n",
        "    X_vals.append(enc(valid_df.texts[(i*bs):((i+1)*bs)]).numpy())\n",
        "\n",
        "for i in tqdm_notebook(range(y_train.shape[0]//bs+1)):\n",
        "    X_trains.append(enc(train_df.texts[(i*bs):((i+1)*bs)]).numpy())"
      ],
      "metadata": {
        "colab": {
          "base_uri": "https://localhost:8080/",
          "height": 185,
          "referenced_widgets": [
            "e83e2cbd753b488a9205b27028bf7c93",
            "e08e82d93930467aace447ff71f3e407",
            "db834c8af27f46fc8b81061d9177ec6f",
            "ca0fb292f68c463a851ef6ee289a3e35",
            "f587cf8606ca498ba83b5c1ef6d6ee71",
            "0d204e6e84114f5886b73f19f7dc902e",
            "1995a91ab4004be3937e19073693f196",
            "15d2ff4fce1540ae9a745c81b49f9504",
            "881d9828899f443bac90655744fa5f92",
            "54253a4ffca344cd83ff04d02fb3dfd5",
            "ff6bc04181004398808a4d02da176f6f",
            "b258a5a270c149acb85eeebf05a0d731",
            "95774cdc4cee4c0abda583b4bb2d4968",
            "abdfc4b7b7544ff7bae00538aec82819",
            "eaf4206958584ac7875b3d1dbab522e6",
            "8fb37a4da08a411080102893ac2168a3",
            "086143deeb354defb12c89ca99410a90",
            "a331cc7fb8d848d8a199c5d91655daa2",
            "0a97a44cf42a413e8e2007df9685639c",
            "abb7bda235d44a3abda1103ce4c01aa7",
            "3d510295ea6846fb87df09dac2823bcd",
            "d276fabfe3d740fa8fbe492058d83e5c"
          ]
        },
        "id": "OHTgDncdfcOl",
        "outputId": "dcdc5bd9-3a6f-4158-eb95-fb833f3c2036"
      },
      "execution_count": null,
      "outputs": [
        {
          "output_type": "stream",
          "name": "stderr",
          "text": [
            "/usr/local/lib/python3.7/dist-packages/ipykernel_launcher.py:2: TqdmDeprecationWarning: This function will be removed in tqdm==5.0.0\n",
            "Please use `tqdm.notebook.tqdm` instead of `tqdm.tqdm_notebook`\n",
            "  \n"
          ]
        },
        {
          "output_type": "display_data",
          "data": {
            "text/plain": [
              "  0%|          | 0/362 [00:00<?, ?it/s]"
            ],
            "application/vnd.jupyter.widget-view+json": {
              "version_major": 2,
              "version_minor": 0,
              "model_id": "e83e2cbd753b488a9205b27028bf7c93"
            }
          },
          "metadata": {}
        },
        {
          "output_type": "stream",
          "name": "stderr",
          "text": [
            "/usr/local/lib/python3.7/dist-packages/ipykernel_launcher.py:5: TqdmDeprecationWarning: This function will be removed in tqdm==5.0.0\n",
            "Please use `tqdm.notebook.tqdm` instead of `tqdm.tqdm_notebook`\n",
            "  \"\"\"\n"
          ]
        },
        {
          "output_type": "display_data",
          "data": {
            "text/plain": [
              "  0%|          | 0/2046 [00:00<?, ?it/s]"
            ],
            "application/vnd.jupyter.widget-view+json": {
              "version_major": 2,
              "version_minor": 0,
              "model_id": "b258a5a270c149acb85eeebf05a0d731"
            }
          },
          "metadata": {}
        }
      ]
    },
    {
      "cell_type": "code",
      "source": [
        "train_df.texts[0]"
      ],
      "metadata": {
        "id": "qZyySJrMfdfF"
      },
      "execution_count": null,
      "outputs": []
    },
    {
      "cell_type": "code",
      "source": [
        "\n",
        "enc(train_df.texts[0])"
      ],
      "metadata": {
        "id": "gWMdfqrffecS"
      },
      "execution_count": null,
      "outputs": []
    },
    {
      "cell_type": "code",
      "source": [
        "\n",
        "X_train[0]"
      ],
      "metadata": {
        "id": "yPLpNmkKfg8x"
      },
      "execution_count": null,
      "outputs": []
    },
    {
      "cell_type": "code",
      "source": [
        "X_val = np.concatenate(X_vals,0)\n",
        "X_train = np.concatenate(X_trains,0)\n",
        "X_train.shape, X_val.shape"
      ],
      "metadata": {
        "id": "Eeuu0-6mfiMi"
      },
      "execution_count": null,
      "outputs": []
    },
    {
      "cell_type": "code",
      "source": [
        "from sklearn.svm import LinearSVC\n",
        "\n",
        "text_clf = LinearSVC(class_weight='balanced')\n",
        "text_clf.fit(X_train, y_train)"
      ],
      "metadata": {
        "id": "_4AgEV9xfkXJ"
      },
      "execution_count": null,
      "outputs": []
    },
    {
      "cell_type": "code",
      "source": [
        "\n",
        "y_val_pred = text_clf.predict(X_val)\n",
        "print(classification_report(y_valid, y_val_pred))"
      ],
      "metadata": {
        "id": "wW5d2SRMfl2J"
      },
      "execution_count": null,
      "outputs": []
    },
    {
      "cell_type": "markdown",
      "source": [
        "\n",
        "## Language Model: BERT"
      ],
      "metadata": {
        "id": "JaPhOdgwfocO"
      }
    },
    {
      "cell_type": "code",
      "source": [
        "\n",
        "!pip -q install thai2transformers==0.1.1\n",
        "!pip install torch==1.7.0"
      ],
      "metadata": {
        "colab": {
          "base_uri": "https://localhost:8080/",
          "height": 832
        },
        "id": "v1sO_a2TfpN9",
        "outputId": "654d82f9-9f9b-471a-8c1d-0003b04194e4"
      },
      "execution_count": null,
      "outputs": [
        {
          "output_type": "stream",
          "name": "stdout",
          "text": [
            "\u001b[K     |████████████████████████████████| 1.3 MB 11.4 MB/s \n",
            "\u001b[K     |████████████████████████████████| 1.1 MB 18.1 MB/s \n",
            "\u001b[K     |████████████████████████████████| 365 kB 51.5 MB/s \n",
            "\u001b[K     |████████████████████████████████| 8.7 MB 36.4 MB/s \n",
            "\u001b[K     |████████████████████████████████| 43 kB 1.7 MB/s \n",
            "\u001b[K     |████████████████████████████████| 700 kB 60.0 MB/s \n",
            "\u001b[K     |████████████████████████████████| 473 kB 64.5 MB/s \n",
            "\u001b[K     |████████████████████████████████| 2.9 MB 34.7 MB/s \n",
            "\u001b[K     |████████████████████████████████| 87 kB 7.1 MB/s \n",
            "\u001b[K     |████████████████████████████████| 880 kB 53.1 MB/s \n",
            "\u001b[K     |████████████████████████████████| 141 kB 58.5 MB/s \n",
            "\u001b[K     |████████████████████████████████| 212 kB 71.4 MB/s \n",
            "\u001b[K     |████████████████████████████████| 101 kB 11.7 MB/s \n",
            "\u001b[K     |████████████████████████████████| 115 kB 65.8 MB/s \n",
            "\u001b[K     |████████████████████████████████| 596 kB 63.1 MB/s \n",
            "\u001b[K     |████████████████████████████████| 127 kB 61.2 MB/s \n",
            "\u001b[K     |████████████████████████████████| 419 kB 47.5 MB/s \n",
            "\u001b[K     |████████████████████████████████| 106 kB 56.3 MB/s \n",
            "\u001b[?25h  Building wheel for thai2transformers (setup.py) ... \u001b[?25l\u001b[?25hdone\n",
            "  Building wheel for fire (setup.py) ... \u001b[?25l\u001b[?25hdone\n",
            "  Building wheel for sacremoses (setup.py) ... \u001b[?25l\u001b[?25hdone\n",
            "  Building wheel for seqeval (setup.py) ... \u001b[?25l\u001b[?25hdone\n",
            "Looking in indexes: https://pypi.org/simple, https://us-python.pkg.dev/colab-wheels/public/simple/\n",
            "Collecting torch==1.7.0\n",
            "  Downloading torch-1.7.0-cp37-cp37m-manylinux1_x86_64.whl (776.7 MB)\n",
            "\u001b[K     |████████████████████████████████| 776.7 MB 4.0 kB/s \n",
            "\u001b[?25hRequirement already satisfied: numpy in /usr/local/lib/python3.7/dist-packages (from torch==1.7.0) (1.21.6)\n",
            "Requirement already satisfied: typing-extensions in /usr/local/lib/python3.7/dist-packages (from torch==1.7.0) (4.1.1)\n",
            "Requirement already satisfied: future in /usr/local/lib/python3.7/dist-packages (from torch==1.7.0) (0.16.0)\n",
            "Collecting dataclasses\n",
            "  Downloading dataclasses-0.6-py3-none-any.whl (14 kB)\n",
            "Installing collected packages: dataclasses, torch\n",
            "  Attempting uninstall: torch\n",
            "    Found existing installation: torch 1.12.0+cu113\n",
            "    Uninstalling torch-1.12.0+cu113:\n",
            "      Successfully uninstalled torch-1.12.0+cu113\n",
            "\u001b[31mERROR: pip's dependency resolver does not currently take into account all the packages that are installed. This behaviour is the source of the following dependency conflicts.\n",
            "torchvision 0.13.0+cu113 requires torch==1.12.0, but you have torch 1.7.0 which is incompatible.\n",
            "torchtext 0.13.0 requires torch==1.12.0, but you have torch 1.7.0 which is incompatible.\n",
            "torchaudio 0.12.0+cu113 requires torch==1.12.0, but you have torch 1.7.0 which is incompatible.\n",
            "pytorch-lightning 1.7.0 requires torch>=1.9.*, but you have torch 1.7.0 which is incompatible.\u001b[0m\n",
            "Successfully installed dataclasses-0.6 torch-1.7.0\n"
          ]
        },
        {
          "output_type": "display_data",
          "data": {
            "application/vnd.colab-display-data+json": {
              "pip_warning": {
                "packages": [
                  "dataclasses"
                ]
              }
            }
          },
          "metadata": {}
        }
      ]
    },
    {
      "cell_type": "code",
      "source": [
        "import pandas as pd\n",
        "from datasets import load_dataset, load_metric\n",
        "\n",
        "import torch\n",
        "from transformers import (AutoTokenizer,\n",
        "                          AutoModelForSequenceClassification,\n",
        "                          TrainingArguments,\n",
        "                          Trainer)\n",
        "from thai2transformers.tokenizers import (\n",
        "    ThaiRobertaTokenizer,\n",
        "    ThaiWordsNewmmTokenizer,\n",
        "    ThaiWordsSyllableTokenizer,\n",
        "    FakeSefrCutTokenizer\n",
        ")\n",
        "from thai2transformers.metrics import classification_metrics"
      ],
      "metadata": {
        "id": "AZpVdMG2frvp"
      },
      "execution_count": null,
      "outputs": []
    },
    {
      "cell_type": "code",
      "source": [
        "#parameters\n",
        "class Args:\n",
        "    model_name = 'airesearch/wangchanberta-base-att-spm-uncased'\n",
        "    dataset_name_or_path = 'wisesight_sentiment'\n",
        "    feature_col = 'texts'\n",
        "    label_col = 'category'\n",
        "    output_dir = 'models_wongnai/wangchanberta-base-att-spm-uncased_wongnai'\n",
        "    batch_size = 16\n",
        "    warmup_percent = 0.1\n",
        "    learning_rate = 3e-05\n",
        "    num_train_epochs = 1\n",
        "    weight_decay = 0.01\n",
        "    metric_for_best_model = 'f1_micro'\n",
        "    seed = 1412\n",
        "\n",
        "args = Args()"
      ],
      "metadata": {
        "id": "kEv7zL3efumf"
      },
      "execution_count": null,
      "outputs": []
    },
    {
      "cell_type": "code",
      "source": [
        "\n",
        "dataset = load_dataset(args.dataset_name_or_path)\n",
        "dataset = dataset.map(lambda examples: {'labels': examples[args.label_col]}, batched=True)\n",
        "num_labels = len(set(dataset['train']['labels']))\n",
        "dataset"
      ],
      "metadata": {
        "colab": {
          "base_uri": "https://localhost:8080/",
          "height": 539,
          "referenced_widgets": [
            "625aee7d1e774373a5c6fb15f2b16904",
            "075215d729c34451955b85542e7e884f",
            "fe1c1bfcc6174a9ca63c7ab065596048",
            "4b1fc2918d374eae89c02aa1455b6a15",
            "771eaefdc1374c6f85e7451f95c3bf9e",
            "5fe398cc876b44668019d1a2410b71d5",
            "2c2f893137b3430b8e2266ecec83c649",
            "a7d4e6446ed143a9b0f6406db1f94122",
            "af0f869f26814e568329f7bc49870fa8",
            "7ff8309ad60c47cab6773b857e72a996",
            "55109bbeba99405d87f24cadd44b104f",
            "648a7d6a660b4804bec0e42e4fa2306b",
            "21e7d78cf9f345dcae826215789b31f7",
            "0e7e39b07dd546b58d1c6cbaf2ab7a88",
            "f5b28c6e61a54fdbba00194b93d4440c",
            "6a91cb1dea8f4e00a37afbe2143e75bc",
            "17beaf8bb82e4d069a6360c1a3e5c778",
            "d942211e6fc9477e88c1bb2186074787",
            "587e0622730e4340a9798d1301223097",
            "05da5ed6fbf54462a5d18cb76af70fb9",
            "29b6ae5ad6e347c3b9c3e1a8145346a0",
            "71cb49b42f534ec7bab6f05943f3ab5f",
            "4cc797fff0b94d44995b2b93c1cec20f",
            "cdf73a73bbbf435f8b173a605744ccaa",
            "1ba6289e745f46369b7638afae51ea46",
            "8159a06d4c8f4036a2af1fe66da19da9",
            "47f01713845a40ce9219aad821344edf",
            "bfaa495e214b41509bb29fd49e4b33cd",
            "81becd86408f40bf8b5c7767c94502ee",
            "9cb8ac09d64a4c4988804f5e71c77f9b",
            "d086e5237dc243c09e3e1df58c51c9e8",
            "b9bb7ce0575c4cb5b50574bf93da9cd6",
            "71d8841e02634b2cbf07a4d3a6a8bf1a",
            "e20ad4393db84ffea66508b0ec4b7fd3",
            "9d52109cffea41549d1b67d3073c8071",
            "7a960055097148fe83fe72e769185f4d",
            "7914bfa77a9d4bb292450b471b3a0be7",
            "b6859055c9fe46439dd9a987b34dbe58",
            "a69359c6056e4875b25d2bef0bab2d8c",
            "2e61cba37159427f8df7dbc3cef00061",
            "305b71dbfa5f45aba08be3ff2d1423fd",
            "cc2ff19907aa460faa47ccf4aaff05f9",
            "5159fcf34e064f559593b3648a30a370",
            "141c0129b397449ba084adbc81d0bf17",
            "111efbc4e6ef468b8ad26b6724583894",
            "a358f0e769b84cb7aa92dbdd43dace11",
            "b857a2ec09e54a79ac80d9e6c78553a4",
            "a13358946cc0415bb7cf61302182500c",
            "bd9b1d77d8214d709ef1f2c8126aab7d",
            "e60ba9ddd37b4b4194d2f3ecb19daabe",
            "6edbd18ab94c4bb0bfee6b505a0542a5",
            "ea43812621ad4690a27f09f6e0cb1244",
            "fbeaf676bba74be992dff03cc38af47c",
            "c0a8f8d9b0d6464395ca1a365a8132d7",
            "e3392ed2f57b4d30bcc3cb415d132c5b",
            "395627b50bea47419330c18bdf5b5341",
            "64cc225a16854f5880f06a7bd8b298b2",
            "dddafc3a6a3548799b305cfe96c4d914",
            "95b7169bf7f94e1f8f54f4cbf115e4f0",
            "3e717dde41114526aa5d5f74fb3621b7",
            "d9cdc9a835ac4a0297a25d4671b7d415",
            "a3791dfdb0ec473caa6eac3d76ea8a56",
            "1233c4348d4a47a99d07b9207d78e57d",
            "0fad9d0da5b0468aa79047302f08ae7d",
            "ee25d911e7c640c385aa5c269af4d2b8",
            "f52fb2e1e8f446cebc8eb4e1eec63228",
            "e751b4ca0fbb408b8a8763ed3f544b2e",
            "ffa883fbc244438d869cdbc7f5f8c68f",
            "8981bf506f1b4c15ae1afb2116f93d82",
            "425b95e77e95453aa809027e03a366f4",
            "429a375bd757452aab4892b01ff8c1e3",
            "d28d449e38a84143a5889152e262a16c",
            "542a4f075dd64c3a9003bbd718ba08a9",
            "4f69449239be417c967427f68370e335",
            "19a6718de53746d193db7318d61fc2b0",
            "868ebe3ef9a347c9b980b45284e5eff0",
            "b7dbf538cf784b45916aa7158d13ee90",
            "3750d256a80b4759938b6c1a189f250c",
            "3a03108833684181a9e9133bec97dc85",
            "78ea2ba06b724a328777c1925b061d5e",
            "cb44f566470c457d959954bf0f753647",
            "79c346ee361142268b696499041bcec6",
            "016cdd8fd8894d369cfd82667b618dac",
            "98f64f1bd81341f9b8848a0f45174591",
            "f3885fd695e442f9b54d468cbd7fe52d",
            "1cc295f7aacb4e959678084643a1eea3",
            "19e4e3e017274254b8c3bbf5e7703a21",
            "15e4eb25344e465a8da37a582aa83e8c",
            "81f7c27f7ae14c238a5bdd19096970fe",
            "beee11d3731c403c89d6038fab3ddc48",
            "b8f575a4e185400d86b63b8bbd6814bb",
            "784335f26e3a4cea8f3c310083b1f8c2",
            "843fb835498349b5b1319eb99c4bed20",
            "6c66f23f4cb846a6b3d241235ae45e46",
            "e491fcdd33dc46fd95030d99c1b691af",
            "cc88ce54861d4cbaa846bccdb06f9258",
            "b687fbb53c3e4466962e798b6d7a75e6",
            "fadb36561642458e99fdc94d3942a7ab",
            "760846b605374621acd0928e82f1e5ae",
            "50ae355805234d4baaa2dcb44f0feb4f",
            "54ab839ea21846e390903887a1bfdffe",
            "1324075aa83142d4875a6f42b9391c67",
            "91d340afdd0e4661bb90c411ad3110ad",
            "41b4e5e059e6464cb5c75c8ef167870c",
            "3e1fb9e8eae440df8057bc851be5ac43",
            "544ec1e244f4457fabf18b1a808c2686",
            "2a2ccc535d5b46258f10ea3db74ff60c",
            "416afe6b48b74f5ba32e4232ac08b058",
            "a3a63703f6e345e4810377b6c1fd5dff",
            "41b2bd45362949ff8053a1905c059ec5"
          ]
        },
        "id": "4DR_AQ1Vf17y",
        "outputId": "487a14a3-aa1b-45ab-ea4b-a86377fa1751"
      },
      "execution_count": null,
      "outputs": [
        {
          "output_type": "display_data",
          "data": {
            "text/plain": [
              "Downloading builder script:   0%|          | 0.00/1.94k [00:00<?, ?B/s]"
            ],
            "application/vnd.jupyter.widget-view+json": {
              "version_major": 2,
              "version_minor": 0,
              "model_id": "625aee7d1e774373a5c6fb15f2b16904"
            }
          },
          "metadata": {}
        },
        {
          "output_type": "display_data",
          "data": {
            "text/plain": [
              "Downloading metadata:   0%|          | 0.00/1.61k [00:00<?, ?B/s]"
            ],
            "application/vnd.jupyter.widget-view+json": {
              "version_major": 2,
              "version_minor": 0,
              "model_id": "648a7d6a660b4804bec0e42e4fa2306b"
            }
          },
          "metadata": {}
        },
        {
          "output_type": "stream",
          "name": "stdout",
          "text": [
            "Downloading and preparing dataset wisesight_sentiment/wisesight_sentiment (download: 2.00 MiB, generated: 6.28 MiB, post-processed: Unknown size, total: 8.28 MiB) to /root/.cache/huggingface/datasets/wisesight_sentiment/wisesight_sentiment/1.0.0/fc2b1bdfe79571b2e281e4afdb5aac069cf9270bf0f85694239be672a4191969...\n"
          ]
        },
        {
          "output_type": "display_data",
          "data": {
            "text/plain": [
              "Downloading data:   0%|          | 0.00/2.10M [00:00<?, ?B/s]"
            ],
            "application/vnd.jupyter.widget-view+json": {
              "version_major": 2,
              "version_minor": 0,
              "model_id": "4cc797fff0b94d44995b2b93c1cec20f"
            }
          },
          "metadata": {}
        },
        {
          "output_type": "display_data",
          "data": {
            "text/plain": [
              "Generating train split:   0%|          | 0/21628 [00:00<?, ? examples/s]"
            ],
            "application/vnd.jupyter.widget-view+json": {
              "version_major": 2,
              "version_minor": 0,
              "model_id": "e20ad4393db84ffea66508b0ec4b7fd3"
            }
          },
          "metadata": {}
        },
        {
          "output_type": "display_data",
          "data": {
            "text/plain": [
              "Generating validation split:   0%|          | 0/2404 [00:00<?, ? examples/s]"
            ],
            "application/vnd.jupyter.widget-view+json": {
              "version_major": 2,
              "version_minor": 0,
              "model_id": "111efbc4e6ef468b8ad26b6724583894"
            }
          },
          "metadata": {}
        },
        {
          "output_type": "display_data",
          "data": {
            "text/plain": [
              "Generating test split:   0%|          | 0/2671 [00:00<?, ? examples/s]"
            ],
            "application/vnd.jupyter.widget-view+json": {
              "version_major": 2,
              "version_minor": 0,
              "model_id": "395627b50bea47419330c18bdf5b5341"
            }
          },
          "metadata": {}
        },
        {
          "output_type": "stream",
          "name": "stdout",
          "text": [
            "Dataset wisesight_sentiment downloaded and prepared to /root/.cache/huggingface/datasets/wisesight_sentiment/wisesight_sentiment/1.0.0/fc2b1bdfe79571b2e281e4afdb5aac069cf9270bf0f85694239be672a4191969. Subsequent calls will reuse this data.\n"
          ]
        },
        {
          "output_type": "display_data",
          "data": {
            "text/plain": [
              "  0%|          | 0/3 [00:00<?, ?it/s]"
            ],
            "application/vnd.jupyter.widget-view+json": {
              "version_major": 2,
              "version_minor": 0,
              "model_id": "e751b4ca0fbb408b8a8763ed3f544b2e"
            }
          },
          "metadata": {}
        },
        {
          "output_type": "display_data",
          "data": {
            "text/plain": [
              "  0%|          | 0/22 [00:00<?, ?ba/s]"
            ],
            "application/vnd.jupyter.widget-view+json": {
              "version_major": 2,
              "version_minor": 0,
              "model_id": "3750d256a80b4759938b6c1a189f250c"
            }
          },
          "metadata": {}
        },
        {
          "output_type": "display_data",
          "data": {
            "text/plain": [
              "  0%|          | 0/3 [00:00<?, ?ba/s]"
            ],
            "application/vnd.jupyter.widget-view+json": {
              "version_major": 2,
              "version_minor": 0,
              "model_id": "81f7c27f7ae14c238a5bdd19096970fe"
            }
          },
          "metadata": {}
        },
        {
          "output_type": "display_data",
          "data": {
            "text/plain": [
              "  0%|          | 0/3 [00:00<?, ?ba/s]"
            ],
            "application/vnd.jupyter.widget-view+json": {
              "version_major": 2,
              "version_minor": 0,
              "model_id": "50ae355805234d4baaa2dcb44f0feb4f"
            }
          },
          "metadata": {}
        },
        {
          "output_type": "execute_result",
          "data": {
            "text/plain": [
              "DatasetDict({\n",
              "    train: Dataset({\n",
              "        features: ['texts', 'category', 'labels'],\n",
              "        num_rows: 21628\n",
              "    })\n",
              "    validation: Dataset({\n",
              "        features: ['texts', 'category', 'labels'],\n",
              "        num_rows: 2404\n",
              "    })\n",
              "    test: Dataset({\n",
              "        features: ['texts', 'category', 'labels'],\n",
              "        num_rows: 2671\n",
              "    })\n",
              "})"
            ]
          },
          "metadata": {},
          "execution_count": 60
        }
      ]
    },
    {
      "cell_type": "code",
      "source": [
        "\n",
        "dataset['train']"
      ],
      "metadata": {
        "colab": {
          "base_uri": "https://localhost:8080/"
        },
        "id": "AYQ8G-ebf0ta",
        "outputId": "446f488d-130f-4d42-e147-6bb5b15051b6"
      },
      "execution_count": null,
      "outputs": [
        {
          "output_type": "execute_result",
          "data": {
            "text/plain": [
              "Dataset({\n",
              "    features: ['texts', 'category', 'labels'],\n",
              "    num_rows: 21628\n",
              "})"
            ]
          },
          "metadata": {},
          "execution_count": 61
        }
      ]
    },
    {
      "cell_type": "code",
      "source": [
        "args.model_name"
      ],
      "metadata": {
        "colab": {
          "base_uri": "https://localhost:8080/",
          "height": 35
        },
        "id": "xjWUt39Xf3Er",
        "outputId": "e34611aa-d0a5-4a87-b352-1204b20d3034"
      },
      "execution_count": null,
      "outputs": [
        {
          "output_type": "execute_result",
          "data": {
            "text/plain": [
              "'airesearch/wangchanberta-base-att-spm-uncased'"
            ],
            "application/vnd.google.colaboratory.intrinsic+json": {
              "type": "string"
            }
          },
          "metadata": {},
          "execution_count": 62
        }
      ]
    },
    {
      "cell_type": "code",
      "source": [
        "#create tokenizer\n",
        "tokenizer = AutoTokenizer.from_pretrained(args.model_name, model_max_length=416)\n",
        "\n",
        "#encode dataset\n",
        "def encode_function(examples):\n",
        "    return tokenizer(examples[args.feature_col], truncation=True)\n",
        "encoded_dataset = dataset.map(encode_function, batched=True)"
      ],
      "metadata": {
        "colab": {
          "base_uri": "https://localhost:8080/",
          "height": 209,
          "referenced_widgets": [
            "a63c718b9db04be492204835973d9ae3",
            "008423785d654b48aaa392267752b84d",
            "b05b0f27ccde480faaaa0e01f95993f8",
            "7e732b6feca74e1ea0c8312143718454",
            "7b128f92dee142ada83f19adc43fc93d",
            "94604496995046579ef65f356a33366d",
            "a8b180f3f17c4d37b43b087b0c7dc685",
            "c6f20a12565b46ddb90f2868b704a406",
            "0e022ebef4014b3e8a420e6417ecf365",
            "e9e56876cee14658b84f2bfade8bed67",
            "15382d8232ec45e898b4e15489759afa",
            "18a95917945444e2a612cdae71ef9a3c",
            "b680e1c3a281436799841b8dd6637813",
            "4f5781e6e2764102b7fc78338c05279c",
            "bb1ec13d5862456f8dcc46bdce8eac64",
            "58b17478f9314f3c972020f03d0e70c4",
            "56b727dedaad45dc88bd7d00eac90217",
            "df107569eb3d4044909522cbc42442a6",
            "39e4452341014d07b34b29a5a9f5daf4",
            "b87a9071847e4ef8a2b37912609715b6",
            "488471f0e53a425aa82fdaa79d4a5a32",
            "ee08e1ba43fa48c598a8fafa047288da",
            "8af2e70f1dcb42fdadbf90213c88b388",
            "799a926f9a454a288cd01da1bc2d93ae",
            "e0e701a6d45246f9a84a4347350a3928",
            "31e65f81542d4a39ade362d109e6b225",
            "34daeedbf10c4f2196a99778c247e50f",
            "ccbce99743db4391a7a59ee6999effca",
            "86767cde30ff4fe282fdef3d653088ba",
            "54e835e6f980426ca89aaa75c7b99781",
            "faf4c7ba01314466b448a02f03d9e74f",
            "7cb38e13d3fc4f9db90d240fcddf892e",
            "49612cc70541420b967a9420b0f175e2",
            "d2c942a365ca4e52a9bc1660312c69f5",
            "21ddbb1a9e5742fd90d4b475c0bbd244",
            "644e36775212460c8e5027e30fce6d24",
            "f9cbf78b5fb04689bef146455d269bba",
            "668a7225bf104537b97bd79035393a60",
            "3406ce04ca0b4365930883728ccc7c1c",
            "b385dabafa124683ac571ca69c932d3e",
            "93959230bef2426fb4421d85c056d134",
            "cd878c0a75ac4b9a85f5c7862535dcf7",
            "b622b91d0c1147a5a92650ae56c83e9e",
            "b0c272d0c1fe4cdeab9f32f0d52e1f07",
            "4daf188362c24841b7a697321cbe9659",
            "2815508ccfc44585adb692de93f75b96",
            "0d5ae7d80c454b1588031cce43f9dfa4",
            "7d7e8603c12f4338bce86a23e4252a00",
            "c373ecb8952346a6962071991e922a4d",
            "e9276740cd4e47208ac78bb00493a367",
            "f7214b3aaca04a7583fa132845f6dd7b",
            "e2260d347fee437e820be1773ff6bf56",
            "833f674b40bc4d1397bfe5f7a5275dbd",
            "56215db42cd6428b8b9915989458dea1",
            "060add3c36c741aeb4b1c592e36bb3b1",
            "443a822a194e4868a1f6a1dd70a4662d",
            "b2856db0a72e499d8043793763ea1be1",
            "40d9900ae6194001892c132825a3aa52",
            "aecb6694ae684a7d811257165d9fb1e3",
            "2dba2dd95b9241329303f6d1c9b7fa3a",
            "1355a7b81e2143d39f8444cebc1170d2",
            "26cf358a1a3f487fbfccffaa3f22132c",
            "e220b8de12f04834ad94ba3b70dffc2b",
            "209be41238f64d0481b3f443a9eeab7c",
            "a6a614aa310f4f029ad0915151da9fae",
            "6f2320173bd44e0c993033715b8c5351"
          ]
        },
        "id": "xV4CeWk5f4xq",
        "outputId": "16676317-6a22-414e-9756-f829a9d8e40e"
      },
      "execution_count": null,
      "outputs": [
        {
          "output_type": "display_data",
          "data": {
            "text/plain": [
              "Downloading:   0%|          | 0.00/546 [00:00<?, ?B/s]"
            ],
            "application/vnd.jupyter.widget-view+json": {
              "version_major": 2,
              "version_minor": 0,
              "model_id": "a63c718b9db04be492204835973d9ae3"
            }
          },
          "metadata": {}
        },
        {
          "output_type": "display_data",
          "data": {
            "text/plain": [
              "Downloading:   0%|          | 0.00/905k [00:00<?, ?B/s]"
            ],
            "application/vnd.jupyter.widget-view+json": {
              "version_major": 2,
              "version_minor": 0,
              "model_id": "18a95917945444e2a612cdae71ef9a3c"
            }
          },
          "metadata": {}
        },
        {
          "output_type": "display_data",
          "data": {
            "text/plain": [
              "Downloading:   0%|          | 0.00/282 [00:00<?, ?B/s]"
            ],
            "application/vnd.jupyter.widget-view+json": {
              "version_major": 2,
              "version_minor": 0,
              "model_id": "8af2e70f1dcb42fdadbf90213c88b388"
            }
          },
          "metadata": {}
        },
        {
          "output_type": "display_data",
          "data": {
            "text/plain": [
              "  0%|          | 0/22 [00:00<?, ?ba/s]"
            ],
            "application/vnd.jupyter.widget-view+json": {
              "version_major": 2,
              "version_minor": 0,
              "model_id": "d2c942a365ca4e52a9bc1660312c69f5"
            }
          },
          "metadata": {}
        },
        {
          "output_type": "display_data",
          "data": {
            "text/plain": [
              "  0%|          | 0/3 [00:00<?, ?ba/s]"
            ],
            "application/vnd.jupyter.widget-view+json": {
              "version_major": 2,
              "version_minor": 0,
              "model_id": "4daf188362c24841b7a697321cbe9659"
            }
          },
          "metadata": {}
        },
        {
          "output_type": "display_data",
          "data": {
            "text/plain": [
              "  0%|          | 0/3 [00:00<?, ?ba/s]"
            ],
            "application/vnd.jupyter.widget-view+json": {
              "version_major": 2,
              "version_minor": 0,
              "model_id": "443a822a194e4868a1f6a1dd70a4662d"
            }
          },
          "metadata": {}
        }
      ]
    },
    {
      "cell_type": "code",
      "source": [
        "encoded_dataset"
      ],
      "metadata": {
        "colab": {
          "base_uri": "https://localhost:8080/"
        },
        "id": "f1J2C7VZf8ET",
        "outputId": "0623dc61-87f9-4cfa-f1a3-51a819e9e065"
      },
      "execution_count": null,
      "outputs": [
        {
          "output_type": "execute_result",
          "data": {
            "text/plain": [
              "DatasetDict({\n",
              "    train: Dataset({\n",
              "        features: ['texts', 'category', 'labels', 'input_ids', 'attention_mask'],\n",
              "        num_rows: 21628\n",
              "    })\n",
              "    validation: Dataset({\n",
              "        features: ['texts', 'category', 'labels', 'input_ids', 'attention_mask'],\n",
              "        num_rows: 2404\n",
              "    })\n",
              "    test: Dataset({\n",
              "        features: ['texts', 'category', 'labels', 'input_ids', 'attention_mask'],\n",
              "        num_rows: 2671\n",
              "    })\n",
              "})"
            ]
          },
          "metadata": {},
          "execution_count": 64
        }
      ]
    },
    {
      "cell_type": "code",
      "source": [
        "\n",
        "num_labels"
      ],
      "metadata": {
        "colab": {
          "base_uri": "https://localhost:8080/"
        },
        "id": "iKN0bmCtf9MW",
        "outputId": "3d72455d-a7f9-4931-ef3a-18705c301d22"
      },
      "execution_count": null,
      "outputs": [
        {
          "output_type": "execute_result",
          "data": {
            "text/plain": [
              "4"
            ]
          },
          "metadata": {},
          "execution_count": 65
        }
      ]
    },
    {
      "cell_type": "code",
      "source": [
        "\n",
        "#create model\n",
        "model = AutoModelForSequenceClassification.from_pretrained(args.model_name, num_labels=num_labels)"
      ],
      "metadata": {
        "colab": {
          "base_uri": "https://localhost:8080/",
          "height": 156,
          "referenced_widgets": [
            "a880a2d1b2934a7cbdbb17733ed7a585",
            "b90e7e85b03e4efa99ddc2b3200f24d2",
            "e4b4fa99c76b413dab03dc5f73f48cfd",
            "e61d8d19cd4748d69900e37ca5b5ae0d",
            "f131d649df2b4a80800c755a305ec6d6",
            "3072df70dbc24e5e95df297bc872b62a",
            "000080a66f0445aa9e43fe118e7ea12d",
            "08c073133ce84707ac3fe6e248149c7b",
            "d39b1a40dd934442aa31bff221af2a38",
            "eb17e51c97724e56b289ea850a09709a",
            "b933d5a2543648dd8e827f9adfb73562"
          ]
        },
        "id": "FrfKlsX0f_EF",
        "outputId": "923bb83d-0543-4fd8-ec92-de34a27097db"
      },
      "execution_count": null,
      "outputs": [
        {
          "output_type": "display_data",
          "data": {
            "text/plain": [
              "Downloading:   0%|          | 0.00/423M [00:00<?, ?B/s]"
            ],
            "application/vnd.jupyter.widget-view+json": {
              "version_major": 2,
              "version_minor": 0,
              "model_id": "a880a2d1b2934a7cbdbb17733ed7a585"
            }
          },
          "metadata": {}
        },
        {
          "output_type": "stream",
          "name": "stderr",
          "text": [
            "Some weights of the model checkpoint at airesearch/wangchanberta-base-att-spm-uncased were not used when initializing CamembertForSequenceClassification: ['lm_head.bias', 'lm_head.dense.weight', 'lm_head.dense.bias', 'lm_head.layer_norm.weight', 'lm_head.layer_norm.bias', 'lm_head.decoder.weight', 'lm_head.decoder.bias', 'roberta.pooler.dense.weight', 'roberta.pooler.dense.bias']\n",
            "- This IS expected if you are initializing CamembertForSequenceClassification from the checkpoint of a model trained on another task or with another architecture (e.g. initializing a BertForSequenceClassification model from a BertForPreTraining model).\n",
            "- This IS NOT expected if you are initializing CamembertForSequenceClassification from the checkpoint of a model that you expect to be exactly identical (initializing a BertForSequenceClassification model from a BertForSequenceClassification model).\n",
            "Some weights of CamembertForSequenceClassification were not initialized from the model checkpoint at airesearch/wangchanberta-base-att-spm-uncased and are newly initialized: ['classifier.dense.weight', 'classifier.dense.bias', 'classifier.out_proj.weight', 'classifier.out_proj.bias']\n",
            "You should probably TRAIN this model on a down-stream task to be able to use it for predictions and inference.\n"
          ]
        }
      ]
    },
    {
      "cell_type": "code",
      "source": [
        "model"
      ],
      "metadata": {
        "colab": {
          "base_uri": "https://localhost:8080/"
        },
        "id": "4aj7aqRZgAbH",
        "outputId": "e55e8c2e-c5cc-4a4a-d12d-505673d1335a"
      },
      "execution_count": null,
      "outputs": [
        {
          "output_type": "execute_result",
          "data": {
            "text/plain": [
              "CamembertForSequenceClassification(\n",
              "  (roberta): RobertaModel(\n",
              "    (embeddings): RobertaEmbeddings(\n",
              "      (word_embeddings): Embedding(25005, 768, padding_idx=1)\n",
              "      (position_embeddings): Embedding(512, 768, padding_idx=1)\n",
              "      (token_type_embeddings): Embedding(1, 768)\n",
              "      (LayerNorm): LayerNorm((768,), eps=1e-12, elementwise_affine=True)\n",
              "      (dropout): Dropout(p=0.1, inplace=False)\n",
              "    )\n",
              "    (encoder): RobertaEncoder(\n",
              "      (layer): ModuleList(\n",
              "        (0): RobertaLayer(\n",
              "          (attention): RobertaAttention(\n",
              "            (self): RobertaSelfAttention(\n",
              "              (query): Linear(in_features=768, out_features=768, bias=True)\n",
              "              (key): Linear(in_features=768, out_features=768, bias=True)\n",
              "              (value): Linear(in_features=768, out_features=768, bias=True)\n",
              "              (dropout): Dropout(p=0.1, inplace=False)\n",
              "            )\n",
              "            (output): RobertaSelfOutput(\n",
              "              (dense): Linear(in_features=768, out_features=768, bias=True)\n",
              "              (LayerNorm): LayerNorm((768,), eps=1e-12, elementwise_affine=True)\n",
              "              (dropout): Dropout(p=0.1, inplace=False)\n",
              "            )\n",
              "          )\n",
              "          (intermediate): RobertaIntermediate(\n",
              "            (dense): Linear(in_features=768, out_features=3072, bias=True)\n",
              "          )\n",
              "          (output): RobertaOutput(\n",
              "            (dense): Linear(in_features=3072, out_features=768, bias=True)\n",
              "            (LayerNorm): LayerNorm((768,), eps=1e-12, elementwise_affine=True)\n",
              "            (dropout): Dropout(p=0.1, inplace=False)\n",
              "          )\n",
              "        )\n",
              "        (1): RobertaLayer(\n",
              "          (attention): RobertaAttention(\n",
              "            (self): RobertaSelfAttention(\n",
              "              (query): Linear(in_features=768, out_features=768, bias=True)\n",
              "              (key): Linear(in_features=768, out_features=768, bias=True)\n",
              "              (value): Linear(in_features=768, out_features=768, bias=True)\n",
              "              (dropout): Dropout(p=0.1, inplace=False)\n",
              "            )\n",
              "            (output): RobertaSelfOutput(\n",
              "              (dense): Linear(in_features=768, out_features=768, bias=True)\n",
              "              (LayerNorm): LayerNorm((768,), eps=1e-12, elementwise_affine=True)\n",
              "              (dropout): Dropout(p=0.1, inplace=False)\n",
              "            )\n",
              "          )\n",
              "          (intermediate): RobertaIntermediate(\n",
              "            (dense): Linear(in_features=768, out_features=3072, bias=True)\n",
              "          )\n",
              "          (output): RobertaOutput(\n",
              "            (dense): Linear(in_features=3072, out_features=768, bias=True)\n",
              "            (LayerNorm): LayerNorm((768,), eps=1e-12, elementwise_affine=True)\n",
              "            (dropout): Dropout(p=0.1, inplace=False)\n",
              "          )\n",
              "        )\n",
              "        (2): RobertaLayer(\n",
              "          (attention): RobertaAttention(\n",
              "            (self): RobertaSelfAttention(\n",
              "              (query): Linear(in_features=768, out_features=768, bias=True)\n",
              "              (key): Linear(in_features=768, out_features=768, bias=True)\n",
              "              (value): Linear(in_features=768, out_features=768, bias=True)\n",
              "              (dropout): Dropout(p=0.1, inplace=False)\n",
              "            )\n",
              "            (output): RobertaSelfOutput(\n",
              "              (dense): Linear(in_features=768, out_features=768, bias=True)\n",
              "              (LayerNorm): LayerNorm((768,), eps=1e-12, elementwise_affine=True)\n",
              "              (dropout): Dropout(p=0.1, inplace=False)\n",
              "            )\n",
              "          )\n",
              "          (intermediate): RobertaIntermediate(\n",
              "            (dense): Linear(in_features=768, out_features=3072, bias=True)\n",
              "          )\n",
              "          (output): RobertaOutput(\n",
              "            (dense): Linear(in_features=3072, out_features=768, bias=True)\n",
              "            (LayerNorm): LayerNorm((768,), eps=1e-12, elementwise_affine=True)\n",
              "            (dropout): Dropout(p=0.1, inplace=False)\n",
              "          )\n",
              "        )\n",
              "        (3): RobertaLayer(\n",
              "          (attention): RobertaAttention(\n",
              "            (self): RobertaSelfAttention(\n",
              "              (query): Linear(in_features=768, out_features=768, bias=True)\n",
              "              (key): Linear(in_features=768, out_features=768, bias=True)\n",
              "              (value): Linear(in_features=768, out_features=768, bias=True)\n",
              "              (dropout): Dropout(p=0.1, inplace=False)\n",
              "            )\n",
              "            (output): RobertaSelfOutput(\n",
              "              (dense): Linear(in_features=768, out_features=768, bias=True)\n",
              "              (LayerNorm): LayerNorm((768,), eps=1e-12, elementwise_affine=True)\n",
              "              (dropout): Dropout(p=0.1, inplace=False)\n",
              "            )\n",
              "          )\n",
              "          (intermediate): RobertaIntermediate(\n",
              "            (dense): Linear(in_features=768, out_features=3072, bias=True)\n",
              "          )\n",
              "          (output): RobertaOutput(\n",
              "            (dense): Linear(in_features=3072, out_features=768, bias=True)\n",
              "            (LayerNorm): LayerNorm((768,), eps=1e-12, elementwise_affine=True)\n",
              "            (dropout): Dropout(p=0.1, inplace=False)\n",
              "          )\n",
              "        )\n",
              "        (4): RobertaLayer(\n",
              "          (attention): RobertaAttention(\n",
              "            (self): RobertaSelfAttention(\n",
              "              (query): Linear(in_features=768, out_features=768, bias=True)\n",
              "              (key): Linear(in_features=768, out_features=768, bias=True)\n",
              "              (value): Linear(in_features=768, out_features=768, bias=True)\n",
              "              (dropout): Dropout(p=0.1, inplace=False)\n",
              "            )\n",
              "            (output): RobertaSelfOutput(\n",
              "              (dense): Linear(in_features=768, out_features=768, bias=True)\n",
              "              (LayerNorm): LayerNorm((768,), eps=1e-12, elementwise_affine=True)\n",
              "              (dropout): Dropout(p=0.1, inplace=False)\n",
              "            )\n",
              "          )\n",
              "          (intermediate): RobertaIntermediate(\n",
              "            (dense): Linear(in_features=768, out_features=3072, bias=True)\n",
              "          )\n",
              "          (output): RobertaOutput(\n",
              "            (dense): Linear(in_features=3072, out_features=768, bias=True)\n",
              "            (LayerNorm): LayerNorm((768,), eps=1e-12, elementwise_affine=True)\n",
              "            (dropout): Dropout(p=0.1, inplace=False)\n",
              "          )\n",
              "        )\n",
              "        (5): RobertaLayer(\n",
              "          (attention): RobertaAttention(\n",
              "            (self): RobertaSelfAttention(\n",
              "              (query): Linear(in_features=768, out_features=768, bias=True)\n",
              "              (key): Linear(in_features=768, out_features=768, bias=True)\n",
              "              (value): Linear(in_features=768, out_features=768, bias=True)\n",
              "              (dropout): Dropout(p=0.1, inplace=False)\n",
              "            )\n",
              "            (output): RobertaSelfOutput(\n",
              "              (dense): Linear(in_features=768, out_features=768, bias=True)\n",
              "              (LayerNorm): LayerNorm((768,), eps=1e-12, elementwise_affine=True)\n",
              "              (dropout): Dropout(p=0.1, inplace=False)\n",
              "            )\n",
              "          )\n",
              "          (intermediate): RobertaIntermediate(\n",
              "            (dense): Linear(in_features=768, out_features=3072, bias=True)\n",
              "          )\n",
              "          (output): RobertaOutput(\n",
              "            (dense): Linear(in_features=3072, out_features=768, bias=True)\n",
              "            (LayerNorm): LayerNorm((768,), eps=1e-12, elementwise_affine=True)\n",
              "            (dropout): Dropout(p=0.1, inplace=False)\n",
              "          )\n",
              "        )\n",
              "        (6): RobertaLayer(\n",
              "          (attention): RobertaAttention(\n",
              "            (self): RobertaSelfAttention(\n",
              "              (query): Linear(in_features=768, out_features=768, bias=True)\n",
              "              (key): Linear(in_features=768, out_features=768, bias=True)\n",
              "              (value): Linear(in_features=768, out_features=768, bias=True)\n",
              "              (dropout): Dropout(p=0.1, inplace=False)\n",
              "            )\n",
              "            (output): RobertaSelfOutput(\n",
              "              (dense): Linear(in_features=768, out_features=768, bias=True)\n",
              "              (LayerNorm): LayerNorm((768,), eps=1e-12, elementwise_affine=True)\n",
              "              (dropout): Dropout(p=0.1, inplace=False)\n",
              "            )\n",
              "          )\n",
              "          (intermediate): RobertaIntermediate(\n",
              "            (dense): Linear(in_features=768, out_features=3072, bias=True)\n",
              "          )\n",
              "          (output): RobertaOutput(\n",
              "            (dense): Linear(in_features=3072, out_features=768, bias=True)\n",
              "            (LayerNorm): LayerNorm((768,), eps=1e-12, elementwise_affine=True)\n",
              "            (dropout): Dropout(p=0.1, inplace=False)\n",
              "          )\n",
              "        )\n",
              "        (7): RobertaLayer(\n",
              "          (attention): RobertaAttention(\n",
              "            (self): RobertaSelfAttention(\n",
              "              (query): Linear(in_features=768, out_features=768, bias=True)\n",
              "              (key): Linear(in_features=768, out_features=768, bias=True)\n",
              "              (value): Linear(in_features=768, out_features=768, bias=True)\n",
              "              (dropout): Dropout(p=0.1, inplace=False)\n",
              "            )\n",
              "            (output): RobertaSelfOutput(\n",
              "              (dense): Linear(in_features=768, out_features=768, bias=True)\n",
              "              (LayerNorm): LayerNorm((768,), eps=1e-12, elementwise_affine=True)\n",
              "              (dropout): Dropout(p=0.1, inplace=False)\n",
              "            )\n",
              "          )\n",
              "          (intermediate): RobertaIntermediate(\n",
              "            (dense): Linear(in_features=768, out_features=3072, bias=True)\n",
              "          )\n",
              "          (output): RobertaOutput(\n",
              "            (dense): Linear(in_features=3072, out_features=768, bias=True)\n",
              "            (LayerNorm): LayerNorm((768,), eps=1e-12, elementwise_affine=True)\n",
              "            (dropout): Dropout(p=0.1, inplace=False)\n",
              "          )\n",
              "        )\n",
              "        (8): RobertaLayer(\n",
              "          (attention): RobertaAttention(\n",
              "            (self): RobertaSelfAttention(\n",
              "              (query): Linear(in_features=768, out_features=768, bias=True)\n",
              "              (key): Linear(in_features=768, out_features=768, bias=True)\n",
              "              (value): Linear(in_features=768, out_features=768, bias=True)\n",
              "              (dropout): Dropout(p=0.1, inplace=False)\n",
              "            )\n",
              "            (output): RobertaSelfOutput(\n",
              "              (dense): Linear(in_features=768, out_features=768, bias=True)\n",
              "              (LayerNorm): LayerNorm((768,), eps=1e-12, elementwise_affine=True)\n",
              "              (dropout): Dropout(p=0.1, inplace=False)\n",
              "            )\n",
              "          )\n",
              "          (intermediate): RobertaIntermediate(\n",
              "            (dense): Linear(in_features=768, out_features=3072, bias=True)\n",
              "          )\n",
              "          (output): RobertaOutput(\n",
              "            (dense): Linear(in_features=3072, out_features=768, bias=True)\n",
              "            (LayerNorm): LayerNorm((768,), eps=1e-12, elementwise_affine=True)\n",
              "            (dropout): Dropout(p=0.1, inplace=False)\n",
              "          )\n",
              "        )\n",
              "        (9): RobertaLayer(\n",
              "          (attention): RobertaAttention(\n",
              "            (self): RobertaSelfAttention(\n",
              "              (query): Linear(in_features=768, out_features=768, bias=True)\n",
              "              (key): Linear(in_features=768, out_features=768, bias=True)\n",
              "              (value): Linear(in_features=768, out_features=768, bias=True)\n",
              "              (dropout): Dropout(p=0.1, inplace=False)\n",
              "            )\n",
              "            (output): RobertaSelfOutput(\n",
              "              (dense): Linear(in_features=768, out_features=768, bias=True)\n",
              "              (LayerNorm): LayerNorm((768,), eps=1e-12, elementwise_affine=True)\n",
              "              (dropout): Dropout(p=0.1, inplace=False)\n",
              "            )\n",
              "          )\n",
              "          (intermediate): RobertaIntermediate(\n",
              "            (dense): Linear(in_features=768, out_features=3072, bias=True)\n",
              "          )\n",
              "          (output): RobertaOutput(\n",
              "            (dense): Linear(in_features=3072, out_features=768, bias=True)\n",
              "            (LayerNorm): LayerNorm((768,), eps=1e-12, elementwise_affine=True)\n",
              "            (dropout): Dropout(p=0.1, inplace=False)\n",
              "          )\n",
              "        )\n",
              "        (10): RobertaLayer(\n",
              "          (attention): RobertaAttention(\n",
              "            (self): RobertaSelfAttention(\n",
              "              (query): Linear(in_features=768, out_features=768, bias=True)\n",
              "              (key): Linear(in_features=768, out_features=768, bias=True)\n",
              "              (value): Linear(in_features=768, out_features=768, bias=True)\n",
              "              (dropout): Dropout(p=0.1, inplace=False)\n",
              "            )\n",
              "            (output): RobertaSelfOutput(\n",
              "              (dense): Linear(in_features=768, out_features=768, bias=True)\n",
              "              (LayerNorm): LayerNorm((768,), eps=1e-12, elementwise_affine=True)\n",
              "              (dropout): Dropout(p=0.1, inplace=False)\n",
              "            )\n",
              "          )\n",
              "          (intermediate): RobertaIntermediate(\n",
              "            (dense): Linear(in_features=768, out_features=3072, bias=True)\n",
              "          )\n",
              "          (output): RobertaOutput(\n",
              "            (dense): Linear(in_features=3072, out_features=768, bias=True)\n",
              "            (LayerNorm): LayerNorm((768,), eps=1e-12, elementwise_affine=True)\n",
              "            (dropout): Dropout(p=0.1, inplace=False)\n",
              "          )\n",
              "        )\n",
              "        (11): RobertaLayer(\n",
              "          (attention): RobertaAttention(\n",
              "            (self): RobertaSelfAttention(\n",
              "              (query): Linear(in_features=768, out_features=768, bias=True)\n",
              "              (key): Linear(in_features=768, out_features=768, bias=True)\n",
              "              (value): Linear(in_features=768, out_features=768, bias=True)\n",
              "              (dropout): Dropout(p=0.1, inplace=False)\n",
              "            )\n",
              "            (output): RobertaSelfOutput(\n",
              "              (dense): Linear(in_features=768, out_features=768, bias=True)\n",
              "              (LayerNorm): LayerNorm((768,), eps=1e-12, elementwise_affine=True)\n",
              "              (dropout): Dropout(p=0.1, inplace=False)\n",
              "            )\n",
              "          )\n",
              "          (intermediate): RobertaIntermediate(\n",
              "            (dense): Linear(in_features=768, out_features=3072, bias=True)\n",
              "          )\n",
              "          (output): RobertaOutput(\n",
              "            (dense): Linear(in_features=3072, out_features=768, bias=True)\n",
              "            (LayerNorm): LayerNorm((768,), eps=1e-12, elementwise_affine=True)\n",
              "            (dropout): Dropout(p=0.1, inplace=False)\n",
              "          )\n",
              "        )\n",
              "      )\n",
              "    )\n",
              "  )\n",
              "  (classifier): RobertaClassificationHead(\n",
              "    (dense): Linear(in_features=768, out_features=768, bias=True)\n",
              "    (dropout): Dropout(p=0.1, inplace=False)\n",
              "    (out_proj): Linear(in_features=768, out_features=4, bias=True)\n",
              "  )\n",
              ")"
            ]
          },
          "metadata": {},
          "execution_count": 67
        }
      ]
    },
    {
      "cell_type": "code",
      "source": [
        "train_args = TrainingArguments(\n",
        "    output_dir = args.output_dir,\n",
        "    evaluation_strategy = \"epoch\",\n",
        "    learning_rate=args.learning_rate,\n",
        "    per_device_train_batch_size=args.batch_size,\n",
        "    per_device_eval_batch_size=args.batch_size,\n",
        "    num_train_epochs=args.num_train_epochs,\n",
        "    warmup_steps = int(len(encoded_dataset['train']) * args.num_train_epochs // args.batch_size * args.warmup_percent),\n",
        "    weight_decay=args.weight_decay,\n",
        "    load_best_model_at_end=True,\n",
        "    save_total_limit=1,\n",
        "    metric_for_best_model=args.metric_for_best_model,\n",
        "    seed = args.seed\n",
        ")"
      ],
      "metadata": {
        "id": "cFkkBS-EgCj8"
      },
      "execution_count": null,
      "outputs": []
    },
    {
      "cell_type": "code",
      "source": [
        "classification_metrics"
      ],
      "metadata": {
        "colab": {
          "base_uri": "https://localhost:8080/"
        },
        "id": "zo8YaE44gEKf",
        "outputId": "73481999-5fb0-430e-cfb8-55751481b30a"
      },
      "execution_count": null,
      "outputs": [
        {
          "output_type": "execute_result",
          "data": {
            "text/plain": [
              "<function thai2transformers.metrics.classification_metrics>"
            ]
          },
          "metadata": {},
          "execution_count": 69
        }
      ]
    },
    {
      "cell_type": "code",
      "source": [
        "trainer = Trainer(\n",
        "    model,\n",
        "    train_args,\n",
        "    train_dataset=encoded_dataset['train'],\n",
        "    eval_dataset=encoded_dataset['validation'],\n",
        "    tokenizer=tokenizer,\n",
        "    compute_metrics=classification_metrics\n",
        ")"
      ],
      "metadata": {
        "id": "9r4RU7qFgFZZ"
      },
      "execution_count": null,
      "outputs": []
    },
    {
      "cell_type": "code",
      "source": [
        "preds  = trainer.predict(encoded_dataset['validation'])\n",
        "pd.DataFrame.from_dict(preds[2],orient='index').transpose()"
      ],
      "metadata": {
        "colab": {
          "base_uri": "https://localhost:8080/",
          "height": 101
        },
        "id": "sdy0ot5VgIRM",
        "outputId": "a2094a52-a000-4462-eb30-c4840257866a"
      },
      "execution_count": null,
      "outputs": [
        {
          "output_type": "display_data",
          "data": {
            "text/plain": [
              "<IPython.core.display.HTML object>"
            ],
            "text/html": [
              "\n",
              "    <div>\n",
              "        <style>\n",
              "            /* Turns off some styling */\n",
              "            progress {\n",
              "                /* gets rid of default border in Firefox and Opera. */\n",
              "                border: none;\n",
              "                /* Needs to be in here for Safari polyfill so background images work as expected. */\n",
              "                background-size: auto;\n",
              "            }\n",
              "        </style>\n",
              "      \n",
              "      <progress value='151' max='151' style='width:300px; height:20px; vertical-align: middle;'></progress>\n",
              "      [151/151 21:55]\n",
              "    </div>\n",
              "    "
            ]
          },
          "metadata": {}
        },
        {
          "output_type": "execute_result",
          "data": {
            "text/plain": [
              "   eval_loss  eval_accuracy  eval_f1_micro  eval_precision_micro  \\\n",
              "0   1.511865       0.191348       0.191348              0.191348   \n",
              "\n",
              "   eval_recall_micro  eval_f1_macro  eval_precision_macro  eval_recall_macro  \\\n",
              "0           0.191348       0.151104              0.260287           0.251676   \n",
              "\n",
              "   eval_nb_samples  \n",
              "0           2404.0  "
            ],
            "text/html": [
              "\n",
              "  <div id=\"df-433a3ec0-8b0a-4f30-9dd1-0cc802f3f5de\">\n",
              "    <div class=\"colab-df-container\">\n",
              "      <div>\n",
              "<style scoped>\n",
              "    .dataframe tbody tr th:only-of-type {\n",
              "        vertical-align: middle;\n",
              "    }\n",
              "\n",
              "    .dataframe tbody tr th {\n",
              "        vertical-align: top;\n",
              "    }\n",
              "\n",
              "    .dataframe thead th {\n",
              "        text-align: right;\n",
              "    }\n",
              "</style>\n",
              "<table border=\"1\" class=\"dataframe\">\n",
              "  <thead>\n",
              "    <tr style=\"text-align: right;\">\n",
              "      <th></th>\n",
              "      <th>eval_loss</th>\n",
              "      <th>eval_accuracy</th>\n",
              "      <th>eval_f1_micro</th>\n",
              "      <th>eval_precision_micro</th>\n",
              "      <th>eval_recall_micro</th>\n",
              "      <th>eval_f1_macro</th>\n",
              "      <th>eval_precision_macro</th>\n",
              "      <th>eval_recall_macro</th>\n",
              "      <th>eval_nb_samples</th>\n",
              "    </tr>\n",
              "  </thead>\n",
              "  <tbody>\n",
              "    <tr>\n",
              "      <th>0</th>\n",
              "      <td>1.511865</td>\n",
              "      <td>0.191348</td>\n",
              "      <td>0.191348</td>\n",
              "      <td>0.191348</td>\n",
              "      <td>0.191348</td>\n",
              "      <td>0.151104</td>\n",
              "      <td>0.260287</td>\n",
              "      <td>0.251676</td>\n",
              "      <td>2404.0</td>\n",
              "    </tr>\n",
              "  </tbody>\n",
              "</table>\n",
              "</div>\n",
              "      <button class=\"colab-df-convert\" onclick=\"convertToInteractive('df-433a3ec0-8b0a-4f30-9dd1-0cc802f3f5de')\"\n",
              "              title=\"Convert this dataframe to an interactive table.\"\n",
              "              style=\"display:none;\">\n",
              "        \n",
              "  <svg xmlns=\"http://www.w3.org/2000/svg\" height=\"24px\"viewBox=\"0 0 24 24\"\n",
              "       width=\"24px\">\n",
              "    <path d=\"M0 0h24v24H0V0z\" fill=\"none\"/>\n",
              "    <path d=\"M18.56 5.44l.94 2.06.94-2.06 2.06-.94-2.06-.94-.94-2.06-.94 2.06-2.06.94zm-11 1L8.5 8.5l.94-2.06 2.06-.94-2.06-.94L8.5 2.5l-.94 2.06-2.06.94zm10 10l.94 2.06.94-2.06 2.06-.94-2.06-.94-.94-2.06-.94 2.06-2.06.94z\"/><path d=\"M17.41 7.96l-1.37-1.37c-.4-.4-.92-.59-1.43-.59-.52 0-1.04.2-1.43.59L10.3 9.45l-7.72 7.72c-.78.78-.78 2.05 0 2.83L4 21.41c.39.39.9.59 1.41.59.51 0 1.02-.2 1.41-.59l7.78-7.78 2.81-2.81c.8-.78.8-2.07 0-2.86zM5.41 20L4 18.59l7.72-7.72 1.47 1.35L5.41 20z\"/>\n",
              "  </svg>\n",
              "      </button>\n",
              "      \n",
              "  <style>\n",
              "    .colab-df-container {\n",
              "      display:flex;\n",
              "      flex-wrap:wrap;\n",
              "      gap: 12px;\n",
              "    }\n",
              "\n",
              "    .colab-df-convert {\n",
              "      background-color: #E8F0FE;\n",
              "      border: none;\n",
              "      border-radius: 50%;\n",
              "      cursor: pointer;\n",
              "      display: none;\n",
              "      fill: #1967D2;\n",
              "      height: 32px;\n",
              "      padding: 0 0 0 0;\n",
              "      width: 32px;\n",
              "    }\n",
              "\n",
              "    .colab-df-convert:hover {\n",
              "      background-color: #E2EBFA;\n",
              "      box-shadow: 0px 1px 2px rgba(60, 64, 67, 0.3), 0px 1px 3px 1px rgba(60, 64, 67, 0.15);\n",
              "      fill: #174EA6;\n",
              "    }\n",
              "\n",
              "    [theme=dark] .colab-df-convert {\n",
              "      background-color: #3B4455;\n",
              "      fill: #D2E3FC;\n",
              "    }\n",
              "\n",
              "    [theme=dark] .colab-df-convert:hover {\n",
              "      background-color: #434B5C;\n",
              "      box-shadow: 0px 1px 3px 1px rgba(0, 0, 0, 0.15);\n",
              "      filter: drop-shadow(0px 1px 2px rgba(0, 0, 0, 0.3));\n",
              "      fill: #FFFFFF;\n",
              "    }\n",
              "  </style>\n",
              "\n",
              "      <script>\n",
              "        const buttonEl =\n",
              "          document.querySelector('#df-433a3ec0-8b0a-4f30-9dd1-0cc802f3f5de button.colab-df-convert');\n",
              "        buttonEl.style.display =\n",
              "          google.colab.kernel.accessAllowed ? 'block' : 'none';\n",
              "\n",
              "        async function convertToInteractive(key) {\n",
              "          const element = document.querySelector('#df-433a3ec0-8b0a-4f30-9dd1-0cc802f3f5de');\n",
              "          const dataTable =\n",
              "            await google.colab.kernel.invokeFunction('convertToInteractive',\n",
              "                                                     [key], {});\n",
              "          if (!dataTable) return;\n",
              "\n",
              "          const docLinkHtml = 'Like what you see? Visit the ' +\n",
              "            '<a target=\"_blank\" href=https://colab.research.google.com/notebooks/data_table.ipynb>data table notebook</a>'\n",
              "            + ' to learn more about interactive tables.';\n",
              "          element.innerHTML = '';\n",
              "          dataTable['output_type'] = 'display_data';\n",
              "          await google.colab.output.renderOutput(dataTable, element);\n",
              "          const docLink = document.createElement('div');\n",
              "          docLink.innerHTML = docLinkHtml;\n",
              "          element.appendChild(docLink);\n",
              "        }\n",
              "      </script>\n",
              "    </div>\n",
              "  </div>\n",
              "  "
            ]
          },
          "metadata": {},
          "execution_count": 71
        }
      ]
    },
    {
      "cell_type": "code",
      "source": [
        "trainer.train() #Ram หมด"
      ],
      "metadata": {
        "colab": {
          "base_uri": "https://localhost:8080/",
          "height": 165
        },
        "id": "loE91f2YgKX2",
        "outputId": "1e05d83d-cb8c-4939-8838-5160bbac3be7"
      },
      "execution_count": null,
      "outputs": [
        {
          "output_type": "error",
          "ename": "NameError",
          "evalue": "ignored",
          "traceback": [
            "\u001b[0;31m---------------------------------------------------------------------------\u001b[0m",
            "\u001b[0;31mNameError\u001b[0m                                 Traceback (most recent call last)",
            "\u001b[0;32m<ipython-input-2-3435b262f1ae>\u001b[0m in \u001b[0;36m<module>\u001b[0;34m()\u001b[0m\n\u001b[0;32m----> 1\u001b[0;31m \u001b[0mtrainer\u001b[0m\u001b[0;34m.\u001b[0m\u001b[0mtrain\u001b[0m\u001b[0;34m(\u001b[0m\u001b[0;34m)\u001b[0m\u001b[0;34m\u001b[0m\u001b[0;34m\u001b[0m\u001b[0m\n\u001b[0m",
            "\u001b[0;31mNameError\u001b[0m: name 'trainer' is not defined"
          ]
        }
      ]
    },
    {
      "cell_type": "code",
      "source": [
        "preds  = trainer.predict(encoded_dataset['validation']) #Ram หมด\n",
        "pd.DataFrame.from_dict(preds[2],orient='index').transpose()"
      ],
      "metadata": {
        "colab": {
          "base_uri": "https://localhost:8080/",
          "height": 183
        },
        "id": "Cdr3byQOgNEn",
        "outputId": "91d76f09-c3ee-41e7-a685-cc5c2ca8fb6b"
      },
      "execution_count": null,
      "outputs": [
        {
          "output_type": "error",
          "ename": "NameError",
          "evalue": "ignored",
          "traceback": [
            "\u001b[0;31m---------------------------------------------------------------------------\u001b[0m",
            "\u001b[0;31mNameError\u001b[0m                                 Traceback (most recent call last)",
            "\u001b[0;32m<ipython-input-3-c5d60f377841>\u001b[0m in \u001b[0;36m<module>\u001b[0;34m()\u001b[0m\n\u001b[0;32m----> 1\u001b[0;31m \u001b[0mpreds\u001b[0m  \u001b[0;34m=\u001b[0m \u001b[0mtrainer\u001b[0m\u001b[0;34m.\u001b[0m\u001b[0mpredict\u001b[0m\u001b[0;34m(\u001b[0m\u001b[0mencoded_dataset\u001b[0m\u001b[0;34m[\u001b[0m\u001b[0;34m'validation'\u001b[0m\u001b[0;34m]\u001b[0m\u001b[0;34m)\u001b[0m\u001b[0;34m\u001b[0m\u001b[0;34m\u001b[0m\u001b[0m\n\u001b[0m\u001b[1;32m      2\u001b[0m \u001b[0mpd\u001b[0m\u001b[0;34m.\u001b[0m\u001b[0mDataFrame\u001b[0m\u001b[0;34m.\u001b[0m\u001b[0mfrom_dict\u001b[0m\u001b[0;34m(\u001b[0m\u001b[0mpreds\u001b[0m\u001b[0;34m[\u001b[0m\u001b[0;36m2\u001b[0m\u001b[0;34m]\u001b[0m\u001b[0;34m,\u001b[0m\u001b[0morient\u001b[0m\u001b[0;34m=\u001b[0m\u001b[0;34m'index'\u001b[0m\u001b[0;34m)\u001b[0m\u001b[0;34m.\u001b[0m\u001b[0mtranspose\u001b[0m\u001b[0;34m(\u001b[0m\u001b[0;34m)\u001b[0m\u001b[0;34m\u001b[0m\u001b[0;34m\u001b[0m\u001b[0m\n",
            "\u001b[0;31mNameError\u001b[0m: name 'trainer' is not defined"
          ]
        }
      ]
    }
  ]
}