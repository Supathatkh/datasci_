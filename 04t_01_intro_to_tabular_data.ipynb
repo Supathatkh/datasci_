{
  "cells": [
    {
      "cell_type": "markdown",
      "metadata": {
        "id": "view-in-github",
        "colab_type": "text"
      },
      "source": [
        "<a href=\"https://colab.research.google.com/github/Supathatkh/datasci_/blob/main/04t_01_intro_to_tabular_data.ipynb\" target=\"_parent\"><img src=\"https://colab.research.google.com/assets/colab-badge.svg\" alt=\"Open In Colab\"/></a>"
      ]
    },
    {
      "cell_type": "markdown",
      "metadata": {
        "id": "FgGbBJp7X42A"
      },
      "source": [
        "# บทที่ 4t (1/3) - Tabular Data คืออะไร \n",
        "\n",
        "อ.ดร.ธนชาตย์ ฤทธิ์บำรุง (อ.เชค)"
      ]
    },
    {
      "cell_type": "markdown",
      "metadata": {
        "id": "GpuHlmb4bwvs"
      },
      "source": [
        "[![Open In Colab](https://colab.research.google.com/assets/colab-badge.svg)](https://colab.research.google.com/github/ai-builders/curriculum/blob/main/notebooks/04t_01_intro_to_tabular_data.ipynb)"
      ]
    },
    {
      "cell_type": "markdown",
      "metadata": {
        "id": "OK6cXJPvYT6q"
      },
      "source": [
        "ในหัวข้อนี้ เราจะมาทำความรู้จักเกี่ยวกับ Tabular Data หรือ ข้อมูล ซึ่งเป็นโครงสร้างการเก็บข้อมูลพื้นฐานทั่วไปที่เรามักจะพบเจออยู่ตลอดเวลา"
      ]
    },
    {
      "cell_type": "markdown",
      "metadata": {
        "id": "8Ani_rWPZIJ9"
      },
      "source": [
        "**เป้าหมายการเรียนรู้**\n",
        "1. เข้าใจการเก็บข้อมูลในรูปแบบตาราง หรือ Tabular Data\n",
        "2. เข้าใจองค์ประกอบหลักของ Tabular Data\n",
        "3. สามารถออกแบบตารางเพื่อเก็บข้อมูลทั่วไปได้"
      ]
    },
    {
      "cell_type": "markdown",
      "metadata": {
        "id": "odEYdI7UZjHN"
      },
      "source": [
        "# Tabular Data"
      ]
    },
    {
      "cell_type": "markdown",
      "metadata": {
        "id": "j4EYT-cUZzt4"
      },
      "source": [
        "*   Tabular data หรือ ข้อมูลตาราง เป็นการจัดเก็บข้อมูลในรูปแบบโครางสร้าง 2 มิติ\n",
        "*   ตารางประกอบด้วย เซลล์ (Cell) คอลัมน์ (Column) และ แถว (Row)\n",
        "*   เซลล์ (Cell) เป็นหน่วยย่อยที่สุดของตารางและเป็นจุดตัดของ Column และ Row ทำหน้าที่ในการเก็บข้อมูล \n",
        "*   คอลัมน์ (Column) เป็นแถบแนวตั้งของ Cell\n",
        "*   แถว (Row) เป็นแถบแนวนอนของ Cell"
      ]
    },
    {
      "cell_type": "markdown",
      "metadata": {
        "id": "vsbosuqcw7Cy"
      },
      "source": [
        "<img src=https://github.com/ai-builders/curriculum/raw/main/images/tabular_images/01.png width=\"750px\">"
      ]
    },
    {
      "cell_type": "markdown",
      "metadata": {
        "id": "4R0_Okcig-o6"
      },
      "source": [
        "จากตัวอย่างด้านบน\n",
        "*   ตาราง ทำหน้าที่ในการเก็บข้อมูล บุคคล\n",
        "*   คอลัมน์ (Column) เป็นคุณสมบัติ หรือ คุณลักษณะของบุคคลที่เราสนใจอยากเก็บข้อมูล ซึ่งได้แก่ Name, Gender, Hometomn, Age, Scores\n",
        "*   แถว (Row) เป็นข้อมูลของแต่ละบุคคล\n",
        "*   โดยทั่วไปแล้ว คอลัมน์แรกจะทำหน้าที่เป็น ID หรือ Identifier เพื่อเป็นรหัสในการระบุข้อมูลแบบเจาะจงว่า ดังนั้น ID จะซ้ำไม่ได้"
      ]
    },
    {
      "cell_type": "markdown",
      "metadata": {
        "id": "WYx4sEJZIhnC"
      },
      "source": [
        "แหล่งตัวอย่างข้อมูล Tabular Data สามารถหาได้จาก\n",
        "https://www.kaggle.com/datasets"
      ]
    },
    {
      "cell_type": "markdown",
      "metadata": {
        "id": "DvbRqNrAh_1K"
      },
      "source": [
        "# ประเภทข้อมูล"
      ]
    },
    {
      "cell_type": "markdown",
      "metadata": {
        "id": "FdGkpgm_irXG"
      },
      "source": [
        "\n",
        "\n",
        "*   แต่ละ Column นั้น จะมีการกำหนดประเภทข้อมูล เพื่อให้การจัดเก็บข้อมูลมีความเป็นระเบียบ ถูกต้อง\n",
        "*   เช่น Column ที่จัดเก็บอายุ เมื่อกำหนดว่า Column นี้ เป็น Numerical แล้ว ถ้ามีความพยายามในการบันทึกข้อมูลเป็นตัวหนังสือ เช่น สิบห้าปี จะไม่สามารถบันทึกได้\n",
        "*   ทำให้ข้อมูลใน Column ที่ชื่อ Age จะมีแต่ตัวเลขจัดเก็บไว้เท่านั้น เราสามารถนำชุดตัวเลขนี้มาทำการวิเคราะห์ข้อมูลได้เลย ไม่ต้องมาแปลงจากตัวหนังสือ มาเป็นตัวเลขทีหลัง\n",
        "\n",
        "\n",
        "\n",
        "\n",
        "\n",
        "\n",
        "\n"
      ]
    },
    {
      "cell_type": "markdown",
      "metadata": {
        "id": "OrhI1thLjpXG"
      },
      "source": [
        "ตัวอย่างประเภทข้อมูลที่สำคัญใน Tabular Data\n",
        "\n",
        "*   Number เป็นข้อมูลประเภทตัวเลข โดยมี Integer เป็นข้อมูลประเภทจำนวนเต็ม และ Float เป็นข้อมูลประเภทเลขทศนิยม\n",
        "*   String เป็นข้อมูลประเภทตัวหนังสือ\n",
        "*   Date เป็นข้อมูลประเภทวันที่\n",
        "*   Date-Time เป็นข้อมูลประเภทวันที่และเวลา"
      ]
    },
    {
      "cell_type": "code",
      "execution_count": 12,
      "metadata": {
        "colab": {
          "base_uri": "https://localhost:8080/"
        },
        "id": "0psznMXGnLEq",
        "outputId": "64dd7e02-4e35-43ce-c908-ba7a2f501fee"
      },
      "outputs": [
        {
          "output_type": "stream",
          "name": "stdout",
          "text": [
            "1\n"
          ]
        },
        {
          "output_type": "execute_result",
          "data": {
            "text/plain": [
              "int"
            ]
          },
          "metadata": {},
          "execution_count": 12
        }
      ],
      "source": [
        "a = 1\n",
        "\n",
        "print(a)\n",
        "type(a)"
      ]
    },
    {
      "cell_type": "code",
      "execution_count": 13,
      "metadata": {
        "colab": {
          "base_uri": "https://localhost:8080/"
        },
        "id": "7S27gO0Nnh9q",
        "outputId": "8baa84bd-8b42-456d-b05e-8cae48300cd3"
      },
      "outputs": [
        {
          "output_type": "stream",
          "name": "stdout",
          "text": [
            "15.6\n"
          ]
        },
        {
          "output_type": "execute_result",
          "data": {
            "text/plain": [
              "float"
            ]
          },
          "metadata": {},
          "execution_count": 13
        }
      ],
      "source": [
        "b = 15.6\n",
        "\n",
        "print(b)\n",
        "type(b)"
      ]
    },
    {
      "cell_type": "code",
      "execution_count": 14,
      "metadata": {
        "colab": {
          "base_uri": "https://localhost:8080/"
        },
        "id": "s0JPFqK7nleb",
        "outputId": "c80cec8d-4371-45f3-d303-f29bc7591179"
      },
      "outputs": [
        {
          "output_type": "stream",
          "name": "stdout",
          "text": [
            "Hello World\n"
          ]
        },
        {
          "output_type": "execute_result",
          "data": {
            "text/plain": [
              "str"
            ]
          },
          "metadata": {},
          "execution_count": 14
        }
      ],
      "source": [
        "c = 'Hello World'\n",
        "\n",
        "print(c)\n",
        "type(c)"
      ]
    },
    {
      "cell_type": "code",
      "execution_count": 15,
      "metadata": {
        "colab": {
          "base_uri": "https://localhost:8080/"
        },
        "id": "ssBhNpYEnplf",
        "outputId": "a9359416-4227-4e95-870a-49c66532ebcc"
      },
      "outputs": [
        {
          "output_type": "stream",
          "name": "stdout",
          "text": [
            "1\n"
          ]
        },
        {
          "output_type": "execute_result",
          "data": {
            "text/plain": [
              "str"
            ]
          },
          "metadata": {},
          "execution_count": 15
        }
      ],
      "source": [
        "d = '1'\n",
        "\n",
        "print(d)\n",
        "type(d)"
      ]
    },
    {
      "cell_type": "code",
      "execution_count": 16,
      "metadata": {
        "colab": {
          "base_uri": "https://localhost:8080/"
        },
        "id": "FSFEvH_Pns00",
        "outputId": "2b1b0204-b15e-48fc-fd23-6114c203e3ae"
      },
      "outputs": [
        {
          "output_type": "stream",
          "name": "stdout",
          "text": [
            "2022-02-14\n"
          ]
        },
        {
          "output_type": "execute_result",
          "data": {
            "text/plain": [
              "datetime.date"
            ]
          },
          "metadata": {},
          "execution_count": 16
        }
      ],
      "source": [
        "import datetime\n",
        "\n",
        "e = datetime.date(2022,2,14)\n",
        "\n",
        "print(e)\n",
        "type(e)"
      ]
    },
    {
      "cell_type": "code",
      "execution_count": 17,
      "metadata": {
        "colab": {
          "base_uri": "https://localhost:8080/"
        },
        "id": "o5veL6MtpfMw",
        "outputId": "8593106b-48ff-4322-82e2-06d884505b7b"
      },
      "outputs": [
        {
          "output_type": "stream",
          "name": "stdout",
          "text": [
            "2022-02-14 10:20:30.000040\n"
          ]
        },
        {
          "output_type": "execute_result",
          "data": {
            "text/plain": [
              "datetime.datetime"
            ]
          },
          "metadata": {},
          "execution_count": 17
        }
      ],
      "source": [
        "import datetime\n",
        "\n",
        "f = datetime.datetime(2022,2,14,10,20,30,40)\n",
        "\n",
        "print(f)\n",
        "type(f)"
      ]
    },
    {
      "cell_type": "markdown",
      "metadata": {
        "id": "k7hWzZB0oc2F"
      },
      "source": [
        "# Pandas - Your good friend for tabular data"
      ]
    },
    {
      "cell_type": "markdown",
      "metadata": {
        "id": "SQ8FIqETorVw"
      },
      "source": [
        "Pandas เป็น Python Module ที่มี function ต่างๆ สำหรับการจัดการและการวิเคราะห์ข้อมูลประเภท Tabular Data"
      ]
    },
    {
      "cell_type": "markdown",
      "metadata": {
        "id": "pbrbQc36qaUc"
      },
      "source": [
        "Functionality ของ Pandas ได้แก่\n",
        "\n",
        "\n",
        "\n",
        "*   Create\n",
        "\n",
        "*   Read\n",
        "\n",
        "*   Combine\n",
        "\n",
        "*   Aggregate\n",
        "\n",
        "*   Transform\n",
        "\n",
        "*   Analyze\n",
        "\n",
        "*   Write\n",
        "\n",
        "\n",
        "\n",
        "\n",
        "\n"
      ]
    },
    {
      "cell_type": "markdown",
      "metadata": {
        "id": "NYCOQ1yiq7Wg"
      },
      "source": [
        "## Create Tabular Data"
      ]
    },
    {
      "cell_type": "markdown",
      "metadata": {
        "id": "J-DAMbzUrTUP"
      },
      "source": [
        "เราสามารถสร้าง Tabular Data จากคำสั่ง DataFrame ได้เลย\n",
        "\n",
        "https://pandas.pydata.org/docs/reference/api/pandas.DataFrame.html"
      ]
    },
    {
      "cell_type": "markdown",
      "metadata": {
        "id": "Ep2kb6IdxXqM"
      },
      "source": [
        "<img src=https://github.com/ai-builders/curriculum/raw/main/images/tabular_images/02.png width=\"750px\">"
      ]
    },
    {
      "cell_type": "code",
      "execution_count": 18,
      "metadata": {
        "colab": {
          "base_uri": "https://localhost:8080/"
        },
        "id": "N9NBHhFqrgW9",
        "outputId": "5a8be991-7776-4e95-f533-b142cb4c9bf3"
      },
      "outputs": [
        {
          "output_type": "stream",
          "name": "stdout",
          "text": [
            "    Name  Gender   Hometown  Age  Scores\n",
            "0    Bob    Male    Bangkok   16      90\n",
            "1  Alice  Female  Chiangmai   15      84\n",
            "2    Tom    Male   Khonkaen   14      78\n",
            "3    Tim    Male    Buriram   17      92\n",
            "4   Lisa  Female       Loei   16      88\n"
          ]
        }
      ],
      "source": [
        "## create pandas dataframe from dictionaries\n",
        "\n",
        "import pandas as pd\n",
        "\n",
        "row1 = {'Name': 'Bob', 'Gender': 'Male', 'Hometown': 'Bangkok', 'Age': 16, 'Scores': 90}\n",
        "row2 = {'Name': 'Alice', 'Gender': 'Female', 'Hometown': 'Chiangmai', 'Age': 15, 'Scores': 84}\n",
        "row3 = {'Name': 'Tom', 'Gender': 'Male', 'Hometown': 'Khonkaen', 'Age': 14, 'Scores': 78}\n",
        "row4 = {'Name': 'Tim', 'Gender': 'Male', 'Hometown': 'Buriram', 'Age': 17, 'Scores': 92}\n",
        "row5 = {'Name': 'Lisa', 'Gender': 'Female', 'Hometown': 'Loei', 'Age': 16, 'Scores': 88}\n",
        "\n",
        "df = pd.DataFrame([row1,\n",
        "                   row2,\n",
        "                   row3,\n",
        "                   row4,\n",
        "                   row5])\n",
        "\n",
        "print(df)"
      ]
    },
    {
      "cell_type": "code",
      "execution_count": 19,
      "metadata": {
        "colab": {
          "base_uri": "https://localhost:8080/"
        },
        "id": "LCWfkFQKtQ-L",
        "outputId": "f71c38f8-1e59-4ce1-f4d6-9a0b3861891e"
      },
      "outputs": [
        {
          "output_type": "stream",
          "name": "stdout",
          "text": [
            "    Name  Gender   Hometown  Age  Scores\n",
            "0    Bob    Male    Bangkok   16      90\n",
            "1  Alice  Female  Chiangmai   15      84\n",
            "2    Tom    Male   Khonkaen   14      78\n",
            "3    Tim    Male    Buriram   17      92\n",
            "4   Lisa  Female       Loei   16      88\n"
          ]
        }
      ],
      "source": [
        "## create pandas dataframe from lists\n",
        "\n",
        "import pandas as pd\n",
        "\n",
        "\n",
        "list1 = ['Bob',\t'Male',\t'Bangkok', 16,\t90]\n",
        "list2 = ['Alice',\t'Female',\t'Chiangmai', 15,\t84]\n",
        "list3 = ['Tom',\t'Male',\t'Khonkaen', 14,\t78]\n",
        "list4 = ['Tim',\t'Male',\t'Buriram', 17,\t92]\n",
        "list5 = ['Lisa',\t'Female',\t'Loei', 16,\t88]\n",
        "\n",
        "\n",
        "df = pd.DataFrame([list1,\n",
        "                   list2,\n",
        "                   list3,\n",
        "                   list4,\n",
        "                   list5], columns=['Name', 'Gender', 'Hometown', 'Age', 'Scores'])\n",
        "\n",
        "print(df)"
      ]
    },
    {
      "cell_type": "markdown",
      "metadata": {
        "id": "mHSvRvdKubH0"
      },
      "source": [
        "## Read Tabular Data"
      ]
    },
    {
      "cell_type": "markdown",
      "metadata": {
        "id": "J06ezeUyufms"
      },
      "source": [
        "โดยปกติ ข้อมูลรูปแบบ Tabular Data จะถูกจัดเก็บไว้ด้วย Microsoft Excel และจะถูกบันทึกเก็บไว้ในรูปแบบไฟล์ที่ชื่อว่า CSV หรือ Comma Separated Value\n",
        "\n",
        "ถ้าเราใช้ Notepad เปิดไฟล์ประเภท CSV นี้ เราจะเห็นว่าข้อมูลถูกเก็บไว้ในรูปแบบข้อมูลดิบ"
      ]
    },
    {
      "cell_type": "markdown",
      "metadata": {
        "id": "sfbdd7_3xbDk"
      },
      "source": [
        "<img src=https://github.com/ai-builders/curriculum/raw/main/images/tabular_images/03.png width=\"500px\">"
      ]
    },
    {
      "cell_type": "code",
      "execution_count": 20,
      "metadata": {
        "colab": {
          "base_uri": "https://localhost:8080/"
        },
        "id": "EVsoapucvbPL",
        "outputId": "53e9cb97-7892-468d-bd62-95ce3d3e0ab4"
      },
      "outputs": [
        {
          "output_type": "stream",
          "name": "stdout",
          "text": [
            "   ID   Name  Gender   Hometown  Age  Scores\n",
            "0   1    Bob    Male    Bangkok   16      90\n",
            "1   2  Alice  Female  Chiangmai   15      84\n",
            "2   3    Tom    Male   Khonkaen   14      78\n",
            "3   4    Tim    Male    Buriram   17      92\n",
            "4   5   Lisa  Female       Loei   16      88\n"
          ]
        }
      ],
      "source": [
        "## create pandas dataframe from a csv file\n",
        "\n",
        "import pandas as pd\n",
        "\n",
        "url = 'https://github.com/ai-builders/curriculum/raw/main/data/students.csv'\n",
        "df = pd.read_csv(url)\n",
        "\n",
        "print(df)"
      ]
    },
    {
      "cell_type": "markdown",
      "metadata": {
        "id": "GVaRoklLBMvE"
      },
      "source": [
        "### แสดงผลเฉพาะ Column ที่ต้องการ"
      ]
    },
    {
      "cell_type": "code",
      "execution_count": 21,
      "metadata": {
        "colab": {
          "base_uri": "https://localhost:8080/"
        },
        "id": "psgk5FZpA1fm",
        "outputId": "94242e87-05d4-4723-bb41-d21d25328747"
      },
      "outputs": [
        {
          "output_type": "stream",
          "name": "stdout",
          "text": [
            "0      Bob\n",
            "1    Alice\n",
            "2      Tom\n",
            "3      Tim\n",
            "4     Lisa\n",
            "Name: Name, dtype: object\n"
          ]
        }
      ],
      "source": [
        "print(df['Name'])"
      ]
    },
    {
      "cell_type": "code",
      "execution_count": 22,
      "metadata": {
        "colab": {
          "base_uri": "https://localhost:8080/"
        },
        "id": "nNKPg9tgA5UR",
        "outputId": "d7e46767-b9d8-4721-f6d0-2f22ad10824a"
      },
      "outputs": [
        {
          "output_type": "stream",
          "name": "stdout",
          "text": [
            "    Name  Age\n",
            "0    Bob   16\n",
            "1  Alice   15\n",
            "2    Tom   14\n",
            "3    Tim   17\n",
            "4   Lisa   16\n"
          ]
        }
      ],
      "source": [
        "print(df[['Name','Age']])"
      ]
    },
    {
      "cell_type": "markdown",
      "metadata": {
        "id": "Ny0uKgkjBTs0"
      },
      "source": [
        "### แสดงผลเฉพาะ Row ที่ต้องการ ตามเงื่อนไขที่ระบุ"
      ]
    },
    {
      "cell_type": "code",
      "execution_count": 23,
      "metadata": {
        "colab": {
          "base_uri": "https://localhost:8080/",
          "height": 112
        },
        "id": "CV5SS6GwB2wT",
        "outputId": "575892c0-83d1-42fa-e26a-4158eb8bb306"
      },
      "outputs": [
        {
          "output_type": "execute_result",
          "data": {
            "text/plain": [
              "   ID  Name  Gender Hometown  Age  Scores\n",
              "0   1   Bob    Male  Bangkok   16      90\n",
              "4   5  Lisa  Female     Loei   16      88"
            ],
            "text/html": [
              "\n",
              "  <div id=\"df-d3f2ca74-35de-4083-adc8-29afd9ef21a0\">\n",
              "    <div class=\"colab-df-container\">\n",
              "      <div>\n",
              "<style scoped>\n",
              "    .dataframe tbody tr th:only-of-type {\n",
              "        vertical-align: middle;\n",
              "    }\n",
              "\n",
              "    .dataframe tbody tr th {\n",
              "        vertical-align: top;\n",
              "    }\n",
              "\n",
              "    .dataframe thead th {\n",
              "        text-align: right;\n",
              "    }\n",
              "</style>\n",
              "<table border=\"1\" class=\"dataframe\">\n",
              "  <thead>\n",
              "    <tr style=\"text-align: right;\">\n",
              "      <th></th>\n",
              "      <th>ID</th>\n",
              "      <th>Name</th>\n",
              "      <th>Gender</th>\n",
              "      <th>Hometown</th>\n",
              "      <th>Age</th>\n",
              "      <th>Scores</th>\n",
              "    </tr>\n",
              "  </thead>\n",
              "  <tbody>\n",
              "    <tr>\n",
              "      <th>0</th>\n",
              "      <td>1</td>\n",
              "      <td>Bob</td>\n",
              "      <td>Male</td>\n",
              "      <td>Bangkok</td>\n",
              "      <td>16</td>\n",
              "      <td>90</td>\n",
              "    </tr>\n",
              "    <tr>\n",
              "      <th>4</th>\n",
              "      <td>5</td>\n",
              "      <td>Lisa</td>\n",
              "      <td>Female</td>\n",
              "      <td>Loei</td>\n",
              "      <td>16</td>\n",
              "      <td>88</td>\n",
              "    </tr>\n",
              "  </tbody>\n",
              "</table>\n",
              "</div>\n",
              "      <button class=\"colab-df-convert\" onclick=\"convertToInteractive('df-d3f2ca74-35de-4083-adc8-29afd9ef21a0')\"\n",
              "              title=\"Convert this dataframe to an interactive table.\"\n",
              "              style=\"display:none;\">\n",
              "        \n",
              "  <svg xmlns=\"http://www.w3.org/2000/svg\" height=\"24px\"viewBox=\"0 0 24 24\"\n",
              "       width=\"24px\">\n",
              "    <path d=\"M0 0h24v24H0V0z\" fill=\"none\"/>\n",
              "    <path d=\"M18.56 5.44l.94 2.06.94-2.06 2.06-.94-2.06-.94-.94-2.06-.94 2.06-2.06.94zm-11 1L8.5 8.5l.94-2.06 2.06-.94-2.06-.94L8.5 2.5l-.94 2.06-2.06.94zm10 10l.94 2.06.94-2.06 2.06-.94-2.06-.94-.94-2.06-.94 2.06-2.06.94z\"/><path d=\"M17.41 7.96l-1.37-1.37c-.4-.4-.92-.59-1.43-.59-.52 0-1.04.2-1.43.59L10.3 9.45l-7.72 7.72c-.78.78-.78 2.05 0 2.83L4 21.41c.39.39.9.59 1.41.59.51 0 1.02-.2 1.41-.59l7.78-7.78 2.81-2.81c.8-.78.8-2.07 0-2.86zM5.41 20L4 18.59l7.72-7.72 1.47 1.35L5.41 20z\"/>\n",
              "  </svg>\n",
              "      </button>\n",
              "      \n",
              "  <style>\n",
              "    .colab-df-container {\n",
              "      display:flex;\n",
              "      flex-wrap:wrap;\n",
              "      gap: 12px;\n",
              "    }\n",
              "\n",
              "    .colab-df-convert {\n",
              "      background-color: #E8F0FE;\n",
              "      border: none;\n",
              "      border-radius: 50%;\n",
              "      cursor: pointer;\n",
              "      display: none;\n",
              "      fill: #1967D2;\n",
              "      height: 32px;\n",
              "      padding: 0 0 0 0;\n",
              "      width: 32px;\n",
              "    }\n",
              "\n",
              "    .colab-df-convert:hover {\n",
              "      background-color: #E2EBFA;\n",
              "      box-shadow: 0px 1px 2px rgba(60, 64, 67, 0.3), 0px 1px 3px 1px rgba(60, 64, 67, 0.15);\n",
              "      fill: #174EA6;\n",
              "    }\n",
              "\n",
              "    [theme=dark] .colab-df-convert {\n",
              "      background-color: #3B4455;\n",
              "      fill: #D2E3FC;\n",
              "    }\n",
              "\n",
              "    [theme=dark] .colab-df-convert:hover {\n",
              "      background-color: #434B5C;\n",
              "      box-shadow: 0px 1px 3px 1px rgba(0, 0, 0, 0.15);\n",
              "      filter: drop-shadow(0px 1px 2px rgba(0, 0, 0, 0.3));\n",
              "      fill: #FFFFFF;\n",
              "    }\n",
              "  </style>\n",
              "\n",
              "      <script>\n",
              "        const buttonEl =\n",
              "          document.querySelector('#df-d3f2ca74-35de-4083-adc8-29afd9ef21a0 button.colab-df-convert');\n",
              "        buttonEl.style.display =\n",
              "          google.colab.kernel.accessAllowed ? 'block' : 'none';\n",
              "\n",
              "        async function convertToInteractive(key) {\n",
              "          const element = document.querySelector('#df-d3f2ca74-35de-4083-adc8-29afd9ef21a0');\n",
              "          const dataTable =\n",
              "            await google.colab.kernel.invokeFunction('convertToInteractive',\n",
              "                                                     [key], {});\n",
              "          if (!dataTable) return;\n",
              "\n",
              "          const docLinkHtml = 'Like what you see? Visit the ' +\n",
              "            '<a target=\"_blank\" href=https://colab.research.google.com/notebooks/data_table.ipynb>data table notebook</a>'\n",
              "            + ' to learn more about interactive tables.';\n",
              "          element.innerHTML = '';\n",
              "          dataTable['output_type'] = 'display_data';\n",
              "          await google.colab.output.renderOutput(dataTable, element);\n",
              "          const docLink = document.createElement('div');\n",
              "          docLink.innerHTML = docLinkHtml;\n",
              "          element.appendChild(docLink);\n",
              "        }\n",
              "      </script>\n",
              "    </div>\n",
              "  </div>\n",
              "  "
            ]
          },
          "metadata": {},
          "execution_count": 23
        }
      ],
      "source": [
        "# เงื่อนไขเดียว\n",
        "\n",
        "df[df['Age'] == 16]"
      ]
    },
    {
      "cell_type": "code",
      "execution_count": 24,
      "metadata": {
        "colab": {
          "base_uri": "https://localhost:8080/",
          "height": 81
        },
        "id": "XoI6FmshCGBM",
        "outputId": "0d5b8996-4854-48c1-d824-b9320ba37b26"
      },
      "outputs": [
        {
          "output_type": "execute_result",
          "data": {
            "text/plain": [
              "   ID Name Gender Hometown  Age  Scores\n",
              "0   1  Bob   Male  Bangkok   16      90"
            ],
            "text/html": [
              "\n",
              "  <div id=\"df-56279beb-f6a0-4bb5-81e1-d501b309f1f1\">\n",
              "    <div class=\"colab-df-container\">\n",
              "      <div>\n",
              "<style scoped>\n",
              "    .dataframe tbody tr th:only-of-type {\n",
              "        vertical-align: middle;\n",
              "    }\n",
              "\n",
              "    .dataframe tbody tr th {\n",
              "        vertical-align: top;\n",
              "    }\n",
              "\n",
              "    .dataframe thead th {\n",
              "        text-align: right;\n",
              "    }\n",
              "</style>\n",
              "<table border=\"1\" class=\"dataframe\">\n",
              "  <thead>\n",
              "    <tr style=\"text-align: right;\">\n",
              "      <th></th>\n",
              "      <th>ID</th>\n",
              "      <th>Name</th>\n",
              "      <th>Gender</th>\n",
              "      <th>Hometown</th>\n",
              "      <th>Age</th>\n",
              "      <th>Scores</th>\n",
              "    </tr>\n",
              "  </thead>\n",
              "  <tbody>\n",
              "    <tr>\n",
              "      <th>0</th>\n",
              "      <td>1</td>\n",
              "      <td>Bob</td>\n",
              "      <td>Male</td>\n",
              "      <td>Bangkok</td>\n",
              "      <td>16</td>\n",
              "      <td>90</td>\n",
              "    </tr>\n",
              "  </tbody>\n",
              "</table>\n",
              "</div>\n",
              "      <button class=\"colab-df-convert\" onclick=\"convertToInteractive('df-56279beb-f6a0-4bb5-81e1-d501b309f1f1')\"\n",
              "              title=\"Convert this dataframe to an interactive table.\"\n",
              "              style=\"display:none;\">\n",
              "        \n",
              "  <svg xmlns=\"http://www.w3.org/2000/svg\" height=\"24px\"viewBox=\"0 0 24 24\"\n",
              "       width=\"24px\">\n",
              "    <path d=\"M0 0h24v24H0V0z\" fill=\"none\"/>\n",
              "    <path d=\"M18.56 5.44l.94 2.06.94-2.06 2.06-.94-2.06-.94-.94-2.06-.94 2.06-2.06.94zm-11 1L8.5 8.5l.94-2.06 2.06-.94-2.06-.94L8.5 2.5l-.94 2.06-2.06.94zm10 10l.94 2.06.94-2.06 2.06-.94-2.06-.94-.94-2.06-.94 2.06-2.06.94z\"/><path d=\"M17.41 7.96l-1.37-1.37c-.4-.4-.92-.59-1.43-.59-.52 0-1.04.2-1.43.59L10.3 9.45l-7.72 7.72c-.78.78-.78 2.05 0 2.83L4 21.41c.39.39.9.59 1.41.59.51 0 1.02-.2 1.41-.59l7.78-7.78 2.81-2.81c.8-.78.8-2.07 0-2.86zM5.41 20L4 18.59l7.72-7.72 1.47 1.35L5.41 20z\"/>\n",
              "  </svg>\n",
              "      </button>\n",
              "      \n",
              "  <style>\n",
              "    .colab-df-container {\n",
              "      display:flex;\n",
              "      flex-wrap:wrap;\n",
              "      gap: 12px;\n",
              "    }\n",
              "\n",
              "    .colab-df-convert {\n",
              "      background-color: #E8F0FE;\n",
              "      border: none;\n",
              "      border-radius: 50%;\n",
              "      cursor: pointer;\n",
              "      display: none;\n",
              "      fill: #1967D2;\n",
              "      height: 32px;\n",
              "      padding: 0 0 0 0;\n",
              "      width: 32px;\n",
              "    }\n",
              "\n",
              "    .colab-df-convert:hover {\n",
              "      background-color: #E2EBFA;\n",
              "      box-shadow: 0px 1px 2px rgba(60, 64, 67, 0.3), 0px 1px 3px 1px rgba(60, 64, 67, 0.15);\n",
              "      fill: #174EA6;\n",
              "    }\n",
              "\n",
              "    [theme=dark] .colab-df-convert {\n",
              "      background-color: #3B4455;\n",
              "      fill: #D2E3FC;\n",
              "    }\n",
              "\n",
              "    [theme=dark] .colab-df-convert:hover {\n",
              "      background-color: #434B5C;\n",
              "      box-shadow: 0px 1px 3px 1px rgba(0, 0, 0, 0.15);\n",
              "      filter: drop-shadow(0px 1px 2px rgba(0, 0, 0, 0.3));\n",
              "      fill: #FFFFFF;\n",
              "    }\n",
              "  </style>\n",
              "\n",
              "      <script>\n",
              "        const buttonEl =\n",
              "          document.querySelector('#df-56279beb-f6a0-4bb5-81e1-d501b309f1f1 button.colab-df-convert');\n",
              "        buttonEl.style.display =\n",
              "          google.colab.kernel.accessAllowed ? 'block' : 'none';\n",
              "\n",
              "        async function convertToInteractive(key) {\n",
              "          const element = document.querySelector('#df-56279beb-f6a0-4bb5-81e1-d501b309f1f1');\n",
              "          const dataTable =\n",
              "            await google.colab.kernel.invokeFunction('convertToInteractive',\n",
              "                                                     [key], {});\n",
              "          if (!dataTable) return;\n",
              "\n",
              "          const docLinkHtml = 'Like what you see? Visit the ' +\n",
              "            '<a target=\"_blank\" href=https://colab.research.google.com/notebooks/data_table.ipynb>data table notebook</a>'\n",
              "            + ' to learn more about interactive tables.';\n",
              "          element.innerHTML = '';\n",
              "          dataTable['output_type'] = 'display_data';\n",
              "          await google.colab.output.renderOutput(dataTable, element);\n",
              "          const docLink = document.createElement('div');\n",
              "          docLink.innerHTML = docLinkHtml;\n",
              "          element.appendChild(docLink);\n",
              "        }\n",
              "      </script>\n",
              "    </div>\n",
              "  </div>\n",
              "  "
            ]
          },
          "metadata": {},
          "execution_count": 24
        }
      ],
      "source": [
        "# หลายเงื่อนไข AND\n",
        "\n",
        "df[(df['Age'] == 16) & (df['Scores'] >= 90)]"
      ]
    },
    {
      "cell_type": "code",
      "execution_count": 25,
      "metadata": {
        "colab": {
          "base_uri": "https://localhost:8080/",
          "height": 143
        },
        "id": "rZAKHwOlCaqX",
        "outputId": "5a20722b-75d4-4a4c-f788-b41af992b77d"
      },
      "outputs": [
        {
          "output_type": "execute_result",
          "data": {
            "text/plain": [
              "   ID  Name  Gender Hometown  Age  Scores\n",
              "0   1   Bob    Male  Bangkok   16      90\n",
              "3   4   Tim    Male  Buriram   17      92\n",
              "4   5  Lisa  Female     Loei   16      88"
            ],
            "text/html": [
              "\n",
              "  <div id=\"df-e854726b-1a84-46d7-ac3f-05f24abb877a\">\n",
              "    <div class=\"colab-df-container\">\n",
              "      <div>\n",
              "<style scoped>\n",
              "    .dataframe tbody tr th:only-of-type {\n",
              "        vertical-align: middle;\n",
              "    }\n",
              "\n",
              "    .dataframe tbody tr th {\n",
              "        vertical-align: top;\n",
              "    }\n",
              "\n",
              "    .dataframe thead th {\n",
              "        text-align: right;\n",
              "    }\n",
              "</style>\n",
              "<table border=\"1\" class=\"dataframe\">\n",
              "  <thead>\n",
              "    <tr style=\"text-align: right;\">\n",
              "      <th></th>\n",
              "      <th>ID</th>\n",
              "      <th>Name</th>\n",
              "      <th>Gender</th>\n",
              "      <th>Hometown</th>\n",
              "      <th>Age</th>\n",
              "      <th>Scores</th>\n",
              "    </tr>\n",
              "  </thead>\n",
              "  <tbody>\n",
              "    <tr>\n",
              "      <th>0</th>\n",
              "      <td>1</td>\n",
              "      <td>Bob</td>\n",
              "      <td>Male</td>\n",
              "      <td>Bangkok</td>\n",
              "      <td>16</td>\n",
              "      <td>90</td>\n",
              "    </tr>\n",
              "    <tr>\n",
              "      <th>3</th>\n",
              "      <td>4</td>\n",
              "      <td>Tim</td>\n",
              "      <td>Male</td>\n",
              "      <td>Buriram</td>\n",
              "      <td>17</td>\n",
              "      <td>92</td>\n",
              "    </tr>\n",
              "    <tr>\n",
              "      <th>4</th>\n",
              "      <td>5</td>\n",
              "      <td>Lisa</td>\n",
              "      <td>Female</td>\n",
              "      <td>Loei</td>\n",
              "      <td>16</td>\n",
              "      <td>88</td>\n",
              "    </tr>\n",
              "  </tbody>\n",
              "</table>\n",
              "</div>\n",
              "      <button class=\"colab-df-convert\" onclick=\"convertToInteractive('df-e854726b-1a84-46d7-ac3f-05f24abb877a')\"\n",
              "              title=\"Convert this dataframe to an interactive table.\"\n",
              "              style=\"display:none;\">\n",
              "        \n",
              "  <svg xmlns=\"http://www.w3.org/2000/svg\" height=\"24px\"viewBox=\"0 0 24 24\"\n",
              "       width=\"24px\">\n",
              "    <path d=\"M0 0h24v24H0V0z\" fill=\"none\"/>\n",
              "    <path d=\"M18.56 5.44l.94 2.06.94-2.06 2.06-.94-2.06-.94-.94-2.06-.94 2.06-2.06.94zm-11 1L8.5 8.5l.94-2.06 2.06-.94-2.06-.94L8.5 2.5l-.94 2.06-2.06.94zm10 10l.94 2.06.94-2.06 2.06-.94-2.06-.94-.94-2.06-.94 2.06-2.06.94z\"/><path d=\"M17.41 7.96l-1.37-1.37c-.4-.4-.92-.59-1.43-.59-.52 0-1.04.2-1.43.59L10.3 9.45l-7.72 7.72c-.78.78-.78 2.05 0 2.83L4 21.41c.39.39.9.59 1.41.59.51 0 1.02-.2 1.41-.59l7.78-7.78 2.81-2.81c.8-.78.8-2.07 0-2.86zM5.41 20L4 18.59l7.72-7.72 1.47 1.35L5.41 20z\"/>\n",
              "  </svg>\n",
              "      </button>\n",
              "      \n",
              "  <style>\n",
              "    .colab-df-container {\n",
              "      display:flex;\n",
              "      flex-wrap:wrap;\n",
              "      gap: 12px;\n",
              "    }\n",
              "\n",
              "    .colab-df-convert {\n",
              "      background-color: #E8F0FE;\n",
              "      border: none;\n",
              "      border-radius: 50%;\n",
              "      cursor: pointer;\n",
              "      display: none;\n",
              "      fill: #1967D2;\n",
              "      height: 32px;\n",
              "      padding: 0 0 0 0;\n",
              "      width: 32px;\n",
              "    }\n",
              "\n",
              "    .colab-df-convert:hover {\n",
              "      background-color: #E2EBFA;\n",
              "      box-shadow: 0px 1px 2px rgba(60, 64, 67, 0.3), 0px 1px 3px 1px rgba(60, 64, 67, 0.15);\n",
              "      fill: #174EA6;\n",
              "    }\n",
              "\n",
              "    [theme=dark] .colab-df-convert {\n",
              "      background-color: #3B4455;\n",
              "      fill: #D2E3FC;\n",
              "    }\n",
              "\n",
              "    [theme=dark] .colab-df-convert:hover {\n",
              "      background-color: #434B5C;\n",
              "      box-shadow: 0px 1px 3px 1px rgba(0, 0, 0, 0.15);\n",
              "      filter: drop-shadow(0px 1px 2px rgba(0, 0, 0, 0.3));\n",
              "      fill: #FFFFFF;\n",
              "    }\n",
              "  </style>\n",
              "\n",
              "      <script>\n",
              "        const buttonEl =\n",
              "          document.querySelector('#df-e854726b-1a84-46d7-ac3f-05f24abb877a button.colab-df-convert');\n",
              "        buttonEl.style.display =\n",
              "          google.colab.kernel.accessAllowed ? 'block' : 'none';\n",
              "\n",
              "        async function convertToInteractive(key) {\n",
              "          const element = document.querySelector('#df-e854726b-1a84-46d7-ac3f-05f24abb877a');\n",
              "          const dataTable =\n",
              "            await google.colab.kernel.invokeFunction('convertToInteractive',\n",
              "                                                     [key], {});\n",
              "          if (!dataTable) return;\n",
              "\n",
              "          const docLinkHtml = 'Like what you see? Visit the ' +\n",
              "            '<a target=\"_blank\" href=https://colab.research.google.com/notebooks/data_table.ipynb>data table notebook</a>'\n",
              "            + ' to learn more about interactive tables.';\n",
              "          element.innerHTML = '';\n",
              "          dataTable['output_type'] = 'display_data';\n",
              "          await google.colab.output.renderOutput(dataTable, element);\n",
              "          const docLink = document.createElement('div');\n",
              "          docLink.innerHTML = docLinkHtml;\n",
              "          element.appendChild(docLink);\n",
              "        }\n",
              "      </script>\n",
              "    </div>\n",
              "  </div>\n",
              "  "
            ]
          },
          "metadata": {},
          "execution_count": 25
        }
      ],
      "source": [
        "# หลายเงื่อนไข OR\n",
        "\n",
        "df[(df['Age'] == 16) | (df['Scores'] >= 90)]"
      ]
    },
    {
      "cell_type": "markdown",
      "metadata": {
        "id": "knzG7wGxCfX5"
      },
      "source": [
        "### แสดงผลเฉพาะ Column และ Row ที่ต้องการโดยการระบุตำแหน่ง"
      ]
    },
    {
      "cell_type": "code",
      "execution_count": 26,
      "metadata": {
        "colab": {
          "base_uri": "https://localhost:8080/",
          "height": 112
        },
        "id": "0i3NooI0BVd7",
        "outputId": "c15a8e03-758e-4cf1-bd85-a4186968816e"
      },
      "outputs": [
        {
          "output_type": "execute_result",
          "data": {
            "text/plain": [
              "   ID   Name\n",
              "1   2  Alice\n",
              "2   3    Tom"
            ],
            "text/html": [
              "\n",
              "  <div id=\"df-fecd6208-a854-49a7-b759-be8594eb94eb\">\n",
              "    <div class=\"colab-df-container\">\n",
              "      <div>\n",
              "<style scoped>\n",
              "    .dataframe tbody tr th:only-of-type {\n",
              "        vertical-align: middle;\n",
              "    }\n",
              "\n",
              "    .dataframe tbody tr th {\n",
              "        vertical-align: top;\n",
              "    }\n",
              "\n",
              "    .dataframe thead th {\n",
              "        text-align: right;\n",
              "    }\n",
              "</style>\n",
              "<table border=\"1\" class=\"dataframe\">\n",
              "  <thead>\n",
              "    <tr style=\"text-align: right;\">\n",
              "      <th></th>\n",
              "      <th>ID</th>\n",
              "      <th>Name</th>\n",
              "    </tr>\n",
              "  </thead>\n",
              "  <tbody>\n",
              "    <tr>\n",
              "      <th>1</th>\n",
              "      <td>2</td>\n",
              "      <td>Alice</td>\n",
              "    </tr>\n",
              "    <tr>\n",
              "      <th>2</th>\n",
              "      <td>3</td>\n",
              "      <td>Tom</td>\n",
              "    </tr>\n",
              "  </tbody>\n",
              "</table>\n",
              "</div>\n",
              "      <button class=\"colab-df-convert\" onclick=\"convertToInteractive('df-fecd6208-a854-49a7-b759-be8594eb94eb')\"\n",
              "              title=\"Convert this dataframe to an interactive table.\"\n",
              "              style=\"display:none;\">\n",
              "        \n",
              "  <svg xmlns=\"http://www.w3.org/2000/svg\" height=\"24px\"viewBox=\"0 0 24 24\"\n",
              "       width=\"24px\">\n",
              "    <path d=\"M0 0h24v24H0V0z\" fill=\"none\"/>\n",
              "    <path d=\"M18.56 5.44l.94 2.06.94-2.06 2.06-.94-2.06-.94-.94-2.06-.94 2.06-2.06.94zm-11 1L8.5 8.5l.94-2.06 2.06-.94-2.06-.94L8.5 2.5l-.94 2.06-2.06.94zm10 10l.94 2.06.94-2.06 2.06-.94-2.06-.94-.94-2.06-.94 2.06-2.06.94z\"/><path d=\"M17.41 7.96l-1.37-1.37c-.4-.4-.92-.59-1.43-.59-.52 0-1.04.2-1.43.59L10.3 9.45l-7.72 7.72c-.78.78-.78 2.05 0 2.83L4 21.41c.39.39.9.59 1.41.59.51 0 1.02-.2 1.41-.59l7.78-7.78 2.81-2.81c.8-.78.8-2.07 0-2.86zM5.41 20L4 18.59l7.72-7.72 1.47 1.35L5.41 20z\"/>\n",
              "  </svg>\n",
              "      </button>\n",
              "      \n",
              "  <style>\n",
              "    .colab-df-container {\n",
              "      display:flex;\n",
              "      flex-wrap:wrap;\n",
              "      gap: 12px;\n",
              "    }\n",
              "\n",
              "    .colab-df-convert {\n",
              "      background-color: #E8F0FE;\n",
              "      border: none;\n",
              "      border-radius: 50%;\n",
              "      cursor: pointer;\n",
              "      display: none;\n",
              "      fill: #1967D2;\n",
              "      height: 32px;\n",
              "      padding: 0 0 0 0;\n",
              "      width: 32px;\n",
              "    }\n",
              "\n",
              "    .colab-df-convert:hover {\n",
              "      background-color: #E2EBFA;\n",
              "      box-shadow: 0px 1px 2px rgba(60, 64, 67, 0.3), 0px 1px 3px 1px rgba(60, 64, 67, 0.15);\n",
              "      fill: #174EA6;\n",
              "    }\n",
              "\n",
              "    [theme=dark] .colab-df-convert {\n",
              "      background-color: #3B4455;\n",
              "      fill: #D2E3FC;\n",
              "    }\n",
              "\n",
              "    [theme=dark] .colab-df-convert:hover {\n",
              "      background-color: #434B5C;\n",
              "      box-shadow: 0px 1px 3px 1px rgba(0, 0, 0, 0.15);\n",
              "      filter: drop-shadow(0px 1px 2px rgba(0, 0, 0, 0.3));\n",
              "      fill: #FFFFFF;\n",
              "    }\n",
              "  </style>\n",
              "\n",
              "      <script>\n",
              "        const buttonEl =\n",
              "          document.querySelector('#df-fecd6208-a854-49a7-b759-be8594eb94eb button.colab-df-convert');\n",
              "        buttonEl.style.display =\n",
              "          google.colab.kernel.accessAllowed ? 'block' : 'none';\n",
              "\n",
              "        async function convertToInteractive(key) {\n",
              "          const element = document.querySelector('#df-fecd6208-a854-49a7-b759-be8594eb94eb');\n",
              "          const dataTable =\n",
              "            await google.colab.kernel.invokeFunction('convertToInteractive',\n",
              "                                                     [key], {});\n",
              "          if (!dataTable) return;\n",
              "\n",
              "          const docLinkHtml = 'Like what you see? Visit the ' +\n",
              "            '<a target=\"_blank\" href=https://colab.research.google.com/notebooks/data_table.ipynb>data table notebook</a>'\n",
              "            + ' to learn more about interactive tables.';\n",
              "          element.innerHTML = '';\n",
              "          dataTable['output_type'] = 'display_data';\n",
              "          await google.colab.output.renderOutput(dataTable, element);\n",
              "          const docLink = document.createElement('div');\n",
              "          docLink.innerHTML = docLinkHtml;\n",
              "          element.appendChild(docLink);\n",
              "        }\n",
              "      </script>\n",
              "    </div>\n",
              "  </div>\n",
              "  "
            ]
          },
          "metadata": {},
          "execution_count": 26
        }
      ],
      "source": [
        "df.iloc[1:3, :2]"
      ]
    },
    {
      "cell_type": "code",
      "execution_count": 27,
      "metadata": {
        "colab": {
          "base_uri": "https://localhost:8080/",
          "height": 112
        },
        "id": "XF7oCkULBekW",
        "outputId": "13156580-a05d-4704-9dca-e00830c554b1"
      },
      "outputs": [
        {
          "output_type": "execute_result",
          "data": {
            "text/plain": [
              "  Gender  Hometown  Age  Scores\n",
              "2   Male  Khonkaen   14      78\n",
              "3   Male   Buriram   17      92"
            ],
            "text/html": [
              "\n",
              "  <div id=\"df-dce0cd0d-f423-49c0-b0e5-dc8e007dfb32\">\n",
              "    <div class=\"colab-df-container\">\n",
              "      <div>\n",
              "<style scoped>\n",
              "    .dataframe tbody tr th:only-of-type {\n",
              "        vertical-align: middle;\n",
              "    }\n",
              "\n",
              "    .dataframe tbody tr th {\n",
              "        vertical-align: top;\n",
              "    }\n",
              "\n",
              "    .dataframe thead th {\n",
              "        text-align: right;\n",
              "    }\n",
              "</style>\n",
              "<table border=\"1\" class=\"dataframe\">\n",
              "  <thead>\n",
              "    <tr style=\"text-align: right;\">\n",
              "      <th></th>\n",
              "      <th>Gender</th>\n",
              "      <th>Hometown</th>\n",
              "      <th>Age</th>\n",
              "      <th>Scores</th>\n",
              "    </tr>\n",
              "  </thead>\n",
              "  <tbody>\n",
              "    <tr>\n",
              "      <th>2</th>\n",
              "      <td>Male</td>\n",
              "      <td>Khonkaen</td>\n",
              "      <td>14</td>\n",
              "      <td>78</td>\n",
              "    </tr>\n",
              "    <tr>\n",
              "      <th>3</th>\n",
              "      <td>Male</td>\n",
              "      <td>Buriram</td>\n",
              "      <td>17</td>\n",
              "      <td>92</td>\n",
              "    </tr>\n",
              "  </tbody>\n",
              "</table>\n",
              "</div>\n",
              "      <button class=\"colab-df-convert\" onclick=\"convertToInteractive('df-dce0cd0d-f423-49c0-b0e5-dc8e007dfb32')\"\n",
              "              title=\"Convert this dataframe to an interactive table.\"\n",
              "              style=\"display:none;\">\n",
              "        \n",
              "  <svg xmlns=\"http://www.w3.org/2000/svg\" height=\"24px\"viewBox=\"0 0 24 24\"\n",
              "       width=\"24px\">\n",
              "    <path d=\"M0 0h24v24H0V0z\" fill=\"none\"/>\n",
              "    <path d=\"M18.56 5.44l.94 2.06.94-2.06 2.06-.94-2.06-.94-.94-2.06-.94 2.06-2.06.94zm-11 1L8.5 8.5l.94-2.06 2.06-.94-2.06-.94L8.5 2.5l-.94 2.06-2.06.94zm10 10l.94 2.06.94-2.06 2.06-.94-2.06-.94-.94-2.06-.94 2.06-2.06.94z\"/><path d=\"M17.41 7.96l-1.37-1.37c-.4-.4-.92-.59-1.43-.59-.52 0-1.04.2-1.43.59L10.3 9.45l-7.72 7.72c-.78.78-.78 2.05 0 2.83L4 21.41c.39.39.9.59 1.41.59.51 0 1.02-.2 1.41-.59l7.78-7.78 2.81-2.81c.8-.78.8-2.07 0-2.86zM5.41 20L4 18.59l7.72-7.72 1.47 1.35L5.41 20z\"/>\n",
              "  </svg>\n",
              "      </button>\n",
              "      \n",
              "  <style>\n",
              "    .colab-df-container {\n",
              "      display:flex;\n",
              "      flex-wrap:wrap;\n",
              "      gap: 12px;\n",
              "    }\n",
              "\n",
              "    .colab-df-convert {\n",
              "      background-color: #E8F0FE;\n",
              "      border: none;\n",
              "      border-radius: 50%;\n",
              "      cursor: pointer;\n",
              "      display: none;\n",
              "      fill: #1967D2;\n",
              "      height: 32px;\n",
              "      padding: 0 0 0 0;\n",
              "      width: 32px;\n",
              "    }\n",
              "\n",
              "    .colab-df-convert:hover {\n",
              "      background-color: #E2EBFA;\n",
              "      box-shadow: 0px 1px 2px rgba(60, 64, 67, 0.3), 0px 1px 3px 1px rgba(60, 64, 67, 0.15);\n",
              "      fill: #174EA6;\n",
              "    }\n",
              "\n",
              "    [theme=dark] .colab-df-convert {\n",
              "      background-color: #3B4455;\n",
              "      fill: #D2E3FC;\n",
              "    }\n",
              "\n",
              "    [theme=dark] .colab-df-convert:hover {\n",
              "      background-color: #434B5C;\n",
              "      box-shadow: 0px 1px 3px 1px rgba(0, 0, 0, 0.15);\n",
              "      filter: drop-shadow(0px 1px 2px rgba(0, 0, 0, 0.3));\n",
              "      fill: #FFFFFF;\n",
              "    }\n",
              "  </style>\n",
              "\n",
              "      <script>\n",
              "        const buttonEl =\n",
              "          document.querySelector('#df-dce0cd0d-f423-49c0-b0e5-dc8e007dfb32 button.colab-df-convert');\n",
              "        buttonEl.style.display =\n",
              "          google.colab.kernel.accessAllowed ? 'block' : 'none';\n",
              "\n",
              "        async function convertToInteractive(key) {\n",
              "          const element = document.querySelector('#df-dce0cd0d-f423-49c0-b0e5-dc8e007dfb32');\n",
              "          const dataTable =\n",
              "            await google.colab.kernel.invokeFunction('convertToInteractive',\n",
              "                                                     [key], {});\n",
              "          if (!dataTable) return;\n",
              "\n",
              "          const docLinkHtml = 'Like what you see? Visit the ' +\n",
              "            '<a target=\"_blank\" href=https://colab.research.google.com/notebooks/data_table.ipynb>data table notebook</a>'\n",
              "            + ' to learn more about interactive tables.';\n",
              "          element.innerHTML = '';\n",
              "          dataTable['output_type'] = 'display_data';\n",
              "          await google.colab.output.renderOutput(dataTable, element);\n",
              "          const docLink = document.createElement('div');\n",
              "          docLink.innerHTML = docLinkHtml;\n",
              "          element.appendChild(docLink);\n",
              "        }\n",
              "      </script>\n",
              "    </div>\n",
              "  </div>\n",
              "  "
            ]
          },
          "metadata": {},
          "execution_count": 27
        }
      ],
      "source": [
        "df.iloc[2:-1, 2:]"
      ]
    },
    {
      "cell_type": "markdown",
      "metadata": {
        "id": "_AzuYIm9HZib"
      },
      "source": [
        "### แสดงประเภทข้อมูล"
      ]
    },
    {
      "cell_type": "code",
      "execution_count": 28,
      "metadata": {
        "colab": {
          "base_uri": "https://localhost:8080/"
        },
        "id": "Ae3qB5dJHiVC",
        "outputId": "6de02ece-d9de-41a3-b903-c64d9dfcb651"
      },
      "outputs": [
        {
          "output_type": "execute_result",
          "data": {
            "text/plain": [
              "ID           int64\n",
              "Name        object\n",
              "Gender      object\n",
              "Hometown    object\n",
              "Age          int64\n",
              "Scores       int64\n",
              "dtype: object"
            ]
          },
          "metadata": {},
          "execution_count": 28
        }
      ],
      "source": [
        "df.dtypes"
      ]
    },
    {
      "cell_type": "markdown",
      "metadata": {
        "id": "DLjRgkhB0S9u"
      },
      "source": [
        "## Combine Tabular Data"
      ]
    },
    {
      "cell_type": "markdown",
      "metadata": {
        "id": "z90GtTyR0WyY"
      },
      "source": [
        "*   เราสามารถรวมตารางข้อมูล 2 ตารางเข้าด้วยกันได้\n",
        "*   การรวมข้อมูล 2 ตาราง จะทำการอ้างอิงผ่าน ID\n",
        "\n"
      ]
    },
    {
      "cell_type": "markdown",
      "metadata": {
        "id": "oC3apqyl1ZJq"
      },
      "source": [
        "<img src=https://github.com/ai-builders/curriculum/raw/main/images/tabular_images/04.png width=\"750px\">\n",
        "\n",
        "https://pandas.pydata.org/docs/reference/api/pandas.DataFrame.merge.html"
      ]
    },
    {
      "cell_type": "code",
      "execution_count": 29,
      "metadata": {
        "colab": {
          "base_uri": "https://localhost:8080/"
        },
        "id": "3eKeZgXp0i2c",
        "outputId": "0c55c229-94f4-4117-c250-9ab35fafd050"
      },
      "outputs": [
        {
          "output_type": "stream",
          "name": "stdout",
          "text": [
            "df1\n",
            "   ID   Name  Gender   Hometown  Age  Scores\n",
            "0   1    Bob    Male    Bangkok   16      90\n",
            "1   2  Alice  Female  Chiangmai   15      84\n",
            "2   3    Tom    Male   Khonkaen   14      78\n",
            "3   4    Tim    Male    Buriram   17      92\n",
            "4   5   Lisa  Female       Loei   16      88\n",
            "\n",
            "df2\n",
            "   ID  TestNo  Rating\n",
            "0   2       1       3\n",
            "1   2       2       5\n",
            "2   3       1       4\n",
            "3   3       2       3\n",
            "4   3       3       5\n",
            "5   4       1       3\n",
            "6   5       1       4\n",
            "7   5       2       5\n",
            "8   6       1       2\n",
            "9   6       2       3\n"
          ]
        }
      ],
      "source": [
        "url1 = 'https://github.com/ai-builders/curriculum/raw/main/data/students.csv'\n",
        "df1 = pd.read_csv(url1)\n",
        "\n",
        "url2 = 'https://github.com/ai-builders/curriculum/raw/main/data/test-ratings.csv'\n",
        "df2 = pd.read_csv(url2)\n",
        "\n",
        "print('df1')\n",
        "print(df1)\n",
        "\n",
        "print('\\ndf2')\n",
        "print(df2)"
      ]
    },
    {
      "cell_type": "markdown",
      "metadata": {
        "id": "tz_zCgU458wN"
      },
      "source": [
        "### **Inner Join**\n",
        "<img src=https://github.com/ai-builders/curriculum/raw/main/images/tabular_images/05.PNG width=\"1000px\">"
      ]
    },
    {
      "cell_type": "code",
      "execution_count": 30,
      "metadata": {
        "colab": {
          "base_uri": "https://localhost:8080/"
        },
        "id": "uNbBrdsx0v6G",
        "outputId": "08f405b0-be16-4ceb-c781-5afafc10e11a"
      },
      "outputs": [
        {
          "output_type": "stream",
          "name": "stdout",
          "text": [
            "   ID   Name  Gender   Hometown  Age  Scores  TestNo  Rating\n",
            "0   2  Alice  Female  Chiangmai   15      84       1       3\n",
            "1   2  Alice  Female  Chiangmai   15      84       2       5\n",
            "2   3    Tom    Male   Khonkaen   14      78       1       4\n",
            "3   3    Tom    Male   Khonkaen   14      78       2       3\n",
            "4   3    Tom    Male   Khonkaen   14      78       3       5\n",
            "5   4    Tim    Male    Buriram   17      92       1       3\n",
            "6   5   Lisa  Female       Loei   16      88       1       4\n",
            "7   5   Lisa  Female       Loei   16      88       2       5\n"
          ]
        }
      ],
      "source": [
        "df_inner_join = df1.merge(df2, left_on='ID', right_on='ID', how='inner')\n",
        "\n",
        "print(df_inner_join)"
      ]
    },
    {
      "cell_type": "markdown",
      "metadata": {
        "id": "vKUwr30a6Oce"
      },
      "source": [
        "### **Left Join**\n",
        "<img src=https://github.com/ai-builders/curriculum/raw/main/images/tabular_images/06.PNG width=\"1000px\">"
      ]
    },
    {
      "cell_type": "code",
      "execution_count": 31,
      "metadata": {
        "colab": {
          "base_uri": "https://localhost:8080/"
        },
        "id": "owwLK0rO2PtJ",
        "outputId": "dfb206dd-e726-491f-cc7f-0adb0cf0b1cf"
      },
      "outputs": [
        {
          "output_type": "stream",
          "name": "stdout",
          "text": [
            "   ID   Name  Gender   Hometown  Age  Scores  TestNo  Rating\n",
            "0   1    Bob    Male    Bangkok   16      90     NaN     NaN\n",
            "1   2  Alice  Female  Chiangmai   15      84     1.0     3.0\n",
            "2   2  Alice  Female  Chiangmai   15      84     2.0     5.0\n",
            "3   3    Tom    Male   Khonkaen   14      78     1.0     4.0\n",
            "4   3    Tom    Male   Khonkaen   14      78     2.0     3.0\n",
            "5   3    Tom    Male   Khonkaen   14      78     3.0     5.0\n",
            "6   4    Tim    Male    Buriram   17      92     1.0     3.0\n",
            "7   5   Lisa  Female       Loei   16      88     1.0     4.0\n",
            "8   5   Lisa  Female       Loei   16      88     2.0     5.0\n"
          ]
        }
      ],
      "source": [
        "df_left_join = df1.merge(df2, left_on='ID', right_on='ID', how='left')\n",
        "\n",
        "print(df_left_join)"
      ]
    },
    {
      "cell_type": "markdown",
      "metadata": {
        "id": "H26JQVwj6S_k"
      },
      "source": [
        "### **Right Join**\n",
        "<img src=https://github.com/ai-builders/curriculum/raw/main/images/tabular_images/07.PNG width=\"1000px\">"
      ]
    },
    {
      "cell_type": "code",
      "execution_count": 32,
      "metadata": {
        "colab": {
          "base_uri": "https://localhost:8080/"
        },
        "id": "d9sF0CRO2QEw",
        "outputId": "abd91f04-9a70-4f19-d5a1-7fb864cb072b"
      },
      "outputs": [
        {
          "output_type": "stream",
          "name": "stdout",
          "text": [
            "   ID   Name  Gender   Hometown   Age  Scores  TestNo  Rating\n",
            "0   2  Alice  Female  Chiangmai  15.0    84.0       1       3\n",
            "1   2  Alice  Female  Chiangmai  15.0    84.0       2       5\n",
            "2   3    Tom    Male   Khonkaen  14.0    78.0       1       4\n",
            "3   3    Tom    Male   Khonkaen  14.0    78.0       2       3\n",
            "4   3    Tom    Male   Khonkaen  14.0    78.0       3       5\n",
            "5   4    Tim    Male    Buriram  17.0    92.0       1       3\n",
            "6   5   Lisa  Female       Loei  16.0    88.0       1       4\n",
            "7   5   Lisa  Female       Loei  16.0    88.0       2       5\n",
            "8   6    NaN     NaN        NaN   NaN     NaN       1       2\n",
            "9   6    NaN     NaN        NaN   NaN     NaN       2       3\n"
          ]
        }
      ],
      "source": [
        "df_right_join = df1.merge(df2, left_on='ID', right_on='ID', how='right')\n",
        "\n",
        "print(df_right_join)"
      ]
    },
    {
      "cell_type": "markdown",
      "metadata": {
        "id": "BfsNoOjd6V3N"
      },
      "source": [
        "### **Outer Join**\n",
        "<img src=https://github.com/ai-builders/curriculum/raw/main/images/tabular_images/08.PNG width=\"1000px\">"
      ]
    },
    {
      "cell_type": "code",
      "execution_count": 33,
      "metadata": {
        "colab": {
          "base_uri": "https://localhost:8080/"
        },
        "id": "SMmZn-iV3ZB-",
        "outputId": "25d05e77-bc63-49f4-bb62-4e9b84badcd2"
      },
      "outputs": [
        {
          "output_type": "stream",
          "name": "stdout",
          "text": [
            "    ID   Name  Gender   Hometown   Age  Scores  TestNo  Rating\n",
            "0    1    Bob    Male    Bangkok  16.0    90.0     NaN     NaN\n",
            "1    2  Alice  Female  Chiangmai  15.0    84.0     1.0     3.0\n",
            "2    2  Alice  Female  Chiangmai  15.0    84.0     2.0     5.0\n",
            "3    3    Tom    Male   Khonkaen  14.0    78.0     1.0     4.0\n",
            "4    3    Tom    Male   Khonkaen  14.0    78.0     2.0     3.0\n",
            "5    3    Tom    Male   Khonkaen  14.0    78.0     3.0     5.0\n",
            "6    4    Tim    Male    Buriram  17.0    92.0     1.0     3.0\n",
            "7    5   Lisa  Female       Loei  16.0    88.0     1.0     4.0\n",
            "8    5   Lisa  Female       Loei  16.0    88.0     2.0     5.0\n",
            "9    6    NaN     NaN        NaN   NaN     NaN     1.0     2.0\n",
            "10   6    NaN     NaN        NaN   NaN     NaN     2.0     3.0\n"
          ]
        }
      ],
      "source": [
        "df_outer_join = df1.merge(df2, left_on='ID', right_on='ID', how='outer')\n",
        "\n",
        "print(df_outer_join)"
      ]
    },
    {
      "cell_type": "markdown",
      "metadata": {
        "id": "wLnpJGv76kdi"
      },
      "source": [
        "## Aggregate Tabular Data"
      ]
    },
    {
      "cell_type": "markdown",
      "metadata": {
        "id": "beUR483r72x2"
      },
      "source": [
        "*   Aggregate เป็นขั้นตอนในการประมวลผลรวมข้อมูลหลายๆ แถว ให้เหลือเพียง 1 แถว\n",
        "*   เทคนิคในการประมวลผลรวมนั้น ได้แก่ การหาผลรวม การหาค่าเฉลี่ย การหาค่ามากสุด/น้อยสุด\n",
        "*   ในการประมวลผลรวมนั้น ต้องมีการกำหนดระดับความละเอียดที่ต้องการ\n",
        "\n"
      ]
    },
    {
      "cell_type": "markdown",
      "metadata": {
        "id": "N6DUL7n07ttF"
      },
      "source": [
        "<img src=https://github.com/ai-builders/curriculum/raw/main/images/tabular_images/09.png width=\"750px\">\n",
        "\n",
        "https://pandas.pydata.org/docs/reference/api/pandas.DataFrame.groupby.html"
      ]
    },
    {
      "cell_type": "code",
      "execution_count": 34,
      "metadata": {
        "colab": {
          "base_uri": "https://localhost:8080/",
          "height": 363
        },
        "id": "qFDEAK2LhZ6F",
        "outputId": "29956ff8-ba31-4436-a4d7-3251dec3a50e"
      },
      "outputs": [
        {
          "output_type": "execute_result",
          "data": {
            "text/plain": [
              "   ID  TestNo  Rating\n",
              "0   2       1       3\n",
              "1   2       2       5\n",
              "2   3       1       4\n",
              "3   3       2       3\n",
              "4   3       3       5\n",
              "5   4       1       3\n",
              "6   5       1       4\n",
              "7   5       2       5\n",
              "8   6       1       2\n",
              "9   6       2       3"
            ],
            "text/html": [
              "\n",
              "  <div id=\"df-33b28200-01d8-4c5a-84bb-494b9ce923e3\">\n",
              "    <div class=\"colab-df-container\">\n",
              "      <div>\n",
              "<style scoped>\n",
              "    .dataframe tbody tr th:only-of-type {\n",
              "        vertical-align: middle;\n",
              "    }\n",
              "\n",
              "    .dataframe tbody tr th {\n",
              "        vertical-align: top;\n",
              "    }\n",
              "\n",
              "    .dataframe thead th {\n",
              "        text-align: right;\n",
              "    }\n",
              "</style>\n",
              "<table border=\"1\" class=\"dataframe\">\n",
              "  <thead>\n",
              "    <tr style=\"text-align: right;\">\n",
              "      <th></th>\n",
              "      <th>ID</th>\n",
              "      <th>TestNo</th>\n",
              "      <th>Rating</th>\n",
              "    </tr>\n",
              "  </thead>\n",
              "  <tbody>\n",
              "    <tr>\n",
              "      <th>0</th>\n",
              "      <td>2</td>\n",
              "      <td>1</td>\n",
              "      <td>3</td>\n",
              "    </tr>\n",
              "    <tr>\n",
              "      <th>1</th>\n",
              "      <td>2</td>\n",
              "      <td>2</td>\n",
              "      <td>5</td>\n",
              "    </tr>\n",
              "    <tr>\n",
              "      <th>2</th>\n",
              "      <td>3</td>\n",
              "      <td>1</td>\n",
              "      <td>4</td>\n",
              "    </tr>\n",
              "    <tr>\n",
              "      <th>3</th>\n",
              "      <td>3</td>\n",
              "      <td>2</td>\n",
              "      <td>3</td>\n",
              "    </tr>\n",
              "    <tr>\n",
              "      <th>4</th>\n",
              "      <td>3</td>\n",
              "      <td>3</td>\n",
              "      <td>5</td>\n",
              "    </tr>\n",
              "    <tr>\n",
              "      <th>5</th>\n",
              "      <td>4</td>\n",
              "      <td>1</td>\n",
              "      <td>3</td>\n",
              "    </tr>\n",
              "    <tr>\n",
              "      <th>6</th>\n",
              "      <td>5</td>\n",
              "      <td>1</td>\n",
              "      <td>4</td>\n",
              "    </tr>\n",
              "    <tr>\n",
              "      <th>7</th>\n",
              "      <td>5</td>\n",
              "      <td>2</td>\n",
              "      <td>5</td>\n",
              "    </tr>\n",
              "    <tr>\n",
              "      <th>8</th>\n",
              "      <td>6</td>\n",
              "      <td>1</td>\n",
              "      <td>2</td>\n",
              "    </tr>\n",
              "    <tr>\n",
              "      <th>9</th>\n",
              "      <td>6</td>\n",
              "      <td>2</td>\n",
              "      <td>3</td>\n",
              "    </tr>\n",
              "  </tbody>\n",
              "</table>\n",
              "</div>\n",
              "      <button class=\"colab-df-convert\" onclick=\"convertToInteractive('df-33b28200-01d8-4c5a-84bb-494b9ce923e3')\"\n",
              "              title=\"Convert this dataframe to an interactive table.\"\n",
              "              style=\"display:none;\">\n",
              "        \n",
              "  <svg xmlns=\"http://www.w3.org/2000/svg\" height=\"24px\"viewBox=\"0 0 24 24\"\n",
              "       width=\"24px\">\n",
              "    <path d=\"M0 0h24v24H0V0z\" fill=\"none\"/>\n",
              "    <path d=\"M18.56 5.44l.94 2.06.94-2.06 2.06-.94-2.06-.94-.94-2.06-.94 2.06-2.06.94zm-11 1L8.5 8.5l.94-2.06 2.06-.94-2.06-.94L8.5 2.5l-.94 2.06-2.06.94zm10 10l.94 2.06.94-2.06 2.06-.94-2.06-.94-.94-2.06-.94 2.06-2.06.94z\"/><path d=\"M17.41 7.96l-1.37-1.37c-.4-.4-.92-.59-1.43-.59-.52 0-1.04.2-1.43.59L10.3 9.45l-7.72 7.72c-.78.78-.78 2.05 0 2.83L4 21.41c.39.39.9.59 1.41.59.51 0 1.02-.2 1.41-.59l7.78-7.78 2.81-2.81c.8-.78.8-2.07 0-2.86zM5.41 20L4 18.59l7.72-7.72 1.47 1.35L5.41 20z\"/>\n",
              "  </svg>\n",
              "      </button>\n",
              "      \n",
              "  <style>\n",
              "    .colab-df-container {\n",
              "      display:flex;\n",
              "      flex-wrap:wrap;\n",
              "      gap: 12px;\n",
              "    }\n",
              "\n",
              "    .colab-df-convert {\n",
              "      background-color: #E8F0FE;\n",
              "      border: none;\n",
              "      border-radius: 50%;\n",
              "      cursor: pointer;\n",
              "      display: none;\n",
              "      fill: #1967D2;\n",
              "      height: 32px;\n",
              "      padding: 0 0 0 0;\n",
              "      width: 32px;\n",
              "    }\n",
              "\n",
              "    .colab-df-convert:hover {\n",
              "      background-color: #E2EBFA;\n",
              "      box-shadow: 0px 1px 2px rgba(60, 64, 67, 0.3), 0px 1px 3px 1px rgba(60, 64, 67, 0.15);\n",
              "      fill: #174EA6;\n",
              "    }\n",
              "\n",
              "    [theme=dark] .colab-df-convert {\n",
              "      background-color: #3B4455;\n",
              "      fill: #D2E3FC;\n",
              "    }\n",
              "\n",
              "    [theme=dark] .colab-df-convert:hover {\n",
              "      background-color: #434B5C;\n",
              "      box-shadow: 0px 1px 3px 1px rgba(0, 0, 0, 0.15);\n",
              "      filter: drop-shadow(0px 1px 2px rgba(0, 0, 0, 0.3));\n",
              "      fill: #FFFFFF;\n",
              "    }\n",
              "  </style>\n",
              "\n",
              "      <script>\n",
              "        const buttonEl =\n",
              "          document.querySelector('#df-33b28200-01d8-4c5a-84bb-494b9ce923e3 button.colab-df-convert');\n",
              "        buttonEl.style.display =\n",
              "          google.colab.kernel.accessAllowed ? 'block' : 'none';\n",
              "\n",
              "        async function convertToInteractive(key) {\n",
              "          const element = document.querySelector('#df-33b28200-01d8-4c5a-84bb-494b9ce923e3');\n",
              "          const dataTable =\n",
              "            await google.colab.kernel.invokeFunction('convertToInteractive',\n",
              "                                                     [key], {});\n",
              "          if (!dataTable) return;\n",
              "\n",
              "          const docLinkHtml = 'Like what you see? Visit the ' +\n",
              "            '<a target=\"_blank\" href=https://colab.research.google.com/notebooks/data_table.ipynb>data table notebook</a>'\n",
              "            + ' to learn more about interactive tables.';\n",
              "          element.innerHTML = '';\n",
              "          dataTable['output_type'] = 'display_data';\n",
              "          await google.colab.output.renderOutput(dataTable, element);\n",
              "          const docLink = document.createElement('div');\n",
              "          docLink.innerHTML = docLinkHtml;\n",
              "          element.appendChild(docLink);\n",
              "        }\n",
              "      </script>\n",
              "    </div>\n",
              "  </div>\n",
              "  "
            ]
          },
          "metadata": {},
          "execution_count": 34
        }
      ],
      "source": [
        "df2"
      ]
    },
    {
      "cell_type": "code",
      "execution_count": 35,
      "metadata": {
        "colab": {
          "base_uri": "https://localhost:8080/"
        },
        "id": "w4D2rXvR7LRz",
        "outputId": "61376415-3c7b-42ac-92d7-d8dee6fba90f"
      },
      "outputs": [
        {
          "output_type": "stream",
          "name": "stdout",
          "text": [
            "    TestNo  Rating\n",
            "ID                \n",
            "2      1.5     4.0\n",
            "3      2.0     4.0\n",
            "4      1.0     3.0\n",
            "5      1.5     4.5\n",
            "6      1.5     2.5\n"
          ]
        }
      ],
      "source": [
        "df2_groupby_mean = df2.groupby(by=['ID']).mean()\n",
        "\n",
        "print(df2_groupby_mean)"
      ]
    },
    {
      "cell_type": "code",
      "execution_count": 36,
      "metadata": {
        "colab": {
          "base_uri": "https://localhost:8080/"
        },
        "id": "yf4WJdFX86Rp",
        "outputId": "5f3efe32-644b-4323-91f4-e2fa1e9c8ad4"
      },
      "outputs": [
        {
          "output_type": "stream",
          "name": "stdout",
          "text": [
            "   ID  TestNo  Rating\n",
            "0   2     1.5     4.0\n",
            "1   3     2.0     4.0\n",
            "2   4     1.0     3.0\n",
            "3   5     1.5     4.5\n",
            "4   6     1.5     2.5\n"
          ]
        }
      ],
      "source": [
        "df2_groupby_mean = df2.groupby(by=['ID']).mean().reset_index()\n",
        "\n",
        "print(df2_groupby_mean)"
      ]
    },
    {
      "cell_type": "markdown",
      "metadata": {
        "id": "GjVyw9Gp9KlE"
      },
      "source": [
        "<img src=https://github.com/ai-builders/curriculum/raw/main/images/tabular_images/10.png width=\"750px\">\n",
        "\n",
        "https://pandas.pydata.org/docs/reference/api/pandas.DataFrame.agg.html"
      ]
    },
    {
      "cell_type": "code",
      "execution_count": 37,
      "metadata": {
        "colab": {
          "base_uri": "https://localhost:8080/"
        },
        "id": "bJMWcsPN9NuJ",
        "outputId": "4ed52af6-b2ac-422f-d2da-b874790a297f"
      },
      "outputs": [
        {
          "output_type": "stream",
          "name": "stdout",
          "text": [
            "   ID  avg_rating  sum_rating  no_tests\n",
            "0   2         4.0           8         2\n",
            "1   3         4.0          12         3\n",
            "2   4         3.0           3         1\n",
            "3   5         4.5           9         2\n",
            "4   6         2.5           5         2\n"
          ]
        }
      ],
      "source": [
        "import numpy as np\n",
        "\n",
        "df2_groupby = df2.groupby(by=['ID']).agg(avg_rating = ('Rating', np.mean) , sum_rating = ('Rating', sum), no_tests = ('TestNo', np.count_nonzero)).reset_index()\n",
        "\n",
        "print(df2_groupby)"
      ]
    },
    {
      "cell_type": "code",
      "execution_count": 38,
      "metadata": {
        "colab": {
          "base_uri": "https://localhost:8080/"
        },
        "id": "i3a3rHrBACwO",
        "outputId": "0ba15e07-4c73-4dd6-bfe5-5716d053587e"
      },
      "outputs": [
        {
          "output_type": "stream",
          "name": "stdout",
          "text": [
            "   ID   Name  Gender   Hometown   Age  Scores  avg_rating  sum_rating  \\\n",
            "0   1    Bob    Male    Bangkok  16.0    90.0         NaN         NaN   \n",
            "1   2  Alice  Female  Chiangmai  15.0    84.0         4.0         8.0   \n",
            "2   3    Tom    Male   Khonkaen  14.0    78.0         4.0        12.0   \n",
            "3   4    Tim    Male    Buriram  17.0    92.0         3.0         3.0   \n",
            "4   5   Lisa  Female       Loei  16.0    88.0         4.5         9.0   \n",
            "5   6    NaN     NaN        NaN   NaN     NaN         2.5         5.0   \n",
            "\n",
            "   no_tests  \n",
            "0       NaN  \n",
            "1       2.0  \n",
            "2       3.0  \n",
            "3       1.0  \n",
            "4       2.0  \n",
            "5       2.0  \n"
          ]
        }
      ],
      "source": [
        "df_outer_join_same_detail = df1.merge(df2_groupby, left_on='ID', right_on='ID', how='outer')\n",
        "\n",
        "print(df_outer_join_same_detail)"
      ]
    },
    {
      "cell_type": "markdown",
      "metadata": {
        "id": "-gTnO4mz6ma0"
      },
      "source": [
        "## Transform Tabular Data"
      ]
    },
    {
      "cell_type": "markdown",
      "metadata": {
        "id": "aBTmWXrhFUXW"
      },
      "source": [
        "### From Long to Wide Format"
      ]
    },
    {
      "cell_type": "markdown",
      "metadata": {
        "id": "PR4_T6VLAfNz"
      },
      "source": [
        "<img src=https://github.com/ai-builders/curriculum/raw/main/images/tabular_images/11.png width=\"750px\">\n",
        "\n",
        "https://pandas.pydata.org/docs/reference/api/pandas.DataFrame.pivot_table.html"
      ]
    },
    {
      "cell_type": "code",
      "execution_count": 39,
      "metadata": {
        "colab": {
          "base_uri": "https://localhost:8080/",
          "height": 363
        },
        "id": "v5QCWkWSjSs8",
        "outputId": "58ffd712-aeca-46c4-f060-b67c91172d34"
      },
      "outputs": [
        {
          "output_type": "execute_result",
          "data": {
            "text/plain": [
              "   ID  TestNo  Rating\n",
              "0   2       1       3\n",
              "1   2       2       5\n",
              "2   3       1       4\n",
              "3   3       2       3\n",
              "4   3       3       5\n",
              "5   4       1       3\n",
              "6   5       1       4\n",
              "7   5       2       5\n",
              "8   6       1       2\n",
              "9   6       2       3"
            ],
            "text/html": [
              "\n",
              "  <div id=\"df-cdf88ac2-09cf-4dee-97d7-9f95d41694fb\">\n",
              "    <div class=\"colab-df-container\">\n",
              "      <div>\n",
              "<style scoped>\n",
              "    .dataframe tbody tr th:only-of-type {\n",
              "        vertical-align: middle;\n",
              "    }\n",
              "\n",
              "    .dataframe tbody tr th {\n",
              "        vertical-align: top;\n",
              "    }\n",
              "\n",
              "    .dataframe thead th {\n",
              "        text-align: right;\n",
              "    }\n",
              "</style>\n",
              "<table border=\"1\" class=\"dataframe\">\n",
              "  <thead>\n",
              "    <tr style=\"text-align: right;\">\n",
              "      <th></th>\n",
              "      <th>ID</th>\n",
              "      <th>TestNo</th>\n",
              "      <th>Rating</th>\n",
              "    </tr>\n",
              "  </thead>\n",
              "  <tbody>\n",
              "    <tr>\n",
              "      <th>0</th>\n",
              "      <td>2</td>\n",
              "      <td>1</td>\n",
              "      <td>3</td>\n",
              "    </tr>\n",
              "    <tr>\n",
              "      <th>1</th>\n",
              "      <td>2</td>\n",
              "      <td>2</td>\n",
              "      <td>5</td>\n",
              "    </tr>\n",
              "    <tr>\n",
              "      <th>2</th>\n",
              "      <td>3</td>\n",
              "      <td>1</td>\n",
              "      <td>4</td>\n",
              "    </tr>\n",
              "    <tr>\n",
              "      <th>3</th>\n",
              "      <td>3</td>\n",
              "      <td>2</td>\n",
              "      <td>3</td>\n",
              "    </tr>\n",
              "    <tr>\n",
              "      <th>4</th>\n",
              "      <td>3</td>\n",
              "      <td>3</td>\n",
              "      <td>5</td>\n",
              "    </tr>\n",
              "    <tr>\n",
              "      <th>5</th>\n",
              "      <td>4</td>\n",
              "      <td>1</td>\n",
              "      <td>3</td>\n",
              "    </tr>\n",
              "    <tr>\n",
              "      <th>6</th>\n",
              "      <td>5</td>\n",
              "      <td>1</td>\n",
              "      <td>4</td>\n",
              "    </tr>\n",
              "    <tr>\n",
              "      <th>7</th>\n",
              "      <td>5</td>\n",
              "      <td>2</td>\n",
              "      <td>5</td>\n",
              "    </tr>\n",
              "    <tr>\n",
              "      <th>8</th>\n",
              "      <td>6</td>\n",
              "      <td>1</td>\n",
              "      <td>2</td>\n",
              "    </tr>\n",
              "    <tr>\n",
              "      <th>9</th>\n",
              "      <td>6</td>\n",
              "      <td>2</td>\n",
              "      <td>3</td>\n",
              "    </tr>\n",
              "  </tbody>\n",
              "</table>\n",
              "</div>\n",
              "      <button class=\"colab-df-convert\" onclick=\"convertToInteractive('df-cdf88ac2-09cf-4dee-97d7-9f95d41694fb')\"\n",
              "              title=\"Convert this dataframe to an interactive table.\"\n",
              "              style=\"display:none;\">\n",
              "        \n",
              "  <svg xmlns=\"http://www.w3.org/2000/svg\" height=\"24px\"viewBox=\"0 0 24 24\"\n",
              "       width=\"24px\">\n",
              "    <path d=\"M0 0h24v24H0V0z\" fill=\"none\"/>\n",
              "    <path d=\"M18.56 5.44l.94 2.06.94-2.06 2.06-.94-2.06-.94-.94-2.06-.94 2.06-2.06.94zm-11 1L8.5 8.5l.94-2.06 2.06-.94-2.06-.94L8.5 2.5l-.94 2.06-2.06.94zm10 10l.94 2.06.94-2.06 2.06-.94-2.06-.94-.94-2.06-.94 2.06-2.06.94z\"/><path d=\"M17.41 7.96l-1.37-1.37c-.4-.4-.92-.59-1.43-.59-.52 0-1.04.2-1.43.59L10.3 9.45l-7.72 7.72c-.78.78-.78 2.05 0 2.83L4 21.41c.39.39.9.59 1.41.59.51 0 1.02-.2 1.41-.59l7.78-7.78 2.81-2.81c.8-.78.8-2.07 0-2.86zM5.41 20L4 18.59l7.72-7.72 1.47 1.35L5.41 20z\"/>\n",
              "  </svg>\n",
              "      </button>\n",
              "      \n",
              "  <style>\n",
              "    .colab-df-container {\n",
              "      display:flex;\n",
              "      flex-wrap:wrap;\n",
              "      gap: 12px;\n",
              "    }\n",
              "\n",
              "    .colab-df-convert {\n",
              "      background-color: #E8F0FE;\n",
              "      border: none;\n",
              "      border-radius: 50%;\n",
              "      cursor: pointer;\n",
              "      display: none;\n",
              "      fill: #1967D2;\n",
              "      height: 32px;\n",
              "      padding: 0 0 0 0;\n",
              "      width: 32px;\n",
              "    }\n",
              "\n",
              "    .colab-df-convert:hover {\n",
              "      background-color: #E2EBFA;\n",
              "      box-shadow: 0px 1px 2px rgba(60, 64, 67, 0.3), 0px 1px 3px 1px rgba(60, 64, 67, 0.15);\n",
              "      fill: #174EA6;\n",
              "    }\n",
              "\n",
              "    [theme=dark] .colab-df-convert {\n",
              "      background-color: #3B4455;\n",
              "      fill: #D2E3FC;\n",
              "    }\n",
              "\n",
              "    [theme=dark] .colab-df-convert:hover {\n",
              "      background-color: #434B5C;\n",
              "      box-shadow: 0px 1px 3px 1px rgba(0, 0, 0, 0.15);\n",
              "      filter: drop-shadow(0px 1px 2px rgba(0, 0, 0, 0.3));\n",
              "      fill: #FFFFFF;\n",
              "    }\n",
              "  </style>\n",
              "\n",
              "      <script>\n",
              "        const buttonEl =\n",
              "          document.querySelector('#df-cdf88ac2-09cf-4dee-97d7-9f95d41694fb button.colab-df-convert');\n",
              "        buttonEl.style.display =\n",
              "          google.colab.kernel.accessAllowed ? 'block' : 'none';\n",
              "\n",
              "        async function convertToInteractive(key) {\n",
              "          const element = document.querySelector('#df-cdf88ac2-09cf-4dee-97d7-9f95d41694fb');\n",
              "          const dataTable =\n",
              "            await google.colab.kernel.invokeFunction('convertToInteractive',\n",
              "                                                     [key], {});\n",
              "          if (!dataTable) return;\n",
              "\n",
              "          const docLinkHtml = 'Like what you see? Visit the ' +\n",
              "            '<a target=\"_blank\" href=https://colab.research.google.com/notebooks/data_table.ipynb>data table notebook</a>'\n",
              "            + ' to learn more about interactive tables.';\n",
              "          element.innerHTML = '';\n",
              "          dataTable['output_type'] = 'display_data';\n",
              "          await google.colab.output.renderOutput(dataTable, element);\n",
              "          const docLink = document.createElement('div');\n",
              "          docLink.innerHTML = docLinkHtml;\n",
              "          element.appendChild(docLink);\n",
              "        }\n",
              "      </script>\n",
              "    </div>\n",
              "  </div>\n",
              "  "
            ]
          },
          "metadata": {},
          "execution_count": 39
        }
      ],
      "source": [
        "df2"
      ]
    },
    {
      "cell_type": "code",
      "execution_count": 40,
      "metadata": {
        "colab": {
          "base_uri": "https://localhost:8080/"
        },
        "id": "xr_Qos16DJ5O",
        "outputId": "2238e420-3ae5-4f5c-a39b-c7c1154ae0a0"
      },
      "outputs": [
        {
          "output_type": "stream",
          "name": "stdout",
          "text": [
            "TestNo    1    2    3\n",
            "ID                   \n",
            "2       3.0  5.0  NaN\n",
            "3       4.0  3.0  5.0\n",
            "4       3.0  NaN  NaN\n",
            "5       4.0  5.0  NaN\n",
            "6       2.0  3.0  NaN\n"
          ]
        }
      ],
      "source": [
        "import numpy as np\n",
        "\n",
        "df2_pivot = df2.pivot_table(index='ID', columns='TestNo', values='Rating', aggfunc=np.mean)\n",
        "\n",
        "print(df2_pivot)"
      ]
    },
    {
      "cell_type": "code",
      "execution_count": 41,
      "metadata": {
        "colab": {
          "base_uri": "https://localhost:8080/"
        },
        "id": "MPgiSITTE7mQ",
        "outputId": "0647636c-9473-4c90-ce54-64cba43ac6e6"
      },
      "outputs": [
        {
          "output_type": "stream",
          "name": "stdout",
          "text": [
            "TestNo  ID    1    2    3\n",
            "0        2  3.0  5.0  NaN\n",
            "1        3  4.0  3.0  5.0\n",
            "2        4  3.0  NaN  NaN\n",
            "3        5  4.0  5.0  NaN\n",
            "4        6  2.0  3.0  NaN\n"
          ]
        }
      ],
      "source": [
        "df2_pivot = df2.pivot_table(index='ID', columns='TestNo', values='Rating', aggfunc=np.mean).reset_index()\n",
        "\n",
        "print(df2_pivot)"
      ]
    },
    {
      "cell_type": "markdown",
      "metadata": {
        "id": "_WaU3CqdFY2G"
      },
      "source": [
        "### From Wide to Long Format"
      ]
    },
    {
      "cell_type": "markdown",
      "metadata": {
        "id": "63gI1Fv_FcJo"
      },
      "source": [
        "<img src=https://github.com/ai-builders/curriculum/raw/main/images/tabular_images/12.png width=\"750px\">\n",
        "\n",
        "https://pandas.pydata.org/docs/reference/api/pandas.DataFrame.melt.html"
      ]
    },
    {
      "cell_type": "code",
      "execution_count": 42,
      "metadata": {
        "colab": {
          "base_uri": "https://localhost:8080/"
        },
        "id": "0F8ADpw3FbaR",
        "outputId": "3286c626-b5e5-4b40-9872-cf25f06109ce"
      },
      "outputs": [
        {
          "output_type": "stream",
          "name": "stdout",
          "text": [
            "    ID TestNo  Rating\n",
            "0    2      1     3.0\n",
            "1    3      1     4.0\n",
            "2    4      1     3.0\n",
            "3    5      1     4.0\n",
            "4    6      1     2.0\n",
            "5    2      2     5.0\n",
            "6    3      2     3.0\n",
            "7    4      2     NaN\n",
            "8    5      2     5.0\n",
            "9    6      2     3.0\n",
            "10   2      3     NaN\n",
            "11   3      3     5.0\n",
            "12   4      3     NaN\n",
            "13   5      3     NaN\n",
            "14   6      3     NaN\n"
          ]
        }
      ],
      "source": [
        "df2_pivot_melt = df2_pivot.melt(id_vars=['ID'], value_vars=[1, 2, 3], value_name='Rating')\n",
        "\n",
        "print(df2_pivot_melt)"
      ]
    },
    {
      "cell_type": "markdown",
      "metadata": {
        "id": "LOhbtS1T6qk7"
      },
      "source": [
        "## Analyze Tabular Data"
      ]
    },
    {
      "cell_type": "markdown",
      "metadata": {
        "id": "B-lNz8vGHQP8"
      },
      "source": [
        "*   pandas.DataFrame.sum\n",
        "*   pandas.DataFrame.mean\n",
        "*   pandas.DataFrame.median\n",
        "*   pandas.DataFrame.mode\n",
        "*   pandas.DataFrame.min\n",
        "*   pandas.DataFrame.max\n",
        "*   pandas.DataFrame.std\n",
        "*   pandas.DataFrame.value_counts\n",
        "*   pandas.DataFrame.corr\n",
        "*   pandas.DataFrame.plot"
      ]
    },
    {
      "cell_type": "code",
      "execution_count": 43,
      "metadata": {
        "colab": {
          "base_uri": "https://localhost:8080/"
        },
        "id": "5ZEoGc-xH4U2",
        "outputId": "00232d8f-b636-454d-ea0d-6e48812dd266"
      },
      "outputs": [
        {
          "output_type": "execute_result",
          "data": {
            "text/plain": [
              "ID          5\n",
              "Name        5\n",
              "Gender      5\n",
              "Hometown    5\n",
              "Age         5\n",
              "Scores      5\n",
              "dtype: int64"
            ]
          },
          "metadata": {},
          "execution_count": 43
        }
      ],
      "source": [
        "df.count()"
      ]
    },
    {
      "cell_type": "code",
      "execution_count": 44,
      "metadata": {
        "colab": {
          "base_uri": "https://localhost:8080/"
        },
        "id": "rPSbgbJgIAD0",
        "outputId": "72acf561-eeaa-4d66-e94c-d3282565ce15"
      },
      "outputs": [
        {
          "output_type": "execute_result",
          "data": {
            "text/plain": [
              "ID        15\n",
              "TestNo    15\n",
              "Rating    10\n",
              "dtype: int64"
            ]
          },
          "metadata": {},
          "execution_count": 44
        }
      ],
      "source": [
        "df2_pivot_melt.count()"
      ]
    },
    {
      "cell_type": "code",
      "execution_count": 45,
      "metadata": {
        "colab": {
          "base_uri": "https://localhost:8080/"
        },
        "id": "gTOs2o_CH2KT",
        "outputId": "e581a1f4-8d0a-4f2c-895d-d64d9382bf0f"
      },
      "outputs": [
        {
          "output_type": "stream",
          "name": "stderr",
          "text": [
            "/usr/local/lib/python3.7/dist-packages/ipykernel_launcher.py:1: FutureWarning: Dropping of nuisance columns in DataFrame reductions (with 'numeric_only=None') is deprecated; in a future version this will raise TypeError.  Select only valid columns before calling the reduction.\n",
            "  \"\"\"Entry point for launching an IPython kernel.\n"
          ]
        },
        {
          "output_type": "execute_result",
          "data": {
            "text/plain": [
              "ID         3.0\n",
              "Age       15.6\n",
              "Scores    86.4\n",
              "dtype: float64"
            ]
          },
          "metadata": {},
          "execution_count": 45
        }
      ],
      "source": [
        "df.mean()"
      ]
    },
    {
      "cell_type": "code",
      "execution_count": 46,
      "metadata": {
        "colab": {
          "base_uri": "https://localhost:8080/",
          "height": 143
        },
        "id": "ofDdlTUUIKEw",
        "outputId": "1d683c1a-65c0-420a-f098-4d12c36a549a"
      },
      "outputs": [
        {
          "output_type": "execute_result",
          "data": {
            "text/plain": [
              "              ID       Age    Scores\n",
              "ID      1.000000  0.277350  0.113961\n",
              "Age     0.277350  1.000000  0.979816\n",
              "Scores  0.113961  0.979816  1.000000"
            ],
            "text/html": [
              "\n",
              "  <div id=\"df-0e02c5ff-724a-4c8e-b462-7d585166914f\">\n",
              "    <div class=\"colab-df-container\">\n",
              "      <div>\n",
              "<style scoped>\n",
              "    .dataframe tbody tr th:only-of-type {\n",
              "        vertical-align: middle;\n",
              "    }\n",
              "\n",
              "    .dataframe tbody tr th {\n",
              "        vertical-align: top;\n",
              "    }\n",
              "\n",
              "    .dataframe thead th {\n",
              "        text-align: right;\n",
              "    }\n",
              "</style>\n",
              "<table border=\"1\" class=\"dataframe\">\n",
              "  <thead>\n",
              "    <tr style=\"text-align: right;\">\n",
              "      <th></th>\n",
              "      <th>ID</th>\n",
              "      <th>Age</th>\n",
              "      <th>Scores</th>\n",
              "    </tr>\n",
              "  </thead>\n",
              "  <tbody>\n",
              "    <tr>\n",
              "      <th>ID</th>\n",
              "      <td>1.000000</td>\n",
              "      <td>0.277350</td>\n",
              "      <td>0.113961</td>\n",
              "    </tr>\n",
              "    <tr>\n",
              "      <th>Age</th>\n",
              "      <td>0.277350</td>\n",
              "      <td>1.000000</td>\n",
              "      <td>0.979816</td>\n",
              "    </tr>\n",
              "    <tr>\n",
              "      <th>Scores</th>\n",
              "      <td>0.113961</td>\n",
              "      <td>0.979816</td>\n",
              "      <td>1.000000</td>\n",
              "    </tr>\n",
              "  </tbody>\n",
              "</table>\n",
              "</div>\n",
              "      <button class=\"colab-df-convert\" onclick=\"convertToInteractive('df-0e02c5ff-724a-4c8e-b462-7d585166914f')\"\n",
              "              title=\"Convert this dataframe to an interactive table.\"\n",
              "              style=\"display:none;\">\n",
              "        \n",
              "  <svg xmlns=\"http://www.w3.org/2000/svg\" height=\"24px\"viewBox=\"0 0 24 24\"\n",
              "       width=\"24px\">\n",
              "    <path d=\"M0 0h24v24H0V0z\" fill=\"none\"/>\n",
              "    <path d=\"M18.56 5.44l.94 2.06.94-2.06 2.06-.94-2.06-.94-.94-2.06-.94 2.06-2.06.94zm-11 1L8.5 8.5l.94-2.06 2.06-.94-2.06-.94L8.5 2.5l-.94 2.06-2.06.94zm10 10l.94 2.06.94-2.06 2.06-.94-2.06-.94-.94-2.06-.94 2.06-2.06.94z\"/><path d=\"M17.41 7.96l-1.37-1.37c-.4-.4-.92-.59-1.43-.59-.52 0-1.04.2-1.43.59L10.3 9.45l-7.72 7.72c-.78.78-.78 2.05 0 2.83L4 21.41c.39.39.9.59 1.41.59.51 0 1.02-.2 1.41-.59l7.78-7.78 2.81-2.81c.8-.78.8-2.07 0-2.86zM5.41 20L4 18.59l7.72-7.72 1.47 1.35L5.41 20z\"/>\n",
              "  </svg>\n",
              "      </button>\n",
              "      \n",
              "  <style>\n",
              "    .colab-df-container {\n",
              "      display:flex;\n",
              "      flex-wrap:wrap;\n",
              "      gap: 12px;\n",
              "    }\n",
              "\n",
              "    .colab-df-convert {\n",
              "      background-color: #E8F0FE;\n",
              "      border: none;\n",
              "      border-radius: 50%;\n",
              "      cursor: pointer;\n",
              "      display: none;\n",
              "      fill: #1967D2;\n",
              "      height: 32px;\n",
              "      padding: 0 0 0 0;\n",
              "      width: 32px;\n",
              "    }\n",
              "\n",
              "    .colab-df-convert:hover {\n",
              "      background-color: #E2EBFA;\n",
              "      box-shadow: 0px 1px 2px rgba(60, 64, 67, 0.3), 0px 1px 3px 1px rgba(60, 64, 67, 0.15);\n",
              "      fill: #174EA6;\n",
              "    }\n",
              "\n",
              "    [theme=dark] .colab-df-convert {\n",
              "      background-color: #3B4455;\n",
              "      fill: #D2E3FC;\n",
              "    }\n",
              "\n",
              "    [theme=dark] .colab-df-convert:hover {\n",
              "      background-color: #434B5C;\n",
              "      box-shadow: 0px 1px 3px 1px rgba(0, 0, 0, 0.15);\n",
              "      filter: drop-shadow(0px 1px 2px rgba(0, 0, 0, 0.3));\n",
              "      fill: #FFFFFF;\n",
              "    }\n",
              "  </style>\n",
              "\n",
              "      <script>\n",
              "        const buttonEl =\n",
              "          document.querySelector('#df-0e02c5ff-724a-4c8e-b462-7d585166914f button.colab-df-convert');\n",
              "        buttonEl.style.display =\n",
              "          google.colab.kernel.accessAllowed ? 'block' : 'none';\n",
              "\n",
              "        async function convertToInteractive(key) {\n",
              "          const element = document.querySelector('#df-0e02c5ff-724a-4c8e-b462-7d585166914f');\n",
              "          const dataTable =\n",
              "            await google.colab.kernel.invokeFunction('convertToInteractive',\n",
              "                                                     [key], {});\n",
              "          if (!dataTable) return;\n",
              "\n",
              "          const docLinkHtml = 'Like what you see? Visit the ' +\n",
              "            '<a target=\"_blank\" href=https://colab.research.google.com/notebooks/data_table.ipynb>data table notebook</a>'\n",
              "            + ' to learn more about interactive tables.';\n",
              "          element.innerHTML = '';\n",
              "          dataTable['output_type'] = 'display_data';\n",
              "          await google.colab.output.renderOutput(dataTable, element);\n",
              "          const docLink = document.createElement('div');\n",
              "          docLink.innerHTML = docLinkHtml;\n",
              "          element.appendChild(docLink);\n",
              "        }\n",
              "      </script>\n",
              "    </div>\n",
              "  </div>\n",
              "  "
            ]
          },
          "metadata": {},
          "execution_count": 46
        }
      ],
      "source": [
        "df.corr()"
      ]
    },
    {
      "cell_type": "code",
      "execution_count": 47,
      "metadata": {
        "colab": {
          "base_uri": "https://localhost:8080/",
          "height": 300
        },
        "id": "dIgL7fnwIPM3",
        "outputId": "ff3bcb07-fc26-48e1-cdf6-d35d537c271d"
      },
      "outputs": [
        {
          "output_type": "execute_result",
          "data": {
            "text/plain": [
              "             ID        Age     Scores\n",
              "count  5.000000   5.000000   5.000000\n",
              "mean   3.000000  15.600000  86.400000\n",
              "std    1.581139   1.140175   5.549775\n",
              "min    1.000000  14.000000  78.000000\n",
              "25%    2.000000  15.000000  84.000000\n",
              "50%    3.000000  16.000000  88.000000\n",
              "75%    4.000000  16.000000  90.000000\n",
              "max    5.000000  17.000000  92.000000"
            ],
            "text/html": [
              "\n",
              "  <div id=\"df-42611368-1b27-4fcb-b135-530901b7543d\">\n",
              "    <div class=\"colab-df-container\">\n",
              "      <div>\n",
              "<style scoped>\n",
              "    .dataframe tbody tr th:only-of-type {\n",
              "        vertical-align: middle;\n",
              "    }\n",
              "\n",
              "    .dataframe tbody tr th {\n",
              "        vertical-align: top;\n",
              "    }\n",
              "\n",
              "    .dataframe thead th {\n",
              "        text-align: right;\n",
              "    }\n",
              "</style>\n",
              "<table border=\"1\" class=\"dataframe\">\n",
              "  <thead>\n",
              "    <tr style=\"text-align: right;\">\n",
              "      <th></th>\n",
              "      <th>ID</th>\n",
              "      <th>Age</th>\n",
              "      <th>Scores</th>\n",
              "    </tr>\n",
              "  </thead>\n",
              "  <tbody>\n",
              "    <tr>\n",
              "      <th>count</th>\n",
              "      <td>5.000000</td>\n",
              "      <td>5.000000</td>\n",
              "      <td>5.000000</td>\n",
              "    </tr>\n",
              "    <tr>\n",
              "      <th>mean</th>\n",
              "      <td>3.000000</td>\n",
              "      <td>15.600000</td>\n",
              "      <td>86.400000</td>\n",
              "    </tr>\n",
              "    <tr>\n",
              "      <th>std</th>\n",
              "      <td>1.581139</td>\n",
              "      <td>1.140175</td>\n",
              "      <td>5.549775</td>\n",
              "    </tr>\n",
              "    <tr>\n",
              "      <th>min</th>\n",
              "      <td>1.000000</td>\n",
              "      <td>14.000000</td>\n",
              "      <td>78.000000</td>\n",
              "    </tr>\n",
              "    <tr>\n",
              "      <th>25%</th>\n",
              "      <td>2.000000</td>\n",
              "      <td>15.000000</td>\n",
              "      <td>84.000000</td>\n",
              "    </tr>\n",
              "    <tr>\n",
              "      <th>50%</th>\n",
              "      <td>3.000000</td>\n",
              "      <td>16.000000</td>\n",
              "      <td>88.000000</td>\n",
              "    </tr>\n",
              "    <tr>\n",
              "      <th>75%</th>\n",
              "      <td>4.000000</td>\n",
              "      <td>16.000000</td>\n",
              "      <td>90.000000</td>\n",
              "    </tr>\n",
              "    <tr>\n",
              "      <th>max</th>\n",
              "      <td>5.000000</td>\n",
              "      <td>17.000000</td>\n",
              "      <td>92.000000</td>\n",
              "    </tr>\n",
              "  </tbody>\n",
              "</table>\n",
              "</div>\n",
              "      <button class=\"colab-df-convert\" onclick=\"convertToInteractive('df-42611368-1b27-4fcb-b135-530901b7543d')\"\n",
              "              title=\"Convert this dataframe to an interactive table.\"\n",
              "              style=\"display:none;\">\n",
              "        \n",
              "  <svg xmlns=\"http://www.w3.org/2000/svg\" height=\"24px\"viewBox=\"0 0 24 24\"\n",
              "       width=\"24px\">\n",
              "    <path d=\"M0 0h24v24H0V0z\" fill=\"none\"/>\n",
              "    <path d=\"M18.56 5.44l.94 2.06.94-2.06 2.06-.94-2.06-.94-.94-2.06-.94 2.06-2.06.94zm-11 1L8.5 8.5l.94-2.06 2.06-.94-2.06-.94L8.5 2.5l-.94 2.06-2.06.94zm10 10l.94 2.06.94-2.06 2.06-.94-2.06-.94-.94-2.06-.94 2.06-2.06.94z\"/><path d=\"M17.41 7.96l-1.37-1.37c-.4-.4-.92-.59-1.43-.59-.52 0-1.04.2-1.43.59L10.3 9.45l-7.72 7.72c-.78.78-.78 2.05 0 2.83L4 21.41c.39.39.9.59 1.41.59.51 0 1.02-.2 1.41-.59l7.78-7.78 2.81-2.81c.8-.78.8-2.07 0-2.86zM5.41 20L4 18.59l7.72-7.72 1.47 1.35L5.41 20z\"/>\n",
              "  </svg>\n",
              "      </button>\n",
              "      \n",
              "  <style>\n",
              "    .colab-df-container {\n",
              "      display:flex;\n",
              "      flex-wrap:wrap;\n",
              "      gap: 12px;\n",
              "    }\n",
              "\n",
              "    .colab-df-convert {\n",
              "      background-color: #E8F0FE;\n",
              "      border: none;\n",
              "      border-radius: 50%;\n",
              "      cursor: pointer;\n",
              "      display: none;\n",
              "      fill: #1967D2;\n",
              "      height: 32px;\n",
              "      padding: 0 0 0 0;\n",
              "      width: 32px;\n",
              "    }\n",
              "\n",
              "    .colab-df-convert:hover {\n",
              "      background-color: #E2EBFA;\n",
              "      box-shadow: 0px 1px 2px rgba(60, 64, 67, 0.3), 0px 1px 3px 1px rgba(60, 64, 67, 0.15);\n",
              "      fill: #174EA6;\n",
              "    }\n",
              "\n",
              "    [theme=dark] .colab-df-convert {\n",
              "      background-color: #3B4455;\n",
              "      fill: #D2E3FC;\n",
              "    }\n",
              "\n",
              "    [theme=dark] .colab-df-convert:hover {\n",
              "      background-color: #434B5C;\n",
              "      box-shadow: 0px 1px 3px 1px rgba(0, 0, 0, 0.15);\n",
              "      filter: drop-shadow(0px 1px 2px rgba(0, 0, 0, 0.3));\n",
              "      fill: #FFFFFF;\n",
              "    }\n",
              "  </style>\n",
              "\n",
              "      <script>\n",
              "        const buttonEl =\n",
              "          document.querySelector('#df-42611368-1b27-4fcb-b135-530901b7543d button.colab-df-convert');\n",
              "        buttonEl.style.display =\n",
              "          google.colab.kernel.accessAllowed ? 'block' : 'none';\n",
              "\n",
              "        async function convertToInteractive(key) {\n",
              "          const element = document.querySelector('#df-42611368-1b27-4fcb-b135-530901b7543d');\n",
              "          const dataTable =\n",
              "            await google.colab.kernel.invokeFunction('convertToInteractive',\n",
              "                                                     [key], {});\n",
              "          if (!dataTable) return;\n",
              "\n",
              "          const docLinkHtml = 'Like what you see? Visit the ' +\n",
              "            '<a target=\"_blank\" href=https://colab.research.google.com/notebooks/data_table.ipynb>data table notebook</a>'\n",
              "            + ' to learn more about interactive tables.';\n",
              "          element.innerHTML = '';\n",
              "          dataTable['output_type'] = 'display_data';\n",
              "          await google.colab.output.renderOutput(dataTable, element);\n",
              "          const docLink = document.createElement('div');\n",
              "          docLink.innerHTML = docLinkHtml;\n",
              "          element.appendChild(docLink);\n",
              "        }\n",
              "      </script>\n",
              "    </div>\n",
              "  </div>\n",
              "  "
            ]
          },
          "metadata": {},
          "execution_count": 47
        }
      ],
      "source": [
        "df.describe()"
      ]
    },
    {
      "cell_type": "markdown",
      "metadata": {
        "id": "_dNwErnvJk0P"
      },
      "source": [
        "<img src=https://github.com/ai-builders/curriculum/raw/main/images/tabular_images/13.png width=\"750px\">\n",
        "\n",
        "https://pandas.pydata.org/docs/reference/api/pandas.DataFrame.plot.html"
      ]
    },
    {
      "cell_type": "code",
      "execution_count": 48,
      "metadata": {
        "colab": {
          "base_uri": "https://localhost:8080/",
          "height": 296
        },
        "id": "kI0D20EzIZpZ",
        "outputId": "3d5dc856-d0d9-4739-8f01-4ec9f3b23eba"
      },
      "outputs": [
        {
          "output_type": "execute_result",
          "data": {
            "text/plain": [
              "<matplotlib.axes._subplots.AxesSubplot at 0x7ff333d37550>"
            ]
          },
          "metadata": {},
          "execution_count": 48
        },
        {
          "output_type": "display_data",
          "data": {
            "text/plain": [
              "<Figure size 432x288 with 1 Axes>"
            ],
            "image/png": "[encoded data removed]"
          },
          "metadata": {
            "needs_background": "light"
          }
        }
      ],
      "source": [
        "df.plot(x='Age', y='Scores', kind='scatter')"
      ]
    },
    {
      "cell_type": "markdown",
      "metadata": {
        "id": "t9fX8nUX6sdw"
      },
      "source": [
        "## Write Tabular Data"
      ]
    },
    {
      "cell_type": "code",
      "execution_count": 49,
      "metadata": {
        "id": "-ST3Gq4OIkoE"
      },
      "outputs": [],
      "source": [
        "df_outer_join.to_csv('merged_file.csv')"
      ]
    },
    {
      "cell_type": "markdown",
      "metadata": {
        "id": "XL4RXRc6FAop"
      },
      "source": [
        "# Checkpoint ท้ายบท"
      ]
    },
    {
      "cell_type": "markdown",
      "metadata": {
        "id": "0vr4BULZFIwu"
      },
      "source": [
        "*   ☑️ เข้าใจองค์ประกอบหลักของ Tabular Data\n",
        "*   ☑️ สามารถออกแบบตารางเพื่อจัดเก็บข้อมูลได้\n",
        "*   ☑️ สามารถหาตัวอย่าง Tabular Data ได้\n",
        "*   ☑️ สามารถใช้ Pandas ในการจัดการและประมวลผล Tabular Data ได้"
      ]
    },
    {
      "cell_type": "markdown",
      "metadata": {
        "id": "RJBDm61EMIx6"
      },
      "source": [
        "# Exercise"
      ]
    },
    {
      "cell_type": "markdown",
      "metadata": {
        "id": "X2S1ijLZMKZn"
      },
      "source": [
        "หา Tabular Data ที่ตัวเองสนใจจาก https://www.kaggle.com/datasets แล้วลองทำการวิเคราะห์อย่างง่ายด้วย Pandas"
      ]
    }
  ],
  "metadata": {
    "colab": {
      "collapsed_sections": [],
      "name": "04t_01_intro_to_tabular_data.ipynb",
      "provenance": [],
      "include_colab_link": true
    },
    "kernelspec": {
      "display_name": "default:Python",
      "language": "python",
      "name": "conda-env-default-py"
    },
    "language_info": {
      "codemirror_mode": {
        "name": "ipython",
        "version": 3
      },
      "file_extension": ".py",
      "mimetype": "text/x-python",
      "name": "python",
      "nbconvert_exporter": "python",
      "pygments_lexer": "ipython3",
      "version": "3.9.7"
    }
  },
  "nbformat": 4,
  "nbformat_minor": 0
}