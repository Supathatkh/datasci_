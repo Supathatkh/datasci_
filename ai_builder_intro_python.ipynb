{
  "nbformat": 4,
  "nbformat_minor": 0,
  "metadata": {
    "colab": {
      "name": "ai_builder_intro_python.ipynb",
      "provenance": [],
      "collapsed_sections": [],
      "include_colab_link": true
    },
    "kernelspec": {
      "display_name": "Python 3",
      "language": "python",
      "name": "python3"
    },
    "language_info": {
      "codemirror_mode": {
        "name": "ipython",
        "version": 3
      },
      "file_extension": ".py",
      "mimetype": "text/x-python",
      "name": "python",
      "nbconvert_exporter": "python",
      "pygments_lexer": "ipython3",
      "version": "3.7.9"
    }
  },
  "cells": [
    {
      "cell_type": "markdown",
      "metadata": {
        "id": "view-in-github",
        "colab_type": "text"
      },
      "source": [
        "<a href=\"https://colab.research.google.com/github/Supathatkh/datasci_/blob/main/ai_builder_intro_python.ipynb\" target=\"_parent\"><img src=\"https://colab.research.google.com/assets/colab-badge.svg\" alt=\"Open In Colab\"/></a>"
      ]
    },
    {
      "cell_type": "markdown",
      "metadata": {
        "id": "a1B0Yys3BXjs"
      },
      "source": [
        "# Introduction to Python\n",
        "\n",
        "[![Open in Colab](https://colab.research.google.com/assets/colab-badge.svg)](https://colab.research.google.com/github/vistec-AI/ai-builders/blob/main/notebooks/ai_builder_intro_python.ipynb)"
      ]
    },
    {
      "cell_type": "markdown",
      "metadata": {
        "id": "zSTBjJrUsNjh"
      },
      "source": [
        "### But First, Learning Tips!\n",
        "\n",
        "1. Before clicking \\[ ▶ Run \\] to see the result from running the code, **make a guess of what the final result would be** before actually running it.\n",
        "2. **Do not be afraid to play around with code**: change them, re-run the code, and see if the new result meets your expectation.\n",
        "3. Got error messages? Relax. Even experienced programmers got these so-called bugs! **Pause for a few seconds and see why the code produces such error.**"
      ]
    },
    {
      "cell_type": "markdown",
      "metadata": {
        "id": "EUysvkwFAE4Y"
      },
      "source": [
        "## 1. Basic Arithmetics\n",
        "\n",
        "Python can run simple math expressions out of the box.\n",
        "So expressions like `2 + 2` will produce the final result 4.\n",
        "\n",
        "Try running the code below by hitting \\[ ▶ Run \\] button."
      ]
    },
    {
      "cell_type": "code",
      "metadata": {
        "id": "49uHsFau_6EV",
        "colab": {
          "base_uri": "https://localhost:8080/"
        },
        "outputId": "5fbaea10-2d3e-42e8-b8fe-1c0d8828c86c"
      },
      "source": [
        "2 + 2"
      ],
      "execution_count": 1,
      "outputs": [
        {
          "output_type": "execute_result",
          "data": {
            "text/plain": [
              "4"
            ]
          },
          "metadata": {},
          "execution_count": 1
        }
      ]
    },
    {
      "cell_type": "markdown",
      "metadata": {
        "id": "J4VZisvrvZus"
      },
      "source": [
        "Since there is no $\\times$ (times) and $\\div$ (divide) symbol on the keyword, we instead use symbols `*` and `/` instead."
      ]
    },
    {
      "cell_type": "code",
      "metadata": {
        "id": "H4rQ0UGeurJM",
        "colab": {
          "base_uri": "https://localhost:8080/"
        },
        "outputId": "b3f51923-d343-4208-d60a-7d0f0cf721f2"
      },
      "source": [
        "17 / 3"
      ],
      "execution_count": 2,
      "outputs": [
        {
          "output_type": "execute_result",
          "data": {
            "text/plain": [
              "5.666666666666667"
            ]
          },
          "metadata": {},
          "execution_count": 2
        }
      ]
    },
    {
      "cell_type": "code",
      "metadata": {
        "id": "RcdY6ZsUAIDt",
        "scrolled": false,
        "colab": {
          "base_uri": "https://localhost:8080/"
        },
        "outputId": "6a8fd720-b188-44c1-edb1-04f1f2e6052c"
      },
      "source": [
        "50 - 5 * 6"
      ],
      "execution_count": 3,
      "outputs": [
        {
          "output_type": "execute_result",
          "data": {
            "text/plain": [
              "20"
            ]
          },
          "metadata": {},
          "execution_count": 3
        }
      ]
    },
    {
      "cell_type": "markdown",
      "metadata": {
        "id": "_mPi0m45urJM"
      },
      "source": [
        "Notice that in the above code, multiplication `*` is evaluated before subtraction `-`. This is due to what is called the **order of precedence**.\n",
        "\n",
        "\n",
        "So if we want to do subtraction first, we need a pair of parentheses, `(` and `)`, just like in math!"
      ]
    },
    {
      "cell_type": "code",
      "metadata": {
        "id": "BgUOcTAturJM",
        "colab": {
          "base_uri": "https://localhost:8080/"
        },
        "outputId": "1d8a14c1-5b71-4a69-90d4-9fde020e7917"
      },
      "source": [
        "(50 - 5) * 6"
      ],
      "execution_count": 4,
      "outputs": [
        {
          "output_type": "execute_result",
          "data": {
            "text/plain": [
              "270"
            ]
          },
          "metadata": {},
          "execution_count": 4
        }
      ]
    },
    {
      "cell_type": "markdown",
      "metadata": {
        "id": "Jaqy2MI_urJN"
      },
      "source": [
        "### Example: Temperature Conversion\n",
        "\n",
        "Now for our very first application! Let’s say that a weather app tells us that the current weather in Galapagos Island is **100°F** (Farenheit). We want to know what is this temperature value in Celcius.\n",
        "\n",
        "We will use the following identity to help us with unit conversion:\n",
        "\n",
        "> $\\dfrac{C}{5} = \\dfrac{F - 32}{9} \\quad\\Longleftrightarrow\\quad C = \\dfrac{F - 32}{9} \\times 5$\n",
        "\n",
        "And below is the code to convert 100°F into °C."
      ]
    },
    {
      "cell_type": "code",
      "metadata": {
        "id": "3ibrAGDJurJN",
        "colab": {
          "base_uri": "https://localhost:8080/"
        },
        "outputId": "c58e635b-15a3-4feb-b42c-a80dc4d60ae1"
      },
      "source": [
        "((100 - 32) / 9) * 5"
      ],
      "execution_count": 5,
      "outputs": [
        {
          "output_type": "execute_result",
          "data": {
            "text/plain": [
              "37.77777777777778"
            ]
          },
          "metadata": {},
          "execution_count": 5
        }
      ]
    },
    {
      "cell_type": "markdown",
      "metadata": {
        "id": "Z0Rx4B6DurJN"
      },
      "source": [
        "Once you have got familiarity with the **order of precedence**, then you will notice that we can remove the redundant pair of parentheses:"
      ]
    },
    {
      "cell_type": "code",
      "metadata": {
        "id": "-eL8CGSSurJN",
        "colab": {
          "base_uri": "https://localhost:8080/"
        },
        "outputId": "40901d1e-2a75-455c-e62d-1bf14682bbe9"
      },
      "source": [
        "(100 - 32) / 9 * 5"
      ],
      "execution_count": 6,
      "outputs": [
        {
          "output_type": "execute_result",
          "data": {
            "text/plain": [
              "37.77777777777778"
            ]
          },
          "metadata": {},
          "execution_count": 6
        }
      ]
    },
    {
      "cell_type": "markdown",
      "metadata": {
        "id": "zJrTqwCzurJN"
      },
      "source": [
        "### Example: Compound Interest (Exponentiation)\n",
        "\n",
        "Suppose that we have **THB 10,000** (Thai Baht) in a savings account. Every year we receive **3% interest**, which is then compounded into your account for the subsequent year. If we leave our account alone for **12 years**, how much total money would we have at the end?\n",
        "\n",
        "The answer is THB $10000 \\times 1.03^{12}$ (with some rounding errors). Translating this into the Python code as follows."
      ]
    },
    {
      "cell_type": "code",
      "metadata": {
        "id": "N14F6eXnurJO",
        "colab": {
          "base_uri": "https://localhost:8080/"
        },
        "outputId": "07dc50fd-6ed3-41c2-f85f-fbf552fba51f"
      },
      "source": [
        "10_000 * 1.03 * 1.03 * 1.03 * 1.03 * 1.03 * 1.03 * 1.03 * 1.03 * 1.03 * 1.03 * 1.03 *1.03"
      ],
      "execution_count": 7,
      "outputs": [
        {
          "output_type": "execute_result",
          "data": {
            "text/plain": [
              "14257.60886846179"
            ]
          },
          "metadata": {},
          "execution_count": 7
        }
      ]
    },
    {
      "cell_type": "markdown",
      "metadata": {
        "id": "PxN5l_E1urJO"
      },
      "source": [
        "You should have got approximately 14257.61 THB as the result (if not, check the work again).\n",
        "\n",
        "Yes, the above code looks very tiring. Luckily, we can use the `**` operator to perform exponentiation for us."
      ]
    },
    {
      "cell_type": "code",
      "metadata": {
        "id": "XmNV2KZburJO",
        "colab": {
          "base_uri": "https://localhost:8080/"
        },
        "outputId": "282f4bac-9c3f-4cee-e68c-aa25d741d81d"
      },
      "source": [
        "10_000 * 1.03 ** 12"
      ],
      "execution_count": 8,
      "outputs": [
        {
          "output_type": "execute_result",
          "data": {
            "text/plain": [
              "14257.608868461793"
            ]
          },
          "metadata": {},
          "execution_count": 8
        }
      ]
    },
    {
      "cell_type": "markdown",
      "metadata": {
        "id": "9NRe0EkMqhDE"
      },
      "source": [
        "**Tips:** The exponentiation also works for negative numbers. Do the results below surprise you?"
      ]
    },
    {
      "cell_type": "code",
      "metadata": {
        "id": "ZrN1YVt4urJO",
        "colab": {
          "base_uri": "https://localhost:8080/"
        },
        "outputId": "4546a5b9-3186-4030-a1d3-cd743ba91d86"
      },
      "source": [
        "5 ** -1"
      ],
      "execution_count": 9,
      "outputs": [
        {
          "output_type": "execute_result",
          "data": {
            "text/plain": [
              "0.2"
            ]
          },
          "metadata": {},
          "execution_count": 9
        }
      ]
    },
    {
      "cell_type": "code",
      "metadata": {
        "id": "lMqlsNQ7qoM4",
        "colab": {
          "base_uri": "https://localhost:8080/"
        },
        "outputId": "665d75b5-536a-484b-802c-85644b5658b3"
      },
      "source": [
        "(-2) ** 0.5"
      ],
      "execution_count": 10,
      "outputs": [
        {
          "output_type": "execute_result",
          "data": {
            "text/plain": [
              "(8.659560562354934e-17+1.4142135623730951j)"
            ]
          },
          "metadata": {},
          "execution_count": 10
        }
      ]
    },
    {
      "cell_type": "markdown",
      "metadata": {
        "id": "b3JCPyU0urJO"
      },
      "source": [
        "### Aside: Real Division vs Integer Division\n",
        "\n",
        "Recall that the result of `17 / 3` from above produces a real number result.  \n",
        "But what if you want the final _without the fractional part_ (also called a **quotient**)?\n",
        "\n",
        "The answer is to use the `//` operator."
      ]
    },
    {
      "cell_type": "code",
      "metadata": {
        "id": "8V-FeZGlurJP",
        "colab": {
          "base_uri": "https://localhost:8080/"
        },
        "outputId": "aa98b1b0-5314-443a-e410-42166c9963be"
      },
      "source": [
        "17 // 3"
      ],
      "execution_count": 11,
      "outputs": [
        {
          "output_type": "execute_result",
          "data": {
            "text/plain": [
              "5"
            ]
          },
          "metadata": {},
          "execution_count": 11
        }
      ]
    },
    {
      "cell_type": "markdown",
      "metadata": {
        "id": "GTBwqOJAurJP"
      },
      "source": [
        "What about the **remainder** of the above division? Can we compute this value?\n",
        "\n",
        "One way to look at this is to consider the equation $17 = 5 \\times 3 + 2$, which gives us the remainder value 2.\n",
        "\n",
        "Let’s work backward in order to obtain the formula that we can use in our code. Suppose that $A$ (_Thai._ ตังตั้ง) divided by $B$ (_Thai._ ตัวหาร) produces the **quotient** $Q$ (_Thai._ ผลหาร) and the **remainder** $R$ (_Thai._ เศษ). So we have the follow equation.\n",
        "\n",
        "> $A = Q \\times B + R \\quad \\Longleftrightarrow \\quad R = A - Q \\times B$\n",
        "\n",
        "And here is the Python code to compute the remainder from dividing 17 by 3."
      ]
    },
    {
      "cell_type": "code",
      "metadata": {
        "id": "R0MVhYoNurJP",
        "colab": {
          "base_uri": "https://localhost:8080/"
        },
        "outputId": "652296c8-7c04-455e-fd39-ce77f45a0a6d"
      },
      "source": [
        "17 - (17 // 3) * 3"
      ],
      "execution_count": 12,
      "outputs": [
        {
          "output_type": "execute_result",
          "data": {
            "text/plain": [
              "2"
            ]
          },
          "metadata": {},
          "execution_count": 12
        }
      ]
    },
    {
      "cell_type": "markdown",
      "metadata": {
        "id": "MsmkDOZAurJP"
      },
      "source": [
        "Whew, that was a lot of work! Luckily, we can achieve the same result simply by using the **modulo** operator: `%`."
      ]
    },
    {
      "cell_type": "code",
      "metadata": {
        "id": "iPH5Hz00urJP",
        "colab": {
          "base_uri": "https://localhost:8080/"
        },
        "outputId": "8784bfb2-f314-4ea4-d9bf-616711d54132"
      },
      "source": [
        "17 % 3"
      ],
      "execution_count": 13,
      "outputs": [
        {
          "output_type": "execute_result",
          "data": {
            "text/plain": [
              "2"
            ]
          },
          "metadata": {},
          "execution_count": 13
        }
      ]
    },
    {
      "cell_type": "markdown",
      "metadata": {
        "id": "yxkpykG81ZNT"
      },
      "source": [
        "_Did you notice a recurring theme?_ In Python (as well as other programming languages), we have all these handy operations at our disposal which help us shorten our workload. Later in this session, we will also learn how to create one ourselves, with functions.\n",
        "\n",
        "Lastly, before we move on, what is the result of dividing -17 by 3? Make a guess before running the code."
      ]
    },
    {
      "cell_type": "code",
      "metadata": {
        "id": "60USCoJfurJQ",
        "colab": {
          "base_uri": "https://localhost:8080/"
        },
        "outputId": "0c587582-6ef3-4b89-c7bf-262ba7b4c93c"
      },
      "source": [
        "-17 // 3"
      ],
      "execution_count": 14,
      "outputs": [
        {
          "output_type": "execute_result",
          "data": {
            "text/plain": [
              "-6"
            ]
          },
          "metadata": {},
          "execution_count": 14
        }
      ]
    },
    {
      "cell_type": "code",
      "metadata": {
        "id": "37MwRysIurJQ",
        "colab": {
          "base_uri": "https://localhost:8080/"
        },
        "outputId": "a0ad3ac2-092f-43fc-fcba-09c031e55b7b"
      },
      "source": [
        "-17 % 3"
      ],
      "execution_count": 15,
      "outputs": [
        {
          "output_type": "execute_result",
          "data": {
            "text/plain": [
              "1"
            ]
          },
          "metadata": {},
          "execution_count": 15
        }
      ]
    },
    {
      "cell_type": "markdown",
      "metadata": {
        "id": "F3EzVAvhhlUn"
      },
      "source": [
        "## 2. Variables"
      ]
    },
    {
      "cell_type": "markdown",
      "metadata": {
        "id": "3h4HJCRz9UQT"
      },
      "source": [
        "### Example: Quadratic Equation\n",
        "\n",
        "Let’s consider a high school math problem. How do we solve for $x$ in the following quadratic equation.\n",
        "\n",
        "> $ax^2 + bx + c = 0$\n",
        "\n",
        "According to high school math, there are two solutions according to this formula:\n",
        "\n",
        "> $x = \\dfrac{-b \\pm \\sqrt{b^2 - 4ac}}{2a}$\n",
        "\n",
        "**Question:** What are the solutions to the equation $2x^2 + 7x + 3 = 0$ \n",
        "\n",
        "We need two separate pieces of codes, one for $+\\sqrt{b^2 - 4ac}$ and another for $-\\sqrt{b^2 - 4ac}$."
      ]
    },
    {
      "cell_type": "code",
      "metadata": {
        "id": "yDemLQFq9ZFQ",
        "colab": {
          "base_uri": "https://localhost:8080/"
        },
        "outputId": "49af6cad-5eee-4ae6-b4e0-91271bc266bf"
      },
      "source": [
        "(-7 + (7**2 - 4*2*3) ** 0.5) / (2*2)"
      ],
      "execution_count": 16,
      "outputs": [
        {
          "output_type": "execute_result",
          "data": {
            "text/plain": [
              "-0.5"
            ]
          },
          "metadata": {},
          "execution_count": 16
        }
      ]
    },
    {
      "cell_type": "code",
      "metadata": {
        "id": "sLMAgIHb_Jx8",
        "colab": {
          "base_uri": "https://localhost:8080/"
        },
        "outputId": "966759c8-6e17-4f8f-e23d-79e9ed15ce15"
      },
      "source": [
        "(-7 - (7**2 - 4*2*3) ** 0.5) / (2*2)"
      ],
      "execution_count": 17,
      "outputs": [
        {
          "output_type": "execute_result",
          "data": {
            "text/plain": [
              "-3.0"
            ]
          },
          "metadata": {},
          "execution_count": 17
        }
      ]
    },
    {
      "cell_type": "markdown",
      "metadata": {
        "id": "MUhKMQ65_l_f"
      },
      "source": [
        "Did you see that we have to type almost the exact same code twice? If you think that this is troublesome, you are not alone. Programmers hate repeating themselves as much as you do.\n",
        "\n",
        "We will divide our workload into smaller steps and avoid recomputing the same values as much as possible.\n",
        "\n",
        "> $r = \\sqrt{b^2 - 4ac}$  \n",
        "> $x_1 = \\dfrac{-b + r}{2a}$  \n",
        "> $x_2 = \\dfrac{-b - r}{2a}$  \n",
        "\n",
        "In order to reuse intermediate result $k$ for subsequent computations, we need to use **variables**. The above steps can be translated into the following code."
      ]
    },
    {
      "cell_type": "code",
      "metadata": {
        "id": "shkR45GCAxcg",
        "colab": {
          "base_uri": "https://localhost:8080/"
        },
        "outputId": "c97eb3c0-4b30-47cb-adc7-6fb65e76b1c1"
      },
      "source": [
        "a = 2\n",
        "b = 7\n",
        "c = 3\n",
        "\n",
        "r = (b**2 - 4*a*c) ** 0.5\n",
        "x1 = (-b + r) / (2*a)\n",
        "x2 = (-b - r) / (2*a)\n",
        "\n",
        "print(x1, x2)"
      ],
      "execution_count": 18,
      "outputs": [
        {
          "output_type": "stream",
          "name": "stdout",
          "text": [
            "-0.5 -3.0\n"
          ]
        }
      ]
    },
    {
      "cell_type": "markdown",
      "metadata": {
        "id": "2dRv5OWUCDUF"
      },
      "source": [
        "Not only we did introduce a variable for intermediate result `k`, we introduce a whole lot of variables for coefficients `a`, `b`, `c`, as well as for solutions `x1` and `x2`. What is nice about this approach is that, if you want to solve other quadratic equations of the same form, you can just simply change values for `a`, `b`, and `c`, and rerun the code.\n",
        "\n",
        "Try playing around, changing values for `a`, `b`, and `c`.\n",
        "\n",
        "---\n",
        "\n",
        "There are a few things you must know.\n",
        "\n",
        "- Python code generally runs from top to bottom. So shuffling lines of code may produce unintended consequences.\n",
        "- The code `<variable> = <expression>` represents an assignment of values to the right of `=` symbol into a **variable** whose name is shown on the left. Swapping the location of these two things will produce an error (try for yourself).\n",
        "- Expressions may refer to variables which have been assigned previously. For example, see how the assignment of `k` refers to `a`, `b`, `c` above it. Then, `x1` and `x2` both take turn to refer to `k`. As mentioned earlier, swapping these lines may break things.\n",
        "\n",
        "Try executing the following code and see what kind of error it produces.\n",
        "\n",
        "```python\n",
        "area = width * height\n",
        "height = 1080\n",
        "width = 1080 * 16 / 9\n",
        "print(area)\n",
        "```"
      ]
    },
    {
      "cell_type": "code",
      "metadata": {
        "id": "5Ts8A0Q5AyEw",
        "colab": {
          "base_uri": "https://localhost:8080/",
          "height": 217
        },
        "outputId": "15c6db82-6bf3-4ba3-9b95-77ae6a7576a7"
      },
      "source": [
        "area = width * height\n",
        "height = 1080\n",
        "width = 1080 * 16 / 9\n",
        "print(area)"
      ],
      "execution_count": 19,
      "outputs": [
        {
          "output_type": "error",
          "ename": "NameError",
          "evalue": "ignored",
          "traceback": [
            "\u001b[0;31m---------------------------------------------------------------------------\u001b[0m",
            "\u001b[0;31mNameError\u001b[0m                                 Traceback (most recent call last)",
            "\u001b[0;32m<ipython-input-19-63fa5e9e9016>\u001b[0m in \u001b[0;36m<module>\u001b[0;34m()\u001b[0m\n\u001b[0;32m----> 1\u001b[0;31m \u001b[0marea\u001b[0m \u001b[0;34m=\u001b[0m \u001b[0mwidth\u001b[0m \u001b[0;34m*\u001b[0m \u001b[0mheight\u001b[0m\u001b[0;34m\u001b[0m\u001b[0;34m\u001b[0m\u001b[0m\n\u001b[0m\u001b[1;32m      2\u001b[0m \u001b[0mheight\u001b[0m \u001b[0;34m=\u001b[0m \u001b[0;36m1080\u001b[0m\u001b[0;34m\u001b[0m\u001b[0;34m\u001b[0m\u001b[0m\n\u001b[1;32m      3\u001b[0m \u001b[0mwidth\u001b[0m \u001b[0;34m=\u001b[0m \u001b[0;36m1080\u001b[0m \u001b[0;34m*\u001b[0m \u001b[0;36m16\u001b[0m \u001b[0;34m/\u001b[0m \u001b[0;36m9\u001b[0m\u001b[0;34m\u001b[0m\u001b[0;34m\u001b[0m\u001b[0m\n\u001b[1;32m      4\u001b[0m \u001b[0mprint\u001b[0m\u001b[0;34m(\u001b[0m\u001b[0marea\u001b[0m\u001b[0;34m)\u001b[0m\u001b[0;34m\u001b[0m\u001b[0;34m\u001b[0m\u001b[0m\n",
            "\u001b[0;31mNameError\u001b[0m: name 'width' is not defined"
          ]
        }
      ]
    },
    {
      "cell_type": "code",
      "source": [
        "height = 1080\n",
        "width = 1080 * 16 / 9\n",
        "area = width * height\n",
        "print(area)"
      ],
      "metadata": {
        "colab": {
          "base_uri": "https://localhost:8080/"
        },
        "id": "xkL69c-qM9h3",
        "outputId": "f807bbcd-5667-4c62-dd94-093f544386df"
      },
      "execution_count": 20,
      "outputs": [
        {
          "output_type": "stream",
          "name": "stdout",
          "text": [
            "2073600.0\n"
          ]
        }
      ]
    },
    {
      "cell_type": "markdown",
      "metadata": {
        "id": "iyep_gu-_uR4"
      },
      "source": [
        "Fix the code above so that it runs correctly. In the end you should get the area of 2,073,600."
      ]
    },
    {
      "cell_type": "markdown",
      "metadata": {
        "id": "-UPZnbseFIFY"
      },
      "source": [
        "### Aside: Statements By Themselves Do Not Produce Value\n",
        "\n",
        "We have already seen the assignment statements (of the form `<variable> = <expression>`). In the code above, if we remove the line `print(area)`, we will see no output. In Python specifically, there is a distinction between an **expression** and a **statement**. Expressions always produce value, but statements do not.\n",
        "\n",
        "However, statements may partially contain expressions, just like what we have seen with assignment statements, but in this case, the value is stored into a variable and is not shown to us. _That_ is the reason why the code to compute `area` from multiplying `width` and `height` does not display any result if `print(area)` is absent; `print` tells python to display the content of `area`.\n",
        "\n",
        "To be precise, `print(...)` will _print_ out anything it receives; whatever we put between the pair of parentheses is called **input arguments** to a function. So you can also print the following."
      ]
    },
    {
      "cell_type": "code",
      "metadata": {
        "id": "l6JqB0ZHHIwq",
        "colab": {
          "base_uri": "https://localhost:8080/"
        },
        "outputId": "7dbf60ab-c624-440b-f09d-47f41d2e9f6e"
      },
      "source": [
        "print(1 + 2 + 3 + 4 + 5)"
      ],
      "execution_count": 21,
      "outputs": [
        {
          "output_type": "stream",
          "name": "stdout",
          "text": [
            "15\n"
          ]
        }
      ]
    },
    {
      "cell_type": "markdown",
      "metadata": {
        "id": "IZH4RkmnHNh2"
      },
      "source": [
        "As a special case for Python Notebook (this piece of web application software we are currently using), an expression by itself will have its result be printed out as well. **Warning:** This is not true for general Python code."
      ]
    },
    {
      "cell_type": "code",
      "metadata": {
        "id": "wmc9OBclHkRG",
        "colab": {
          "base_uri": "https://localhost:8080/"
        },
        "outputId": "950b4866-a4c1-49b8-f8f4-82785a9cb8b6"
      },
      "source": [
        "1 + 2 + 3 + 4 + 5"
      ],
      "execution_count": 22,
      "outputs": [
        {
          "output_type": "execute_result",
          "data": {
            "text/plain": [
              "15"
            ]
          },
          "metadata": {},
          "execution_count": 22
        }
      ]
    },
    {
      "cell_type": "code",
      "metadata": {
        "id": "Y0o6gG5LHua2",
        "colab": {
          "base_uri": "https://localhost:8080/"
        },
        "outputId": "d53c3c8f-02ed-44e3-c185-0f9b61904c6e"
      },
      "source": [
        "area"
      ],
      "execution_count": 23,
      "outputs": [
        {
          "output_type": "execute_result",
          "data": {
            "text/plain": [
              "2073600.0"
            ]
          },
          "metadata": {},
          "execution_count": 23
        }
      ]
    },
    {
      "cell_type": "markdown",
      "metadata": {
        "id": "rW7cBFmduFB9"
      },
      "source": [
        "### Aside: Code Comments\n",
        "\n",
        "We can provide additional notes to our code using what are called **comments**. In Python, a comment begins with `#` and the rest of the line will not be interpreted by Python. For example,"
      ]
    },
    {
      "cell_type": "code",
      "metadata": {
        "id": "zOB-7TxKua7v",
        "colab": {
          "base_uri": "https://localhost:8080/"
        },
        "outputId": "edda1eb7-f9eb-47fd-cf51-87186b775533"
      },
      "source": [
        "# Computing the distance from the origin (0, 0) to (x, y)\n",
        "x = 4\n",
        "y = -3\n",
        "distance_from_origin = ((x ** 2) + (y ** 2)) ** 0.5  # Pythagorean Theorem\n",
        "print(distance_from_origin)"
      ],
      "execution_count": 24,
      "outputs": [
        {
          "output_type": "stream",
          "name": "stdout",
          "text": [
            "5.0\n"
          ]
        }
      ]
    },
    {
      "cell_type": "markdown",
      "metadata": {
        "id": "sp-RXeOLvnI5"
      },
      "source": [
        "It is best to add comments to explain the logic behind the code if it would not be obvious by itself. You will thank yourself later."
      ]
    },
    {
      "cell_type": "markdown",
      "metadata": {
        "id": "t6ksl8oahsmP"
      },
      "source": [
        "## 3. Functions"
      ]
    },
    {
      "cell_type": "markdown",
      "metadata": {
        "id": "HEGSm9bJt2UW"
      },
      "source": [
        "### Example: Games With Random Loot\n",
        "\n",
        "Now it’s time to talk about games with Random Number Generators (RNG). Let’s say that a certain rare item has a drop rate of 0.3% from a loot box (that is three in a thousand chance). What is the chance that we win at least one such item within 10 loot boxes?\n",
        "\n",
        "Let’s write some code to find out.  \n",
        "**Note:** `format(..., '%')` function turns numbers into percentage form when printed."
      ]
    },
    {
      "cell_type": "code",
      "metadata": {
        "id": "O4KUfvwmt2zz",
        "colab": {
          "base_uri": "https://localhost:8080/"
        },
        "outputId": "a48df4e2-c0dd-4e52-98a2-b887f4abe786"
      },
      "source": [
        "drop_rate = 0.003\n",
        "n_attempts = 10\n",
        "\n",
        "fail_once_prob = 1 - drop_rate\n",
        "fail_all_prob = fail_once_prob ** n_attempts\n",
        "winning_prob = 1 - fail_all_prob\n",
        "\n",
        "print(format(winning_prob, \"%\"))"
      ],
      "execution_count": 25,
      "outputs": [
        {
          "output_type": "stream",
          "name": "stdout",
          "text": [
            "2.959822%\n"
          ]
        }
      ]
    },
    {
      "cell_type": "markdown",
      "metadata": {
        "id": "uoN2r3uty4Kv"
      },
      "source": [
        "Not bad. The probability jumps to almost around 3%. Well, how about 100 loot boxes?\n",
        "\n",
        "We can just modify the previous code and set `n_attempts` to `100`, but then we will lose track of history of all previous computations. It would be nice to keep some previous results available for inspection.\n",
        "\n",
        "**Did you know?** In scientific community, scientists maintain what is called a lab notebook, and it is considered unethical to make something disappear from lab notebooks. Do not worry, we are not doing something that serious here.\n",
        "\n",
        "We instead will duplicate the code from above and modify the number to `n_attempts = 100`."
      ]
    },
    {
      "cell_type": "code",
      "metadata": {
        "id": "CIAYrYKf1nlJ",
        "colab": {
          "base_uri": "https://localhost:8080/"
        },
        "outputId": "df6d87c1-daf2-449a-94f8-ecab74a5526a"
      },
      "source": [
        "drop_rate = 0.003\n",
        "n_attempts = 100\n",
        "\n",
        "fail_once_prob = 1 - drop_rate\n",
        "fail_all_prob = fail_once_prob ** n_attempts\n",
        "winning_prob = 1 - fail_all_prob\n",
        "\n",
        "print(format(winning_prob, \"%\"))"
      ],
      "execution_count": 26,
      "outputs": [
        {
          "output_type": "stream",
          "name": "stdout",
          "text": [
            "25.951574%\n"
          ]
        }
      ]
    },
    {
      "cell_type": "markdown",
      "metadata": {
        "id": "C3PjJzqi1rPi"
      },
      "source": [
        "What if we want to perform this computation again for other number of attempts? Are we _really_ going to copy this chuck of code again? One philosophy of programmers (or for any people who are sufficiently lazy) is to avoid repeating ourselves.\n",
        "\n",
        "We will combine the entire chunk our code into a single unit of workload, by defining a **function**.\n",
        "\n",
        "We begin first with our code:"
      ]
    },
    {
      "cell_type": "code",
      "metadata": {
        "id": "syJn2DcA3Yn_",
        "colab": {
          "base_uri": "https://localhost:8080/"
        },
        "outputId": "ebe4452b-7bfa-4dca-cec7-8b7c967c3c71"
      },
      "source": [
        "def compute_winning_prob(drop_rate, n_attempts):\n",
        "    fail_once_prob = 1 - drop_rate\n",
        "    fail_all_prob = fail_once_prob ** n_attempts\n",
        "    winning_prob = 1 - fail_all_prob\n",
        "    return winning_prob\n",
        "\n",
        "\n",
        "# Making calls to the above function\n",
        "winning_prob_10_attempts = compute_winning_prob(0.003, 10)\n",
        "print(format(winning_prob_10_attempts, \"%\"))\n",
        "\n",
        "# For better readability, input argument names can be specified too\n",
        "winning_prob_100_attempts = compute_winning_prob(drop_rate=0.003, n_attempts=100)\n",
        "print(format(winning_prob_100_attempts, \"%\"))\n",
        "\n",
        "# The result of calling a function can be input to another function\n",
        "print(format(compute_winning_prob(0.003, 1000), \"%\"))"
      ],
      "execution_count": 27,
      "outputs": [
        {
          "output_type": "stream",
          "name": "stdout",
          "text": [
            "2.959822%\n",
            "25.951574%\n",
            "95.043692%\n"
          ]
        }
      ]
    },
    {
      "cell_type": "markdown",
      "metadata": {
        "id": "px5xAjUULBmU"
      },
      "source": [
        "Let’s look at the function definition:\n",
        "\n",
        "```python\n",
        "def compute_winning_prob(drop_rate, n_attempts):\n",
        "    fail_once_prob = 1 - drop_rate\n",
        "    fail_all_prob = fail_once_prob ** n_attempts\n",
        "    winning_prob = 1 - fail_all_prob\n",
        "    return winning_prob\n",
        "```\n",
        "\n",
        "It consists of the following:\n",
        "\n",
        "- Function name, `compute_winning_prob` \n",
        "- Input arguments, `drop_rate` and `n_attempts`\n",
        "- Function body. In this case, they are all four lines of indented code.\n",
        "- Output of the function is signified by the expression following the **`return`** keyword. (In cases where this return statement is missing from the function, `None` will be returned implicitly, a special constant value to indicate an absence of data.)\n",
        "\n",
        "Here is the fundamental concepts of computation: a function consists of **inputs** and **outputs**  (it may also sometimes has side-effects, but let’s ignore this fact for the moment). The above function receives two inputs, `drop_rate` and `n_attempts`, and produces the winning probability as the output. The order of input arguments does matter. Make sure that the function call specifies these inputs in the same order as well."
      ]
    },
    {
      "cell_type": "markdown",
      "metadata": {
        "id": "GOsmGVOgAPxe"
      },
      "source": [
        "#### Symmetry Between Function Definitions and Function Calls\n",
        "\n",
        "Notice that the first line of function definition and the function call pattern looks similar. This is a conscious design decision intended by Python core developers.\n",
        "\n",
        "```python\n",
        "def compute_winning_prob(drop_rate, n_attempts):\n",
        "```\n",
        "```python\n",
        "winning_prob = compute_winning_prob(drop_rate, n_attempts)\n",
        "```"
      ]
    },
    {
      "cell_type": "markdown",
      "metadata": {
        "id": "fvJTcyrgASnU"
      },
      "source": [
        "#### Function Docstring\n",
        "\n",
        "It is considered good practice to explain what our functions do inside the source code itself. In Python, the practice is to use docstring syntax to do so, like in the following. Generally, this should provide a **contract** whoever is using our functions, such as what are valid inputs, and what is the guarantee about the output.\n",
        "\n",
        "```python\n",
        "def compute_winning_prob(drop_rate, n_attempts):\n",
        "    \"\"\"Computes the probability of winning an item at least once\n",
        "    given the drop rate of such item and the number of attempts.\n",
        "\n",
        "    Arguments:\n",
        "        drop_rate: Probability rate of item being drop,\n",
        "            which must be a number within the range from 0.0 to 1.0\n",
        "        n_attempts: Number of attempts to claim such item,\n",
        "            which must be a positive integer.\n",
        "\n",
        "    Returns:\n",
        "        The probability of winning such item at least once.    \n",
        "    \"\"\"\n",
        "    fail_once_prob = 1 - drop_rate\n",
        "    fail_all_prob = fail_once_prob ** n_attempts\n",
        "    winning_prob = 1 - fail_all_prob\n",
        "    return winning_prob\n",
        "```\n",
        "\n",
        "What’s more, you are unlikely to remember all code you have written after a day. Docstrings work just like post-it reminders."
      ]
    },
    {
      "cell_type": "markdown",
      "metadata": {
        "id": "lF4eB64in3LV"
      },
      "source": [
        "### Exercise: Area of Triangle\n",
        "\n",
        "Write a function that computes the area of a triangle from lengths of its three sides ($A$, $B$, and $C$). Here is the Heron’s formula to implement in code.\n",
        "\n",
        "> $\\mathrm{Area} = \\sqrt{S(S-A)(S-B)(S-C)}$\n",
        "> \n",
        "> $S = \\dfrac{A + B + C}{2}$"
      ]
    },
    {
      "cell_type": "code",
      "metadata": {
        "id": "p0Z2F9cLqHJ1",
        "colab": {
          "base_uri": "https://localhost:8080/"
        },
        "outputId": "21f17ae8-29a4-4ca9-9c7a-5a1d86ecb0bc"
      },
      "source": [
        "def area_of_triangle(a, b, c):\n",
        "    \"\"\"Computes the area of a triangle.\n",
        "\n",
        "    Arguments:\n",
        "        a: Non-negative length of the first side\n",
        "        b: Non-negative length of the second side\n",
        "        c: Non-negative length of the third side\n",
        "\n",
        "    Returns:\n",
        "        The area of the triangle whose side lengths are a, b, and c.\n",
        "    \"\"\"\n",
        "    ... # your code here\n",
        "\n",
        "    S = (a + b + c )/2\n",
        "    area_of_triangle = (S*(S-a)*(S-b)*(S-c))**0.5\n",
        "    return area_of_triangle\n",
        "print(area_of_triangle(3, 4, 5))  # expected 6\n",
        "print(area_of_triangle(3, 3, 3))  # expected 3.8971\n",
        "print(area_of_triangle(2, 3, 8))  # expected ?????? "
      ],
      "execution_count": 28,
      "outputs": [
        {
          "output_type": "stream",
          "name": "stdout",
          "text": [
            "6.0\n",
            "3.897114317029974\n",
            "(7.587932222038681e-16+12.39203373139373j)\n"
          ]
        }
      ]
    },
    {
      "cell_type": "markdown",
      "metadata": {
        "id": "Sh9rURhshyyn"
      },
      "source": [
        "## 4. Conditionals"
      ]
    },
    {
      "cell_type": "markdown",
      "metadata": {
        "id": "46QhaxTwZW9m"
      },
      "source": [
        "### Example: Phases of H₂O\n",
        "\n",
        "We will write a function to determine the phase of H₂O at different temperatures. In a simplified model, at sea-level, water freezes (or ice melts) at 0°C whereas water evaporates (or steam condenses) at 100°C.\n",
        "\n",
        "Our function should receive a single number, which is the temperature of H₂O at sea-level. It should return the phase of H₂0, `\"ice\"`, `\"water\"`, or `\"steam\"`."
      ]
    },
    {
      "cell_type": "code",
      "metadata": {
        "id": "G_twmikLcHGN",
        "colab": {
          "base_uri": "https://localhost:8080/"
        },
        "outputId": "44fba252-b56f-409d-bed2-eca6dbedf662"
      },
      "source": [
        "def h2o_phase(celcius):\n",
        "    \"\"\"Determines the phases of H₂O given its temperature in Celcius.\"\"\"\n",
        "    print(\"input temperature is\", celcius)\n",
        "    if celcius <= 0:\n",
        "        print(\"    ice\")\n",
        "    if 0 <= celcius <= 100:\n",
        "        print(\"    water\")\n",
        "    if celcius >= 100:\n",
        "        print(\"    steam\")\n",
        "\n",
        "\n",
        "h2o_phase(25)\n",
        "h2o_phase(-273.15)\n",
        "h2o_phase(1948)\n",
        "h2o_phase(100)\n",
        "h2o_phase(0)"
      ],
      "execution_count": 29,
      "outputs": [
        {
          "output_type": "stream",
          "name": "stdout",
          "text": [
            "input temperature is 25\n",
            "    water\n",
            "input temperature is -273.15\n",
            "    ice\n",
            "input temperature is 1948\n",
            "    steam\n",
            "input temperature is 100\n",
            "    water\n",
            "    steam\n",
            "input temperature is 0\n",
            "    ice\n",
            "    water\n"
          ]
        }
      ]
    },
    {
      "cell_type": "markdown",
      "metadata": {
        "id": "QqaPJwKHheeb"
      },
      "source": [
        "When did the message `\"ice\"` get printed? Answer: when inputs were `-273.15` and `0` (both are 0°C or lower). Likewise, `\"water\"` got printed when inputs were `25`, `100`, and `0` (all are within range from 0°C to 100°C). The same goes for `\"steam\"`.\n",
        "\n",
        "You have probably noticed that the **if clause** the **condition** whether the body of the statement (the indented part under the if clause) should be executed."
      ]
    },
    {
      "cell_type": "markdown",
      "metadata": {
        "id": "InkTz1CPdZJq"
      },
      "source": [
        "### Aside: Strings\n",
        "\n",
        "Strings are just textual data. In Python code, they mostly are written between a pair of **double quotes** `\"`:\n",
        "\n",
        "> e.g. `\"hello\"`, `\"Humuhumunukunukuapua'a is a type of fish.\"`, and `\"\"` (empty string)\n",
        "\n",
        "or between a pair of **single quotes** `'`:\n",
        "\n",
        "> e.g. `'กขคง'`, `'people say they know \"blockchain\"'`, and `'さよなら means goodbye'`"
      ]
    },
    {
      "cell_type": "code",
      "metadata": {
        "id": "l_aAhNyLgoYY",
        "colab": {
          "base_uri": "https://localhost:8080/"
        },
        "outputId": "24ff5b4c-1741-467b-9c3d-806cb1c66610"
      },
      "source": [
        "print(\"hello\")\n",
        "print(\"Humuhumunukunukuapua'a is a type of fish.\")\n",
        "print(\"\")\n",
        "print('กขคง')\n",
        "print('people say they know \"blockchain\"')\n",
        "print('さよなら means goodbye')"
      ],
      "execution_count": 30,
      "outputs": [
        {
          "output_type": "stream",
          "name": "stdout",
          "text": [
            "hello\n",
            "Humuhumunukunukuapua'a is a type of fish.\n",
            "\n",
            "กขคง\n",
            "people say they know \"blockchain\"\n",
            "さよなら means goodbye\n"
          ]
        }
      ]
    },
    {
      "cell_type": "markdown",
      "metadata": {
        "id": "YOxMMcEwgo6a"
      },
      "source": [
        "Both double quotes and single quotes work fine, but we have to be consistent: the string must start and end with the same type of quotation characters.\n",
        "\n",
        "Also, it is tricky for a text to include a double quote inside a string which begins and ends with double quotes (same goes for single quotes). To do so, we need what is called **character escaping**. Specifically, we will need to prepend the double quote with a backslash inside a string:"
      ]
    },
    {
      "cell_type": "code",
      "metadata": {
        "id": "A-EScbS5hFI4",
        "colab": {
          "base_uri": "https://localhost:8080/"
        },
        "outputId": "a4693887-0899-499c-9e6c-015296758ad8"
      },
      "source": [
        "print('Humuhumunukunukuapua\\'a is a type of fish.')\n",
        "print(\"people say they know \\\"blockchain\\\"\")"
      ],
      "execution_count": 31,
      "outputs": [
        {
          "output_type": "stream",
          "name": "stdout",
          "text": [
            "Humuhumunukunukuapua'a is a type of fish.\n",
            "people say they know \"blockchain\"\n"
          ]
        }
      ]
    },
    {
      "cell_type": "markdown",
      "metadata": {
        "id": "T8jWStuahZQQ"
      },
      "source": [
        "### Example: Air Quality Index\n",
        "\n",
        "For the past few years, we have experienced increasing air pollution. For this task, we will write a function to translate AQI integer values (input) into category colors (output). Here is the summary:\n",
        "\n",
        "| AQI Values | Category | Colors |\n",
        "|------------|----------|--------|\n",
        "| 0 - 50 | Good | Green |\n",
        "| 51 - 100 | Moderate | Yellow |\n",
        "| 100 - 150 | Unhealthy For Sensitive Groups | Orange |\n",
        "| 151 - 200 | Unhealthy | Red |\n",
        "| 201 - 300 | Very Unhealthy | Purple |\n",
        "| 301 - 500 | Hazardous | Maroon |\n",
        "\n",
        "And here is how we could implement this function:"
      ]
    },
    {
      "cell_type": "code",
      "metadata": {
        "id": "Tkr_ci2_mjZF",
        "colab": {
          "base_uri": "https://localhost:8080/"
        },
        "outputId": "faf05022-9ccc-4e3c-85b1-fec976c3c2e7"
      },
      "source": [
        "def aqi_category_color(aqi_value):\n",
        "    \"\"\"Computes the category color of an AQI value.\n",
        "\n",
        "    Arguments:\n",
        "        aqi_value: Integer value of Air Quality Index\n",
        "            within a range from 0 to 500\n",
        "\n",
        "    Returns:\n",
        "        A string representing the category color\n",
        "    \"\"\"\n",
        "    if aqi_value <= 50:\n",
        "        return 'green'\n",
        "    elif aqi_value <= 100:\n",
        "        return 'yellow'\n",
        "    elif aqi_value <= 150:\n",
        "        return 'orange'\n",
        "    elif aqi_value <= 200:\n",
        "        return 'red'\n",
        "    elif aqi_value <= 300:\n",
        "        return 'purple'\n",
        "    else:\n",
        "        return 'maroon'\n",
        "\n",
        "\n",
        "print('Color status of AQI 25 is', aqi_category_color(25))\n",
        "print('Color status of AQI 125 is', aqi_category_color(125))\n",
        "print('Color status of AQI 225 is', aqi_category_color(225))\n",
        "print('Color status of AQI 325 is', aqi_category_color(325))"
      ],
      "execution_count": 32,
      "outputs": [
        {
          "output_type": "stream",
          "name": "stdout",
          "text": [
            "Color status of AQI 25 is green\n",
            "Color status of AQI 125 is orange\n",
            "Color status of AQI 225 is purple\n",
            "Color status of AQI 325 is maroon\n"
          ]
        }
      ]
    },
    {
      "cell_type": "code",
      "source": [
        "def aqi_category_color(aqi_value):\n",
        "    \"\"\"Computes the category color of an AQI value.\n",
        "\n",
        "    Arguments:\n",
        "        aqi_value: Integer value of Air Quality Index\n",
        "            within a range from 0 to 500\n",
        "\n",
        "    Returns:\n",
        "        A string representing the category color\n",
        "    \"\"\"\n",
        "    if aqi_value <= 50:\n",
        "        color= 'green'\n",
        "    elif aqi_value <= 100:\n",
        "        color= 'yellow'\n",
        "    elif aqi_value <= 150:\n",
        "        color= 'orange'\n",
        "    elif aqi_value <= 200:\n",
        "        color= 'red'\n",
        "    elif aqi_value <= 300:\n",
        "        color= 'purple'\n",
        "    else:\n",
        "        color= 'maroon'\n",
        "    return color\n",
        "\n",
        "\n",
        "print('Color status of AQI 25 is', aqi_category_color(25))\n",
        "print('Color status of AQI 125 is', aqi_category_color(125))\n",
        "print('Color status of AQI 225 is', aqi_category_color(225))\n",
        "print('Color status of AQI 325 is', aqi_category_color(325))"
      ],
      "metadata": {
        "colab": {
          "base_uri": "https://localhost:8080/"
        },
        "id": "9oc8OKBLW4M_",
        "outputId": "b27335aa-b742-4bbf-ddf9-73bdda6c7158"
      },
      "execution_count": 33,
      "outputs": [
        {
          "output_type": "stream",
          "name": "stdout",
          "text": [
            "Color status of AQI 25 is green\n",
            "Color status of AQI 125 is orange\n",
            "Color status of AQI 225 is purple\n",
            "Color status of AQI 325 is maroon\n"
          ]
        }
      ]
    },
    {
      "cell_type": "markdown",
      "metadata": {
        "id": "5Se1GPJVnYvY"
      },
      "source": [
        "This function differs from `phase_h2o` in a couple of ways:\n",
        "\n",
        "- Function `aqi_category_color` itself does _not_ **`print`** any strings. It instead returns a string as output, which then got feeded into **`print`** function outside. This approach is generally preferable because the computational logic is separated from the presentation.\n",
        "- Function `aqi_category_color` introduces sibling clauses **`elif`** and **`else`** to if statements. As you may have guessed, **`elif`** and **`else`** clauses are even considered at all when the previous clauses are false.\n",
        "\n",
        "Let’s break down the code a bit further.\n",
        "- AQI value 125 converts to `\"yellow\"` because `aqi_value <= 50` was false, but `aqi_value <= 100` was true.\n",
        "- AQI value 325 converts to `\"maroon\"` because all previous **`if`** and **`elif`** clauses were false."
      ]
    },
    {
      "cell_type": "markdown",
      "metadata": {
        "id": "y4Fbf-86nguB"
      },
      "source": [
        "### Aside: Booleans\n",
        "\n",
        "Boolean is a type of data that has two possible values, **`True`** and **`False`**. It is commonly used in predicate logic or for representing binary states (such as **on** or **off**).\n",
        "\n",
        "We have dealt with boolean data before, but we have not inspected them closely. Take a look at a few bunch of the following inequalities."
      ]
    },
    {
      "cell_type": "code",
      "metadata": {
        "id": "Q62o1p8So6bI",
        "colab": {
          "base_uri": "https://localhost:8080/"
        },
        "outputId": "55c65844-c478-419c-aca1-cf1b6b816647"
      },
      "source": [
        "two = 2\n",
        "\n",
        "print(1 < 2)  # less than (<)\n",
        "print(2 + 2 == 4)  # equal (=)\n",
        "print(-123 >= 123)  # greater or equal to (≥)\n",
        "print(two > two)  # greater (>)\n",
        "print(100 != two)  # not equal (≠)\n",
        "print(3 <= 3)  # less than or equal to (≤)\n",
        "print(\"x\" in \"styrofoam\")\n",
        "print(\"x\" in \"xylophone\")"
      ],
      "execution_count": 34,
      "outputs": [
        {
          "output_type": "stream",
          "name": "stdout",
          "text": [
            "True\n",
            "True\n",
            "False\n",
            "False\n",
            "True\n",
            "True\n",
            "False\n",
            "True\n"
          ]
        }
      ]
    },
    {
      "cell_type": "markdown",
      "metadata": {
        "id": "Hpj6jtOCqtlx"
      },
      "source": [
        "Remember Logic in high school math. Here is what you are waiting for."
      ]
    },
    {
      "cell_type": "code",
      "metadata": {
        "id": "RmjUkj5_qloC",
        "colab": {
          "base_uri": "https://localhost:8080/"
        },
        "outputId": "fb85239f-1c34-422e-9bdc-596d0291bad6"
      },
      "source": [
        "booleans = [True, False]\n",
        "\n",
        "for x in booleans:\n",
        "    for y in booleans:\n",
        "        print(x, \"and\", y, \"is\", x and y)\n",
        "        print(x, \" or\", y, \"is\", x or y)\n",
        "        print()\n",
        "\n",
        "for x in booleans:\n",
        "    print(\"not\", x, \"is\", not x)"
      ],
      "execution_count": 35,
      "outputs": [
        {
          "output_type": "stream",
          "name": "stdout",
          "text": [
            "True and True is True\n",
            "True  or True is True\n",
            "\n",
            "True and False is False\n",
            "True  or False is True\n",
            "\n",
            "False and True is False\n",
            "False  or True is True\n",
            "\n",
            "False and False is False\n",
            "False  or False is False\n",
            "\n",
            "not True is False\n",
            "not False is True\n"
          ]
        }
      ]
    },
    {
      "cell_type": "markdown",
      "metadata": {
        "id": "KG6vIgcwqLr-"
      },
      "source": [
        " ## 5. Lists and For Loops\n",
        "\n",
        "Imagine that we are given a sequence of values (e.g. numbers, strings, or even more complex data) and we want to learn something about this sequence. Tasks like this include:\n",
        "\n",
        "- **Aggregations:** for the given list of values, compute their sum (or the maximum value, or count the number of unique values, or their average, etc.)\n",
        "- **Sorting:** order the list according to its value (or based on its derivatives)\n",
        "- **Filtering:** find which values in the list satisfy a given condition (usually called a predicate)\n",
        "- and a whole lot others!"
      ]
    },
    {
      "cell_type": "markdown",
      "metadata": {
        "id": "SKmfMYhs0eya"
      },
      "source": [
        "### Example: Computing Average\n",
        "\n",
        "We begin with a list of `numbers` and we will compute their average (arithmetic mean)."
      ]
    },
    {
      "cell_type": "code",
      "metadata": {
        "id": "JUcxyyNysxXT",
        "colab": {
          "base_uri": "https://localhost:8080/"
        },
        "outputId": "bdb952f8-50ba-47cf-e953-f8ae0c7ffa37"
      },
      "source": [
        "def compute_average(numbers):\n",
        "    \"\"\"Computes the average of a given list of numbers.\"\"\"\n",
        "    total = 0\n",
        "    count = 0\n",
        "    for n in numbers:\n",
        "        total = total + n\n",
        "        count = count + 1\n",
        "    average = total / count\n",
        "    return average\n",
        "\n",
        "\n",
        "numbers = [34, 13, 62, 91, 87, 66, 29, 17, 83, 55, 44]\n",
        "average_number = compute_average(numbers)\n",
        "print(\"The average number is\", format(average_number, '.3f'))"
      ],
      "execution_count": 36,
      "outputs": [
        {
          "output_type": "stream",
          "name": "stdout",
          "text": [
            "The average number is 52.818\n"
          ]
        }
      ]
    },
    {
      "cell_type": "markdown",
      "metadata": {
        "id": "x9I9szHot_BQ"
      },
      "source": [
        "Let’s walk through this code together.\n",
        "\n",
        "First of all, look at the first line of code. It declares a list of 11 integers, and stores into a variable called `numbers`.\n",
        "```python\n",
        "numbers = [34, 13, 62, 91, 87, 66, 29, 17, 83, 55, 44]\n",
        "```\n",
        "\n",
        "Next, skip the for clause for a moment and look at its **body** (the indented part of the for statement). Look at the assignment statements below.\n",
        "```python\n",
        "    total = total + value\n",
        "    count = count + 1\n",
        "```\n",
        "What essentially happens here is that, variable `total` updates its value by an increment of `n`, whereas variable `count` bumps up its own value by `1`.\n",
        "\n",
        "Now for the interpretation of the main **for clause**,\n",
        "```python\n",
        "for n in numbers:\n",
        "```\n",
        "It means that the body of the for statement has to be executed **once for each value** (called `n`) in the list of values (called `numbers`).\n",
        "\n",
        "With `total` and `count` being initialized at 0, at the end,\n",
        "\n",
        "- `total` will have accumulated the _total_ of numbers in the list, and \n",
        "- `count` will be the _count_ of numbers in the list (sometimes called the _length_).\n",
        "\n",
        "And thus, we have all necessary data to compute the average as the final result.\n",
        "\n",
        "---\n",
        "\n",
        "By the way, there are Python built-in functions **`sum`** and **`len`** that would compute the total and the count of values in the list for us. In the future, there will also be other ways to compute the mean of a sequence of values in a single function."
      ]
    },
    {
      "cell_type": "code",
      "metadata": {
        "id": "1yS6WCko5PY2",
        "colab": {
          "base_uri": "https://localhost:8080/"
        },
        "outputId": "932f45e0-d38b-4aff-f15f-a00e0dffdcb7"
      },
      "source": [
        "numbers = [34, 13, 62, 91, 87, 66, 29, 17, 83, 55, 44]\n",
        "average = sum(numbers) / len(numbers)\n",
        "print(\"The average number is\", format(average, '.3f'))"
      ],
      "execution_count": 37,
      "outputs": [
        {
          "output_type": "stream",
          "name": "stdout",
          "text": [
            "The average number is 52.818\n"
          ]
        }
      ]
    },
    {
      "cell_type": "markdown",
      "metadata": {
        "id": "r1mj13x70lPL"
      },
      "source": [
        "### Mini Guessing Game\n",
        "\n",
        "More guessing game! Look at each of the following code and guess what would happen once they are run."
      ]
    },
    {
      "cell_type": "code",
      "metadata": {
        "id": "p0H_01vbypXi",
        "colab": {
          "base_uri": "https://localhost:8080/"
        },
        "outputId": "39d39e7e-1b30-48f1-b58a-f10967232b31"
      },
      "source": [
        "fruits = [\"apple\", \"banana\", \"cherry\", \"orange\"]\n",
        "for f in fruits:\n",
        "    print(f)"
      ],
      "execution_count": 38,
      "outputs": [
        {
          "output_type": "stream",
          "name": "stdout",
          "text": [
            "apple\n",
            "banana\n",
            "cherry\n",
            "orange\n"
          ]
        }
      ]
    },
    {
      "cell_type": "code",
      "metadata": {
        "id": "T6CDDNQTKtaW",
        "colab": {
          "base_uri": "https://localhost:8080/"
        },
        "outputId": "51f4451a-a826-4289-897c-34686d8d19b9"
      },
      "source": [
        "for char in \"banana\":\n",
        "    print(char)"
      ],
      "execution_count": 39,
      "outputs": [
        {
          "output_type": "stream",
          "name": "stdout",
          "text": [
            "b\n",
            "a\n",
            "n\n",
            "a\n",
            "n\n",
            "a\n"
          ]
        }
      ]
    },
    {
      "cell_type": "code",
      "metadata": {
        "id": "t4OcsbryK9Jr",
        "colab": {
          "base_uri": "https://localhost:8080/"
        },
        "outputId": "6c88b430-f99e-4dfc-9cbd-9d3b00a2f82e"
      },
      "source": [
        "adjectives = [\"red\", \"big\", \"tasty\"]\n",
        "fruits = [\"apple\", \"banana\", \"cherry\", \"orange\"]\n",
        "\n",
        "for a in adjectives:\n",
        "  for f in fruits:\n",
        "        print(a, f)"
      ],
      "execution_count": 40,
      "outputs": [
        {
          "output_type": "stream",
          "name": "stdout",
          "text": [
            "red apple\n",
            "red banana\n",
            "red cherry\n",
            "red orange\n",
            "big apple\n",
            "big banana\n",
            "big cherry\n",
            "big orange\n",
            "tasty apple\n",
            "tasty banana\n",
            "tasty cherry\n",
            "tasty orange\n"
          ]
        }
      ]
    },
    {
      "cell_type": "code",
      "metadata": {
        "id": "-jIHorl1zUf5",
        "colab": {
          "base_uri": "https://localhost:8080/"
        },
        "outputId": "85f1df93-ce79-4584-ebfe-0df681a21f71"
      },
      "source": [
        "digits = [0, 1, 2, 3, 4, 5, 6, 7, 8, 9]\n",
        "\n",
        "for d in digits:\n",
        "    if 3 < d < 7:\n",
        "        print(d)\n",
        "\n",
        "for d in digits:\n",
        "    if d % 2 == 0:\n",
        "        print(d)"
      ],
      "execution_count": 41,
      "outputs": [
        {
          "output_type": "stream",
          "name": "stdout",
          "text": [
            "4\n",
            "5\n",
            "6\n",
            "0\n",
            "2\n",
            "4\n",
            "6\n",
            "8\n"
          ]
        }
      ]
    },
    {
      "cell_type": "markdown",
      "metadata": {
        "id": "QVO7cqxI0wpJ"
      },
      "source": [
        "### More List Operations\n",
        "\n",
        "Apart from iterating through each element in the list, we can operate on lists in a few diferent ways:\n",
        "\n",
        "[Python Documentation on List](https://docs.python.org/3/tutorial/datastructures.html#more-on-lists)"
      ]
    },
    {
      "cell_type": "markdown",
      "metadata": {
        "id": "3QlYEpi42kZ6"
      },
      "source": [
        "#### List Appending and Insertion"
      ]
    },
    {
      "cell_type": "code",
      "metadata": {
        "id": "m799j6Zq1Kly",
        "colab": {
          "base_uri": "https://localhost:8080/"
        },
        "outputId": "6427d654-d799-47ee-c4bf-67775cec633b"
      },
      "source": [
        "selected_letters = []\n",
        "for char in \"mississippi\":\n",
        "    if char in 'pie':  # char must be 'p', 'i', or 'e'\n",
        "      selected_letters.append(char)\n",
        "print(selected_letters)"
      ],
      "execution_count": 42,
      "outputs": [
        {
          "output_type": "stream",
          "name": "stdout",
          "text": [
            "['i', 'i', 'i', 'p', 'p', 'i']\n"
          ]
        }
      ]
    },
    {
      "cell_type": "code",
      "metadata": {
        "id": "CXo6FQwv1q9I",
        "colab": {
          "base_uri": "https://localhost:8080/"
        },
        "outputId": "c59d4623-5af0-4394-f60d-bfd824427843"
      },
      "source": [
        "selected_letters = []\n",
        "for char in \"supercalifragilisticexpialidocious\":\n",
        "    if char < 'e' or char > 's':\n",
        "        selected_letters.insert(0, char)  # insert at the beginning\n",
        "print(selected_letters)"
      ],
      "execution_count": 43,
      "outputs": [
        {
          "output_type": "stream",
          "name": "stdout",
          "text": [
            "['u', 'c', 'd', 'a', 'x', 'c', 't', 'a', 'a', 'c', 'u']\n"
          ]
        }
      ]
    },
    {
      "cell_type": "code",
      "source": [
        "selected_letters = []\n",
        "for char in \"หสทมกขดอคตจงงพรถษศฒ\":\n",
        "    if char < 'ฌ' or char > 'ศ':\n",
        "        selected_letters.insert(0, char)  # insert at the beginning\n",
        "print(selected_letters)"
      ],
      "metadata": {
        "colab": {
          "base_uri": "https://localhost:8080/"
        },
        "id": "9tgalS5DBF_8",
        "outputId": "f65070d1-6989-47c1-82e1-acddd6beb4fd"
      },
      "execution_count": 68,
      "outputs": [
        {
          "output_type": "stream",
          "name": "stdout",
          "text": [
            "['ษ', 'ง', 'ง', 'จ', 'ค', 'อ', 'ข', 'ก', 'ส', 'ห']\n"
          ]
        }
      ]
    },
    {
      "cell_type": "code",
      "metadata": {
        "id": "yJrT1fM02ruX",
        "colab": {
          "base_uri": "https://localhost:8080/"
        },
        "outputId": "e46d321c-f529-4700-e81e-5c681205ca9a"
      },
      "source": [
        "fruits = [\"apple\", \"banana\", \"cherry\", \"orange\"]\n",
        "selected_fruits = []\n",
        "for f in fruits:\n",
        "    if 'e' in f:  # fruit (f) must contain letter 'e'\n",
        "        selected_fruits.append(f)\n",
        "print(selected_fruits)"
      ],
      "execution_count": 44,
      "outputs": [
        {
          "output_type": "stream",
          "name": "stdout",
          "text": [
            "['apple', 'cherry', 'orange']\n"
          ]
        }
      ]
    },
    {
      "cell_type": "markdown",
      "metadata": {
        "id": "2sw1gBiO4fr7"
      },
      "source": [
        "#### List Concatenation and Multiplication"
      ]
    },
    {
      "cell_type": "code",
      "metadata": {
        "id": "b9GugLUh45Ua",
        "colab": {
          "base_uri": "https://localhost:8080/"
        },
        "outputId": "f9d71068-46b6-4a7c-b5ff-f180ef3c0d56"
      },
      "source": [
        "a = [1, 2, 3]\n",
        "b = [4, 6, 8, 10]\n",
        "print(a + b)\n",
        "print(4 * a)"
      ],
      "execution_count": 45,
      "outputs": [
        {
          "output_type": "stream",
          "name": "stdout",
          "text": [
            "[1, 2, 3, 4, 6, 8, 10]\n",
            "[1, 2, 3, 1, 2, 3, 1, 2, 3, 1, 2, 3]\n"
          ]
        }
      ]
    },
    {
      "cell_type": "markdown",
      "metadata": {
        "id": "Owxi7uaN504k"
      },
      "source": [
        "#### Accessing and Modifying List Elements"
      ]
    },
    {
      "cell_type": "code",
      "metadata": {
        "id": "W8odMPzR50VB",
        "colab": {
          "base_uri": "https://localhost:8080/"
        },
        "outputId": "90b4f533-5d81-4836-c626-3d522a42ee88"
      },
      "source": [
        "numbers = [34, 13, 62, 91, 87, 66, 29, 17, 83, 55, 44]\n",
        "\n",
        "print(numbers[0])\n",
        "print(numbers[1])\n",
        "print(numbers[7])\n",
        "print(numbers[-1])\n",
        "print(numbers[-6])\n",
        "print()\n",
        "\n",
        "print(numbers[1:4])\n",
        "print(numbers[2:-2])\n",
        "print(numbers[3:3])\n",
        "print(numbers[8:])\n",
        "print(numbers[0:11])\n",
        "print(numbers[2:] + numbers[:2])\n",
        "print(numbers[::2])\n",
        "print()\n",
        "\n",
        "numbers[5] = 0\n",
        "numbers[0] = numbers[0] ** 2\n",
        "numbers[10] = -numbers[0]\n",
        "print(numbers)"
      ],
      "execution_count": 46,
      "outputs": [
        {
          "output_type": "stream",
          "name": "stdout",
          "text": [
            "34\n",
            "13\n",
            "17\n",
            "44\n",
            "66\n",
            "\n",
            "[13, 62, 91]\n",
            "[62, 91, 87, 66, 29, 17, 83]\n",
            "[]\n",
            "[83, 55, 44]\n",
            "[34, 13, 62, 91, 87, 66, 29, 17, 83, 55, 44]\n",
            "[62, 91, 87, 66, 29, 17, 83, 55, 44, 34, 13]\n",
            "[34, 62, 87, 29, 83, 44]\n",
            "\n",
            "[1156, 13, 62, 91, 87, 0, 29, 17, 83, 55, -1156]\n"
          ]
        }
      ]
    },
    {
      "cell_type": "markdown",
      "metadata": {
        "id": "p8UlFJoe9GC-"
      },
      "source": [
        "##### Some cheatsheets\n",
        "\n",
        "- **Indexing a single element**\n",
        "```\n",
        "       0    1    2    3    4    5    6    7    8    9   10\n",
        "L = | 34 | 13 | 62 | 91 | 87 | 66 | 29 | 17 | 83 | 55 | 44 |\n",
        "     -11  -10   -9   -8   -7   -6   -5   -4   -3   -2   -1\n",
        "```\n",
        "\n",
        "- **Indexing a slice of elements**\n",
        "```\n",
        "    0    1    2    3    4    5    6    7    8    9   10   11\n",
        "L = | 34 | 13 | 62 | 91 | 87 | 66 | 29 | 17 | 83 | 55 | 44 | \n",
        "  -11  -10   -9   -8   -7   -6   -5   -4   -3   -2   -1\n",
        "```"
      ]
    },
    {
      "cell_type": "markdown",
      "metadata": {
        "id": "qaThm0M89iQ6"
      },
      "source": [
        "By the way, indexing, slicings, and concatenation works on strings too."
      ]
    },
    {
      "cell_type": "code",
      "metadata": {
        "id": "OwXZnuNT9Sws",
        "colab": {
          "base_uri": "https://localhost:8080/"
        },
        "outputId": "705e6606-27bd-4440-cfc9-f967d2d564de"
      },
      "source": [
        "disease = \"pneumonoultramicroscopicsilicovolcanoconiosis\"\n",
        "\n",
        "print(disease[0] + disease[-1])\n",
        "print(disease[14])\n",
        "print(disease[8:8+5])  # what is the word length?\n",
        "print(disease[32:29:-1] + disease[2])\n",
        "print(disease[-15:-15+7])  # what is the word length?\n",
        "\n",
        "print(\"oh\" + 3 * \" no\")"
      ],
      "execution_count": 47,
      "outputs": [
        {
          "output_type": "stream",
          "name": "stdout",
          "text": [
            "ps\n",
            "i\n",
            "ultra\n",
            "love\n",
            "volcano\n",
            "oh no no no\n"
          ]
        }
      ]
    },
    {
      "cell_type": "markdown",
      "metadata": {
        "id": "vSKV4YoeONea"
      },
      "source": [
        "#### Sorting"
      ]
    },
    {
      "cell_type": "code",
      "metadata": {
        "id": "LpjcJpV_OQSS",
        "colab": {
          "base_uri": "https://localhost:8080/"
        },
        "outputId": "517be9b8-cbb4-40e1-9835-1760d3460d8c"
      },
      "source": [
        "numbers = [34, 13, 62, 91, 87, 66, 29, 17, 83, 55, 44]\n",
        "\n",
        "print(sorted(numbers))\n",
        "print(sorted(numbers, reverse=True))"
      ],
      "execution_count": 48,
      "outputs": [
        {
          "output_type": "stream",
          "name": "stdout",
          "text": [
            "[13, 17, 29, 34, 44, 55, 62, 66, 83, 87, 91]\n",
            "[91, 87, 83, 66, 62, 55, 44, 34, 29, 17, 13]\n"
          ]
        }
      ]
    },
    {
      "cell_type": "code",
      "metadata": {
        "id": "8kOh6NwYOrkJ",
        "colab": {
          "base_uri": "https://localhost:8080/"
        },
        "outputId": "04b4e42e-07be-494d-e577-03fef8b133bd"
      },
      "source": [
        "def last_digit(n):\n",
        "    \"\"\"Get only the last digit of a number.\"\"\"\n",
        "    return abs(n) % 10\n",
        "\n",
        "\n",
        "# Sorts the numbers based only on their last digits\n",
        "print(sorted(numbers, key=last_digit))"
      ],
      "execution_count": 49,
      "outputs": [
        {
          "output_type": "stream",
          "name": "stdout",
          "text": [
            "[91, 62, 13, 83, 34, 44, 55, 66, 87, 17, 29]\n"
          ]
        }
      ]
    },
    {
      "cell_type": "markdown",
      "metadata": {
        "id": "ncTyNM4FFwq7"
      },
      "source": [
        "### Aside: Utility Functions With For Loops\n",
        "\n",
        "Allow us to introduce several built-in functions used in conjunction with for loop statements.\n",
        "\n",
        "Function **`enumerate`** makes sure that each for loop iterates over a sequence of indices as well as original values."
      ]
    },
    {
      "cell_type": "code",
      "metadata": {
        "id": "Lxv1q-AXF-71",
        "colab": {
          "base_uri": "https://localhost:8080/"
        },
        "outputId": "409785a3-2c6b-42f0-d563-8b31991dc1c8"
      },
      "source": [
        "denominations = [1, 2, 5, 10, 20, 50, 100, 500, 1000]\n",
        "\n",
        "for index, value in enumerate(denominations):\n",
        "    print(\"at index\", index, \"value is\", value, \"which is equal to\", denominations[index])"
      ],
      "execution_count": 50,
      "outputs": [
        {
          "output_type": "stream",
          "name": "stdout",
          "text": [
            "at index 0 value is 1 which is equal to 1\n",
            "at index 1 value is 2 which is equal to 2\n",
            "at index 2 value is 5 which is equal to 5\n",
            "at index 3 value is 10 which is equal to 10\n",
            "at index 4 value is 20 which is equal to 20\n",
            "at index 5 value is 50 which is equal to 50\n",
            "at index 6 value is 100 which is equal to 100\n",
            "at index 7 value is 500 which is equal to 500\n",
            "at index 8 value is 1000 which is equal to 1000\n"
          ]
        }
      ]
    },
    {
      "cell_type": "markdown",
      "metadata": {
        "id": "KGgVERKsPNQT"
      },
      "source": [
        "Function **`range`** allows for-loops to iterate over an arithmetic sequence of numbers."
      ]
    },
    {
      "cell_type": "code",
      "metadata": {
        "id": "s2OMfYo7P5aa",
        "colab": {
          "base_uri": "https://localhost:8080/"
        },
        "outputId": "789c290e-35b1-4116-b709-8bde48f1509d"
      },
      "source": [
        "for number in range(5):\n",
        "    print(\"next number is\", number)\n",
        "\n",
        "for number in range(3, 7):\n",
        "    print(number)\n",
        "\n",
        "word = \"studying\"\n",
        "for start in range(4):\n",
        "    print(word[start:])"
      ],
      "execution_count": 51,
      "outputs": [
        {
          "output_type": "stream",
          "name": "stdout",
          "text": [
            "next number is 0\n",
            "next number is 1\n",
            "next number is 2\n",
            "next number is 3\n",
            "next number is 4\n",
            "3\n",
            "4\n",
            "5\n",
            "6\n",
            "studying\n",
            "tudying\n",
            "udying\n",
            "dying\n"
          ]
        }
      ]
    },
    {
      "cell_type": "markdown",
      "metadata": {
        "id": "Bvgo7q0-iMLh"
      },
      "source": [
        "Function **`zip`** groups multiple lists into a single list, element-by-element."
      ]
    },
    {
      "cell_type": "code",
      "metadata": {
        "id": "PSyUonTsiaTQ",
        "colab": {
          "base_uri": "https://localhost:8080/"
        },
        "outputId": "b674759c-0575-4c8b-d0b1-2e9bb3dd3a50"
      },
      "source": [
        "for char, num in zip(\"heart\", [1, 3, 5, 7, 9]):\n",
        "    print(char * num)\n",
        "\n",
        "for first_char, second_char in zip(\"kale\", \"broccoli\"):\n",
        "    print(first_char + second_char)\n",
        "\n",
        "for x, y in zip(range(6), range(4, 8)):\n",
        "    print(x, y, x + y)\n",
        "\n",
        "for x, y, z in zip(range(0, 2), range(1, 3), range(2, 4)):\n",
        "    print(x, y, z, x * y * z)\n",
        "\n",
        "print(\"start\")\n",
        "for char, num in zip(\"this is a very long sentence\", []):\n",
        "    print(char * num)\n",
        "print(\"end\")"
      ],
      "execution_count": 52,
      "outputs": [
        {
          "output_type": "stream",
          "name": "stdout",
          "text": [
            "h\n",
            "eee\n",
            "aaaaa\n",
            "rrrrrrr\n",
            "ttttttttt\n",
            "kb\n",
            "ar\n",
            "lo\n",
            "ec\n",
            "0 4 4\n",
            "1 5 6\n",
            "2 6 8\n",
            "3 7 10\n",
            "0 1 2 0\n",
            "1 2 3 6\n",
            "start\n",
            "end\n"
          ]
        }
      ]
    },
    {
      "cell_type": "markdown",
      "metadata": {
        "id": "7l3qRgS_hd2E"
      },
      "source": [
        "### Exercise: Letter Counting\n",
        "\n",
        "Write a function to count number of specific letters in a word. The function receives two input arguments: a word string and a target letter to count. It should output the number of such target letters in the word."
      ]
    },
    {
      "cell_type": "code",
      "source": [
        "def count_letter(word, letter):\n",
        "    count = 0\n",
        "    for char in word :\n",
        "        if char == letter:\n",
        "          count += 1\n",
        "    return count\n",
        "\n",
        "print(count_letter(\"mohorovičić\", \"o\"))  # expected 3\n",
        "print(count_letter(\"mohorovičić\", \"i\"))  # expected 2\n",
        "print(count_letter(\"mohorovičić\", \"c\"))  # expected 0\n",
        "print(count_letter(\"5555555555\", \"5\"))  # expected 10 \n",
        "print(count_letter(\"\", \"x\"))  # expected 0"
      ],
      "metadata": {
        "colab": {
          "base_uri": "https://localhost:8080/"
        },
        "id": "mGA65bf6d5Lk",
        "outputId": "7aaa2d0f-d55f-43ab-c277-c1ebb0a11f4c"
      },
      "execution_count": 78,
      "outputs": [
        {
          "output_type": "stream",
          "name": "stdout",
          "text": [
            "3\n",
            "2\n",
            "0\n",
            "10\n",
            "0\n"
          ]
        }
      ]
    },
    {
      "cell_type": "markdown",
      "metadata": {
        "id": "qAOoDdMurRH-"
      },
      "source": [
        "### Exercise: Prime Numbers\n",
        "\n",
        "What is a prime number? A prime number is an integer $n$ whose factors are $1$ and $n$ itself. In other words, integers from $2$ to $n-1$ does _not_ divide $n$ for $n$ to be a prime.\n",
        "\n",
        "Write a function to check whether a given integer is a prime number. It should receive an integer as input and should return a boolean (**`True`** or **`False`**) indicating whether the given input is prime or not."
      ]
    },
    {
      "cell_type": "code",
      "metadata": {
        "id": "jwKpwzqXubNX",
        "colab": {
          "base_uri": "https://localhost:8080/"
        },
        "outputId": "8f10535c-6605-4e06-e7fa-325b338ca5f0"
      },
      "source": [
        "def is_prime(number):\n",
        "     for x in range(2, number):\n",
        "       if number % x == 0:\n",
        "         return False\n",
        "     return True    \n",
        "\n",
        "primes = [n for n in range(2, 100) if is_prime(n)]\n",
        "print(primes)  # expected [2, 3, 5, 7, ..., 97]"
      ],
      "execution_count": 86,
      "outputs": [
        {
          "output_type": "stream",
          "name": "stdout",
          "text": [
            "[2, 3, 5, 7, 11, 13, 17, 19, 23, 29, 31, 37, 41, 43, 47, 53, 59, 61, 67, 71, 73, 79, 83, 89, 97]\n"
          ]
        }
      ]
    },
    {
      "cell_type": "markdown",
      "metadata": {
        "id": "cp3SIdzUPP2F"
      },
      "source": [
        "## 6. Recursions"
      ]
    },
    {
      "cell_type": "markdown",
      "metadata": {
        "id": "mrwKAGl4SvVF"
      },
      "source": [
        "### Example: Factorial\n",
        "\n",
        "Although there is a way to compute $n!$ (factorial) for an integer input $n$ using just for loops, we will instead apply one of the most fundamental magic of computer science: **recursion**.\n",
        "\n",
        "Here is a common definition of factorial:\n",
        "\n",
        "> $n! = 1 \\times 2 \\times 3 \\times \\ldots \\times n$\n",
        "\n",
        "However, we can rewrite the above equation as in the following.\n",
        "\n",
        "> $n! = (n-1)! \\times n \\quad\\text{where}\\quad 0! = 1$\n",
        "\n"
      ]
    },
    {
      "cell_type": "code",
      "metadata": {
        "id": "LpbD2dIEPPKK",
        "colab": {
          "base_uri": "https://localhost:8080/"
        },
        "outputId": "61342b4e-00cc-43ec-f3e1-b1e0cda424be"
      },
      "source": [
        "def factorial(n):\n",
        "    \"\"\"Computes the factorial of n where\n",
        "    n is a non-negative integer.\n",
        "    \"\"\"\n",
        "    if n == 0:\n",
        "        return 1\n",
        "    elif n <= 0:\n",
        "        return print(\"ไม่สามารถหาค่าได้\")\n",
        "    else:\n",
        "        return factorial(n-1) * n\n",
        "\n",
        "print(factorial(1))\n",
        "print(factorial(3))\n",
        "print(factorial(6))\n",
        "print(factorial(10))\n",
        "\n",
        "# Breaching the contract of the function\n",
        "print(factorial(-1))"
      ],
      "execution_count": 69,
      "outputs": [
        {
          "output_type": "stream",
          "name": "stdout",
          "text": [
            "1\n",
            "6\n",
            "720\n",
            "3628800\n",
            "ไม่สามารถหาค่าได้\n",
            "None\n"
          ]
        }
      ]
    },
    {
      "cell_type": "markdown",
      "metadata": {
        "id": "LrwmrNBVVGyy"
      },
      "source": [
        "Ignore the last error for a second. It might seem strange at first as why the function makes a (_recursive_) call to itself. Let’s break down this process a bit for $n = 3$.\n",
        "\n",
        "- Computing `factorial(3)` will return `factorial(2) * 3`\n",
        "- Computing `factorial(2)` will, in turn, return `factorial(1) * 2`\n",
        "- Computing `factorial(1)` will return `factorial(0) * 1`\n",
        "- And computing `factorial(0)` will return `1`\n",
        "\n",
        "By substitution, it is not difficult to see that `factorial(3)` would end up with the result `1 * 1 * 2 * 3`, which is 6.\n",
        "\n",
        "---\n",
        "\n",
        "Now, repeat the break-down process for $n = -1$. We will start to see that, the computation keeps going on forever, because computing `factorial(-1)` requires computing `factorial(-2)`, and that in turn, requires computing `factorial(-3)`, and so on, and so on. There is no end to it. However, the only reason that Python produces the error is that it ran out of memory."
      ]
    },
    {
      "cell_type": "markdown",
      "metadata": {
        "id": "WS8HlUX0uMrs"
      },
      "source": [
        "### Mystery Function\n",
        "\n",
        "Make a guess of what this function does."
      ]
    },
    {
      "cell_type": "code",
      "metadata": {
        "id": "wg-_jnX5uS93",
        "colab": {
          "base_uri": "https://localhost:8080/"
        },
        "outputId": "39b3e197-894f-4203-a458-b7885d4439f9"
      },
      "source": [
        "def mystery(numbers):\n",
        "    if len(numbers) == 0:\n",
        "        return []\n",
        "    else:\n",
        "      lowers = []\n",
        "      equals = []\n",
        "      uppers = []\n",
        "      for n in numbers:\n",
        "          if n < numbers[0]:\n",
        "              lowers.append(n)\n",
        "          elif n > numbers[0]:\n",
        "              uppers.append(n)\n",
        "          else:\n",
        "              equals.append(n)\n",
        "      return mystery(lowers) + equals + mystery(uppers)\n",
        "\n",
        "\n",
        "print(mystery([6, 5, 4, 7, 2, 5, 3]))"
      ],
      "execution_count": 58,
      "outputs": [
        {
          "output_type": "stream",
          "name": "stdout",
          "text": [
            "[2, 3, 4, 5, 5, 6, 7]\n"
          ]
        }
      ]
    },
    {
      "cell_type": "markdown",
      "metadata": {
        "id": "aTntXMgiMMAp"
      },
      "source": [
        "## 7. Other Programmers Invented The Wheel For You So That You Don’t Need To\n",
        "\n",
        "As discussed earlier, we programmers do not like to repeat themselves. If someone wrote a function you need, then good; you do not need to implement it by yourself. In terms of learning curve and economy, downloading, installing, importing, and using other people’s code is a smart choice.\n",
        "\n",
        "However, do not fool yourself that you cannot write those magical functionalities yourself. You have ability to learn and accumulate experiences enough to implement difficult functionalities by yourself. Remember, your only good excuse is that you don’t have enough time to do just every single task. When time comes, you could join the forefront of the community and create new pieces of software for others to use.\n",
        "\n",
        "With all that said, now let’s play around with other people’s code."
      ]
    },
    {
      "cell_type": "markdown",
      "metadata": {
        "id": "zqcEP19BTBiV"
      },
      "source": [
        "### Generating QR Code\n",
        "\n",
        "Installing package: [qrcode](https://pypi.org/project/qrcode/).\n",
        "\n",
        "We can generate QR code from any string."
      ]
    },
    {
      "cell_type": "code",
      "metadata": {
        "id": "wrf0vC_wrZ2P",
        "colab": {
          "base_uri": "https://localhost:8080/"
        },
        "outputId": "8ba12667-8fde-492a-81a1-ba1e859eba34"
      },
      "source": [
        "# This tells Colab to install a package from \n",
        "!pip install qrcode"
      ],
      "execution_count": 59,
      "outputs": [
        {
          "output_type": "stream",
          "name": "stdout",
          "text": [
            "Looking in indexes: https://pypi.org/simple, https://us-python.pkg.dev/colab-wheels/public/simple/\n",
            "Collecting qrcode\n",
            "  Downloading qrcode-7.3.1.tar.gz (43 kB)\n",
            "\u001b[K     |████████████████████████████████| 43 kB 1.1 MB/s \n",
            "\u001b[?25hBuilding wheels for collected packages: qrcode\n",
            "  Building wheel for qrcode (setup.py) ... \u001b[?25l\u001b[?25hdone\n",
            "  Created wheel for qrcode: filename=qrcode-7.3.1-py3-none-any.whl size=40402 sha256=d68d3442fe1ba3c7bce17040991527cd495e9b032dd4e633dc817f9449dfe697\n",
            "  Stored in directory: /root/.cache/pip/wheels/93/d7/39/a4111be2cfb8e679938aa671a37888b6afb1f9e7d748e94492\n",
            "Successfully built qrcode\n",
            "Installing collected packages: qrcode\n",
            "Successfully installed qrcode-7.3.1\n"
          ]
        }
      ]
    },
    {
      "cell_type": "code",
      "metadata": {
        "id": "tp42PpqIpsk-",
        "colab": {
          "base_uri": "https://localhost:8080/",
          "height": 307
        },
        "outputId": "06567bcc-13c2-4c3d-f3f1-0fc06920b40c"
      },
      "source": [
        "import qrcode\n",
        "image = qrcode.make(\"Hello, World!\")\n",
        "display(image)"
      ],
      "execution_count": 60,
      "outputs": [
        {
          "output_type": "display_data",
          "data": {
            "text/plain": [
              "<qrcode.image.pil.PilImage at 0x7f9d846174d0>"
            ],
            "image/png": "[encoded data removed]"
          },
          "metadata": {}
        }
      ]
    },
    {
      "cell_type": "markdown",
      "metadata": {
        "id": "Xdq_Keonqd9I"
      },
      "source": [
        "Scan the QR code below with a phone to see an [interesting geographical feature](https://www.atlasobscura.com/places/subsubsub-island-on-victoria-island)."
      ]
    },
    {
      "cell_type": "code",
      "metadata": {
        "id": "lLmf_3Fco_3V",
        "colab": {
          "base_uri": "https://localhost:8080/",
          "height": 347
        },
        "outputId": "90d7aa3e-06b8-4f18-9ca1-0b8e977bd6eb"
      },
      "source": [
        "message = 'geo:69.7924,-108.2395'\n",
        "image = qrcode.make(message)\n",
        "display(image)"
      ],
      "execution_count": 61,
      "outputs": [
        {
          "output_type": "display_data",
          "data": {
            "text/plain": [
              "<qrcode.image.pil.PilImage at 0x7f9d83d80990>"
            ],
            "image/png": "[encoded data removed]"
          },
          "metadata": {}
        }
      ]
    },
    {
      "cell_type": "markdown",
      "metadata": {
        "id": "n66RcwQXrN7R"
      },
      "source": [
        "Advanced usage of QR code, generate WiFi access for visitors to your home."
      ]
    },
    {
      "cell_type": "code",
      "metadata": {
        "id": "PY19HCwXCZRm",
        "colab": {
          "base_uri": "https://localhost:8080/",
          "height": 404
        },
        "outputId": "087cf290-b7e8-4e06-f7ce-45aecbba52e1"
      },
      "source": [
        "def generate_wifi_qrcode(ssid, password, auth_type='WPA'):\n",
        "    \"\"\"Generates a QR code image for WiFi access.\n",
        "\n",
        "    Arguments:\n",
        "        ssid: Name of the WiFi network\n",
        "        password: WiFi password\n",
        "        auth_type: Type of authentication (defaults to WPA)\n",
        "\n",
        "    Returns:\n",
        "        A Pillow image of the QR code (use display to show it)\n",
        "\n",
        "    For more information, see \n",
        "    https://github.com/zxing/zxing/wiki/Barcode-Contents#wi-fi-network-config-android-ios-11 \n",
        "    \"\"\"\n",
        "    message = 'WIFI:S:' + ssid + ';P:' + password + ';T:' + auth_type +';;'\n",
        "    print(\"Encoded message:\", repr(message))\n",
        "    return qrcode.make(message)\n",
        "\n",
        "\n",
        "display(generate_wifi_qrcode('WiFi name', '12345678'))"
      ],
      "execution_count": 62,
      "outputs": [
        {
          "output_type": "stream",
          "name": "stdout",
          "text": [
            "Encoded message: 'WIFI:S:WiFi name;P:12345678;T:WPA;;'\n"
          ]
        },
        {
          "output_type": "display_data",
          "data": {
            "text/plain": [
              "<qrcode.image.pil.PilImage at 0x7f9d844494d0>"
            ],
            "image/png": "[encoded data removed]"
          },
          "metadata": {}
        }
      ]
    },
    {
      "cell_type": "markdown",
      "metadata": {
        "id": "MDxBvvk9os2R"
      },
      "source": [
        "### Wikipedia\n",
        "\n",
        "Installing package: [wikipedia](https://pypi.org/project/wikipedia/).\n",
        "\n",
        "We can fetch Wikipedia pages through the web and display some content here."
      ]
    },
    {
      "cell_type": "code",
      "metadata": {
        "id": "gbiYBgMRo8qR",
        "colab": {
          "base_uri": "https://localhost:8080/"
        },
        "outputId": "00455368-424e-4305-9572-f1c87ec70471"
      },
      "source": [
        "!pip install wikipedia"
      ],
      "execution_count": 63,
      "outputs": [
        {
          "output_type": "stream",
          "name": "stdout",
          "text": [
            "Looking in indexes: https://pypi.org/simple, https://us-python.pkg.dev/colab-wheels/public/simple/\n",
            "Collecting wikipedia\n",
            "  Downloading wikipedia-1.4.0.tar.gz (27 kB)\n",
            "Requirement already satisfied: beautifulsoup4 in /usr/local/lib/python3.7/dist-packages (from wikipedia) (4.6.3)\n",
            "Requirement already satisfied: requests<3.0.0,>=2.0.0 in /usr/local/lib/python3.7/dist-packages (from wikipedia) (2.23.0)\n",
            "Requirement already satisfied: urllib3!=1.25.0,!=1.25.1,<1.26,>=1.21.1 in /usr/local/lib/python3.7/dist-packages (from requests<3.0.0,>=2.0.0->wikipedia) (1.24.3)\n",
            "Requirement already satisfied: certifi>=2017.4.17 in /usr/local/lib/python3.7/dist-packages (from requests<3.0.0,>=2.0.0->wikipedia) (2022.6.15)\n",
            "Requirement already satisfied: idna<3,>=2.5 in /usr/local/lib/python3.7/dist-packages (from requests<3.0.0,>=2.0.0->wikipedia) (2.10)\n",
            "Requirement already satisfied: chardet<4,>=3.0.2 in /usr/local/lib/python3.7/dist-packages (from requests<3.0.0,>=2.0.0->wikipedia) (3.0.4)\n",
            "Building wheels for collected packages: wikipedia\n",
            "  Building wheel for wikipedia (setup.py) ... \u001b[?25l\u001b[?25hdone\n",
            "  Created wheel for wikipedia: filename=wikipedia-1.4.0-py3-none-any.whl size=11695 sha256=944d346ae052732b66978e026ddb5c5084da3f0e126378367dea042a9bae8682\n",
            "  Stored in directory: /root/.cache/pip/wheels/15/93/6d/5b2c68b8a64c7a7a04947b4ed6d89fb557dcc6bc27d1d7f3ba\n",
            "Successfully built wikipedia\n",
            "Installing collected packages: wikipedia\n",
            "Successfully installed wikipedia-1.4.0\n"
          ]
        }
      ]
    },
    {
      "cell_type": "code",
      "metadata": {
        "id": "MG1XB4mwovdA",
        "colab": {
          "base_uri": "https://localhost:8080/"
        },
        "outputId": "2b164154-f04c-4c2d-9b56-e651d2943543"
      },
      "source": [
        "import textwrap\n",
        "import wikipedia\n",
        "\n",
        "result = wikipedia.page('3Blue1Brown')\n",
        "print(textwrap.fill(result.summary, width=66))"
      ],
      "execution_count": 64,
      "outputs": [
        {
          "output_type": "stream",
          "name": "stdout",
          "text": [
            "3Blue1Brown is a math YouTube channel created and run by Grant\n",
            "Sanderson. The channel focuses on teaching higher mathematics from\n",
            "a visual perspective, and on the process of discovery and inquiry-\n",
            "based learning in mathematics, which Sanderson calls \"inventing\n",
            "math\". Topics covered include linear algebra, calculus, artificial\n",
            "neural networks, the Riemann hypothesis, the Fourier transform,\n",
            "quaternions and topology. As of July 2022, the channel has 4.62\n",
            "million subscribers.\n"
          ]
        }
      ]
    },
    {
      "cell_type": "markdown",
      "metadata": {
        "id": "FxcMAPXrsW9u"
      },
      "source": [
        "### Math Functions\n",
        "\n",
        "By the way, Python already comes with wide array of functionalities pre-installed. For example, [math](https://docs.python.org/3/library/math.html) package hosts a collection of with mathematical functions and constants (and similarly [cmath](https://docs.python.org/3/library/cmath.html) package to deal with complex numbers)."
      ]
    },
    {
      "cell_type": "code",
      "metadata": {
        "id": "8I9gghcytC00",
        "colab": {
          "base_uri": "https://localhost:8080/"
        },
        "outputId": "0df7eee9-6fe0-4ab4-a175-2cdae80e707d"
      },
      "source": [
        "import math\n",
        "\n",
        "print(format(math.degrees(math.pi / 3), '.12f'))\n",
        "print(format(math.cos(math.pi / 3), '.12f'))\n",
        "print(math.gcd(1991, 2534))"
      ],
      "execution_count": 65,
      "outputs": [
        {
          "output_type": "stream",
          "name": "stdout",
          "text": [
            "60.000000000000\n",
            "0.500000000000\n",
            "181\n"
          ]
        }
      ]
    },
    {
      "cell_type": "markdown",
      "metadata": {
        "id": "vOOYSx_XEwdR"
      },
      "source": [
        "### Randomization\n",
        "\n",
        "Wanna test your luck, try [random](https://docs.python.org/3/library/random.html) package."
      ]
    },
    {
      "cell_type": "code",
      "metadata": {
        "id": "mqYVfHPsEvyT",
        "colab": {
          "base_uri": "https://localhost:8080/"
        },
        "outputId": "034ea201-2793-449f-8193-478aaceb8bb6"
      },
      "source": [
        "import random\n",
        "\n",
        "print(random.randint(0, 99))\n",
        "\n",
        "foods = ['หมูกรอบ', 'ผัดกะเพรา', 'ชานมไข่มุก']\n",
        "print(random.choice(foods))\n",
        "print(random.choice(foods))\n",
        "print(random.choice(foods))\n",
        "print(random.choice(foods))\n",
        "print(random.choice(foods))\n",
        "print(random.choice(foods))"
      ],
      "execution_count": 66,
      "outputs": [
        {
          "output_type": "stream",
          "name": "stdout",
          "text": [
            "65\n",
            "หมูกรอบ\n",
            "หมูกรอบ\n",
            "ชานมไข่มุก\n",
            "ชานมไข่มุก\n",
            "ชานมไข่มุก\n",
            "ชานมไข่มุก\n"
          ]
        }
      ]
    },
    {
      "cell_type": "code",
      "metadata": {
        "id": "58SA_7oJG8nl",
        "colab": {
          "base_uri": "https://localhost:8080/"
        },
        "outputId": "0568aa81-c44a-4790-fec0-88527ff859b1"
      },
      "source": [
        "def drop_at_least_once(drop_rate, n_attempts):\n",
        "    \"\"\"Performs Bernoulli sampling and see if winning at least once.\n",
        "\n",
        "    Arguments:\n",
        "        drop_rate: Probability rate of item being drop,\n",
        "            which must be a number within the range from 0.0 to 1.0\n",
        "        n_attempts: Number of attempts to claim such item,\n",
        "            which must be a positive integer.\n",
        " \n",
        "    Returns:\n",
        "        A boolean indicating whether such item is won at least once.\n",
        "    \"\"\"\n",
        "    for _ in range(n_attempts):\n",
        "        if random.random() < drop_rate:\n",
        "            return True\n",
        "    return False\n",
        "\n",
        "\n",
        "for _ in range(10):\n",
        "    print(drop_at_least_once(0.003, 100))"
      ],
      "execution_count": 67,
      "outputs": [
        {
          "output_type": "stream",
          "name": "stdout",
          "text": [
            "False\n",
            "False\n",
            "False\n",
            "False\n",
            "False\n",
            "False\n",
            "False\n",
            "False\n",
            "True\n",
            "True\n"
          ]
        }
      ]
    },
    {
      "cell_type": "markdown",
      "metadata": {
        "id": "bWBErV95sl3e"
      },
      "source": [
        "## Final Notes\n",
        "\n",
        "We have covered about 20% of Python syntax. There is a lot more to pick up. [Check out Python tutorial on their website!](https://docs.python.org/3/tutorial/) Review chapters 3, 4, and 5 in particular. Some matertials were not covered here, but please do not be afraid to try out yourself."
      ]
    }
  ]
}